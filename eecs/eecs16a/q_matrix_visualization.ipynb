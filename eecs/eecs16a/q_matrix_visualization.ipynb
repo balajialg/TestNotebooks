





<!DOCTYPE html>
<html
  lang="en"
  
  data-color-mode="auto" data-light-theme="light" data-dark-theme="dark"
  data-a11y-animated-images="system" data-a11y-link-underlines="true"
  >


  <head>
    <meta charset="utf-8">
  <link rel="dns-prefetch" href="https://github.githubassets.com">
  <link rel="dns-prefetch" href="https://avatars.githubusercontent.com">
  <link rel="dns-prefetch" href="https://github-cloud.s3.amazonaws.com">
  <link rel="dns-prefetch" href="https://user-images.githubusercontent.com/">
  <link rel="preconnect" href="https://github.githubassets.com" crossorigin>
  <link rel="preconnect" href="https://avatars.githubusercontent.com">

  


  <link crossorigin="anonymous" media="all" rel="stylesheet" href="https://github.githubassets.com/assets/light-f552bab6ce72.css" /><link crossorigin="anonymous" media="all" rel="stylesheet" href="https://github.githubassets.com/assets/dark-4589f64a2275.css" /><link data-color-theme="dark_dimmed" crossorigin="anonymous" media="all" rel="stylesheet" data-href="https://github.githubassets.com/assets/dark_dimmed-a7246d2d6733.css" /><link data-color-theme="dark_high_contrast" crossorigin="anonymous" media="all" rel="stylesheet" data-href="https://github.githubassets.com/assets/dark_high_contrast-f2ef05cef2f1.css" /><link data-color-theme="dark_colorblind" crossorigin="anonymous" media="all" rel="stylesheet" data-href="https://github.githubassets.com/assets/dark_colorblind-daa1fe317131.css" /><link data-color-theme="light_colorblind" crossorigin="anonymous" media="all" rel="stylesheet" data-href="https://github.githubassets.com/assets/light_colorblind-1ab6fcc64845.css" /><link data-color-theme="light_high_contrast" crossorigin="anonymous" media="all" rel="stylesheet" data-href="https://github.githubassets.com/assets/light_high_contrast-46de871e876c.css" /><link data-color-theme="light_tritanopia" crossorigin="anonymous" media="all" rel="stylesheet" data-href="https://github.githubassets.com/assets/light_tritanopia-c9754fef2a31.css" /><link data-color-theme="dark_tritanopia" crossorigin="anonymous" media="all" rel="stylesheet" data-href="https://github.githubassets.com/assets/dark_tritanopia-dba748981a29.css" />
    <link crossorigin="anonymous" media="all" rel="stylesheet" href="https://github.githubassets.com/assets/primer-primitives-4cbeaa0795ef.css" />
    <link crossorigin="anonymous" media="all" rel="stylesheet" href="https://github.githubassets.com/assets/primer-87f353b17355.css" />
    <link crossorigin="anonymous" media="all" rel="stylesheet" href="https://github.githubassets.com/assets/global-545513c45073.css" />
    <link crossorigin="anonymous" media="all" rel="stylesheet" href="https://github.githubassets.com/assets/github-f1af66156f94.css" />
  <link crossorigin="anonymous" media="all" rel="stylesheet" href="https://github.githubassets.com/assets/repository-2e900f0ac288.css" />
<link crossorigin="anonymous" media="all" rel="stylesheet" href="https://github.githubassets.com/assets/code-33498bbbf39d.css" />

  


  <script type="application/json" id="client-env">{"locale":"en","featureFlags":["code_vulnerability_scanning","copilot_chat_static_thread_suggestions","copilot_conversational_ux_history_refs","copilot_followup_to_agent","copilot_smell_icebreaker_ux","copilot_implicit_context","copilot_stop_response","copilot_updated_function_buttons","failbot_handle_non_errors","geojson_azure_maps","image_metric_tracking","marketing_forms_api_integration_contact_request","marketing_pages_search_explore_provider","turbo_experiment_risky","sample_network_conn_type","no_character_key_shortcuts_in_inputs","react_start_transition_for_navigations","custom_inp","remove_child_patch","kb_source_repos"]}</script>
<script crossorigin="anonymous" defer="defer" type="application/javascript" src="https://github.githubassets.com/assets/wp-runtime-72dcb6bc281c.js"></script>
<script crossorigin="anonymous" defer="defer" type="application/javascript" src="https://github.githubassets.com/assets/vendors-node_modules_dompurify_dist_purify_js-810e4b1b9abd.js"></script>
<script crossorigin="anonymous" defer="defer" type="application/javascript" src="https://github.githubassets.com/assets/vendors-node_modules_oddbird_popover-polyfill_dist_popover_js-4ac41d0a76fd.js"></script>
<script crossorigin="anonymous" defer="defer" type="application/javascript" src="https://github.githubassets.com/assets/vendors-node_modules_smoothscroll-polyfill_dist_smoothscroll_js-node_modules_stacktrace-parse-a448e4-f17a27f30529.js"></script>
<script crossorigin="anonymous" defer="defer" type="application/javascript" src="https://github.githubassets.com/assets/environment-2168885ea2b8.js"></script>
<script crossorigin="anonymous" defer="defer" type="application/javascript" src="https://github.githubassets.com/assets/vendors-node_modules_primer_behaviors_dist_esm_focus-zone_js-c7679f99a1f3.js"></script>
<script crossorigin="anonymous" defer="defer" type="application/javascript" src="https://github.githubassets.com/assets/vendors-node_modules_github_selector-observer_dist_index_esm_js-9f960d9b217c.js"></script>
<script crossorigin="anonymous" defer="defer" type="application/javascript" src="https://github.githubassets.com/assets/vendors-node_modules_github_relative-time-element_dist_index_js-c76945c5961a.js"></script>
<script crossorigin="anonymous" defer="defer" type="application/javascript" src="https://github.githubassets.com/assets/vendors-node_modules_github_auto-complete-element_dist_index_js-node_modules_github_catalyst_-392fe4-1327b94f3269.js"></script>
<script crossorigin="anonymous" defer="defer" type="application/javascript" src="https://github.githubassets.com/assets/vendors-node_modules_github_text-expander-element_dist_index_js-b2135edb5ced.js"></script>
<script crossorigin="anonymous" defer="defer" type="application/javascript" src="https://github.githubassets.com/assets/vendors-node_modules_github_filter-input-element_dist_index_js-node_modules_github_remote-inp-b7d8f4-6e6f83bcc978.js"></script>
<script crossorigin="anonymous" defer="defer" type="application/javascript" src="https://github.githubassets.com/assets/vendors-node_modules_github_mini-throttle_dist_index_js-node_modules_delegated-events_dist_in-b63d41-209f14258c8d.js"></script>
<script crossorigin="anonymous" defer="defer" type="application/javascript" src="https://github.githubassets.com/assets/vendors-node_modules_github_file-attachment-element_dist_index_js-node_modules_primer_view-co-c238a4-c6bbd5d2c027.js"></script>
<script crossorigin="anonymous" defer="defer" type="application/javascript" src="https://github.githubassets.com/assets/app_assets_modules_github_onfocus_ts-ui_packages_trusted-types-policies_policy_ts-ui_packages-6fe316-ae5060590d17.js"></script>
<script crossorigin="anonymous" defer="defer" type="application/javascript" src="https://github.githubassets.com/assets/github-elements-d00866eeec16.js"></script>
<script crossorigin="anonymous" defer="defer" type="application/javascript" src="https://github.githubassets.com/assets/element-registry-02a4b19c2732.js"></script>
<script crossorigin="anonymous" defer="defer" type="application/javascript" src="https://github.githubassets.com/assets/vendors-node_modules_braintree_browser-detection_dist_browser-detection_js-node_modules_githu-fd5530-4007dac5c26f.js"></script>
<script crossorigin="anonymous" defer="defer" type="application/javascript" src="https://github.githubassets.com/assets/vendors-node_modules_lit-html_lit-html_js-cc7cb714ead5.js"></script>
<script crossorigin="anonymous" defer="defer" type="application/javascript" src="https://github.githubassets.com/assets/vendors-node_modules_morphdom_dist_morphdom-esm_js-node_modules_github_memoize_dist_esm_index_js-8d7117d67c36.js"></script>
<script crossorigin="anonymous" defer="defer" type="application/javascript" src="https://github.githubassets.com/assets/vendors-node_modules_github_turbo_dist_turbo_es2017-esm_js-1cea0f5eff45.js"></script>
<script crossorigin="anonymous" defer="defer" type="application/javascript" src="https://github.githubassets.com/assets/vendors-node_modules_github_remote-form_dist_index_js-node_modules_delegated-events_dist_inde-893f9f-880ac2bbb719.js"></script>
<script crossorigin="anonymous" defer="defer" type="application/javascript" src="https://github.githubassets.com/assets/vendors-node_modules_scroll-anchoring_dist_scroll-anchoring_esm_js-node_modules_github_hotkey-1a1d91-1bb71f3f93c2.js"></script>
<script crossorigin="anonymous" defer="defer" type="application/javascript" src="https://github.githubassets.com/assets/vendors-node_modules_color-convert_index_js-cdd1e82b3795.js"></script>
<script crossorigin="anonymous" defer="defer" type="application/javascript" src="https://github.githubassets.com/assets/vendors-node_modules_primer_behaviors_dist_esm_dimensions_js-node_modules_github_jtml_lib_index_js-b1947a1d4855.js"></script>
<script crossorigin="anonymous" defer="defer" type="application/javascript" src="https://github.githubassets.com/assets/vendors-node_modules_github_session-resume_dist_index_js-node_modules_primer_behaviors_dist_e-da6ec6-77ce2f267f4e.js"></script>
<script crossorigin="anonymous" defer="defer" type="application/javascript" src="https://github.githubassets.com/assets/vendors-node_modules_github_quote-selection_dist_index_js-node_modules_github_textarea-autosi-9e0349-704599a61056.js"></script>
<script crossorigin="anonymous" defer="defer" type="application/javascript" src="https://github.githubassets.com/assets/app_assets_modules_github_updatable-content_ts-4d91e80fb877.js"></script>
<script crossorigin="anonymous" defer="defer" type="application/javascript" src="https://github.githubassets.com/assets/app_assets_modules_github_behaviors_task-list_ts-app_assets_modules_github_onfocus_ts-app_ass-421cec-d3af2356fb47.js"></script>
<script crossorigin="anonymous" defer="defer" type="application/javascript" src="https://github.githubassets.com/assets/app_assets_modules_github_sticky-scroll-into-view_ts-3dc342dedcb0.js"></script>
<script crossorigin="anonymous" defer="defer" type="application/javascript" src="https://github.githubassets.com/assets/app_assets_modules_github_behaviors_ajax-error_ts-app_assets_modules_github_behaviors_include-467754-2363a1c8ed46.js"></script>
<script crossorigin="anonymous" defer="defer" type="application/javascript" src="https://github.githubassets.com/assets/app_assets_modules_github_behaviors_commenting_edit_ts-app_assets_modules_github_behaviors_ht-83c235-5276a3faf037.js"></script>
<script crossorigin="anonymous" defer="defer" type="application/javascript" src="https://github.githubassets.com/assets/behaviors-a9352ca9f95d.js"></script>
<script crossorigin="anonymous" defer="defer" type="application/javascript" src="https://github.githubassets.com/assets/vendors-node_modules_delegated-events_dist_index_js-node_modules_github_catalyst_lib_index_js-06ff531-2ea61fcc9a71.js"></script>
<script crossorigin="anonymous" defer="defer" type="application/javascript" src="https://github.githubassets.com/assets/notifications-global-0409f6303340.js"></script>
<script crossorigin="anonymous" defer="defer" type="application/javascript" src="https://github.githubassets.com/assets/app_assets_modules_github_repositories_get-repo-element_ts-e21ae6671295.js"></script>
<script crossorigin="anonymous" defer="defer" type="application/javascript" src="https://github.githubassets.com/assets/code-menu-67595c3a6d0c.js"></script>
  
  <script crossorigin="anonymous" defer="defer" type="application/javascript" src="https://github.githubassets.com/assets/react-lib-dc88c1a68b28.js"></script>
<script crossorigin="anonymous" defer="defer" type="application/javascript" src="https://github.githubassets.com/assets/vendors-node_modules_primer_octicons-react_dist_index_esm_js-node_modules_primer_react_lib-es-541a38-2733fe157c2c.js"></script>
<script crossorigin="anonymous" defer="defer" type="application/javascript" src="https://github.githubassets.com/assets/vendors-node_modules_primer_react_lib-esm_Box_Box_js-8f8c5e2a2cbf.js"></script>
<script crossorigin="anonymous" defer="defer" type="application/javascript" src="https://github.githubassets.com/assets/vendors-node_modules_primer_react_lib-esm_FeatureFlags_FeatureFlags_js-node_modules_github_ca-9009bd-47065f21e9ac.js"></script>
<script crossorigin="anonymous" defer="defer" type="application/javascript" src="https://github.githubassets.com/assets/vendors-node_modules_primer_react_lib-esm_Button_Button_js-97ed51d4f278.js"></script>
<script crossorigin="anonymous" defer="defer" type="application/javascript" src="https://github.githubassets.com/assets/vendors-node_modules_primer_react_lib-esm_TooltipV2_Tooltip_js-334106258bdb.js"></script>
<script crossorigin="anonymous" defer="defer" type="application/javascript" src="https://github.githubassets.com/assets/vendors-node_modules_primer_react_node_modules_primer_octicons-react_dist_index_esm_mjs-dc98a76c65d6.js"></script>
<script crossorigin="anonymous" defer="defer" type="application/javascript" src="https://github.githubassets.com/assets/vendors-node_modules_primer_react_lib-esm_ActionList_index_js-9e50e37cd494.js"></script>
<script crossorigin="anonymous" defer="defer" type="application/javascript" src="https://github.githubassets.com/assets/vendors-node_modules_primer_react_lib-esm_TextInput_TextInput_js-15046fb40abc.js"></script>
<script crossorigin="anonymous" defer="defer" type="application/javascript" src="https://github.githubassets.com/assets/vendors-node_modules_primer_react_lib-esm_AnchoredOverlay_AnchoredOverlay_js-4c761b535add.js"></script>
<script crossorigin="anonymous" defer="defer" type="application/javascript" src="https://github.githubassets.com/assets/vendors-node_modules_primer_react_lib-esm_FormControl_FormControl_js-68c35c819dad.js"></script>
<script crossorigin="anonymous" defer="defer" type="application/javascript" src="https://github.githubassets.com/assets/vendors-node_modules_primer_react_lib-esm_ActionMenu_ActionMenu_js-3936ca1bc46c.js"></script>
<script crossorigin="anonymous" defer="defer" type="application/javascript" src="https://github.githubassets.com/assets/vendors-node_modules_react-router-dom_dist_index_js-2b1dbeadb6d4.js"></script>
<script crossorigin="anonymous" defer="defer" type="application/javascript" src="https://github.githubassets.com/assets/vendors-node_modules_primer_react_lib-esm_ConfirmationDialog_ConfirmationDialog_js-e77978dd27f4.js"></script>
<script crossorigin="anonymous" defer="defer" type="application/javascript" src="https://github.githubassets.com/assets/vendors-node_modules_primer_react_lib-esm_Heading_Heading_js-node_modules_primer_react_lib-es-38c617-2ae956a800e7.js"></script>
<script crossorigin="anonymous" defer="defer" type="application/javascript" src="https://github.githubassets.com/assets/vendors-node_modules_primer_react_lib-esm_PageLayout_PageLayout_js-node_modules_github_hydro--f8521d-0253212e1803.js"></script>
<script crossorigin="anonymous" defer="defer" type="application/javascript" src="https://github.githubassets.com/assets/vendors-node_modules_primer_react_lib-esm_AvatarStack_AvatarStack_js-node_modules_primer_reac-6dc608-960f8b6d9f42.js"></script>
<script crossorigin="anonymous" defer="defer" type="application/javascript" src="https://github.githubassets.com/assets/vendors-node_modules_primer_react_lib-esm_Avatar_Avatar_js-node_modules_primer_react_lib-esm_-f960e8-4c279840ce74.js"></script>
<script crossorigin="anonymous" defer="defer" type="application/javascript" src="https://github.githubassets.com/assets/ui_packages_react-core_create-browser-history_ts-ui_packages_safe-storage_safe-storage_ts-ui_-682c2c-44ed51a2083d.js"></script>
<script crossorigin="anonymous" defer="defer" type="application/javascript" src="https://github.githubassets.com/assets/ui_packages_react-core_register-app_ts-cdec9cf45205.js"></script>
<script crossorigin="anonymous" defer="defer" type="application/javascript" src="https://github.githubassets.com/assets/ui_packages_paths_index_ts-4045d4f4a6fb.js"></script>
<script crossorigin="anonymous" defer="defer" type="application/javascript" src="https://github.githubassets.com/assets/ui_packages_ref-selector_RefSelector_tsx-1d7ba6f1d9fe.js"></script>
<script crossorigin="anonymous" defer="defer" type="application/javascript" src="https://github.githubassets.com/assets/ui_packages_commit-attribution_index_ts-ui_packages_commit-checks-status_index_ts-ui_packages-59a8e3-36170fdb305b.js"></script>
<script crossorigin="anonymous" defer="defer" type="application/javascript" src="https://github.githubassets.com/assets/app_assets_modules_react-shared_hooks_use-canonical-object_ts-ui_packages_code-view-shared_ho-68a691-042026e157fa.js"></script>
<script crossorigin="anonymous" defer="defer" type="application/javascript" src="https://github.githubassets.com/assets/app_assets_modules_github_blob-anchor_ts-app_assets_modules_github_filter-sort_ts-app_assets_-e50ab6-06193ffb3fd6.js"></script>
<script crossorigin="anonymous" defer="defer" type="application/javascript" src="https://github.githubassets.com/assets/react-code-view-6956503e2fd4.js"></script>
<link crossorigin="anonymous" media="all" rel="stylesheet" href="https://github.githubassets.com/assets/react-code-view.98a0f4bdacd6223a0b70.module.css" />


  <title>public_hw_notebooks/sp24_hw7/q_matrix_visualization.ipynb at master · ee16a/public_hw_notebooks · GitHub</title>



  <meta name="route-pattern" content="/:user_id/:repository/blob/*name(/*path)" data-turbo-transient>
  <meta name="route-controller" content="blob" data-turbo-transient>
  <meta name="route-action" content="show" data-turbo-transient>

    
  <meta name="current-catalog-service-hash" content="82c569b93da5c18ed649ebd4c2c79437db4611a6a1373e805a3cb001c64130b7">


  <meta name="request-id" content="8997:7CB13:2B8950F:2F6F1CE:665E4E63" data-pjax-transient="true"/><meta name="html-safe-nonce" content="be24e620c31b6b9e9181a78b3cbe573a5be5de2fa672ef522137693ac584eef8" data-pjax-transient="true"/><meta name="visitor-payload" content="eyJyZWZlcnJlciI6IiIsInJlcXVlc3RfaWQiOiI4OTk3OjdDQjEzOjJCODk1MEY6MkY2RjFDRTo2NjVFNEU2MyIsInZpc2l0b3JfaWQiOiIyMjc0NzcwOTAyNTI0NTEzODkxIiwicmVnaW9uX2VkZ2UiOiJzZWEiLCJyZWdpb25fcmVuZGVyIjoic2VhIn0=" data-pjax-transient="true"/><meta name="visitor-hmac" content="e8f86534f81d7103a0fc2961a247ebe3005a31963bb60c147e8703809037f1cd" data-pjax-transient="true"/>


    <meta name="hovercard-subject-tag" content="repository:274761554" data-turbo-transient>


  <meta name="github-keyboard-shortcuts" content="repository,source-code,file-tree,copilot" data-turbo-transient="true" />
  

  <meta name="selected-link" value="repo_source" data-turbo-transient>
  <link rel="assets" href="https://github.githubassets.com/">

    <meta name="google-site-verification" content="Apib7-x98H0j5cPqHWwSMm6dNU4GmODRoqxLiDzdx9I">

<meta name="octolytics-url" content="https://collector.github.com/github/collect" />

  <meta name="analytics-location" content="/&lt;user-name&gt;/&lt;repo-name&gt;/blob/show" data-turbo-transient="true" />

  




    <meta name="user-login" content="">

  

    <meta name="viewport" content="width=device-width">

    

      <meta name="description" content="Hosting released HW files to host on datahub. Contribute to ee16a/public_hw_notebooks development by creating an account on GitHub.">

      <link rel="search" type="application/opensearchdescription+xml" href="/opensearch.xml" title="GitHub">

    <link rel="fluid-icon" href="https://github.com/fluidicon.png" title="GitHub">
    <meta property="fb:app_id" content="1401488693436528">
    <meta name="apple-itunes-app" content="app-id=1477376905, app-argument=https://github.com/ee16a/public_hw_notebooks/blob/master/sp24_hw7/q_matrix_visualization.ipynb" />

      <meta name="twitter:image:src" content="https://opengraph.githubassets.com/e33062cb8fe14ec5c0d83f4a607df6a00008d45667649c02876c58af6ca5fb88/ee16a/public_hw_notebooks" /><meta name="twitter:site" content="@github" /><meta name="twitter:card" content="summary_large_image" /><meta name="twitter:title" content="public_hw_notebooks/sp24_hw7/q_matrix_visualization.ipynb at master · ee16a/public_hw_notebooks" /><meta name="twitter:description" content="Hosting released HW files to host on datahub. Contribute to ee16a/public_hw_notebooks development by creating an account on GitHub." />
  <meta property="og:image" content="https://opengraph.githubassets.com/e33062cb8fe14ec5c0d83f4a607df6a00008d45667649c02876c58af6ca5fb88/ee16a/public_hw_notebooks" /><meta property="og:image:alt" content="Hosting released HW files to host on datahub. Contribute to ee16a/public_hw_notebooks development by creating an account on GitHub." /><meta property="og:image:width" content="1200" /><meta property="og:image:height" content="600" /><meta property="og:site_name" content="GitHub" /><meta property="og:type" content="object" /><meta property="og:title" content="public_hw_notebooks/sp24_hw7/q_matrix_visualization.ipynb at master · ee16a/public_hw_notebooks" /><meta property="og:url" content="https://github.com/ee16a/public_hw_notebooks/blob/master/sp24_hw7/q_matrix_visualization.ipynb" /><meta property="og:description" content="Hosting released HW files to host on datahub. Contribute to ee16a/public_hw_notebooks development by creating an account on GitHub." />
  




      <meta name="hostname" content="github.com">



        <meta name="expected-hostname" content="github.com">


  <meta http-equiv="x-pjax-version" content="df20b5c6b972fa8749e24b82faf346200acb74b1a814bb9298e197ecd9df986e" data-turbo-track="reload">
  <meta http-equiv="x-pjax-csp-version" content="38c639a245e1dd04786881fae1060fbd72d3ed419b2f0d38d6082dc9d67876c3" data-turbo-track="reload">
  <meta http-equiv="x-pjax-css-version" content="a231bdac81d3a969a38b5854f9189b5fd6b6771f9788e9c2a20fadd334ed3906" data-turbo-track="reload">
  <meta http-equiv="x-pjax-js-version" content="d275c7b6db53a1da33264710455b478f821afacdbfcacb26384319a6bc72d9cc" data-turbo-track="reload">

  <meta name="turbo-cache-control" content="no-preview" data-turbo-transient="">

      <meta name="turbo-cache-control" content="no-cache" data-turbo-transient>
    <meta data-hydrostats="publish">
  <meta name="go-import" content="github.com/ee16a/public_hw_notebooks git https://github.com/ee16a/public_hw_notebooks.git">

  <meta name="octolytics-dimension-user_id" content="10691876" /><meta name="octolytics-dimension-user_login" content="ee16a" /><meta name="octolytics-dimension-repository_id" content="274761554" /><meta name="octolytics-dimension-repository_nwo" content="ee16a/public_hw_notebooks" /><meta name="octolytics-dimension-repository_public" content="true" /><meta name="octolytics-dimension-repository_is_fork" content="false" /><meta name="octolytics-dimension-repository_network_root_id" content="274761554" /><meta name="octolytics-dimension-repository_network_root_nwo" content="ee16a/public_hw_notebooks" />



    

    <meta name="turbo-body-classes" content="logged-out env-production page-responsive">


  <meta name="browser-stats-url" content="https://api.github.com/_private/browser/stats">

  <meta name="browser-errors-url" content="https://api.github.com/_private/browser/errors">

  <link rel="mask-icon" href="https://github.githubassets.com/assets/pinned-octocat-093da3e6fa40.svg" color="#000000">
  <link rel="alternate icon" class="js-site-favicon" type="image/png" href="https://github.githubassets.com/favicons/favicon.png">
  <link rel="icon" class="js-site-favicon" type="image/svg+xml" href="https://github.githubassets.com/favicons/favicon.svg">

<meta name="theme-color" content="#1e2327">
<meta name="color-scheme" content="light dark" />


  <link rel="manifest" href="/manifest.json" crossOrigin="use-credentials">

  </head>

  <body class="logged-out env-production page-responsive" style="word-wrap: break-word;">
    <div data-turbo-body class="logged-out env-production page-responsive" style="word-wrap: break-word;">
      


    <div class="position-relative js-header-wrapper ">
      <a href="#start-of-content" data-skip-target-assigned="false" class="px-2 py-4 color-bg-accent-emphasis color-fg-on-emphasis show-on-focus js-skip-to-content">Skip to content</a>

      <span data-view-component="true" class="progress-pjax-loader Progress position-fixed width-full">
    <span style="width: 0%;" data-view-component="true" class="Progress-item progress-pjax-loader-bar left-0 top-0 color-bg-accent-emphasis"></span>
</span>      
      
      







<script crossorigin="anonymous" defer="defer" type="application/javascript" src="https://github.githubassets.com/assets/vendors-node_modules_primer_react_lib-esm_Button_IconButton_js-node_modules_primer_react_lib--1cd808-6070bc6b2c67.js"></script>

<script crossorigin="anonymous" defer="defer" type="application/javascript" src="https://github.githubassets.com/assets/keyboard-shortcuts-dialog-5cf59981c8b2.js"></script>

<react-partial
  partial-name="keyboard-shortcuts-dialog"
  data-ssr="false"
>
  
  <script type="application/json" data-target="react-partial.embeddedData">{"props":{"docsUrl":"https://docs.github.com/get-started/accessibility/keyboard-shortcuts"}}</script>
  <div data-target="react-partial.reactRoot"></div>
</react-partial>




      

        

            
<script crossorigin="anonymous" defer="defer" type="application/javascript" src="https://github.githubassets.com/assets/vendors-node_modules_github_remote-form_dist_index_js-node_modules_delegated-events_dist_inde-94fd67-8743f7dc256e.js"></script>
<script crossorigin="anonymous" defer="defer" type="application/javascript" src="https://github.githubassets.com/assets/sessions-458fee042571.js"></script>
<header class="Header-old header-logged-out js-details-container Details position-relative f4 py-3" role="banner" data-color-mode=light data-light-theme=light data-dark-theme=dark>
  <h2 class="sr-only">Navigation Menu</h2>

  <button type="button" class="Header-backdrop d-lg-none border-0 position-fixed top-0 left-0 width-full height-full js-details-target" aria-label="Toggle navigation">
    <span class="d-none">Toggle navigation</span>
  </button>

  <div class=" d-flex flex-column flex-lg-row flex-items-center p-responsive height-full position-relative z-1">
    <div class="d-flex flex-justify-between flex-items-center width-full width-lg-auto">
      <a class="mr-lg-3 color-fg-inherit flex-order-2" href="https://github.com/" aria-label="Homepage" data-ga-click="(Logged out) Header, go to homepage, icon:logo-wordmark">
        <svg height="32" aria-hidden="true" viewBox="0 0 16 16" version="1.1" width="32" data-view-component="true" class="octicon octicon-mark-github">
    <path d="M8 0c4.42 0 8 3.58 8 8a8.013 8.013 0 0 1-5.45 7.59c-.4.08-.55-.17-.55-.38 0-.27.01-1.13.01-2.2 0-.75-.25-1.23-.54-1.48 1.78-.2 3.65-.88 3.65-3.95 0-.88-.31-1.59-.82-2.15.08-.2.36-1.02-.08-2.12 0 0-.67-.22-2.2.82-.64-.18-1.32-.27-2-.27-.68 0-1.36.09-2 .27-1.53-1.03-2.2-.82-2.2-.82-.44 1.1-.16 1.92-.08 2.12-.51.56-.82 1.28-.82 2.15 0 3.06 1.86 3.75 3.64 3.95-.23.2-.44.55-.51 1.07-.46.21-1.61.55-2.33-.66-.15-.24-.6-.83-1.23-.82-.67.01-.27.38.01.53.34.19.73.9.82 1.13.16.45.68 1.31 2.69.94 0 .67.01 1.3.01 1.49 0 .21-.15.45-.55.38A7.995 7.995 0 0 1 0 8c0-4.42 3.58-8 8-8Z"></path>
</svg>
      </a>

      <div class="flex-1">
        <a href="/login?return_to=https%3A%2F%2Fgithub.com%2Fee16a%2Fpublic_hw_notebooks%2Fblob%2Fmaster%2Fsp24_hw7%2Fq_matrix_visualization.ipynb"
          class="d-inline-block d-lg-none flex-order-1 f5 no-underline border color-border-default rounded-2 px-2 py-1 color-fg-inherit"
          data-hydro-click="{&quot;event_type&quot;:&quot;authentication.click&quot;,&quot;payload&quot;:{&quot;location_in_page&quot;:&quot;site header menu&quot;,&quot;repository_id&quot;:null,&quot;auth_type&quot;:&quot;SIGN_UP&quot;,&quot;originating_url&quot;:&quot;https://github.com/ee16a/public_hw_notebooks/blob/master/sp24_hw7/q_matrix_visualization.ipynb&quot;,&quot;user_id&quot;:null}}" data-hydro-click-hmac="0c5d5b908420166341ed1265794ecf010d0a760aec6c8aaaff0d2a8dd5c19ed7"
          data-ga-click="(Logged out) Header, clicked Sign in, text:sign-in">
          Sign in
        </a>
      </div>

      <div class="flex-1 flex-order-2 text-right">
        <button aria-label="Toggle navigation" aria-expanded="false" type="button" data-view-component="true" class="js-details-target Button--link Button--medium Button d-lg-none color-fg-inherit p-1">  <span class="Button-content">
    <span class="Button-label"><div class="HeaderMenu-toggle-bar rounded my-1"></div>
            <div class="HeaderMenu-toggle-bar rounded my-1"></div>
            <div class="HeaderMenu-toggle-bar rounded my-1"></div></span>
  </span>
</button>
      </div>
    </div>


    <div class="HeaderMenu--logged-out p-responsive height-fit position-lg-relative d-lg-flex flex-column flex-auto pt-7 pb-4 top-0">
      <div class="header-menu-wrapper d-flex flex-column flex-self-end flex-lg-row flex-justify-between flex-auto p-3 p-lg-0 rounded rounded-lg-0 mt-3 mt-lg-0">
          <nav class="mt-0 px-3 px-lg-0 mb-3 mb-lg-0" aria-label="Global">
            <ul class="d-lg-flex list-style-none">
                <li class="HeaderMenu-item position-relative flex-wrap flex-justify-between flex-items-center d-block d-lg-flex flex-lg-nowrap flex-lg-items-center js-details-container js-header-menu-item">
      <button type="button" class="HeaderMenu-link border-0 width-full width-lg-auto px-0 px-lg-2 py-3 py-lg-2 no-wrap d-flex flex-items-center flex-justify-between js-details-target" aria-expanded="false">
        Product
        <svg opacity="0.5" aria-hidden="true" height="16" viewBox="0 0 16 16" version="1.1" width="16" data-view-component="true" class="octicon octicon-chevron-down HeaderMenu-icon ml-1">
    <path d="M12.78 5.22a.749.749 0 0 1 0 1.06l-4.25 4.25a.749.749 0 0 1-1.06 0L3.22 6.28a.749.749 0 1 1 1.06-1.06L8 8.939l3.72-3.719a.749.749 0 0 1 1.06 0Z"></path>
</svg>
      </button>
      <div class="HeaderMenu-dropdown dropdown-menu rounded m-0 p-0 py-2 py-lg-4 position-relative position-lg-absolute left-0 left-lg-n3 d-lg-flex dropdown-menu-wide">
          <div class="px-lg-4 border-lg-right mb-4 mb-lg-0 pr-lg-7">
            <ul class="list-style-none f5" >
                <!-- BEGIN app/components/site/header_dropdown_item_component.rb --><li>
  <a class="HeaderMenu-dropdown-link lh-condensed d-block no-underline position-relative py-2 Link--secondary d-flex flex-items-center pb-lg-3" data-analytics-event="{&quot;category&quot;:&quot;Header dropdown (logged out), Product&quot;,&quot;action&quot;:&quot;click to go to Actions&quot;,&quot;label&quot;:&quot;ref_cta:Actions;&quot;}" href="https://github.com/features/actions">
      <svg aria-hidden="true" height="24" viewBox="0 0 24 24" version="1.1" width="24" data-view-component="true" class="octicon octicon-workflow color-fg-subtle mr-3">
    <path d="M1 3a2 2 0 0 1 2-2h6.5a2 2 0 0 1 2 2v6.5a2 2 0 0 1-2 2H7v4.063C7 16.355 7.644 17 8.438 17H12.5v-2.5a2 2 0 0 1 2-2H21a2 2 0 0 1 2 2V21a2 2 0 0 1-2 2h-6.5a2 2 0 0 1-2-2v-2.5H8.437A2.939 2.939 0 0 1 5.5 15.562V11.5H3a2 2 0 0 1-2-2Zm2-.5a.5.5 0 0 0-.5.5v6.5a.5.5 0 0 0 .5.5h6.5a.5.5 0 0 0 .5-.5V3a.5.5 0 0 0-.5-.5ZM14.5 14a.5.5 0 0 0-.5.5V21a.5.5 0 0 0 .5.5H21a.5.5 0 0 0 .5-.5v-6.5a.5.5 0 0 0-.5-.5Z"></path>
</svg>
      <div>
        <div class="color-fg-default h4">Actions</div>
        Automate any workflow
      </div>

    
</a></li>
<!-- END app/components/site/header_dropdown_item_component.rb -->
                <!-- BEGIN app/components/site/header_dropdown_item_component.rb --><li>
  <a class="HeaderMenu-dropdown-link lh-condensed d-block no-underline position-relative py-2 Link--secondary d-flex flex-items-center pb-lg-3" data-analytics-event="{&quot;category&quot;:&quot;Header dropdown (logged out), Product&quot;,&quot;action&quot;:&quot;click to go to Packages&quot;,&quot;label&quot;:&quot;ref_cta:Packages;&quot;}" href="https://github.com/features/packages">
      <svg aria-hidden="true" height="24" viewBox="0 0 24 24" version="1.1" width="24" data-view-component="true" class="octicon octicon-package color-fg-subtle mr-3">
    <path d="M12.876.64V.639l8.25 4.763c.541.313.875.89.875 1.515v9.525a1.75 1.75 0 0 1-.875 1.516l-8.25 4.762a1.748 1.748 0 0 1-1.75 0l-8.25-4.763a1.75 1.75 0 0 1-.875-1.515V6.917c0-.625.334-1.202.875-1.515L11.126.64a1.748 1.748 0 0 1 1.75 0Zm-1 1.298L4.251 6.34l7.75 4.474 7.75-4.474-7.625-4.402a.248.248 0 0 0-.25 0Zm.875 19.123 7.625-4.402a.25.25 0 0 0 .125-.216V7.639l-7.75 4.474ZM3.501 7.64v8.803c0 .09.048.172.125.216l7.625 4.402v-8.947Z"></path>
</svg>
      <div>
        <div class="color-fg-default h4">Packages</div>
        Host and manage packages
      </div>

    
</a></li>
<!-- END app/components/site/header_dropdown_item_component.rb -->
                <!-- BEGIN app/components/site/header_dropdown_item_component.rb --><li>
  <a class="HeaderMenu-dropdown-link lh-condensed d-block no-underline position-relative py-2 Link--secondary d-flex flex-items-center pb-lg-3" data-analytics-event="{&quot;category&quot;:&quot;Header dropdown (logged out), Product&quot;,&quot;action&quot;:&quot;click to go to Security&quot;,&quot;label&quot;:&quot;ref_cta:Security;&quot;}" href="https://github.com/features/security">
      <svg aria-hidden="true" height="24" viewBox="0 0 24 24" version="1.1" width="24" data-view-component="true" class="octicon octicon-shield-check color-fg-subtle mr-3">
    <path d="M16.53 9.78a.75.75 0 0 0-1.06-1.06L11 13.19l-1.97-1.97a.75.75 0 0 0-1.06 1.06l2.5 2.5a.75.75 0 0 0 1.06 0l5-5Z"></path><path d="m12.54.637 8.25 2.675A1.75 1.75 0 0 1 22 4.976V10c0 6.19-3.771 10.704-9.401 12.83a1.704 1.704 0 0 1-1.198 0C5.77 20.705 2 16.19 2 10V4.976c0-.758.489-1.43 1.21-1.664L11.46.637a1.748 1.748 0 0 1 1.08 0Zm-.617 1.426-8.25 2.676a.249.249 0 0 0-.173.237V10c0 5.46 3.28 9.483 8.43 11.426a.199.199 0 0 0 .14 0C17.22 19.483 20.5 15.461 20.5 10V4.976a.25.25 0 0 0-.173-.237l-8.25-2.676a.253.253 0 0 0-.154 0Z"></path>
</svg>
      <div>
        <div class="color-fg-default h4">Security</div>
        Find and fix vulnerabilities
      </div>

    
</a></li>
<!-- END app/components/site/header_dropdown_item_component.rb -->
                <!-- BEGIN app/components/site/header_dropdown_item_component.rb --><li>
  <a class="HeaderMenu-dropdown-link lh-condensed d-block no-underline position-relative py-2 Link--secondary d-flex flex-items-center pb-lg-3" data-analytics-event="{&quot;category&quot;:&quot;Header dropdown (logged out), Product&quot;,&quot;action&quot;:&quot;click to go to Codespaces&quot;,&quot;label&quot;:&quot;ref_cta:Codespaces;&quot;}" href="https://github.com/features/codespaces">
      <svg aria-hidden="true" height="24" viewBox="0 0 24 24" version="1.1" width="24" data-view-component="true" class="octicon octicon-codespaces color-fg-subtle mr-3">
    <path d="M3.5 3.75C3.5 2.784 4.284 2 5.25 2h13.5c.966 0 1.75.784 1.75 1.75v7.5A1.75 1.75 0 0 1 18.75 13H5.25a1.75 1.75 0 0 1-1.75-1.75Zm-2 12c0-.966.784-1.75 1.75-1.75h17.5c.966 0 1.75.784 1.75 1.75v4a1.75 1.75 0 0 1-1.75 1.75H3.25a1.75 1.75 0 0 1-1.75-1.75ZM5.25 3.5a.25.25 0 0 0-.25.25v7.5c0 .138.112.25.25.25h13.5a.25.25 0 0 0 .25-.25v-7.5a.25.25 0 0 0-.25-.25Zm-2 12a.25.25 0 0 0-.25.25v4c0 .138.112.25.25.25h17.5a.25.25 0 0 0 .25-.25v-4a.25.25 0 0 0-.25-.25Z"></path><path d="M10 17.75a.75.75 0 0 1 .75-.75h6.5a.75.75 0 0 1 0 1.5h-6.5a.75.75 0 0 1-.75-.75Zm-4 0a.75.75 0 0 1 .75-.75h.5a.75.75 0 0 1 0 1.5h-.5a.75.75 0 0 1-.75-.75Z"></path>
</svg>
      <div>
        <div class="color-fg-default h4">Codespaces</div>
        Instant dev environments
      </div>

    
</a></li>
<!-- END app/components/site/header_dropdown_item_component.rb -->
                <!-- BEGIN app/components/site/header_dropdown_item_component.rb --><li>
  <a class="HeaderMenu-dropdown-link lh-condensed d-block no-underline position-relative py-2 Link--secondary d-flex flex-items-center pb-lg-3" data-analytics-event="{&quot;category&quot;:&quot;Header dropdown (logged out), Product&quot;,&quot;action&quot;:&quot;click to go to GitHub Copilot&quot;,&quot;label&quot;:&quot;ref_cta:GitHub Copilot;&quot;}" href="https://github.com/features/copilot">
      <svg aria-hidden="true" height="24" viewBox="0 0 24 24" version="1.1" width="24" data-view-component="true" class="octicon octicon-copilot color-fg-subtle mr-3">
    <path d="M23.922 16.992c-.861 1.495-5.859 5.023-11.922 5.023-6.063 0-11.061-3.528-11.922-5.023A.641.641 0 0 1 0 16.736v-2.869a.841.841 0 0 1 .053-.22c.372-.935 1.347-2.292 2.605-2.656.167-.429.414-1.055.644-1.517a10.195 10.195 0 0 1-.052-1.086c0-1.331.282-2.499 1.132-3.368.397-.406.89-.717 1.474-.952 1.399-1.136 3.392-2.093 6.122-2.093 2.731 0 4.767.957 6.166 2.093.584.235 1.077.546 1.474.952.85.869 1.132 2.037 1.132 3.368 0 .368-.014.733-.052 1.086.23.462.477 1.088.644 1.517 1.258.364 2.233 1.721 2.605 2.656a.832.832 0 0 1 .053.22v2.869a.641.641 0 0 1-.078.256ZM12.172 11h-.344a4.323 4.323 0 0 1-.355.508C10.703 12.455 9.555 13 7.965 13c-1.725 0-2.989-.359-3.782-1.259a2.005 2.005 0 0 1-.085-.104L4 11.741v6.585c1.435.779 4.514 2.179 8 2.179 3.486 0 6.565-1.4 8-2.179v-6.585l-.098-.104s-.033.045-.085.104c-.793.9-2.057 1.259-3.782 1.259-1.59 0-2.738-.545-3.508-1.492a4.323 4.323 0 0 1-.355-.508h-.016.016Zm.641-2.935c.136 1.057.403 1.913.878 2.497.442.544 1.134.938 2.344.938 1.573 0 2.292-.337 2.657-.751.384-.435.558-1.15.558-2.361 0-1.14-.243-1.847-.705-2.319-.477-.488-1.319-.862-2.824-1.025-1.487-.161-2.192.138-2.533.529-.269.307-.437.808-.438 1.578v.021c0 .265.021.562.063.893Zm-1.626 0c.042-.331.063-.628.063-.894v-.02c-.001-.77-.169-1.271-.438-1.578-.341-.391-1.046-.69-2.533-.529-1.505.163-2.347.537-2.824 1.025-.462.472-.705 1.179-.705 2.319 0 1.211.175 1.926.558 2.361.365.414 1.084.751 2.657.751 1.21 0 1.902-.394 2.344-.938.475-.584.742-1.44.878-2.497Z"></path><path d="M14.5 14.25a1 1 0 0 1 1 1v2a1 1 0 0 1-2 0v-2a1 1 0 0 1 1-1Zm-5 0a1 1 0 0 1 1 1v2a1 1 0 0 1-2 0v-2a1 1 0 0 1 1-1Z"></path>
</svg>
      <div>
        <div class="color-fg-default h4">GitHub Copilot</div>
        Write better code with AI
      </div>

    
</a></li>
<!-- END app/components/site/header_dropdown_item_component.rb -->
                <!-- BEGIN app/components/site/header_dropdown_item_component.rb --><li>
  <a class="HeaderMenu-dropdown-link lh-condensed d-block no-underline position-relative py-2 Link--secondary d-flex flex-items-center pb-lg-3" data-analytics-event="{&quot;category&quot;:&quot;Header dropdown (logged out), Product&quot;,&quot;action&quot;:&quot;click to go to Code review&quot;,&quot;label&quot;:&quot;ref_cta:Code review;&quot;}" href="https://github.com/features/code-review">
      <svg aria-hidden="true" height="24" viewBox="0 0 24 24" version="1.1" width="24" data-view-component="true" class="octicon octicon-code-review color-fg-subtle mr-3">
    <path d="M10.3 6.74a.75.75 0 0 1-.04 1.06l-2.908 2.7 2.908 2.7a.75.75 0 1 1-1.02 1.1l-3.5-3.25a.75.75 0 0 1 0-1.1l3.5-3.25a.75.75 0 0 1 1.06.04Zm3.44 1.06a.75.75 0 1 1 1.02-1.1l3.5 3.25a.75.75 0 0 1 0 1.1l-3.5 3.25a.75.75 0 1 1-1.02-1.1l2.908-2.7-2.908-2.7Z"></path><path d="M1.5 4.25c0-.966.784-1.75 1.75-1.75h17.5c.966 0 1.75.784 1.75 1.75v12.5a1.75 1.75 0 0 1-1.75 1.75h-9.69l-3.573 3.573A1.458 1.458 0 0 1 5 21.043V18.5H3.25a1.75 1.75 0 0 1-1.75-1.75ZM3.25 4a.25.25 0 0 0-.25.25v12.5c0 .138.112.25.25.25h2.5a.75.75 0 0 1 .75.75v3.19l3.72-3.72a.749.749 0 0 1 .53-.22h10a.25.25 0 0 0 .25-.25V4.25a.25.25 0 0 0-.25-.25Z"></path>
</svg>
      <div>
        <div class="color-fg-default h4">Code review</div>
        Manage code changes
      </div>

    
</a></li>
<!-- END app/components/site/header_dropdown_item_component.rb -->
                <!-- BEGIN app/components/site/header_dropdown_item_component.rb --><li>
  <a class="HeaderMenu-dropdown-link lh-condensed d-block no-underline position-relative py-2 Link--secondary d-flex flex-items-center pb-lg-3" data-analytics-event="{&quot;category&quot;:&quot;Header dropdown (logged out), Product&quot;,&quot;action&quot;:&quot;click to go to Issues&quot;,&quot;label&quot;:&quot;ref_cta:Issues;&quot;}" href="https://github.com/features/issues">
      <svg aria-hidden="true" height="24" viewBox="0 0 24 24" version="1.1" width="24" data-view-component="true" class="octicon octicon-issue-opened color-fg-subtle mr-3">
    <path d="M12 1c6.075 0 11 4.925 11 11s-4.925 11-11 11S1 18.075 1 12 5.925 1 12 1ZM2.5 12a9.5 9.5 0 0 0 9.5 9.5 9.5 9.5 0 0 0 9.5-9.5A9.5 9.5 0 0 0 12 2.5 9.5 9.5 0 0 0 2.5 12Zm9.5 2a2 2 0 1 1-.001-3.999A2 2 0 0 1 12 14Z"></path>
</svg>
      <div>
        <div class="color-fg-default h4">Issues</div>
        Plan and track work
      </div>

    
</a></li>
<!-- END app/components/site/header_dropdown_item_component.rb -->
                <!-- BEGIN app/components/site/header_dropdown_item_component.rb --><li>
  <a class="HeaderMenu-dropdown-link lh-condensed d-block no-underline position-relative py-2 Link--secondary d-flex flex-items-center" data-analytics-event="{&quot;category&quot;:&quot;Header dropdown (logged out), Product&quot;,&quot;action&quot;:&quot;click to go to Discussions&quot;,&quot;label&quot;:&quot;ref_cta:Discussions;&quot;}" href="https://github.com/features/discussions">
      <svg aria-hidden="true" height="24" viewBox="0 0 24 24" version="1.1" width="24" data-view-component="true" class="octicon octicon-comment-discussion color-fg-subtle mr-3">
    <path d="M1.75 1h12.5c.966 0 1.75.784 1.75 1.75v9.5A1.75 1.75 0 0 1 14.25 14H8.061l-2.574 2.573A1.458 1.458 0 0 1 3 15.543V14H1.75A1.75 1.75 0 0 1 0 12.25v-9.5C0 1.784.784 1 1.75 1ZM1.5 2.75v9.5c0 .138.112.25.25.25h2a.75.75 0 0 1 .75.75v2.19l2.72-2.72a.749.749 0 0 1 .53-.22h6.5a.25.25 0 0 0 .25-.25v-9.5a.25.25 0 0 0-.25-.25H1.75a.25.25 0 0 0-.25.25Z"></path><path d="M22.5 8.75a.25.25 0 0 0-.25-.25h-3.5a.75.75 0 0 1 0-1.5h3.5c.966 0 1.75.784 1.75 1.75v9.5A1.75 1.75 0 0 1 22.25 20H21v1.543a1.457 1.457 0 0 1-2.487 1.03L15.939 20H10.75A1.75 1.75 0 0 1 9 18.25v-1.465a.75.75 0 0 1 1.5 0v1.465c0 .138.112.25.25.25h5.5a.75.75 0 0 1 .53.22l2.72 2.72v-2.19a.75.75 0 0 1 .75-.75h2a.25.25 0 0 0 .25-.25v-9.5Z"></path>
</svg>
      <div>
        <div class="color-fg-default h4">Discussions</div>
        Collaborate outside of code
      </div>

    
</a></li>
<!-- END app/components/site/header_dropdown_item_component.rb -->
            </ul>
          </div>
          <div class="px-lg-4">
              <span class="d-block h4 color-fg-default my-1" id="product-explore-heading">Explore</span>
            <ul class="list-style-none f5" aria-labelledby="product-explore-heading">
                <!-- BEGIN app/components/site/header_dropdown_item_component.rb --><li>
  <a class="HeaderMenu-dropdown-link lh-condensed d-block no-underline position-relative py-2 Link--secondary" data-analytics-event="{&quot;category&quot;:&quot;Header dropdown (logged out), Product&quot;,&quot;action&quot;:&quot;click to go to All features&quot;,&quot;label&quot;:&quot;ref_cta:All features;&quot;}" href="https://github.com/features">
      All features

    
</a></li>
<!-- END app/components/site/header_dropdown_item_component.rb -->
                <!-- BEGIN app/components/site/header_dropdown_item_component.rb --><li>
  <a class="HeaderMenu-dropdown-link lh-condensed d-block no-underline position-relative py-2 Link--secondary" target="_blank" data-analytics-event="{&quot;category&quot;:&quot;Header dropdown (logged out), Product&quot;,&quot;action&quot;:&quot;click to go to Documentation&quot;,&quot;label&quot;:&quot;ref_cta:Documentation;&quot;}" href="https://docs.github.com">
      Documentation

    <svg aria-hidden="true" height="16" viewBox="0 0 16 16" version="1.1" width="16" data-view-component="true" class="octicon octicon-link-external HeaderMenu-external-icon color-fg-subtle">
    <path d="M3.75 2h3.5a.75.75 0 0 1 0 1.5h-3.5a.25.25 0 0 0-.25.25v8.5c0 .138.112.25.25.25h8.5a.25.25 0 0 0 .25-.25v-3.5a.75.75 0 0 1 1.5 0v3.5A1.75 1.75 0 0 1 12.25 14h-8.5A1.75 1.75 0 0 1 2 12.25v-8.5C2 2.784 2.784 2 3.75 2Zm6.854-1h4.146a.25.25 0 0 1 .25.25v4.146a.25.25 0 0 1-.427.177L13.03 4.03 9.28 7.78a.751.751 0 0 1-1.042-.018.751.751 0 0 1-.018-1.042l3.75-3.75-1.543-1.543A.25.25 0 0 1 10.604 1Z"></path>
</svg>
</a></li>
<!-- END app/components/site/header_dropdown_item_component.rb -->
                <!-- BEGIN app/components/site/header_dropdown_item_component.rb --><li>
  <a class="HeaderMenu-dropdown-link lh-condensed d-block no-underline position-relative py-2 Link--secondary" target="_blank" data-analytics-event="{&quot;category&quot;:&quot;Header dropdown (logged out), Product&quot;,&quot;action&quot;:&quot;click to go to GitHub Skills&quot;,&quot;label&quot;:&quot;ref_cta:GitHub Skills;&quot;}" href="https://skills.github.com">
      GitHub Skills

    <svg aria-hidden="true" height="16" viewBox="0 0 16 16" version="1.1" width="16" data-view-component="true" class="octicon octicon-link-external HeaderMenu-external-icon color-fg-subtle">
    <path d="M3.75 2h3.5a.75.75 0 0 1 0 1.5h-3.5a.25.25 0 0 0-.25.25v8.5c0 .138.112.25.25.25h8.5a.25.25 0 0 0 .25-.25v-3.5a.75.75 0 0 1 1.5 0v3.5A1.75 1.75 0 0 1 12.25 14h-8.5A1.75 1.75 0 0 1 2 12.25v-8.5C2 2.784 2.784 2 3.75 2Zm6.854-1h4.146a.25.25 0 0 1 .25.25v4.146a.25.25 0 0 1-.427.177L13.03 4.03 9.28 7.78a.751.751 0 0 1-1.042-.018.751.751 0 0 1-.018-1.042l3.75-3.75-1.543-1.543A.25.25 0 0 1 10.604 1Z"></path>
</svg>
</a></li>
<!-- END app/components/site/header_dropdown_item_component.rb -->
                <!-- BEGIN app/components/site/header_dropdown_item_component.rb --><li>
  <a class="HeaderMenu-dropdown-link lh-condensed d-block no-underline position-relative py-2 Link--secondary" target="_blank" data-analytics-event="{&quot;category&quot;:&quot;Header dropdown (logged out), Product&quot;,&quot;action&quot;:&quot;click to go to Blog&quot;,&quot;label&quot;:&quot;ref_cta:Blog;&quot;}" href="https://github.blog">
      Blog

    <svg aria-hidden="true" height="16" viewBox="0 0 16 16" version="1.1" width="16" data-view-component="true" class="octicon octicon-link-external HeaderMenu-external-icon color-fg-subtle">
    <path d="M3.75 2h3.5a.75.75 0 0 1 0 1.5h-3.5a.25.25 0 0 0-.25.25v8.5c0 .138.112.25.25.25h8.5a.25.25 0 0 0 .25-.25v-3.5a.75.75 0 0 1 1.5 0v3.5A1.75 1.75 0 0 1 12.25 14h-8.5A1.75 1.75 0 0 1 2 12.25v-8.5C2 2.784 2.784 2 3.75 2Zm6.854-1h4.146a.25.25 0 0 1 .25.25v4.146a.25.25 0 0 1-.427.177L13.03 4.03 9.28 7.78a.751.751 0 0 1-1.042-.018.751.751 0 0 1-.018-1.042l3.75-3.75-1.543-1.543A.25.25 0 0 1 10.604 1Z"></path>
</svg>
</a></li>
<!-- END app/components/site/header_dropdown_item_component.rb -->
            </ul>
          </div>
      </div>
</li>


                <li class="HeaderMenu-item position-relative flex-wrap flex-justify-between flex-items-center d-block d-lg-flex flex-lg-nowrap flex-lg-items-center js-details-container js-header-menu-item">
      <button type="button" class="HeaderMenu-link border-0 width-full width-lg-auto px-0 px-lg-2 py-3 py-lg-2 no-wrap d-flex flex-items-center flex-justify-between js-details-target" aria-expanded="false">
        Solutions
        <svg opacity="0.5" aria-hidden="true" height="16" viewBox="0 0 16 16" version="1.1" width="16" data-view-component="true" class="octicon octicon-chevron-down HeaderMenu-icon ml-1">
    <path d="M12.78 5.22a.749.749 0 0 1 0 1.06l-4.25 4.25a.749.749 0 0 1-1.06 0L3.22 6.28a.749.749 0 1 1 1.06-1.06L8 8.939l3.72-3.719a.749.749 0 0 1 1.06 0Z"></path>
</svg>
      </button>
      <div class="HeaderMenu-dropdown dropdown-menu rounded m-0 p-0 py-2 py-lg-4 position-relative position-lg-absolute left-0 left-lg-n3 px-lg-4">
          <div class="border-bottom pb-3 mb-3">
              <span class="d-block h4 color-fg-default my-1" id="solutions-for-heading">For</span>
            <ul class="list-style-none f5" aria-labelledby="solutions-for-heading">
                <li>
  <a class="HeaderMenu-dropdown-link lh-condensed d-block no-underline position-relative py-2 Link--secondary" data-analytics-event="{&quot;category&quot;:&quot;Header dropdown (logged out), Solutions&quot;,&quot;action&quot;:&quot;click to go to Enterprise&quot;,&quot;label&quot;:&quot;ref_cta:Enterprise;&quot;}" href="https://github.com/enterprise">
      Enterprise

    
</a></li>

                <li>
  <a class="HeaderMenu-dropdown-link lh-condensed d-block no-underline position-relative py-2 Link--secondary" data-analytics-event="{&quot;category&quot;:&quot;Header dropdown (logged out), Solutions&quot;,&quot;action&quot;:&quot;click to go to Teams&quot;,&quot;label&quot;:&quot;ref_cta:Teams;&quot;}" href="https://github.com/team">
      Teams

    
</a></li>

                <li>
  <a class="HeaderMenu-dropdown-link lh-condensed d-block no-underline position-relative py-2 Link--secondary" data-analytics-event="{&quot;category&quot;:&quot;Header dropdown (logged out), Solutions&quot;,&quot;action&quot;:&quot;click to go to Startups&quot;,&quot;label&quot;:&quot;ref_cta:Startups;&quot;}" href="https://github.com/enterprise/startups">
      Startups

    
</a></li>

                <li>
  <a class="HeaderMenu-dropdown-link lh-condensed d-block no-underline position-relative py-2 Link--secondary" target="_blank" data-analytics-event="{&quot;category&quot;:&quot;Header dropdown (logged out), Solutions&quot;,&quot;action&quot;:&quot;click to go to Education&quot;,&quot;label&quot;:&quot;ref_cta:Education;&quot;}" href="https://education.github.com">
      Education

    <svg aria-hidden="true" height="16" viewBox="0 0 16 16" version="1.1" width="16" data-view-component="true" class="octicon octicon-link-external HeaderMenu-external-icon color-fg-subtle">
    <path d="M3.75 2h3.5a.75.75 0 0 1 0 1.5h-3.5a.25.25 0 0 0-.25.25v8.5c0 .138.112.25.25.25h8.5a.25.25 0 0 0 .25-.25v-3.5a.75.75 0 0 1 1.5 0v3.5A1.75 1.75 0 0 1 12.25 14h-8.5A1.75 1.75 0 0 1 2 12.25v-8.5C2 2.784 2.784 2 3.75 2Zm6.854-1h4.146a.25.25 0 0 1 .25.25v4.146a.25.25 0 0 1-.427.177L13.03 4.03 9.28 7.78a.751.751 0 0 1-1.042-.018.751.751 0 0 1-.018-1.042l3.75-3.75-1.543-1.543A.25.25 0 0 1 10.604 1Z"></path>
</svg>
</a></li>

            </ul>
          </div>
          <div class="border-bottom pb-3 mb-3">
              <span class="d-block h4 color-fg-default my-1" id="solutions-by-solution-heading">By Solution</span>
            <ul class="list-style-none f5" aria-labelledby="solutions-by-solution-heading">
                <li>
  <a class="HeaderMenu-dropdown-link lh-condensed d-block no-underline position-relative py-2 Link--secondary" data-analytics-event="{&quot;category&quot;:&quot;Header dropdown (logged out), Solutions&quot;,&quot;action&quot;:&quot;click to go to CI/CD &amp;amp; Automation&quot;,&quot;label&quot;:&quot;ref_cta:CI/CD &amp;amp; Automation;&quot;}" href="https://github.com/solutions/ci-cd">
      CI/CD &amp; Automation

    
</a></li>

                <li>
  <a class="HeaderMenu-dropdown-link lh-condensed d-block no-underline position-relative py-2 Link--secondary" data-analytics-event="{&quot;category&quot;:&quot;Header dropdown (logged out), Solutions&quot;,&quot;action&quot;:&quot;click to go to DevOps&quot;,&quot;label&quot;:&quot;ref_cta:DevOps;&quot;}" href="https://github.com/solutions/devops">
      DevOps

    
</a></li>

                <li>
  <a class="HeaderMenu-dropdown-link lh-condensed d-block no-underline position-relative py-2 Link--secondary" target="_blank" data-analytics-event="{&quot;category&quot;:&quot;Header dropdown (logged out), Solutions&quot;,&quot;action&quot;:&quot;click to go to DevSecOps&quot;,&quot;label&quot;:&quot;ref_cta:DevSecOps;&quot;}" href="https://resources.github.com/devops/fundamentals/devsecops">
      DevSecOps

    <svg aria-hidden="true" height="16" viewBox="0 0 16 16" version="1.1" width="16" data-view-component="true" class="octicon octicon-link-external HeaderMenu-external-icon color-fg-subtle">
    <path d="M3.75 2h3.5a.75.75 0 0 1 0 1.5h-3.5a.25.25 0 0 0-.25.25v8.5c0 .138.112.25.25.25h8.5a.25.25 0 0 0 .25-.25v-3.5a.75.75 0 0 1 1.5 0v3.5A1.75 1.75 0 0 1 12.25 14h-8.5A1.75 1.75 0 0 1 2 12.25v-8.5C2 2.784 2.784 2 3.75 2Zm6.854-1h4.146a.25.25 0 0 1 .25.25v4.146a.25.25 0 0 1-.427.177L13.03 4.03 9.28 7.78a.751.751 0 0 1-1.042-.018.751.751 0 0 1-.018-1.042l3.75-3.75-1.543-1.543A.25.25 0 0 1 10.604 1Z"></path>
</svg>
</a></li>

            </ul>
          </div>
          <div class="">
              <span class="d-block h4 color-fg-default my-1" id="solutions-resources-heading">Resources</span>
            <ul class="list-style-none f5" aria-labelledby="solutions-resources-heading">
                <li>
  <a class="HeaderMenu-dropdown-link lh-condensed d-block no-underline position-relative py-2 Link--secondary" target="_blank" data-analytics-event="{&quot;category&quot;:&quot;Header dropdown (logged out), Solutions&quot;,&quot;action&quot;:&quot;click to go to Learning Pathways&quot;,&quot;label&quot;:&quot;ref_cta:Learning Pathways;&quot;}" href="https://resources.github.com/learn/pathways">
      Learning Pathways

    <svg aria-hidden="true" height="16" viewBox="0 0 16 16" version="1.1" width="16" data-view-component="true" class="octicon octicon-link-external HeaderMenu-external-icon color-fg-subtle">
    <path d="M3.75 2h3.5a.75.75 0 0 1 0 1.5h-3.5a.25.25 0 0 0-.25.25v8.5c0 .138.112.25.25.25h8.5a.25.25 0 0 0 .25-.25v-3.5a.75.75 0 0 1 1.5 0v3.5A1.75 1.75 0 0 1 12.25 14h-8.5A1.75 1.75 0 0 1 2 12.25v-8.5C2 2.784 2.784 2 3.75 2Zm6.854-1h4.146a.25.25 0 0 1 .25.25v4.146a.25.25 0 0 1-.427.177L13.03 4.03 9.28 7.78a.751.751 0 0 1-1.042-.018.751.751 0 0 1-.018-1.042l3.75-3.75-1.543-1.543A.25.25 0 0 1 10.604 1Z"></path>
</svg>
</a></li>

                <li>
  <a class="HeaderMenu-dropdown-link lh-condensed d-block no-underline position-relative py-2 Link--secondary" target="_blank" data-analytics-event="{&quot;category&quot;:&quot;Header dropdown (logged out), Solutions&quot;,&quot;action&quot;:&quot;click to go to White papers, Ebooks, Webinars&quot;,&quot;label&quot;:&quot;ref_cta:White papers, Ebooks, Webinars;&quot;}" href="https://resources.github.com">
      White papers, Ebooks, Webinars

    <svg aria-hidden="true" height="16" viewBox="0 0 16 16" version="1.1" width="16" data-view-component="true" class="octicon octicon-link-external HeaderMenu-external-icon color-fg-subtle">
    <path d="M3.75 2h3.5a.75.75 0 0 1 0 1.5h-3.5a.25.25 0 0 0-.25.25v8.5c0 .138.112.25.25.25h8.5a.25.25 0 0 0 .25-.25v-3.5a.75.75 0 0 1 1.5 0v3.5A1.75 1.75 0 0 1 12.25 14h-8.5A1.75 1.75 0 0 1 2 12.25v-8.5C2 2.784 2.784 2 3.75 2Zm6.854-1h4.146a.25.25 0 0 1 .25.25v4.146a.25.25 0 0 1-.427.177L13.03 4.03 9.28 7.78a.751.751 0 0 1-1.042-.018.751.751 0 0 1-.018-1.042l3.75-3.75-1.543-1.543A.25.25 0 0 1 10.604 1Z"></path>
</svg>
</a></li>

                <li>
  <a class="HeaderMenu-dropdown-link lh-condensed d-block no-underline position-relative py-2 Link--secondary" data-analytics-event="{&quot;category&quot;:&quot;Header dropdown (logged out), Solutions&quot;,&quot;action&quot;:&quot;click to go to Customer Stories&quot;,&quot;label&quot;:&quot;ref_cta:Customer Stories;&quot;}" href="https://github.com/customer-stories">
      Customer Stories

    
</a></li>

                <li>
  <a class="HeaderMenu-dropdown-link lh-condensed d-block no-underline position-relative py-2 Link--secondary" target="_blank" data-analytics-event="{&quot;category&quot;:&quot;Header dropdown (logged out), Solutions&quot;,&quot;action&quot;:&quot;click to go to Partners&quot;,&quot;label&quot;:&quot;ref_cta:Partners;&quot;}" href="https://partner.github.com">
      Partners

    <svg aria-hidden="true" height="16" viewBox="0 0 16 16" version="1.1" width="16" data-view-component="true" class="octicon octicon-link-external HeaderMenu-external-icon color-fg-subtle">
    <path d="M3.75 2h3.5a.75.75 0 0 1 0 1.5h-3.5a.25.25 0 0 0-.25.25v8.5c0 .138.112.25.25.25h8.5a.25.25 0 0 0 .25-.25v-3.5a.75.75 0 0 1 1.5 0v3.5A1.75 1.75 0 0 1 12.25 14h-8.5A1.75 1.75 0 0 1 2 12.25v-8.5C2 2.784 2.784 2 3.75 2Zm6.854-1h4.146a.25.25 0 0 1 .25.25v4.146a.25.25 0 0 1-.427.177L13.03 4.03 9.28 7.78a.751.751 0 0 1-1.042-.018.751.751 0 0 1-.018-1.042l3.75-3.75-1.543-1.543A.25.25 0 0 1 10.604 1Z"></path>
</svg>
</a></li>

            </ul>
          </div>
      </div>
</li>


                <li class="HeaderMenu-item position-relative flex-wrap flex-justify-between flex-items-center d-block d-lg-flex flex-lg-nowrap flex-lg-items-center js-details-container js-header-menu-item">
      <button type="button" class="HeaderMenu-link border-0 width-full width-lg-auto px-0 px-lg-2 py-3 py-lg-2 no-wrap d-flex flex-items-center flex-justify-between js-details-target" aria-expanded="false">
        Open Source
        <svg opacity="0.5" aria-hidden="true" height="16" viewBox="0 0 16 16" version="1.1" width="16" data-view-component="true" class="octicon octicon-chevron-down HeaderMenu-icon ml-1">
    <path d="M12.78 5.22a.749.749 0 0 1 0 1.06l-4.25 4.25a.749.749 0 0 1-1.06 0L3.22 6.28a.749.749 0 1 1 1.06-1.06L8 8.939l3.72-3.719a.749.749 0 0 1 1.06 0Z"></path>
</svg>
      </button>
      <div class="HeaderMenu-dropdown dropdown-menu rounded m-0 p-0 py-2 py-lg-4 position-relative position-lg-absolute left-0 left-lg-n3 px-lg-4">
          <div class="border-bottom pb-3 mb-3">
            <ul class="list-style-none f5" >
                <li>
  <a class="HeaderMenu-dropdown-link lh-condensed d-block no-underline position-relative py-2 Link--secondary d-flex flex-items-center" data-analytics-event="{&quot;category&quot;:&quot;Header dropdown (logged out), Open Source&quot;,&quot;action&quot;:&quot;click to go to GitHub Sponsors&quot;,&quot;label&quot;:&quot;ref_cta:GitHub Sponsors;&quot;}" href="/sponsors">
      
      <div>
        <div class="color-fg-default h4">GitHub Sponsors</div>
        Fund open source developers
      </div>

    
</a></li>

            </ul>
          </div>
          <div class="border-bottom pb-3 mb-3">
            <ul class="list-style-none f5" >
                <li>
  <a class="HeaderMenu-dropdown-link lh-condensed d-block no-underline position-relative py-2 Link--secondary d-flex flex-items-center" data-analytics-event="{&quot;category&quot;:&quot;Header dropdown (logged out), Open Source&quot;,&quot;action&quot;:&quot;click to go to The ReadME Project&quot;,&quot;label&quot;:&quot;ref_cta:The ReadME Project;&quot;}" href="https://github.com/readme">
      
      <div>
        <div class="color-fg-default h4">The ReadME Project</div>
        GitHub community articles
      </div>

    
</a></li>

            </ul>
          </div>
          <div class="">
              <span class="d-block h4 color-fg-default my-1" id="open-source-repositories-heading">Repositories</span>
            <ul class="list-style-none f5" aria-labelledby="open-source-repositories-heading">
                <li>
  <a class="HeaderMenu-dropdown-link lh-condensed d-block no-underline position-relative py-2 Link--secondary" data-analytics-event="{&quot;category&quot;:&quot;Header dropdown (logged out), Open Source&quot;,&quot;action&quot;:&quot;click to go to Topics&quot;,&quot;label&quot;:&quot;ref_cta:Topics;&quot;}" href="https://github.com/topics">
      Topics

    
</a></li>

                <li>
  <a class="HeaderMenu-dropdown-link lh-condensed d-block no-underline position-relative py-2 Link--secondary" data-analytics-event="{&quot;category&quot;:&quot;Header dropdown (logged out), Open Source&quot;,&quot;action&quot;:&quot;click to go to Trending&quot;,&quot;label&quot;:&quot;ref_cta:Trending;&quot;}" href="https://github.com/trending">
      Trending

    
</a></li>

                <li>
  <a class="HeaderMenu-dropdown-link lh-condensed d-block no-underline position-relative py-2 Link--secondary" data-analytics-event="{&quot;category&quot;:&quot;Header dropdown (logged out), Open Source&quot;,&quot;action&quot;:&quot;click to go to Collections&quot;,&quot;label&quot;:&quot;ref_cta:Collections;&quot;}" href="https://github.com/collections">
      Collections

    
</a></li>

            </ul>
          </div>
      </div>
</li>


                <li class="HeaderMenu-item position-relative flex-wrap flex-justify-between flex-items-center d-block d-lg-flex flex-lg-nowrap flex-lg-items-center js-details-container js-header-menu-item">
      <button type="button" class="HeaderMenu-link border-0 width-full width-lg-auto px-0 px-lg-2 py-3 py-lg-2 no-wrap d-flex flex-items-center flex-justify-between js-details-target" aria-expanded="false">
        Enterprise
        <svg opacity="0.5" aria-hidden="true" height="16" viewBox="0 0 16 16" version="1.1" width="16" data-view-component="true" class="octicon octicon-chevron-down HeaderMenu-icon ml-1">
    <path d="M12.78 5.22a.749.749 0 0 1 0 1.06l-4.25 4.25a.749.749 0 0 1-1.06 0L3.22 6.28a.749.749 0 1 1 1.06-1.06L8 8.939l3.72-3.719a.749.749 0 0 1 1.06 0Z"></path>
</svg>
      </button>
      <div class="HeaderMenu-dropdown dropdown-menu rounded m-0 p-0 py-2 py-lg-4 position-relative position-lg-absolute left-0 left-lg-n3 px-lg-4">
          <div class="border-bottom pb-3 mb-3">
            <ul class="list-style-none f5" >
                <!-- BEGIN app/components/site/header_dropdown_item_component.rb --><li>
  <a class="HeaderMenu-dropdown-link lh-condensed d-block no-underline position-relative py-2 Link--secondary d-flex flex-items-center" data-analytics-event="{&quot;category&quot;:&quot;Header dropdown (logged out), Enterprise&quot;,&quot;action&quot;:&quot;click to go to Enterprise platform&quot;,&quot;label&quot;:&quot;ref_cta:Enterprise platform;&quot;}" href="/enterprise">
      <svg aria-hidden="true" height="24" viewBox="0 0 24 24" version="1.1" width="24" data-view-component="true" class="octicon octicon-stack color-fg-subtle mr-3">
    <path d="M11.063 1.456a1.749 1.749 0 0 1 1.874 0l8.383 5.316a1.751 1.751 0 0 1 0 2.956l-8.383 5.316a1.749 1.749 0 0 1-1.874 0L2.68 9.728a1.751 1.751 0 0 1 0-2.956Zm1.071 1.267a.25.25 0 0 0-.268 0L3.483 8.039a.25.25 0 0 0 0 .422l8.383 5.316a.25.25 0 0 0 .268 0l8.383-5.316a.25.25 0 0 0 0-.422Z"></path><path d="M1.867 12.324a.75.75 0 0 1 1.035-.232l8.964 5.685a.25.25 0 0 0 .268 0l8.964-5.685a.75.75 0 0 1 .804 1.267l-8.965 5.685a1.749 1.749 0 0 1-1.874 0l-8.965-5.685a.75.75 0 0 1-.231-1.035Z"></path><path d="M1.867 16.324a.75.75 0 0 1 1.035-.232l8.964 5.685a.25.25 0 0 0 .268 0l8.964-5.685a.75.75 0 0 1 .804 1.267l-8.965 5.685a1.749 1.749 0 0 1-1.874 0l-8.965-5.685a.75.75 0 0 1-.231-1.035Z"></path>
</svg>
      <div>
        <div class="color-fg-default h4">Enterprise platform</div>
        AI-powered developer platform
      </div>

    
</a></li>
<!-- END app/components/site/header_dropdown_item_component.rb -->
            </ul>
          </div>
          <div class="">
              <span class="d-block h4 color-fg-default my-1" id="enterprise-available-add-ons-heading">Available add-ons</span>
            <ul class="list-style-none f5" aria-labelledby="enterprise-available-add-ons-heading">
                <!-- BEGIN app/components/site/header_dropdown_item_component.rb --><li>
  <a class="HeaderMenu-dropdown-link lh-condensed d-block no-underline position-relative py-2 Link--secondary d-flex flex-items-center pb-lg-3" data-analytics-event="{&quot;category&quot;:&quot;Header dropdown (logged out), Enterprise&quot;,&quot;action&quot;:&quot;click to go to Advanced Security&quot;,&quot;label&quot;:&quot;ref_cta:Advanced Security;&quot;}" href="https://github.com/enterprise/advanced-security">
      <svg aria-hidden="true" height="24" viewBox="0 0 24 24" version="1.1" width="24" data-view-component="true" class="octicon octicon-shield-check color-fg-subtle mr-3">
    <path d="M16.53 9.78a.75.75 0 0 0-1.06-1.06L11 13.19l-1.97-1.97a.75.75 0 0 0-1.06 1.06l2.5 2.5a.75.75 0 0 0 1.06 0l5-5Z"></path><path d="m12.54.637 8.25 2.675A1.75 1.75 0 0 1 22 4.976V10c0 6.19-3.771 10.704-9.401 12.83a1.704 1.704 0 0 1-1.198 0C5.77 20.705 2 16.19 2 10V4.976c0-.758.489-1.43 1.21-1.664L11.46.637a1.748 1.748 0 0 1 1.08 0Zm-.617 1.426-8.25 2.676a.249.249 0 0 0-.173.237V10c0 5.46 3.28 9.483 8.43 11.426a.199.199 0 0 0 .14 0C17.22 19.483 20.5 15.461 20.5 10V4.976a.25.25 0 0 0-.173-.237l-8.25-2.676a.253.253 0 0 0-.154 0Z"></path>
</svg>
      <div>
        <div class="color-fg-default h4">Advanced Security</div>
        Enterprise-grade security features
      </div>

    
</a></li>
<!-- END app/components/site/header_dropdown_item_component.rb -->
                <!-- BEGIN app/components/site/header_dropdown_item_component.rb --><li>
  <a class="HeaderMenu-dropdown-link lh-condensed d-block no-underline position-relative py-2 Link--secondary d-flex flex-items-center pb-lg-3" data-analytics-event="{&quot;category&quot;:&quot;Header dropdown (logged out), Enterprise&quot;,&quot;action&quot;:&quot;click to go to GitHub Copilot&quot;,&quot;label&quot;:&quot;ref_cta:GitHub Copilot;&quot;}" href="/features/copilot#enterprise">
      <svg aria-hidden="true" height="24" viewBox="0 0 24 24" version="1.1" width="24" data-view-component="true" class="octicon octicon-copilot color-fg-subtle mr-3">
    <path d="M23.922 16.992c-.861 1.495-5.859 5.023-11.922 5.023-6.063 0-11.061-3.528-11.922-5.023A.641.641 0 0 1 0 16.736v-2.869a.841.841 0 0 1 .053-.22c.372-.935 1.347-2.292 2.605-2.656.167-.429.414-1.055.644-1.517a10.195 10.195 0 0 1-.052-1.086c0-1.331.282-2.499 1.132-3.368.397-.406.89-.717 1.474-.952 1.399-1.136 3.392-2.093 6.122-2.093 2.731 0 4.767.957 6.166 2.093.584.235 1.077.546 1.474.952.85.869 1.132 2.037 1.132 3.368 0 .368-.014.733-.052 1.086.23.462.477 1.088.644 1.517 1.258.364 2.233 1.721 2.605 2.656a.832.832 0 0 1 .053.22v2.869a.641.641 0 0 1-.078.256ZM12.172 11h-.344a4.323 4.323 0 0 1-.355.508C10.703 12.455 9.555 13 7.965 13c-1.725 0-2.989-.359-3.782-1.259a2.005 2.005 0 0 1-.085-.104L4 11.741v6.585c1.435.779 4.514 2.179 8 2.179 3.486 0 6.565-1.4 8-2.179v-6.585l-.098-.104s-.033.045-.085.104c-.793.9-2.057 1.259-3.782 1.259-1.59 0-2.738-.545-3.508-1.492a4.323 4.323 0 0 1-.355-.508h-.016.016Zm.641-2.935c.136 1.057.403 1.913.878 2.497.442.544 1.134.938 2.344.938 1.573 0 2.292-.337 2.657-.751.384-.435.558-1.15.558-2.361 0-1.14-.243-1.847-.705-2.319-.477-.488-1.319-.862-2.824-1.025-1.487-.161-2.192.138-2.533.529-.269.307-.437.808-.438 1.578v.021c0 .265.021.562.063.893Zm-1.626 0c.042-.331.063-.628.063-.894v-.02c-.001-.77-.169-1.271-.438-1.578-.341-.391-1.046-.69-2.533-.529-1.505.163-2.347.537-2.824 1.025-.462.472-.705 1.179-.705 2.319 0 1.211.175 1.926.558 2.361.365.414 1.084.751 2.657.751 1.21 0 1.902-.394 2.344-.938.475-.584.742-1.44.878-2.497Z"></path><path d="M14.5 14.25a1 1 0 0 1 1 1v2a1 1 0 0 1-2 0v-2a1 1 0 0 1 1-1Zm-5 0a1 1 0 0 1 1 1v2a1 1 0 0 1-2 0v-2a1 1 0 0 1 1-1Z"></path>
</svg>
      <div>
        <div class="color-fg-default h4">GitHub Copilot</div>
        Enterprise-grade AI features
      </div>

    
</a></li>
<!-- END app/components/site/header_dropdown_item_component.rb -->
                <!-- BEGIN app/components/site/header_dropdown_item_component.rb --><li>
  <a class="HeaderMenu-dropdown-link lh-condensed d-block no-underline position-relative py-2 Link--secondary d-flex flex-items-center" data-analytics-event="{&quot;category&quot;:&quot;Header dropdown (logged out), Enterprise&quot;,&quot;action&quot;:&quot;click to go to Premium Support&quot;,&quot;label&quot;:&quot;ref_cta:Premium Support;&quot;}" href="/premium-support">
      <svg aria-hidden="true" height="24" viewBox="0 0 24 24" version="1.1" width="24" data-view-component="true" class="octicon octicon-comment-discussion color-fg-subtle mr-3">
    <path d="M1.75 1h12.5c.966 0 1.75.784 1.75 1.75v9.5A1.75 1.75 0 0 1 14.25 14H8.061l-2.574 2.573A1.458 1.458 0 0 1 3 15.543V14H1.75A1.75 1.75 0 0 1 0 12.25v-9.5C0 1.784.784 1 1.75 1ZM1.5 2.75v9.5c0 .138.112.25.25.25h2a.75.75 0 0 1 .75.75v2.19l2.72-2.72a.749.749 0 0 1 .53-.22h6.5a.25.25 0 0 0 .25-.25v-9.5a.25.25 0 0 0-.25-.25H1.75a.25.25 0 0 0-.25.25Z"></path><path d="M22.5 8.75a.25.25 0 0 0-.25-.25h-3.5a.75.75 0 0 1 0-1.5h3.5c.966 0 1.75.784 1.75 1.75v9.5A1.75 1.75 0 0 1 22.25 20H21v1.543a1.457 1.457 0 0 1-2.487 1.03L15.939 20H10.75A1.75 1.75 0 0 1 9 18.25v-1.465a.75.75 0 0 1 1.5 0v1.465c0 .138.112.25.25.25h5.5a.75.75 0 0 1 .53.22l2.72 2.72v-2.19a.75.75 0 0 1 .75-.75h2a.25.25 0 0 0 .25-.25v-9.5Z"></path>
</svg>
      <div>
        <div class="color-fg-default h4">Premium Support</div>
        Enterprise-grade 24/7 support
      </div>

    
</a></li>
<!-- END app/components/site/header_dropdown_item_component.rb -->
            </ul>
          </div>
      </div>
</li>


                <li class="HeaderMenu-item position-relative flex-wrap flex-justify-between flex-items-center d-block d-lg-flex flex-lg-nowrap flex-lg-items-center js-details-container js-header-menu-item">
    <a class="HeaderMenu-link no-underline px-0 px-lg-2 py-3 py-lg-2 d-block d-lg-inline-block" data-analytics-event="{&quot;category&quot;:&quot;Header menu top item (logged out)&quot;,&quot;action&quot;:&quot;click to go to Pricing&quot;,&quot;label&quot;:&quot;ref_cta:Pricing;&quot;}" href="https://github.com/pricing">Pricing</a>
</li>

            </ul>
          </nav>

        <div class="d-lg-flex flex-items-center mb-3 mb-lg-0 text-center text-lg-left ml-3" style="">
                


<qbsearch-input class="search-input" data-scope="repo:ee16a/public_hw_notebooks" data-custom-scopes-path="/search/custom_scopes" data-delete-custom-scopes-csrf="FGU_tKTUt8mqcn0lWi_USIVlkxZ2GXNh3RMN10Bq-9EcWc6OjNnuWMqbPahpg5XUILNDeA28VhKYaOYR1K7xVA" data-max-custom-scopes="10" data-header-redesign-enabled="false" data-initial-value="" data-blackbird-suggestions-path="/search/suggestions" data-jump-to-suggestions-path="/_graphql/GetSuggestedNavigationDestinations" data-current-repository="ee16a/public_hw_notebooks" data-current-org="ee16a" data-current-owner="" data-logged-in="false" data-copilot-chat-enabled="false" data-blackbird-indexed-repo-csrf="<esi:include src=&quot;/_esi/rails_csrf_token_form_hidden?r=bJn%2Bi8%2FCeF3%2F0kwq80Zq4K%2Bb%2BbGVN2kasLG2ihjd%2FOQaC%2FHSRI9oWdhktgQ07FwUVgp%2F3xaEfL9h12Be%2Bk4lxm3J%2FsM65PipYtejfXFSKUpII5jvCjDNvpfscvuVgUSbfQB4wTlj9%2Bj4p4H9%2FFfMOuygqjYzS8N47aLLiZxgmbNgvjuGq1QWFHEGEVrz6Ntn1ourfWLg3BRA5b0Lpssvx%2FoX8VKPBxyg3Q682y4ULwGyTnIsSvoUAddvlTI0pppYnCG5Hi0fnDEvj%2Fxio%2FZxVL00CB7%2FYSS%2BBV2gS%2F1qO90Ej8Hl4oA1jQoJyiTAtPZ7%2BsPde5A8PaassqPFqgifNpBES2bPcKlmlV4u37B9M0MNKWFT4AFp4OiB9ePINIZNjrde%2BKasaLuquE6eaUVcZUW1C8RLP24RTJ%2FPH4oYhqFshKATdzzHicrrwwPA4ul5I3XrvzqwlBQyw0G99ECU77rQ5Sm3BRaTqqMqIZhKVHeiTcNH7IqWwnvR9FdjyXLf0Gzf%2FfW7UHp655u3SIsaFZi4vP1ffdPQcyhaYpDB%2BsCeowFMXfc199nFZ9BM7u8G0dKLu1yBWikczVVoNO2wFg5bxkfxQya4S2yeHaqb6wMIa%2BjNP0R6v8Wm--0me81aK%2FFYuCcl%2BZ--pXmHhaO3h%2BANIIVIfcTFzQ%3D%3D&quot; />">
  <div
    class="search-input-container search-with-dialog position-relative d-flex flex-row flex-items-center mr-4 rounded"
    data-action="click:qbsearch-input#searchInputContainerClicked"
  >
      <button
        type="button"
        class="header-search-button placeholder  input-button form-control d-flex flex-1 flex-self-stretch flex-items-center no-wrap width-full py-0 pl-2 pr-0 text-left border-0 box-shadow-none"
        data-target="qbsearch-input.inputButton"
        placeholder="Search or jump to..."
        data-hotkey=s,/
        autocapitalize="off"
        data-action="click:qbsearch-input#handleExpand"
      >
        <div class="mr-2 color-fg-muted">
          <svg aria-hidden="true" height="16" viewBox="0 0 16 16" version="1.1" width="16" data-view-component="true" class="octicon octicon-search">
    <path d="M10.68 11.74a6 6 0 0 1-7.922-8.982 6 6 0 0 1 8.982 7.922l3.04 3.04a.749.749 0 0 1-.326 1.275.749.749 0 0 1-.734-.215ZM11.5 7a4.499 4.499 0 1 0-8.997 0A4.499 4.499 0 0 0 11.5 7Z"></path>
</svg>
        </div>
        <span class="flex-1" data-target="qbsearch-input.inputButtonText">Search or jump to...</span>
          <div class="d-flex" data-target="qbsearch-input.hotkeyIndicator">
            <svg xmlns="http://www.w3.org/2000/svg" width="22" height="20" aria-hidden="true" class="mr-1"><path fill="none" stroke="#979A9C" opacity=".4" d="M3.5.5h12c1.7 0 3 1.3 3 3v13c0 1.7-1.3 3-3 3h-12c-1.7 0-3-1.3-3-3v-13c0-1.7 1.3-3 3-3z"></path><path fill="#979A9C" d="M11.8 6L8 15.1h-.9L10.8 6h1z"></path></svg>

          </div>
      </button>

    <input type="hidden" name="type" class="js-site-search-type-field">

    
<div class="Overlay--hidden " data-modal-dialog-overlay>
  <modal-dialog data-action="close:qbsearch-input#handleClose cancel:qbsearch-input#handleClose" data-target="qbsearch-input.searchSuggestionsDialog" role="dialog" id="search-suggestions-dialog" aria-modal="true" aria-labelledby="search-suggestions-dialog-header" data-view-component="true" class="Overlay Overlay--width-large Overlay--height-auto">
      <h1 id="search-suggestions-dialog-header" class="sr-only">Search code, repositories, users, issues, pull requests...</h1>
    <div class="Overlay-body Overlay-body--paddingNone">
      
          <div data-view-component="true">        <div class="search-suggestions position-fixed width-full color-shadow-large border color-fg-default color-bg-default overflow-hidden d-flex flex-column query-builder-container"
          style="border-radius: 12px;"
          data-target="qbsearch-input.queryBuilderContainer"
          hidden
        >
          <!-- '"` --><!-- </textarea></xmp> --></option></form><form id="query-builder-test-form" action="" accept-charset="UTF-8" method="get">
  <query-builder data-target="qbsearch-input.queryBuilder" id="query-builder-query-builder-test" data-filter-key=":" data-view-component="true" class="QueryBuilder search-query-builder">
    <div class="FormControl FormControl--fullWidth">
      <label id="query-builder-test-label" for="query-builder-test" class="FormControl-label sr-only">
        Search
      </label>
      <div
        class="QueryBuilder-StyledInput width-fit "
        data-target="query-builder.styledInput"
      >
          <span id="query-builder-test-leadingvisual-wrap" class="FormControl-input-leadingVisualWrap QueryBuilder-leadingVisualWrap">
            <svg aria-hidden="true" height="16" viewBox="0 0 16 16" version="1.1" width="16" data-view-component="true" class="octicon octicon-search FormControl-input-leadingVisual">
    <path d="M10.68 11.74a6 6 0 0 1-7.922-8.982 6 6 0 0 1 8.982 7.922l3.04 3.04a.749.749 0 0 1-.326 1.275.749.749 0 0 1-.734-.215ZM11.5 7a4.499 4.499 0 1 0-8.997 0A4.499 4.499 0 0 0 11.5 7Z"></path>
</svg>
          </span>
        <div data-target="query-builder.styledInputContainer" class="QueryBuilder-StyledInputContainer">
          <div
            aria-hidden="true"
            class="QueryBuilder-StyledInputContent"
            data-target="query-builder.styledInputContent"
          ></div>
          <div class="QueryBuilder-InputWrapper">
            <div aria-hidden="true" class="QueryBuilder-Sizer" data-target="query-builder.sizer"></div>
            <input id="query-builder-test" name="query-builder-test" value="" autocomplete="off" type="text" role="combobox" spellcheck="false" aria-expanded="false" aria-describedby="validation-5af92f75-5fbc-4a3e-b7f6-933e73b4823c" data-target="query-builder.input" data-action="
          input:query-builder#inputChange
          blur:query-builder#inputBlur
          keydown:query-builder#inputKeydown
          focus:query-builder#inputFocus
        " data-view-component="true" class="FormControl-input QueryBuilder-Input FormControl-medium" />
          </div>
        </div>
          <span class="sr-only" id="query-builder-test-clear">Clear</span>
          <button role="button" id="query-builder-test-clear-button" aria-labelledby="query-builder-test-clear query-builder-test-label" data-target="query-builder.clearButton" data-action="
                click:query-builder#clear
                focus:query-builder#clearButtonFocus
                blur:query-builder#clearButtonBlur
              " variant="small" hidden="hidden" type="button" data-view-component="true" class="Button Button--iconOnly Button--invisible Button--medium mr-1 px-2 py-0 d-flex flex-items-center rounded-1 color-fg-muted">  <svg aria-hidden="true" height="16" viewBox="0 0 16 16" version="1.1" width="16" data-view-component="true" class="octicon octicon-x-circle-fill Button-visual">
    <path d="M2.343 13.657A8 8 0 1 1 13.658 2.343 8 8 0 0 1 2.343 13.657ZM6.03 4.97a.751.751 0 0 0-1.042.018.751.751 0 0 0-.018 1.042L6.94 8 4.97 9.97a.749.749 0 0 0 .326 1.275.749.749 0 0 0 .734-.215L8 9.06l1.97 1.97a.749.749 0 0 0 1.275-.326.749.749 0 0 0-.215-.734L9.06 8l1.97-1.97a.749.749 0 0 0-.326-1.275.749.749 0 0 0-.734.215L8 6.94Z"></path>
</svg>
</button>

      </div>
      <template id="search-icon">
  <svg aria-hidden="true" height="16" viewBox="0 0 16 16" version="1.1" width="16" data-view-component="true" class="octicon octicon-search">
    <path d="M10.68 11.74a6 6 0 0 1-7.922-8.982 6 6 0 0 1 8.982 7.922l3.04 3.04a.749.749 0 0 1-.326 1.275.749.749 0 0 1-.734-.215ZM11.5 7a4.499 4.499 0 1 0-8.997 0A4.499 4.499 0 0 0 11.5 7Z"></path>
</svg>
</template>

<template id="code-icon">
  <svg aria-hidden="true" height="16" viewBox="0 0 16 16" version="1.1" width="16" data-view-component="true" class="octicon octicon-code">
    <path d="m11.28 3.22 4.25 4.25a.75.75 0 0 1 0 1.06l-4.25 4.25a.749.749 0 0 1-1.275-.326.749.749 0 0 1 .215-.734L13.94 8l-3.72-3.72a.749.749 0 0 1 .326-1.275.749.749 0 0 1 .734.215Zm-6.56 0a.751.751 0 0 1 1.042.018.751.751 0 0 1 .018 1.042L2.06 8l3.72 3.72a.749.749 0 0 1-.326 1.275.749.749 0 0 1-.734-.215L.47 8.53a.75.75 0 0 1 0-1.06Z"></path>
</svg>
</template>

<template id="file-code-icon">
  <svg aria-hidden="true" height="16" viewBox="0 0 16 16" version="1.1" width="16" data-view-component="true" class="octicon octicon-file-code">
    <path d="M4 1.75C4 .784 4.784 0 5.75 0h5.586c.464 0 .909.184 1.237.513l2.914 2.914c.329.328.513.773.513 1.237v8.586A1.75 1.75 0 0 1 14.25 15h-9a.75.75 0 0 1 0-1.5h9a.25.25 0 0 0 .25-.25V6h-2.75A1.75 1.75 0 0 1 10 4.25V1.5H5.75a.25.25 0 0 0-.25.25v2.5a.75.75 0 0 1-1.5 0Zm1.72 4.97a.75.75 0 0 1 1.06 0l2 2a.75.75 0 0 1 0 1.06l-2 2a.749.749 0 0 1-1.275-.326.749.749 0 0 1 .215-.734l1.47-1.47-1.47-1.47a.75.75 0 0 1 0-1.06ZM3.28 7.78 1.81 9.25l1.47 1.47a.751.751 0 0 1-.018 1.042.751.751 0 0 1-1.042.018l-2-2a.75.75 0 0 1 0-1.06l2-2a.751.751 0 0 1 1.042.018.751.751 0 0 1 .018 1.042Zm8.22-6.218V4.25c0 .138.112.25.25.25h2.688l-.011-.013-2.914-2.914-.013-.011Z"></path>
</svg>
</template>

<template id="history-icon">
  <svg aria-hidden="true" height="16" viewBox="0 0 16 16" version="1.1" width="16" data-view-component="true" class="octicon octicon-history">
    <path d="m.427 1.927 1.215 1.215a8.002 8.002 0 1 1-1.6 5.685.75.75 0 1 1 1.493-.154 6.5 6.5 0 1 0 1.18-4.458l1.358 1.358A.25.25 0 0 1 3.896 6H.25A.25.25 0 0 1 0 5.75V2.104a.25.25 0 0 1 .427-.177ZM7.75 4a.75.75 0 0 1 .75.75v2.992l2.028.812a.75.75 0 0 1-.557 1.392l-2.5-1A.751.751 0 0 1 7 8.25v-3.5A.75.75 0 0 1 7.75 4Z"></path>
</svg>
</template>

<template id="repo-icon">
  <svg aria-hidden="true" height="16" viewBox="0 0 16 16" version="1.1" width="16" data-view-component="true" class="octicon octicon-repo">
    <path d="M2 2.5A2.5 2.5 0 0 1 4.5 0h8.75a.75.75 0 0 1 .75.75v12.5a.75.75 0 0 1-.75.75h-2.5a.75.75 0 0 1 0-1.5h1.75v-2h-8a1 1 0 0 0-.714 1.7.75.75 0 1 1-1.072 1.05A2.495 2.495 0 0 1 2 11.5Zm10.5-1h-8a1 1 0 0 0-1 1v6.708A2.486 2.486 0 0 1 4.5 9h8ZM5 12.25a.25.25 0 0 1 .25-.25h3.5a.25.25 0 0 1 .25.25v3.25a.25.25 0 0 1-.4.2l-1.45-1.087a.249.249 0 0 0-.3 0L5.4 15.7a.25.25 0 0 1-.4-.2Z"></path>
</svg>
</template>

<template id="bookmark-icon">
  <svg aria-hidden="true" height="16" viewBox="0 0 16 16" version="1.1" width="16" data-view-component="true" class="octicon octicon-bookmark">
    <path d="M3 2.75C3 1.784 3.784 1 4.75 1h6.5c.966 0 1.75.784 1.75 1.75v11.5a.75.75 0 0 1-1.227.579L8 11.722l-3.773 3.107A.751.751 0 0 1 3 14.25Zm1.75-.25a.25.25 0 0 0-.25.25v9.91l3.023-2.489a.75.75 0 0 1 .954 0l3.023 2.49V2.75a.25.25 0 0 0-.25-.25Z"></path>
</svg>
</template>

<template id="plus-circle-icon">
  <svg aria-hidden="true" height="16" viewBox="0 0 16 16" version="1.1" width="16" data-view-component="true" class="octicon octicon-plus-circle">
    <path d="M8 0a8 8 0 1 1 0 16A8 8 0 0 1 8 0ZM1.5 8a6.5 6.5 0 1 0 13 0 6.5 6.5 0 0 0-13 0Zm7.25-3.25v2.5h2.5a.75.75 0 0 1 0 1.5h-2.5v2.5a.75.75 0 0 1-1.5 0v-2.5h-2.5a.75.75 0 0 1 0-1.5h2.5v-2.5a.75.75 0 0 1 1.5 0Z"></path>
</svg>
</template>

<template id="circle-icon">
  <svg aria-hidden="true" height="16" viewBox="0 0 16 16" version="1.1" width="16" data-view-component="true" class="octicon octicon-dot-fill">
    <path d="M8 4a4 4 0 1 1 0 8 4 4 0 0 1 0-8Z"></path>
</svg>
</template>

<template id="trash-icon">
  <svg aria-hidden="true" height="16" viewBox="0 0 16 16" version="1.1" width="16" data-view-component="true" class="octicon octicon-trash">
    <path d="M11 1.75V3h2.25a.75.75 0 0 1 0 1.5H2.75a.75.75 0 0 1 0-1.5H5V1.75C5 .784 5.784 0 6.75 0h2.5C10.216 0 11 .784 11 1.75ZM4.496 6.675l.66 6.6a.25.25 0 0 0 .249.225h5.19a.25.25 0 0 0 .249-.225l.66-6.6a.75.75 0 0 1 1.492.149l-.66 6.6A1.748 1.748 0 0 1 10.595 15h-5.19a1.75 1.75 0 0 1-1.741-1.575l-.66-6.6a.75.75 0 1 1 1.492-.15ZM6.5 1.75V3h3V1.75a.25.25 0 0 0-.25-.25h-2.5a.25.25 0 0 0-.25.25Z"></path>
</svg>
</template>

<template id="team-icon">
  <svg aria-hidden="true" height="16" viewBox="0 0 16 16" version="1.1" width="16" data-view-component="true" class="octicon octicon-people">
    <path d="M2 5.5a3.5 3.5 0 1 1 5.898 2.549 5.508 5.508 0 0 1 3.034 4.084.75.75 0 1 1-1.482.235 4 4 0 0 0-7.9 0 .75.75 0 0 1-1.482-.236A5.507 5.507 0 0 1 3.102 8.05 3.493 3.493 0 0 1 2 5.5ZM11 4a3.001 3.001 0 0 1 2.22 5.018 5.01 5.01 0 0 1 2.56 3.012.749.749 0 0 1-.885.954.752.752 0 0 1-.549-.514 3.507 3.507 0 0 0-2.522-2.372.75.75 0 0 1-.574-.73v-.352a.75.75 0 0 1 .416-.672A1.5 1.5 0 0 0 11 5.5.75.75 0 0 1 11 4Zm-5.5-.5a2 2 0 1 0-.001 3.999A2 2 0 0 0 5.5 3.5Z"></path>
</svg>
</template>

<template id="project-icon">
  <svg aria-hidden="true" height="16" viewBox="0 0 16 16" version="1.1" width="16" data-view-component="true" class="octicon octicon-project">
    <path d="M1.75 0h12.5C15.216 0 16 .784 16 1.75v12.5A1.75 1.75 0 0 1 14.25 16H1.75A1.75 1.75 0 0 1 0 14.25V1.75C0 .784.784 0 1.75 0ZM1.5 1.75v12.5c0 .138.112.25.25.25h12.5a.25.25 0 0 0 .25-.25V1.75a.25.25 0 0 0-.25-.25H1.75a.25.25 0 0 0-.25.25ZM11.75 3a.75.75 0 0 1 .75.75v7.5a.75.75 0 0 1-1.5 0v-7.5a.75.75 0 0 1 .75-.75Zm-8.25.75a.75.75 0 0 1 1.5 0v5.5a.75.75 0 0 1-1.5 0ZM8 3a.75.75 0 0 1 .75.75v3.5a.75.75 0 0 1-1.5 0v-3.5A.75.75 0 0 1 8 3Z"></path>
</svg>
</template>

<template id="pencil-icon">
  <svg aria-hidden="true" height="16" viewBox="0 0 16 16" version="1.1" width="16" data-view-component="true" class="octicon octicon-pencil">
    <path d="M11.013 1.427a1.75 1.75 0 0 1 2.474 0l1.086 1.086a1.75 1.75 0 0 1 0 2.474l-8.61 8.61c-.21.21-.47.364-.756.445l-3.251.93a.75.75 0 0 1-.927-.928l.929-3.25c.081-.286.235-.547.445-.758l8.61-8.61Zm.176 4.823L9.75 4.81l-6.286 6.287a.253.253 0 0 0-.064.108l-.558 1.953 1.953-.558a.253.253 0 0 0 .108-.064Zm1.238-3.763a.25.25 0 0 0-.354 0L10.811 3.75l1.439 1.44 1.263-1.263a.25.25 0 0 0 0-.354Z"></path>
</svg>
</template>

<template id="copilot-icon">
  <svg aria-hidden="true" height="16" viewBox="0 0 16 16" version="1.1" width="16" data-view-component="true" class="octicon octicon-copilot">
    <path d="M7.998 15.035c-4.562 0-7.873-2.914-7.998-3.749V9.338c.085-.628.677-1.686 1.588-2.065.013-.07.024-.143.036-.218.029-.183.06-.384.126-.612-.201-.508-.254-1.084-.254-1.656 0-.87.128-1.769.693-2.484.579-.733 1.494-1.124 2.724-1.261 1.206-.134 2.262.034 2.944.765.05.053.096.108.139.165.044-.057.094-.112.143-.165.682-.731 1.738-.899 2.944-.765 1.23.137 2.145.528 2.724 1.261.566.715.693 1.614.693 2.484 0 .572-.053 1.148-.254 1.656.066.228.098.429.126.612.012.076.024.148.037.218.924.385 1.522 1.471 1.591 2.095v1.872c0 .766-3.351 3.795-8.002 3.795Zm0-1.485c2.28 0 4.584-1.11 5.002-1.433V7.862l-.023-.116c-.49.21-1.075.291-1.727.291-1.146 0-2.059-.327-2.71-.991A3.222 3.222 0 0 1 8 6.303a3.24 3.24 0 0 1-.544.743c-.65.664-1.563.991-2.71.991-.652 0-1.236-.081-1.727-.291l-.023.116v4.255c.419.323 2.722 1.433 5.002 1.433ZM6.762 2.83c-.193-.206-.637-.413-1.682-.297-1.019.113-1.479.404-1.713.7-.247.312-.369.789-.369 1.554 0 .793.129 1.171.308 1.371.162.181.519.379 1.442.379.853 0 1.339-.235 1.638-.54.315-.322.527-.827.617-1.553.117-.935-.037-1.395-.241-1.614Zm4.155-.297c-1.044-.116-1.488.091-1.681.297-.204.219-.359.679-.242 1.614.091.726.303 1.231.618 1.553.299.305.784.54 1.638.54.922 0 1.28-.198 1.442-.379.179-.2.308-.578.308-1.371 0-.765-.123-1.242-.37-1.554-.233-.296-.693-.587-1.713-.7Z"></path><path d="M6.25 9.037a.75.75 0 0 1 .75.75v1.501a.75.75 0 0 1-1.5 0V9.787a.75.75 0 0 1 .75-.75Zm4.25.75v1.501a.75.75 0 0 1-1.5 0V9.787a.75.75 0 0 1 1.5 0Z"></path>
</svg>
</template>

<template id="workflow-icon">
  <svg aria-hidden="true" height="16" viewBox="0 0 16 16" version="1.1" width="16" data-view-component="true" class="octicon octicon-workflow">
    <path d="M0 1.75C0 .784.784 0 1.75 0h3.5C6.216 0 7 .784 7 1.75v3.5A1.75 1.75 0 0 1 5.25 7H4v4a1 1 0 0 0 1 1h4v-1.25C9 9.784 9.784 9 10.75 9h3.5c.966 0 1.75.784 1.75 1.75v3.5A1.75 1.75 0 0 1 14.25 16h-3.5A1.75 1.75 0 0 1 9 14.25v-.75H5A2.5 2.5 0 0 1 2.5 11V7h-.75A1.75 1.75 0 0 1 0 5.25Zm1.75-.25a.25.25 0 0 0-.25.25v3.5c0 .138.112.25.25.25h3.5a.25.25 0 0 0 .25-.25v-3.5a.25.25 0 0 0-.25-.25Zm9 9a.25.25 0 0 0-.25.25v3.5c0 .138.112.25.25.25h3.5a.25.25 0 0 0 .25-.25v-3.5a.25.25 0 0 0-.25-.25Z"></path>
</svg>
</template>

<template id="book-icon">
  <svg aria-hidden="true" height="16" viewBox="0 0 16 16" version="1.1" width="16" data-view-component="true" class="octicon octicon-book">
    <path d="M0 1.75A.75.75 0 0 1 .75 1h4.253c1.227 0 2.317.59 3 1.501A3.743 3.743 0 0 1 11.006 1h4.245a.75.75 0 0 1 .75.75v10.5a.75.75 0 0 1-.75.75h-4.507a2.25 2.25 0 0 0-1.591.659l-.622.621a.75.75 0 0 1-1.06 0l-.622-.621A2.25 2.25 0 0 0 5.258 13H.75a.75.75 0 0 1-.75-.75Zm7.251 10.324.004-5.073-.002-2.253A2.25 2.25 0 0 0 5.003 2.5H1.5v9h3.757a3.75 3.75 0 0 1 1.994.574ZM8.755 4.75l-.004 7.322a3.752 3.752 0 0 1 1.992-.572H14.5v-9h-3.495a2.25 2.25 0 0 0-2.25 2.25Z"></path>
</svg>
</template>

<template id="code-review-icon">
  <svg aria-hidden="true" height="16" viewBox="0 0 16 16" version="1.1" width="16" data-view-component="true" class="octicon octicon-code-review">
    <path d="M1.75 1h12.5c.966 0 1.75.784 1.75 1.75v8.5A1.75 1.75 0 0 1 14.25 13H8.061l-2.574 2.573A1.458 1.458 0 0 1 3 14.543V13H1.75A1.75 1.75 0 0 1 0 11.25v-8.5C0 1.784.784 1 1.75 1ZM1.5 2.75v8.5c0 .138.112.25.25.25h2a.75.75 0 0 1 .75.75v2.19l2.72-2.72a.749.749 0 0 1 .53-.22h6.5a.25.25 0 0 0 .25-.25v-8.5a.25.25 0 0 0-.25-.25H1.75a.25.25 0 0 0-.25.25Zm5.28 1.72a.75.75 0 0 1 0 1.06L5.31 7l1.47 1.47a.751.751 0 0 1-.018 1.042.751.751 0 0 1-1.042.018l-2-2a.75.75 0 0 1 0-1.06l2-2a.75.75 0 0 1 1.06 0Zm2.44 0a.75.75 0 0 1 1.06 0l2 2a.75.75 0 0 1 0 1.06l-2 2a.751.751 0 0 1-1.042-.018.751.751 0 0 1-.018-1.042L10.69 7 9.22 5.53a.75.75 0 0 1 0-1.06Z"></path>
</svg>
</template>

<template id="codespaces-icon">
  <svg aria-hidden="true" height="16" viewBox="0 0 16 16" version="1.1" width="16" data-view-component="true" class="octicon octicon-codespaces">
    <path d="M0 11.25c0-.966.784-1.75 1.75-1.75h12.5c.966 0 1.75.784 1.75 1.75v3A1.75 1.75 0 0 1 14.25 16H1.75A1.75 1.75 0 0 1 0 14.25Zm2-9.5C2 .784 2.784 0 3.75 0h8.5C13.216 0 14 .784 14 1.75v5a1.75 1.75 0 0 1-1.75 1.75h-8.5A1.75 1.75 0 0 1 2 6.75Zm1.75-.25a.25.25 0 0 0-.25.25v5c0 .138.112.25.25.25h8.5a.25.25 0 0 0 .25-.25v-5a.25.25 0 0 0-.25-.25Zm-2 9.5a.25.25 0 0 0-.25.25v3c0 .138.112.25.25.25h12.5a.25.25 0 0 0 .25-.25v-3a.25.25 0 0 0-.25-.25Z"></path><path d="M7 12.75a.75.75 0 0 1 .75-.75h4.5a.75.75 0 0 1 0 1.5h-4.5a.75.75 0 0 1-.75-.75Zm-4 0a.75.75 0 0 1 .75-.75h.5a.75.75 0 0 1 0 1.5h-.5a.75.75 0 0 1-.75-.75Z"></path>
</svg>
</template>

<template id="comment-icon">
  <svg aria-hidden="true" height="16" viewBox="0 0 16 16" version="1.1" width="16" data-view-component="true" class="octicon octicon-comment">
    <path d="M1 2.75C1 1.784 1.784 1 2.75 1h10.5c.966 0 1.75.784 1.75 1.75v7.5A1.75 1.75 0 0 1 13.25 12H9.06l-2.573 2.573A1.458 1.458 0 0 1 4 13.543V12H2.75A1.75 1.75 0 0 1 1 10.25Zm1.75-.25a.25.25 0 0 0-.25.25v7.5c0 .138.112.25.25.25h2a.75.75 0 0 1 .75.75v2.19l2.72-2.72a.749.749 0 0 1 .53-.22h4.5a.25.25 0 0 0 .25-.25v-7.5a.25.25 0 0 0-.25-.25Z"></path>
</svg>
</template>

<template id="comment-discussion-icon">
  <svg aria-hidden="true" height="16" viewBox="0 0 16 16" version="1.1" width="16" data-view-component="true" class="octicon octicon-comment-discussion">
    <path d="M1.75 1h8.5c.966 0 1.75.784 1.75 1.75v5.5A1.75 1.75 0 0 1 10.25 10H7.061l-2.574 2.573A1.458 1.458 0 0 1 2 11.543V10h-.25A1.75 1.75 0 0 1 0 8.25v-5.5C0 1.784.784 1 1.75 1ZM1.5 2.75v5.5c0 .138.112.25.25.25h1a.75.75 0 0 1 .75.75v2.19l2.72-2.72a.749.749 0 0 1 .53-.22h3.5a.25.25 0 0 0 .25-.25v-5.5a.25.25 0 0 0-.25-.25h-8.5a.25.25 0 0 0-.25.25Zm13 2a.25.25 0 0 0-.25-.25h-.5a.75.75 0 0 1 0-1.5h.5c.966 0 1.75.784 1.75 1.75v5.5A1.75 1.75 0 0 1 14.25 12H14v1.543a1.458 1.458 0 0 1-2.487 1.03L9.22 12.28a.749.749 0 0 1 .326-1.275.749.749 0 0 1 .734.215l2.22 2.22v-2.19a.75.75 0 0 1 .75-.75h1a.25.25 0 0 0 .25-.25Z"></path>
</svg>
</template>

<template id="organization-icon">
  <svg aria-hidden="true" height="16" viewBox="0 0 16 16" version="1.1" width="16" data-view-component="true" class="octicon octicon-organization">
    <path d="M1.75 16A1.75 1.75 0 0 1 0 14.25V1.75C0 .784.784 0 1.75 0h8.5C11.216 0 12 .784 12 1.75v12.5c0 .085-.006.168-.018.25h2.268a.25.25 0 0 0 .25-.25V8.285a.25.25 0 0 0-.111-.208l-1.055-.703a.749.749 0 1 1 .832-1.248l1.055.703c.487.325.779.871.779 1.456v5.965A1.75 1.75 0 0 1 14.25 16h-3.5a.766.766 0 0 1-.197-.026c-.099.017-.2.026-.303.026h-3a.75.75 0 0 1-.75-.75V14h-1v1.25a.75.75 0 0 1-.75.75Zm-.25-1.75c0 .138.112.25.25.25H4v-1.25a.75.75 0 0 1 .75-.75h2.5a.75.75 0 0 1 .75.75v1.25h2.25a.25.25 0 0 0 .25-.25V1.75a.25.25 0 0 0-.25-.25h-8.5a.25.25 0 0 0-.25.25ZM3.75 6h.5a.75.75 0 0 1 0 1.5h-.5a.75.75 0 0 1 0-1.5ZM3 3.75A.75.75 0 0 1 3.75 3h.5a.75.75 0 0 1 0 1.5h-.5A.75.75 0 0 1 3 3.75Zm4 3A.75.75 0 0 1 7.75 6h.5a.75.75 0 0 1 0 1.5h-.5A.75.75 0 0 1 7 6.75ZM7.75 3h.5a.75.75 0 0 1 0 1.5h-.5a.75.75 0 0 1 0-1.5ZM3 9.75A.75.75 0 0 1 3.75 9h.5a.75.75 0 0 1 0 1.5h-.5A.75.75 0 0 1 3 9.75ZM7.75 9h.5a.75.75 0 0 1 0 1.5h-.5a.75.75 0 0 1 0-1.5Z"></path>
</svg>
</template>

<template id="rocket-icon">
  <svg aria-hidden="true" height="16" viewBox="0 0 16 16" version="1.1" width="16" data-view-component="true" class="octicon octicon-rocket">
    <path d="M14.064 0h.186C15.216 0 16 .784 16 1.75v.186a8.752 8.752 0 0 1-2.564 6.186l-.458.459c-.314.314-.641.616-.979.904v3.207c0 .608-.315 1.172-.833 1.49l-2.774 1.707a.749.749 0 0 1-1.11-.418l-.954-3.102a1.214 1.214 0 0 1-.145-.125L3.754 9.816a1.218 1.218 0 0 1-.124-.145L.528 8.717a.749.749 0 0 1-.418-1.11l1.71-2.774A1.748 1.748 0 0 1 3.31 4h3.204c.288-.338.59-.665.904-.979l.459-.458A8.749 8.749 0 0 1 14.064 0ZM8.938 3.623h-.002l-.458.458c-.76.76-1.437 1.598-2.02 2.5l-1.5 2.317 2.143 2.143 2.317-1.5c.902-.583 1.74-1.26 2.499-2.02l.459-.458a7.25 7.25 0 0 0 2.123-5.127V1.75a.25.25 0 0 0-.25-.25h-.186a7.249 7.249 0 0 0-5.125 2.123ZM3.56 14.56c-.732.732-2.334 1.045-3.005 1.148a.234.234 0 0 1-.201-.064.234.234 0 0 1-.064-.201c.103-.671.416-2.273 1.15-3.003a1.502 1.502 0 1 1 2.12 2.12Zm6.94-3.935c-.088.06-.177.118-.266.175l-2.35 1.521.548 1.783 1.949-1.2a.25.25 0 0 0 .119-.213ZM3.678 8.116 5.2 5.766c.058-.09.117-.178.176-.266H3.309a.25.25 0 0 0-.213.119l-1.2 1.95ZM12 5a1 1 0 1 1-2 0 1 1 0 0 1 2 0Z"></path>
</svg>
</template>

<template id="shield-check-icon">
  <svg aria-hidden="true" height="16" viewBox="0 0 16 16" version="1.1" width="16" data-view-component="true" class="octicon octicon-shield-check">
    <path d="m8.533.133 5.25 1.68A1.75 1.75 0 0 1 15 3.48V7c0 1.566-.32 3.182-1.303 4.682-.983 1.498-2.585 2.813-5.032 3.855a1.697 1.697 0 0 1-1.33 0c-2.447-1.042-4.049-2.357-5.032-3.855C1.32 10.182 1 8.566 1 7V3.48a1.75 1.75 0 0 1 1.217-1.667l5.25-1.68a1.748 1.748 0 0 1 1.066 0Zm-.61 1.429.001.001-5.25 1.68a.251.251 0 0 0-.174.237V7c0 1.36.275 2.666 1.057 3.859.784 1.194 2.121 2.342 4.366 3.298a.196.196 0 0 0 .154 0c2.245-.957 3.582-2.103 4.366-3.297C13.225 9.666 13.5 8.358 13.5 7V3.48a.25.25 0 0 0-.174-.238l-5.25-1.68a.25.25 0 0 0-.153 0ZM11.28 6.28l-3.5 3.5a.75.75 0 0 1-1.06 0l-1.5-1.5a.749.749 0 0 1 .326-1.275.749.749 0 0 1 .734.215l.97.97 2.97-2.97a.751.751 0 0 1 1.042.018.751.751 0 0 1 .018 1.042Z"></path>
</svg>
</template>

<template id="heart-icon">
  <svg aria-hidden="true" height="16" viewBox="0 0 16 16" version="1.1" width="16" data-view-component="true" class="octicon octicon-heart">
    <path d="m8 14.25.345.666a.75.75 0 0 1-.69 0l-.008-.004-.018-.01a7.152 7.152 0 0 1-.31-.17 22.055 22.055 0 0 1-3.434-2.414C2.045 10.731 0 8.35 0 5.5 0 2.836 2.086 1 4.25 1 5.797 1 7.153 1.802 8 3.02 8.847 1.802 10.203 1 11.75 1 13.914 1 16 2.836 16 5.5c0 2.85-2.045 5.231-3.885 6.818a22.066 22.066 0 0 1-3.744 2.584l-.018.01-.006.003h-.002ZM4.25 2.5c-1.336 0-2.75 1.164-2.75 3 0 2.15 1.58 4.144 3.365 5.682A20.58 20.58 0 0 0 8 13.393a20.58 20.58 0 0 0 3.135-2.211C12.92 9.644 14.5 7.65 14.5 5.5c0-1.836-1.414-3-2.75-3-1.373 0-2.609.986-3.029 2.456a.749.749 0 0 1-1.442 0C6.859 3.486 5.623 2.5 4.25 2.5Z"></path>
</svg>
</template>

<template id="server-icon">
  <svg aria-hidden="true" height="16" viewBox="0 0 16 16" version="1.1" width="16" data-view-component="true" class="octicon octicon-server">
    <path d="M1.75 1h12.5c.966 0 1.75.784 1.75 1.75v4c0 .372-.116.717-.314 1 .198.283.314.628.314 1v4a1.75 1.75 0 0 1-1.75 1.75H1.75A1.75 1.75 0 0 1 0 12.75v-4c0-.358.109-.707.314-1a1.739 1.739 0 0 1-.314-1v-4C0 1.784.784 1 1.75 1ZM1.5 2.75v4c0 .138.112.25.25.25h12.5a.25.25 0 0 0 .25-.25v-4a.25.25 0 0 0-.25-.25H1.75a.25.25 0 0 0-.25.25Zm.25 5.75a.25.25 0 0 0-.25.25v4c0 .138.112.25.25.25h12.5a.25.25 0 0 0 .25-.25v-4a.25.25 0 0 0-.25-.25ZM7 4.75A.75.75 0 0 1 7.75 4h4.5a.75.75 0 0 1 0 1.5h-4.5A.75.75 0 0 1 7 4.75ZM7.75 10h4.5a.75.75 0 0 1 0 1.5h-4.5a.75.75 0 0 1 0-1.5ZM3 4.75A.75.75 0 0 1 3.75 4h.5a.75.75 0 0 1 0 1.5h-.5A.75.75 0 0 1 3 4.75ZM3.75 10h.5a.75.75 0 0 1 0 1.5h-.5a.75.75 0 0 1 0-1.5Z"></path>
</svg>
</template>

<template id="globe-icon">
  <svg aria-hidden="true" height="16" viewBox="0 0 16 16" version="1.1" width="16" data-view-component="true" class="octicon octicon-globe">
    <path d="M8 0a8 8 0 1 1 0 16A8 8 0 0 1 8 0ZM5.78 8.75a9.64 9.64 0 0 0 1.363 4.177c.255.426.542.832.857 1.215.245-.296.551-.705.857-1.215A9.64 9.64 0 0 0 10.22 8.75Zm4.44-1.5a9.64 9.64 0 0 0-1.363-4.177c-.307-.51-.612-.919-.857-1.215a9.927 9.927 0 0 0-.857 1.215A9.64 9.64 0 0 0 5.78 7.25Zm-5.944 1.5H1.543a6.507 6.507 0 0 0 4.666 5.5c-.123-.181-.24-.365-.352-.552-.715-1.192-1.437-2.874-1.581-4.948Zm-2.733-1.5h2.733c.144-2.074.866-3.756 1.58-4.948.12-.197.237-.381.353-.552a6.507 6.507 0 0 0-4.666 5.5Zm10.181 1.5c-.144 2.074-.866 3.756-1.58 4.948-.12.197-.237.381-.353.552a6.507 6.507 0 0 0 4.666-5.5Zm2.733-1.5a6.507 6.507 0 0 0-4.666-5.5c.123.181.24.365.353.552.714 1.192 1.436 2.874 1.58 4.948Z"></path>
</svg>
</template>

<template id="issue-opened-icon">
  <svg aria-hidden="true" height="16" viewBox="0 0 16 16" version="1.1" width="16" data-view-component="true" class="octicon octicon-issue-opened">
    <path d="M8 9.5a1.5 1.5 0 1 0 0-3 1.5 1.5 0 0 0 0 3Z"></path><path d="M8 0a8 8 0 1 1 0 16A8 8 0 0 1 8 0ZM1.5 8a6.5 6.5 0 1 0 13 0 6.5 6.5 0 0 0-13 0Z"></path>
</svg>
</template>

<template id="device-mobile-icon">
  <svg aria-hidden="true" height="16" viewBox="0 0 16 16" version="1.1" width="16" data-view-component="true" class="octicon octicon-device-mobile">
    <path d="M3.75 0h8.5C13.216 0 14 .784 14 1.75v12.5A1.75 1.75 0 0 1 12.25 16h-8.5A1.75 1.75 0 0 1 2 14.25V1.75C2 .784 2.784 0 3.75 0ZM3.5 1.75v12.5c0 .138.112.25.25.25h8.5a.25.25 0 0 0 .25-.25V1.75a.25.25 0 0 0-.25-.25h-8.5a.25.25 0 0 0-.25.25ZM8 13a1 1 0 1 1 0-2 1 1 0 0 1 0 2Z"></path>
</svg>
</template>

<template id="package-icon">
  <svg aria-hidden="true" height="16" viewBox="0 0 16 16" version="1.1" width="16" data-view-component="true" class="octicon octicon-package">
    <path d="m8.878.392 5.25 3.045c.54.314.872.89.872 1.514v6.098a1.75 1.75 0 0 1-.872 1.514l-5.25 3.045a1.75 1.75 0 0 1-1.756 0l-5.25-3.045A1.75 1.75 0 0 1 1 11.049V4.951c0-.624.332-1.201.872-1.514L7.122.392a1.75 1.75 0 0 1 1.756 0ZM7.875 1.69l-4.63 2.685L8 7.133l4.755-2.758-4.63-2.685a.248.248 0 0 0-.25 0ZM2.5 5.677v5.372c0 .09.047.171.125.216l4.625 2.683V8.432Zm6.25 8.271 4.625-2.683a.25.25 0 0 0 .125-.216V5.677L8.75 8.432Z"></path>
</svg>
</template>

<template id="credit-card-icon">
  <svg aria-hidden="true" height="16" viewBox="0 0 16 16" version="1.1" width="16" data-view-component="true" class="octicon octicon-credit-card">
    <path d="M10.75 9a.75.75 0 0 0 0 1.5h1.5a.75.75 0 0 0 0-1.5h-1.5Z"></path><path d="M0 3.75C0 2.784.784 2 1.75 2h12.5c.966 0 1.75.784 1.75 1.75v8.5A1.75 1.75 0 0 1 14.25 14H1.75A1.75 1.75 0 0 1 0 12.25ZM14.5 6.5h-13v5.75c0 .138.112.25.25.25h12.5a.25.25 0 0 0 .25-.25Zm0-2.75a.25.25 0 0 0-.25-.25H1.75a.25.25 0 0 0-.25.25V5h13Z"></path>
</svg>
</template>

<template id="play-icon">
  <svg aria-hidden="true" height="16" viewBox="0 0 16 16" version="1.1" width="16" data-view-component="true" class="octicon octicon-play">
    <path d="M8 0a8 8 0 1 1 0 16A8 8 0 0 1 8 0ZM1.5 8a6.5 6.5 0 1 0 13 0 6.5 6.5 0 0 0-13 0Zm4.879-2.773 4.264 2.559a.25.25 0 0 1 0 .428l-4.264 2.559A.25.25 0 0 1 6 10.559V5.442a.25.25 0 0 1 .379-.215Z"></path>
</svg>
</template>

<template id="gift-icon">
  <svg aria-hidden="true" height="16" viewBox="0 0 16 16" version="1.1" width="16" data-view-component="true" class="octicon octicon-gift">
    <path d="M2 2.75A2.75 2.75 0 0 1 4.75 0c.983 0 1.873.42 2.57 1.232.268.318.497.668.68 1.042.183-.375.411-.725.68-1.044C9.376.42 10.266 0 11.25 0a2.75 2.75 0 0 1 2.45 4h.55c.966 0 1.75.784 1.75 1.75v2c0 .698-.409 1.301-1 1.582v4.918A1.75 1.75 0 0 1 13.25 16H2.75A1.75 1.75 0 0 1 1 14.25V9.332C.409 9.05 0 8.448 0 7.75v-2C0 4.784.784 4 1.75 4h.55c-.192-.375-.3-.8-.3-1.25ZM7.25 9.5H2.5v4.75c0 .138.112.25.25.25h4.5Zm1.5 0v5h4.5a.25.25 0 0 0 .25-.25V9.5Zm0-4V8h5.5a.25.25 0 0 0 .25-.25v-2a.25.25 0 0 0-.25-.25Zm-7 0a.25.25 0 0 0-.25.25v2c0 .138.112.25.25.25h5.5V5.5h-5.5Zm3-4a1.25 1.25 0 0 0 0 2.5h2.309c-.233-.818-.542-1.401-.878-1.793-.43-.502-.915-.707-1.431-.707ZM8.941 4h2.309a1.25 1.25 0 0 0 0-2.5c-.516 0-1 .205-1.43.707-.337.392-.646.975-.879 1.793Z"></path>
</svg>
</template>

<template id="code-square-icon">
  <svg aria-hidden="true" height="16" viewBox="0 0 16 16" version="1.1" width="16" data-view-component="true" class="octicon octicon-code-square">
    <path d="M0 1.75C0 .784.784 0 1.75 0h12.5C15.216 0 16 .784 16 1.75v12.5A1.75 1.75 0 0 1 14.25 16H1.75A1.75 1.75 0 0 1 0 14.25Zm1.75-.25a.25.25 0 0 0-.25.25v12.5c0 .138.112.25.25.25h12.5a.25.25 0 0 0 .25-.25V1.75a.25.25 0 0 0-.25-.25Zm7.47 3.97a.75.75 0 0 1 1.06 0l2 2a.75.75 0 0 1 0 1.06l-2 2a.749.749 0 0 1-1.275-.326.749.749 0 0 1 .215-.734L10.69 8 9.22 6.53a.75.75 0 0 1 0-1.06ZM6.78 6.53 5.31 8l1.47 1.47a.749.749 0 0 1-.326 1.275.749.749 0 0 1-.734-.215l-2-2a.75.75 0 0 1 0-1.06l2-2a.751.751 0 0 1 1.042.018.751.751 0 0 1 .018 1.042Z"></path>
</svg>
</template>

<template id="device-desktop-icon">
  <svg aria-hidden="true" height="16" viewBox="0 0 16 16" version="1.1" width="16" data-view-component="true" class="octicon octicon-device-desktop">
    <path d="M14.25 1c.966 0 1.75.784 1.75 1.75v7.5A1.75 1.75 0 0 1 14.25 12h-3.727c.099 1.041.52 1.872 1.292 2.757A.752.752 0 0 1 11.25 16h-6.5a.75.75 0 0 1-.565-1.243c.772-.885 1.192-1.716 1.292-2.757H1.75A1.75 1.75 0 0 1 0 10.25v-7.5C0 1.784.784 1 1.75 1ZM1.75 2.5a.25.25 0 0 0-.25.25v7.5c0 .138.112.25.25.25h12.5a.25.25 0 0 0 .25-.25v-7.5a.25.25 0 0 0-.25-.25ZM9.018 12H6.982a5.72 5.72 0 0 1-.765 2.5h3.566a5.72 5.72 0 0 1-.765-2.5Z"></path>
</svg>
</template>

        <div class="position-relative">
                <ul
                  role="listbox"
                  class="ActionListWrap QueryBuilder-ListWrap"
                  aria-label="Suggestions"
                  data-action="
                    combobox-commit:query-builder#comboboxCommit
                    mousedown:query-builder#resultsMousedown
                  "
                  data-target="query-builder.resultsList"
                  data-persist-list=false
                  id="query-builder-test-results"
                ></ul>
        </div>
      <div class="FormControl-inlineValidation" id="validation-5af92f75-5fbc-4a3e-b7f6-933e73b4823c" hidden="hidden">
        <span class="FormControl-inlineValidation--visual">
          <svg aria-hidden="true" height="12" viewBox="0 0 12 12" version="1.1" width="12" data-view-component="true" class="octicon octicon-alert-fill">
    <path d="M4.855.708c.5-.896 1.79-.896 2.29 0l4.675 8.351a1.312 1.312 0 0 1-1.146 1.954H1.33A1.313 1.313 0 0 1 .183 9.058ZM7 7V3H5v4Zm-1 3a1 1 0 1 0 0-2 1 1 0 0 0 0 2Z"></path>
</svg>
        </span>
        <span></span>
</div>    </div>
    <div data-target="query-builder.screenReaderFeedback" aria-live="polite" aria-atomic="true" class="sr-only"></div>
</query-builder></form>
          <div class="d-flex flex-row color-fg-muted px-3 text-small color-bg-default search-feedback-prompt">
            <a target="_blank" href="https://docs.github.com/search-github/github-code-search/understanding-github-code-search-syntax" data-view-component="true" class="Link color-fg-accent text-normal ml-2">
              Search syntax tips
</a>            <div class="d-flex flex-1"></div>
          </div>
        </div>
</div>

    </div>
</modal-dialog></div>
  </div>
  <div data-action="click:qbsearch-input#retract" class="dark-backdrop position-fixed" hidden data-target="qbsearch-input.darkBackdrop"></div>
  <div class="color-fg-default">
    
<dialog-helper>
  <dialog data-target="qbsearch-input.feedbackDialog" data-action="close:qbsearch-input#handleDialogClose cancel:qbsearch-input#handleDialogClose" id="feedback-dialog" aria-modal="true" aria-labelledby="feedback-dialog-title" aria-describedby="feedback-dialog-description" data-view-component="true" class="Overlay Overlay-whenNarrow Overlay--size-medium Overlay--motion-scaleFade">
    <div data-view-component="true" class="Overlay-header">
  <div class="Overlay-headerContentWrap">
    <div class="Overlay-titleWrap">
      <h1 class="Overlay-title " id="feedback-dialog-title">
        Provide feedback
      </h1>
        
    </div>
    <div class="Overlay-actionWrap">
      <button data-close-dialog-id="feedback-dialog" aria-label="Close" type="button" data-view-component="true" class="close-button Overlay-closeButton"><svg aria-hidden="true" height="16" viewBox="0 0 16 16" version="1.1" width="16" data-view-component="true" class="octicon octicon-x">
    <path d="M3.72 3.72a.75.75 0 0 1 1.06 0L8 6.94l3.22-3.22a.749.749 0 0 1 1.275.326.749.749 0 0 1-.215.734L9.06 8l3.22 3.22a.749.749 0 0 1-.326 1.275.749.749 0 0 1-.734-.215L8 9.06l-3.22 3.22a.751.751 0 0 1-1.042-.018.751.751 0 0 1-.018-1.042L6.94 8 3.72 4.78a.75.75 0 0 1 0-1.06Z"></path>
</svg></button>
    </div>
  </div>
  
</div>
      <scrollable-region data-labelled-by="feedback-dialog-title">
        <div data-view-component="true" class="Overlay-body">        <!-- '"` --><!-- </textarea></xmp> --></option></form><form id="code-search-feedback-form" data-turbo="false" action="/search/feedback" accept-charset="UTF-8" method="post"><input type="hidden" data-csrf="true" name="authenticity_token" value="M33DTawc0o/xqldKMHqlGi/XMioVyZxOFzao9WPicvnhRQTAPKnpC63M3aYsOBVoO7o6hYnRj22PzLpKUoyQNQ==" />
          <p>We read every piece of feedback, and take your input very seriously.</p>
          <textarea name="feedback" class="form-control width-full mb-2" style="height: 120px" id="feedback"></textarea>
          <input name="include_email" id="include_email" aria-label="Include my email address so I can be contacted" class="form-control mr-2" type="checkbox">
          <label for="include_email" style="font-weight: normal">Include my email address so I can be contacted</label>
</form></div>
      </scrollable-region>
      <div data-view-component="true" class="Overlay-footer Overlay-footer--alignEnd">          <button data-close-dialog-id="feedback-dialog" type="button" data-view-component="true" class="btn">    Cancel
</button>
          <button form="code-search-feedback-form" data-action="click:qbsearch-input#submitFeedback" type="submit" data-view-component="true" class="btn-primary btn">    Submit feedback
</button>
</div>
</dialog></dialog-helper>

    <custom-scopes data-target="qbsearch-input.customScopesManager">
    
<dialog-helper>
  <dialog data-target="custom-scopes.customScopesModalDialog" data-action="close:qbsearch-input#handleDialogClose cancel:qbsearch-input#handleDialogClose" id="custom-scopes-dialog" aria-modal="true" aria-labelledby="custom-scopes-dialog-title" aria-describedby="custom-scopes-dialog-description" data-view-component="true" class="Overlay Overlay-whenNarrow Overlay--size-medium Overlay--motion-scaleFade">
    <div data-view-component="true" class="Overlay-header Overlay-header--divided">
  <div class="Overlay-headerContentWrap">
    <div class="Overlay-titleWrap">
      <h1 class="Overlay-title " id="custom-scopes-dialog-title">
        Saved searches
      </h1>
        <h2 id="custom-scopes-dialog-description" class="Overlay-description">Use saved searches to filter your results more quickly</h2>
    </div>
    <div class="Overlay-actionWrap">
      <button data-close-dialog-id="custom-scopes-dialog" aria-label="Close" type="button" data-view-component="true" class="close-button Overlay-closeButton"><svg aria-hidden="true" height="16" viewBox="0 0 16 16" version="1.1" width="16" data-view-component="true" class="octicon octicon-x">
    <path d="M3.72 3.72a.75.75 0 0 1 1.06 0L8 6.94l3.22-3.22a.749.749 0 0 1 1.275.326.749.749 0 0 1-.215.734L9.06 8l3.22 3.22a.749.749 0 0 1-.326 1.275.749.749 0 0 1-.734-.215L8 9.06l-3.22 3.22a.751.751 0 0 1-1.042-.018.751.751 0 0 1-.018-1.042L6.94 8 3.72 4.78a.75.75 0 0 1 0-1.06Z"></path>
</svg></button>
    </div>
  </div>
  
</div>
      <scrollable-region data-labelled-by="custom-scopes-dialog-title">
        <div data-view-component="true" class="Overlay-body">        <div data-target="custom-scopes.customScopesModalDialogFlash"></div>

        <div hidden class="create-custom-scope-form" data-target="custom-scopes.createCustomScopeForm">
        <!-- '"` --><!-- </textarea></xmp> --></option></form><form id="custom-scopes-dialog-form" data-turbo="false" action="/search/custom_scopes" accept-charset="UTF-8" method="post"><input type="hidden" data-csrf="true" name="authenticity_token" value="K3r8NsvHkJRo4KsNksTCRuv5qXD7/6jUi2y3gSBQZRkJMclFpmcEJpOyWUs88/iBEJWPXOovllYyXF6LrsjPXg==" />
          <div data-target="custom-scopes.customScopesModalDialogFlash"></div>

          <input type="hidden" id="custom_scope_id" name="custom_scope_id" data-target="custom-scopes.customScopesIdField">

          <div class="form-group">
            <label for="custom_scope_name">Name</label>
            <auto-check src="/search/custom_scopes/check_name" required>
              <input
                type="text"
                name="custom_scope_name"
                id="custom_scope_name"
                data-target="custom-scopes.customScopesNameField"
                class="form-control"
                autocomplete="off"
                placeholder="github-ruby"
                required
                maxlength="50">
              <input type="hidden" data-csrf="true" value="oc99WkfU1F0cdIILx12F9dSr9jepTaIwpepeBCND4h+e4rA9npWIa+IyVnwG2ae7qEdQigvsA57dwlATJdNJiQ==" />
            </auto-check>
          </div>

          <div class="form-group">
            <label for="custom_scope_query">Query</label>
            <input
              type="text"
              name="custom_scope_query"
              id="custom_scope_query"
              data-target="custom-scopes.customScopesQueryField"
              class="form-control"
              autocomplete="off"
              placeholder="(repo:mona/a OR repo:mona/b) AND lang:python"
              required
              maxlength="500">
          </div>

          <p class="text-small color-fg-muted">
            To see all available qualifiers, see our <a class="Link--inTextBlock" href="https://docs.github.com/search-github/github-code-search/understanding-github-code-search-syntax">documentation</a>.
          </p>
</form>        </div>

        <div data-target="custom-scopes.manageCustomScopesForm">
          <div data-target="custom-scopes.list"></div>
        </div>

</div>
      </scrollable-region>
      <div data-view-component="true" class="Overlay-footer Overlay-footer--alignEnd Overlay-footer--divided">          <button data-action="click:custom-scopes#customScopesCancel" type="button" data-view-component="true" class="btn">    Cancel
</button>
          <button form="custom-scopes-dialog-form" data-action="click:custom-scopes#customScopesSubmit" data-target="custom-scopes.customScopesSubmitButton" type="submit" data-view-component="true" class="btn-primary btn">    Create saved search
</button>
</div>
</dialog></dialog-helper>
    </custom-scopes>
  </div>
</qbsearch-input><input type="hidden" data-csrf="true" class="js-data-jump-to-suggestions-path-csrf" value="AEDl3HVOSaXm/y6RG0TCsPK8whAIWGvYkKUr2u8trq0swvNGr3QarzVNFcccOUYEeJ9/PdGfBYEX/kG+V/6siA==" />


          <div class="position-relative mr-lg-3 d-lg-inline-block">
            <a href="/login?return_to=https%3A%2F%2Fgithub.com%2Fee16a%2Fpublic_hw_notebooks%2Fblob%2Fmaster%2Fsp24_hw7%2Fq_matrix_visualization.ipynb"
              class="HeaderMenu-link HeaderMenu-link--sign-in flex-shrink-0 no-underline d-block d-lg-inline-block border border-lg-0 rounded rounded-lg-0 p-2 p-lg-0"
              data-hydro-click="{&quot;event_type&quot;:&quot;authentication.click&quot;,&quot;payload&quot;:{&quot;location_in_page&quot;:&quot;site header menu&quot;,&quot;repository_id&quot;:null,&quot;auth_type&quot;:&quot;SIGN_UP&quot;,&quot;originating_url&quot;:&quot;https://github.com/ee16a/public_hw_notebooks/blob/master/sp24_hw7/q_matrix_visualization.ipynb&quot;,&quot;user_id&quot;:null}}" data-hydro-click-hmac="0c5d5b908420166341ed1265794ecf010d0a760aec6c8aaaff0d2a8dd5c19ed7"
              data-ga-click="(Logged out) Header, clicked Sign in, text:sign-in">
              Sign in
            </a>
          </div>

            <a href="/signup?ref_cta=Sign+up&amp;ref_loc=header+logged+out&amp;ref_page=%2F%3Cuser-name%3E%2F%3Crepo-name%3E%2Fblob%2Fshow&amp;source=header-repo&amp;source_repo=ee16a%2Fpublic_hw_notebooks"
              class="HeaderMenu-link HeaderMenu-link--sign-up flex-shrink-0 d-none d-lg-inline-block no-underline border color-border-default rounded px-2 py-1"
              data-hydro-click="{&quot;event_type&quot;:&quot;authentication.click&quot;,&quot;payload&quot;:{&quot;location_in_page&quot;:&quot;site header menu&quot;,&quot;repository_id&quot;:null,&quot;auth_type&quot;:&quot;SIGN_UP&quot;,&quot;originating_url&quot;:&quot;https://github.com/ee16a/public_hw_notebooks/blob/master/sp24_hw7/q_matrix_visualization.ipynb&quot;,&quot;user_id&quot;:null}}" data-hydro-click-hmac="0c5d5b908420166341ed1265794ecf010d0a760aec6c8aaaff0d2a8dd5c19ed7"
              data-analytics-event="{&quot;category&quot;:&quot;Sign up&quot;,&quot;action&quot;:&quot;click to sign up for account&quot;,&quot;label&quot;:&quot;ref_page:/&lt;user-name&gt;/&lt;repo-name&gt;/blob/show;ref_cta:Sign up;ref_loc:header logged out&quot;}"
            >
              Sign up
            </a>
        </div>
      </div>
    </div>
  </div>
</header>

      <div hidden="hidden" data-view-component="true" class="js-stale-session-flash stale-session-flash flash flash-warn flash-full mb-3">
  
        <svg aria-hidden="true" height="16" viewBox="0 0 16 16" version="1.1" width="16" data-view-component="true" class="octicon octicon-alert">
    <path d="M6.457 1.047c.659-1.234 2.427-1.234 3.086 0l6.082 11.378A1.75 1.75 0 0 1 14.082 15H1.918a1.75 1.75 0 0 1-1.543-2.575Zm1.763.707a.25.25 0 0 0-.44 0L1.698 13.132a.25.25 0 0 0 .22.368h12.164a.25.25 0 0 0 .22-.368Zm.53 3.996v2.5a.75.75 0 0 1-1.5 0v-2.5a.75.75 0 0 1 1.5 0ZM9 11a1 1 0 1 1-2 0 1 1 0 0 1 2 0Z"></path>
</svg>
        <span class="js-stale-session-flash-signed-in" hidden>You signed in with another tab or window. <a class="Link--inTextBlock" href="">Reload</a> to refresh your session.</span>
        <span class="js-stale-session-flash-signed-out" hidden>You signed out in another tab or window. <a class="Link--inTextBlock" href="">Reload</a> to refresh your session.</span>
        <span class="js-stale-session-flash-switched" hidden>You switched accounts on another tab or window. <a class="Link--inTextBlock" href="">Reload</a> to refresh your session.</span>

    <button id="icon-button-f99a71cf-9175-4dcd-bdf9-c2e22a530b06" aria-labelledby="tooltip-e5fcff27-426d-44b5-bbc7-801b09caf275" type="button" data-view-component="true" class="Button Button--iconOnly Button--invisible Button--medium flash-close js-flash-close">  <svg aria-hidden="true" height="16" viewBox="0 0 16 16" version="1.1" width="16" data-view-component="true" class="octicon octicon-x Button-visual">
    <path d="M3.72 3.72a.75.75 0 0 1 1.06 0L8 6.94l3.22-3.22a.749.749 0 0 1 1.275.326.749.749 0 0 1-.215.734L9.06 8l3.22 3.22a.749.749 0 0 1-.326 1.275.749.749 0 0 1-.734-.215L8 9.06l-3.22 3.22a.751.751 0 0 1-1.042-.018.751.751 0 0 1-.018-1.042L6.94 8 3.72 4.78a.75.75 0 0 1 0-1.06Z"></path>
</svg>
</button><tool-tip id="tooltip-e5fcff27-426d-44b5-bbc7-801b09caf275" for="icon-button-f99a71cf-9175-4dcd-bdf9-c2e22a530b06" popover="manual" data-direction="s" data-type="label" data-view-component="true" class="sr-only position-absolute">Dismiss alert</tool-tip>


  
</div>
    </div>

  <div id="start-of-content" class="show-on-focus"></div>








    <div id="js-flash-container" class="flash-container" data-turbo-replace>





  <template class="js-flash-template">
    
<div class="flash flash-full   {{ className }}">
  <div >
    <button autofocus class="flash-close js-flash-close" type="button" aria-label="Dismiss this message">
      <svg aria-hidden="true" height="16" viewBox="0 0 16 16" version="1.1" width="16" data-view-component="true" class="octicon octicon-x">
    <path d="M3.72 3.72a.75.75 0 0 1 1.06 0L8 6.94l3.22-3.22a.749.749 0 0 1 1.275.326.749.749 0 0 1-.215.734L9.06 8l3.22 3.22a.749.749 0 0 1-.326 1.275.749.749 0 0 1-.734-.215L8 9.06l-3.22 3.22a.751.751 0 0 1-1.042-.018.751.751 0 0 1-.018-1.042L6.94 8 3.72 4.78a.75.75 0 0 1 0-1.06Z"></path>
</svg>
    </button>
    <div aria-atomic="true" role="alert" class="js-flash-alert">
      
      <div>{{ message }}</div>

    </div>
  </div>
</div>
  </template>
</div>


    
    <include-fragment class="js-notification-shelf-include-fragment" data-base-src="https://github.com/notifications/beta/shelf"></include-fragment>





  <div
    class="application-main "
    data-commit-hovercards-enabled
    data-discussion-hovercards-enabled
    data-issue-and-pr-hovercards-enabled
  >
        <div itemscope itemtype="http://schema.org/SoftwareSourceCode" class="">
    <main id="js-repo-pjax-container" >
      
      
    

    






  
  <div id="repository-container-header"  class="pt-3 hide-full-screen" style="background-color: var(--page-header-bgColor, var(--color-page-header-bg));" data-turbo-replace>

      <div class="d-flex flex-wrap flex-justify-end mb-3  px-3 px-md-4 px-lg-5" style="gap: 1rem;">

        <div class="flex-auto min-width-0 width-fit mr-3">
            
  <div class=" d-flex flex-wrap flex-items-center wb-break-word f3 text-normal">
      <svg aria-hidden="true" height="16" viewBox="0 0 16 16" version="1.1" width="16" data-view-component="true" class="octicon octicon-repo color-fg-muted mr-2">
    <path d="M2 2.5A2.5 2.5 0 0 1 4.5 0h8.75a.75.75 0 0 1 .75.75v12.5a.75.75 0 0 1-.75.75h-2.5a.75.75 0 0 1 0-1.5h1.75v-2h-8a1 1 0 0 0-.714 1.7.75.75 0 1 1-1.072 1.05A2.495 2.495 0 0 1 2 11.5Zm10.5-1h-8a1 1 0 0 0-1 1v6.708A2.486 2.486 0 0 1 4.5 9h8ZM5 12.25a.25.25 0 0 1 .25-.25h3.5a.25.25 0 0 1 .25.25v3.25a.25.25 0 0 1-.4.2l-1.45-1.087a.249.249 0 0 0-.3 0L5.4 15.7a.25.25 0 0 1-.4-.2Z"></path>
</svg>
    
    <span class="author flex-self-stretch" itemprop="author">
      <a class="url fn" rel="author" data-hovercard-type="organization" data-hovercard-url="/orgs/ee16a/hovercard" data-octo-click="hovercard-link-click" data-octo-dimensions="link_type:self" href="/ee16a">
        ee16a
</a>    </span>
    <span class="mx-1 flex-self-stretch color-fg-muted">/</span>
    <strong itemprop="name" class="mr-2 flex-self-stretch">
      <a data-pjax="#repo-content-pjax-container" data-turbo-frame="repo-content-turbo-frame" href="/ee16a/public_hw_notebooks">public_hw_notebooks</a>
    </strong>

    <span></span><span class="Label Label--secondary v-align-middle mr-1">Public</span>
  </div>


        </div>

        <div id="repository-details-container" data-turbo-replace>
            <ul class="pagehead-actions flex-shrink-0 d-none d-md-inline" style="padding: 2px 0;">
    
      

  <li>
            <a href="/login?return_to=%2Fee16a%2Fpublic_hw_notebooks" rel="nofollow" id="repository-details-watch-button" data-hydro-click="{&quot;event_type&quot;:&quot;authentication.click&quot;,&quot;payload&quot;:{&quot;location_in_page&quot;:&quot;notification subscription menu watch&quot;,&quot;repository_id&quot;:null,&quot;auth_type&quot;:&quot;LOG_IN&quot;,&quot;originating_url&quot;:&quot;https://github.com/ee16a/public_hw_notebooks/blob/master/sp24_hw7/q_matrix_visualization.ipynb&quot;,&quot;user_id&quot;:null}}" data-hydro-click-hmac="6504804afcf76ad45fcb94576bcf823abbce779d7db2618e009b19c77621dbce" aria-label="You must be signed in to change notification settings" data-view-component="true" class="btn-sm btn">    <svg aria-hidden="true" height="16" viewBox="0 0 16 16" version="1.1" width="16" data-view-component="true" class="octicon octicon-bell mr-2">
    <path d="M8 16a2 2 0 0 0 1.985-1.75c.017-.137-.097-.25-.235-.25h-3.5c-.138 0-.252.113-.235.25A2 2 0 0 0 8 16ZM3 5a5 5 0 0 1 10 0v2.947c0 .05.015.098.042.139l1.703 2.555A1.519 1.519 0 0 1 13.482 13H2.518a1.516 1.516 0 0 1-1.263-2.36l1.703-2.554A.255.255 0 0 0 3 7.947Zm5-3.5A3.5 3.5 0 0 0 4.5 5v2.947c0 .346-.102.683-.294.97l-1.703 2.556a.017.017 0 0 0-.003.01l.001.006c0 .002.002.004.004.006l.006.004.007.001h10.964l.007-.001.006-.004.004-.006.001-.007a.017.017 0 0 0-.003-.01l-1.703-2.554a1.745 1.745 0 0 1-.294-.97V5A3.5 3.5 0 0 0 8 1.5Z"></path>
</svg>Notifications
</a>    <tool-tip id="tooltip-09611a0d-16a2-4c0c-9b54-6e818f7cd901" for="repository-details-watch-button" popover="manual" data-direction="s" data-type="description" data-view-component="true" class="sr-only position-absolute">You must be signed in to change notification settings</tool-tip>

  </li>

  <li>
          <a icon="repo-forked" id="fork-button" href="/login?return_to=%2Fee16a%2Fpublic_hw_notebooks" rel="nofollow" data-hydro-click="{&quot;event_type&quot;:&quot;authentication.click&quot;,&quot;payload&quot;:{&quot;location_in_page&quot;:&quot;repo details fork button&quot;,&quot;repository_id&quot;:274761554,&quot;auth_type&quot;:&quot;LOG_IN&quot;,&quot;originating_url&quot;:&quot;https://github.com/ee16a/public_hw_notebooks/blob/master/sp24_hw7/q_matrix_visualization.ipynb&quot;,&quot;user_id&quot;:null}}" data-hydro-click-hmac="5b220d56467dda006ac248bcb39971dd549906533975f764ed23f038bfb886a8" data-view-component="true" class="btn-sm btn">    <svg aria-hidden="true" height="16" viewBox="0 0 16 16" version="1.1" width="16" data-view-component="true" class="octicon octicon-repo-forked mr-2">
    <path d="M5 5.372v.878c0 .414.336.75.75.75h4.5a.75.75 0 0 0 .75-.75v-.878a2.25 2.25 0 1 1 1.5 0v.878a2.25 2.25 0 0 1-2.25 2.25h-1.5v2.128a2.251 2.251 0 1 1-1.5 0V8.5h-1.5A2.25 2.25 0 0 1 3.5 6.25v-.878a2.25 2.25 0 1 1 1.5 0ZM5 3.25a.75.75 0 1 0-1.5 0 .75.75 0 0 0 1.5 0Zm6.75.75a.75.75 0 1 0 0-1.5.75.75 0 0 0 0 1.5Zm-3 8.75a.75.75 0 1 0-1.5 0 .75.75 0 0 0 1.5 0Z"></path>
</svg>Fork
    <span id="repo-network-counter" data-pjax-replace="true" data-turbo-replace="true" title="1" data-view-component="true" class="Counter">1</span>
</a>
  </li>

  <li>
        <div data-view-component="true" class="BtnGroup d-flex">
        <a href="/login?return_to=%2Fee16a%2Fpublic_hw_notebooks" rel="nofollow" data-hydro-click="{&quot;event_type&quot;:&quot;authentication.click&quot;,&quot;payload&quot;:{&quot;location_in_page&quot;:&quot;star button&quot;,&quot;repository_id&quot;:274761554,&quot;auth_type&quot;:&quot;LOG_IN&quot;,&quot;originating_url&quot;:&quot;https://github.com/ee16a/public_hw_notebooks/blob/master/sp24_hw7/q_matrix_visualization.ipynb&quot;,&quot;user_id&quot;:null}}" data-hydro-click-hmac="a65eeb7422961aeed41d59e28cc8b817ccb3b903fc6d5af0358203568c0b90db" aria-label="You must be signed in to star a repository" data-view-component="true" class="tooltipped tooltipped-s btn-sm btn BtnGroup-item">    <svg aria-hidden="true" height="16" viewBox="0 0 16 16" version="1.1" width="16" data-view-component="true" class="octicon octicon-star v-align-text-bottom d-inline-block mr-2">
    <path d="M8 .25a.75.75 0 0 1 .673.418l1.882 3.815 4.21.612a.75.75 0 0 1 .416 1.279l-3.046 2.97.719 4.192a.751.751 0 0 1-1.088.791L8 12.347l-3.766 1.98a.75.75 0 0 1-1.088-.79l.72-4.194L.818 6.374a.75.75 0 0 1 .416-1.28l4.21-.611L7.327.668A.75.75 0 0 1 8 .25Zm0 2.445L6.615 5.5a.75.75 0 0 1-.564.41l-3.097.45 2.24 2.184a.75.75 0 0 1 .216.664l-.528 3.084 2.769-1.456a.75.75 0 0 1 .698 0l2.77 1.456-.53-3.084a.75.75 0 0 1 .216-.664l2.24-2.183-3.096-.45a.75.75 0 0 1-.564-.41L8 2.694Z"></path>
</svg><span data-view-component="true" class="d-inline">
          Star
</span>          <span id="repo-stars-counter-star" aria-label="1 user starred this repository" data-singular-suffix="user starred this repository" data-plural-suffix="users starred this repository" data-turbo-replace="true" title="1" data-view-component="true" class="Counter js-social-count">1</span>
</a>        <button aria-label="You must be signed in to add this repository to a list" type="button" disabled="disabled" data-view-component="true" class="btn-sm btn BtnGroup-item px-2">    <svg aria-hidden="true" height="16" viewBox="0 0 16 16" version="1.1" width="16" data-view-component="true" class="octicon octicon-triangle-down">
    <path d="m4.427 7.427 3.396 3.396a.25.25 0 0 0 .354 0l3.396-3.396A.25.25 0 0 0 11.396 7H4.604a.25.25 0 0 0-.177.427Z"></path>
</svg>
</button></div>
  </li>

    <li>
        

    </li>
</ul>

        </div>
      </div>

        <div id="responsive-meta-container" data-turbo-replace>
</div>


          <nav data-pjax="#js-repo-pjax-container" aria-label="Repository" data-view-component="true" class="js-repo-nav js-sidenav-container-pjax js-responsive-underlinenav overflow-hidden UnderlineNav px-3 px-md-4 px-lg-5">

  <ul data-view-component="true" class="UnderlineNav-body list-style-none">
      <li data-view-component="true" class="d-inline-flex">
  <a id="code-tab" href="/ee16a/public_hw_notebooks" data-tab-item="i0code-tab" data-selected-links="repo_source repo_downloads repo_commits repo_releases repo_tags repo_branches repo_packages repo_deployments repo_attestations /ee16a/public_hw_notebooks" data-pjax="#repo-content-pjax-container" data-turbo-frame="repo-content-turbo-frame" data-hotkey="g c" data-analytics-event="{&quot;category&quot;:&quot;Underline navbar&quot;,&quot;action&quot;:&quot;Click tab&quot;,&quot;label&quot;:&quot;Code&quot;,&quot;target&quot;:&quot;UNDERLINE_NAV.TAB&quot;}" aria-current="page" data-view-component="true" class="UnderlineNav-item no-wrap js-responsive-underlinenav-item js-selected-navigation-item selected">
    
              <svg aria-hidden="true" height="16" viewBox="0 0 16 16" version="1.1" width="16" data-view-component="true" class="octicon octicon-code UnderlineNav-octicon d-none d-sm-inline">
    <path d="m11.28 3.22 4.25 4.25a.75.75 0 0 1 0 1.06l-4.25 4.25a.749.749 0 0 1-1.275-.326.749.749 0 0 1 .215-.734L13.94 8l-3.72-3.72a.749.749 0 0 1 .326-1.275.749.749 0 0 1 .734.215Zm-6.56 0a.751.751 0 0 1 1.042.018.751.751 0 0 1 .018 1.042L2.06 8l3.72 3.72a.749.749 0 0 1-.326 1.275.749.749 0 0 1-.734-.215L.47 8.53a.75.75 0 0 1 0-1.06Z"></path>
</svg>
        <span data-content="Code">Code</span>
          <span id="code-repo-tab-count" data-pjax-replace="" data-turbo-replace="" title="Not available" data-view-component="true" class="Counter"></span>


    
</a></li>
      <li data-view-component="true" class="d-inline-flex">
  <a id="issues-tab" href="/ee16a/public_hw_notebooks/issues" data-tab-item="i1issues-tab" data-selected-links="repo_issues repo_labels repo_milestones /ee16a/public_hw_notebooks/issues /_view_fragments/issues/index/ee16a/public_hw_notebooks/layout" data-pjax="#repo-content-pjax-container" data-turbo-frame="repo-content-turbo-frame" data-hotkey="g i" data-analytics-event="{&quot;category&quot;:&quot;Underline navbar&quot;,&quot;action&quot;:&quot;Click tab&quot;,&quot;label&quot;:&quot;Issues&quot;,&quot;target&quot;:&quot;UNDERLINE_NAV.TAB&quot;}" data-view-component="true" class="UnderlineNav-item no-wrap js-responsive-underlinenav-item js-selected-navigation-item">
    
              <svg aria-hidden="true" height="16" viewBox="0 0 16 16" version="1.1" width="16" data-view-component="true" class="octicon octicon-issue-opened UnderlineNav-octicon d-none d-sm-inline">
    <path d="M8 9.5a1.5 1.5 0 1 0 0-3 1.5 1.5 0 0 0 0 3Z"></path><path d="M8 0a8 8 0 1 1 0 16A8 8 0 0 1 8 0ZM1.5 8a6.5 6.5 0 1 0 13 0 6.5 6.5 0 0 0-13 0Z"></path>
</svg>
        <span data-content="Issues">Issues</span>
          <span id="issues-repo-tab-count" data-pjax-replace="" data-turbo-replace="" title="0" hidden="hidden" data-view-component="true" class="Counter">0</span>


    
</a></li>
      <li data-view-component="true" class="d-inline-flex">
  <a id="pull-requests-tab" href="/ee16a/public_hw_notebooks/pulls" data-tab-item="i2pull-requests-tab" data-selected-links="repo_pulls checks /ee16a/public_hw_notebooks/pulls" data-pjax="#repo-content-pjax-container" data-turbo-frame="repo-content-turbo-frame" data-hotkey="g p" data-analytics-event="{&quot;category&quot;:&quot;Underline navbar&quot;,&quot;action&quot;:&quot;Click tab&quot;,&quot;label&quot;:&quot;Pull requests&quot;,&quot;target&quot;:&quot;UNDERLINE_NAV.TAB&quot;}" data-view-component="true" class="UnderlineNav-item no-wrap js-responsive-underlinenav-item js-selected-navigation-item">
    
              <svg aria-hidden="true" height="16" viewBox="0 0 16 16" version="1.1" width="16" data-view-component="true" class="octicon octicon-git-pull-request UnderlineNav-octicon d-none d-sm-inline">
    <path d="M1.5 3.25a2.25 2.25 0 1 1 3 2.122v5.256a2.251 2.251 0 1 1-1.5 0V5.372A2.25 2.25 0 0 1 1.5 3.25Zm5.677-.177L9.573.677A.25.25 0 0 1 10 .854V2.5h1A2.5 2.5 0 0 1 13.5 5v5.628a2.251 2.251 0 1 1-1.5 0V5a1 1 0 0 0-1-1h-1v1.646a.25.25 0 0 1-.427.177L7.177 3.427a.25.25 0 0 1 0-.354ZM3.75 2.5a.75.75 0 1 0 0 1.5.75.75 0 0 0 0-1.5Zm0 9.5a.75.75 0 1 0 0 1.5.75.75 0 0 0 0-1.5Zm8.25.75a.75.75 0 1 0 1.5 0 .75.75 0 0 0-1.5 0Z"></path>
</svg>
        <span data-content="Pull requests">Pull requests</span>
          <span id="pull-requests-repo-tab-count" data-pjax-replace="" data-turbo-replace="" title="0" hidden="hidden" data-view-component="true" class="Counter">0</span>


    
</a></li>
      <li data-view-component="true" class="d-inline-flex">
  <a id="actions-tab" href="/ee16a/public_hw_notebooks/actions" data-tab-item="i3actions-tab" data-selected-links="repo_actions /ee16a/public_hw_notebooks/actions" data-pjax="#repo-content-pjax-container" data-turbo-frame="repo-content-turbo-frame" data-hotkey="g a" data-analytics-event="{&quot;category&quot;:&quot;Underline navbar&quot;,&quot;action&quot;:&quot;Click tab&quot;,&quot;label&quot;:&quot;Actions&quot;,&quot;target&quot;:&quot;UNDERLINE_NAV.TAB&quot;}" data-view-component="true" class="UnderlineNav-item no-wrap js-responsive-underlinenav-item js-selected-navigation-item">
    
              <svg aria-hidden="true" height="16" viewBox="0 0 16 16" version="1.1" width="16" data-view-component="true" class="octicon octicon-play UnderlineNav-octicon d-none d-sm-inline">
    <path d="M8 0a8 8 0 1 1 0 16A8 8 0 0 1 8 0ZM1.5 8a6.5 6.5 0 1 0 13 0 6.5 6.5 0 0 0-13 0Zm4.879-2.773 4.264 2.559a.25.25 0 0 1 0 .428l-4.264 2.559A.25.25 0 0 1 6 10.559V5.442a.25.25 0 0 1 .379-.215Z"></path>
</svg>
        <span data-content="Actions">Actions</span>
          <span id="actions-repo-tab-count" data-pjax-replace="" data-turbo-replace="" title="Not available" data-view-component="true" class="Counter"></span>


    
</a></li>
      <li data-view-component="true" class="d-inline-flex">
  <a id="projects-tab" href="/ee16a/public_hw_notebooks/projects" data-tab-item="i4projects-tab" data-selected-links="repo_projects new_repo_project repo_project /ee16a/public_hw_notebooks/projects" data-pjax="#repo-content-pjax-container" data-turbo-frame="repo-content-turbo-frame" data-hotkey="g b" data-analytics-event="{&quot;category&quot;:&quot;Underline navbar&quot;,&quot;action&quot;:&quot;Click tab&quot;,&quot;label&quot;:&quot;Projects&quot;,&quot;target&quot;:&quot;UNDERLINE_NAV.TAB&quot;}" data-view-component="true" class="UnderlineNav-item no-wrap js-responsive-underlinenav-item js-selected-navigation-item">
    
              <svg aria-hidden="true" height="16" viewBox="0 0 16 16" version="1.1" width="16" data-view-component="true" class="octicon octicon-table UnderlineNav-octicon d-none d-sm-inline">
    <path d="M0 1.75C0 .784.784 0 1.75 0h12.5C15.216 0 16 .784 16 1.75v12.5A1.75 1.75 0 0 1 14.25 16H1.75A1.75 1.75 0 0 1 0 14.25ZM6.5 6.5v8h7.75a.25.25 0 0 0 .25-.25V6.5Zm8-1.5V1.75a.25.25 0 0 0-.25-.25H6.5V5Zm-13 1.5v7.75c0 .138.112.25.25.25H5v-8ZM5 5V1.5H1.75a.25.25 0 0 0-.25.25V5Z"></path>
</svg>
        <span data-content="Projects">Projects</span>
          <span id="projects-repo-tab-count" data-pjax-replace="" data-turbo-replace="" title="0" hidden="hidden" data-view-component="true" class="Counter">0</span>


    
</a></li>
      <li data-view-component="true" class="d-inline-flex">
  <a id="security-tab" href="/ee16a/public_hw_notebooks/security" data-tab-item="i5security-tab" data-selected-links="security overview alerts policy token_scanning code_scanning /ee16a/public_hw_notebooks/security" data-pjax="#repo-content-pjax-container" data-turbo-frame="repo-content-turbo-frame" data-hotkey="g s" data-analytics-event="{&quot;category&quot;:&quot;Underline navbar&quot;,&quot;action&quot;:&quot;Click tab&quot;,&quot;label&quot;:&quot;Security&quot;,&quot;target&quot;:&quot;UNDERLINE_NAV.TAB&quot;}" data-view-component="true" class="UnderlineNav-item no-wrap js-responsive-underlinenav-item js-selected-navigation-item">
    
              <svg aria-hidden="true" height="16" viewBox="0 0 16 16" version="1.1" width="16" data-view-component="true" class="octicon octicon-shield UnderlineNav-octicon d-none d-sm-inline">
    <path d="M7.467.133a1.748 1.748 0 0 1 1.066 0l5.25 1.68A1.75 1.75 0 0 1 15 3.48V7c0 1.566-.32 3.182-1.303 4.682-.983 1.498-2.585 2.813-5.032 3.855a1.697 1.697 0 0 1-1.33 0c-2.447-1.042-4.049-2.357-5.032-3.855C1.32 10.182 1 8.566 1 7V3.48a1.75 1.75 0 0 1 1.217-1.667Zm.61 1.429a.25.25 0 0 0-.153 0l-5.25 1.68a.25.25 0 0 0-.174.238V7c0 1.358.275 2.666 1.057 3.86.784 1.194 2.121 2.34 4.366 3.297a.196.196 0 0 0 .154 0c2.245-.956 3.582-2.104 4.366-3.298C13.225 9.666 13.5 8.36 13.5 7V3.48a.251.251 0 0 0-.174-.237l-5.25-1.68ZM8.75 4.75v3a.75.75 0 0 1-1.5 0v-3a.75.75 0 0 1 1.5 0ZM9 10.5a1 1 0 1 1-2 0 1 1 0 0 1 2 0Z"></path>
</svg>
        <span data-content="Security">Security</span>
          <include-fragment src="/ee16a/public_hw_notebooks/security/overall-count" accept="text/fragment+html"></include-fragment>

    
</a></li>
      <li data-view-component="true" class="d-inline-flex">
  <a id="insights-tab" href="/ee16a/public_hw_notebooks/pulse" data-tab-item="i6insights-tab" data-selected-links="repo_graphs repo_contributors dependency_graph dependabot_updates pulse people community /ee16a/public_hw_notebooks/pulse" data-pjax="#repo-content-pjax-container" data-turbo-frame="repo-content-turbo-frame" data-analytics-event="{&quot;category&quot;:&quot;Underline navbar&quot;,&quot;action&quot;:&quot;Click tab&quot;,&quot;label&quot;:&quot;Insights&quot;,&quot;target&quot;:&quot;UNDERLINE_NAV.TAB&quot;}" data-view-component="true" class="UnderlineNav-item no-wrap js-responsive-underlinenav-item js-selected-navigation-item">
    
              <svg aria-hidden="true" height="16" viewBox="0 0 16 16" version="1.1" width="16" data-view-component="true" class="octicon octicon-graph UnderlineNav-octicon d-none d-sm-inline">
    <path d="M1.5 1.75V13.5h13.75a.75.75 0 0 1 0 1.5H.75a.75.75 0 0 1-.75-.75V1.75a.75.75 0 0 1 1.5 0Zm14.28 2.53-5.25 5.25a.75.75 0 0 1-1.06 0L7 7.06 4.28 9.78a.751.751 0 0 1-1.042-.018.751.751 0 0 1-.018-1.042l3.25-3.25a.75.75 0 0 1 1.06 0L10 7.94l4.72-4.72a.751.751 0 0 1 1.042.018.751.751 0 0 1 .018 1.042Z"></path>
</svg>
        <span data-content="Insights">Insights</span>
          <span id="insights-repo-tab-count" data-pjax-replace="" data-turbo-replace="" title="Not available" data-view-component="true" class="Counter"></span>


    
</a></li>
</ul>
    <div style="visibility:hidden;" data-view-component="true" class="UnderlineNav-actions js-responsive-underlinenav-overflow position-absolute pr-3 pr-md-4 pr-lg-5 right-0">      <action-menu data-select-variant="none" data-view-component="true">
  <focus-group direction="vertical" mnemonics retain>
    <button id="action-menu-c7678d08-59c4-464b-ac51-da676035436f-button" popovertarget="action-menu-c7678d08-59c4-464b-ac51-da676035436f-overlay" aria-controls="action-menu-c7678d08-59c4-464b-ac51-da676035436f-list" aria-haspopup="true" aria-labelledby="tooltip-d64f69b5-9130-4b78-b206-c191e8535279" type="button" data-view-component="true" class="Button Button--iconOnly Button--secondary Button--medium UnderlineNav-item">  <svg aria-hidden="true" height="16" viewBox="0 0 16 16" version="1.1" width="16" data-view-component="true" class="octicon octicon-kebab-horizontal Button-visual">
    <path d="M8 9a1.5 1.5 0 1 0 0-3 1.5 1.5 0 0 0 0 3ZM1.5 9a1.5 1.5 0 1 0 0-3 1.5 1.5 0 0 0 0 3Zm13 0a1.5 1.5 0 1 0 0-3 1.5 1.5 0 0 0 0 3Z"></path>
</svg>
</button><tool-tip id="tooltip-d64f69b5-9130-4b78-b206-c191e8535279" for="action-menu-c7678d08-59c4-464b-ac51-da676035436f-button" popover="manual" data-direction="s" data-type="label" data-view-component="true" class="sr-only position-absolute">Additional navigation options</tool-tip>


<anchored-position id="action-menu-c7678d08-59c4-464b-ac51-da676035436f-overlay" anchor="action-menu-c7678d08-59c4-464b-ac51-da676035436f-button" align="start" side="outside-bottom" anchor-offset="normal" popover="auto" data-view-component="true">
  <div data-view-component="true" class="Overlay Overlay--size-auto">
    
      <div data-view-component="true" class="Overlay-body Overlay-body--paddingNone">          <action-list>
  <div data-view-component="true">
    <ul aria-labelledby="action-menu-c7678d08-59c4-464b-ac51-da676035436f-button" id="action-menu-c7678d08-59c4-464b-ac51-da676035436f-list" role="menu" data-view-component="true" class="ActionListWrap--inset ActionListWrap">
        <li hidden="hidden" data-menu-item="i0code-tab" data-targets="action-list.items" role="none" data-view-component="true" class="ActionListItem">
    
    
    <a tabindex="-1" id="item-a09927b1-242f-4d8e-a00c-79a322bb17bb" href="/ee16a/public_hw_notebooks" role="menuitem" data-view-component="true" class="ActionListContent ActionListContent--visual16">
        <span class="ActionListItem-visual ActionListItem-visual--leading">
          <svg aria-hidden="true" height="16" viewBox="0 0 16 16" version="1.1" width="16" data-view-component="true" class="octicon octicon-code">
    <path d="m11.28 3.22 4.25 4.25a.75.75 0 0 1 0 1.06l-4.25 4.25a.749.749 0 0 1-1.275-.326.749.749 0 0 1 .215-.734L13.94 8l-3.72-3.72a.749.749 0 0 1 .326-1.275.749.749 0 0 1 .734.215Zm-6.56 0a.751.751 0 0 1 1.042.018.751.751 0 0 1 .018 1.042L2.06 8l3.72 3.72a.749.749 0 0 1-.326 1.275.749.749 0 0 1-.734-.215L.47 8.53a.75.75 0 0 1 0-1.06Z"></path>
</svg>
        </span>
      
        <span data-view-component="true" class="ActionListItem-label">
          Code
</span></a>
  
</li>
        <li hidden="hidden" data-menu-item="i1issues-tab" data-targets="action-list.items" role="none" data-view-component="true" class="ActionListItem">
    
    
    <a tabindex="-1" id="item-862ad645-4649-4413-9b99-f2ad5b2240a9" href="/ee16a/public_hw_notebooks/issues" role="menuitem" data-view-component="true" class="ActionListContent ActionListContent--visual16">
        <span class="ActionListItem-visual ActionListItem-visual--leading">
          <svg aria-hidden="true" height="16" viewBox="0 0 16 16" version="1.1" width="16" data-view-component="true" class="octicon octicon-issue-opened">
    <path d="M8 9.5a1.5 1.5 0 1 0 0-3 1.5 1.5 0 0 0 0 3Z"></path><path d="M8 0a8 8 0 1 1 0 16A8 8 0 0 1 8 0ZM1.5 8a6.5 6.5 0 1 0 13 0 6.5 6.5 0 0 0-13 0Z"></path>
</svg>
        </span>
      
        <span data-view-component="true" class="ActionListItem-label">
          Issues
</span></a>
  
</li>
        <li hidden="hidden" data-menu-item="i2pull-requests-tab" data-targets="action-list.items" role="none" data-view-component="true" class="ActionListItem">
    
    
    <a tabindex="-1" id="item-2949549b-91e4-4f25-91c8-ed0d1dfebf15" href="/ee16a/public_hw_notebooks/pulls" role="menuitem" data-view-component="true" class="ActionListContent ActionListContent--visual16">
        <span class="ActionListItem-visual ActionListItem-visual--leading">
          <svg aria-hidden="true" height="16" viewBox="0 0 16 16" version="1.1" width="16" data-view-component="true" class="octicon octicon-git-pull-request">
    <path d="M1.5 3.25a2.25 2.25 0 1 1 3 2.122v5.256a2.251 2.251 0 1 1-1.5 0V5.372A2.25 2.25 0 0 1 1.5 3.25Zm5.677-.177L9.573.677A.25.25 0 0 1 10 .854V2.5h1A2.5 2.5 0 0 1 13.5 5v5.628a2.251 2.251 0 1 1-1.5 0V5a1 1 0 0 0-1-1h-1v1.646a.25.25 0 0 1-.427.177L7.177 3.427a.25.25 0 0 1 0-.354ZM3.75 2.5a.75.75 0 1 0 0 1.5.75.75 0 0 0 0-1.5Zm0 9.5a.75.75 0 1 0 0 1.5.75.75 0 0 0 0-1.5Zm8.25.75a.75.75 0 1 0 1.5 0 .75.75 0 0 0-1.5 0Z"></path>
</svg>
        </span>
      
        <span data-view-component="true" class="ActionListItem-label">
          Pull requests
</span></a>
  
</li>
        <li hidden="hidden" data-menu-item="i3actions-tab" data-targets="action-list.items" role="none" data-view-component="true" class="ActionListItem">
    
    
    <a tabindex="-1" id="item-87292af6-ca57-4348-8844-fbcd5518e454" href="/ee16a/public_hw_notebooks/actions" role="menuitem" data-view-component="true" class="ActionListContent ActionListContent--visual16">
        <span class="ActionListItem-visual ActionListItem-visual--leading">
          <svg aria-hidden="true" height="16" viewBox="0 0 16 16" version="1.1" width="16" data-view-component="true" class="octicon octicon-play">
    <path d="M8 0a8 8 0 1 1 0 16A8 8 0 0 1 8 0ZM1.5 8a6.5 6.5 0 1 0 13 0 6.5 6.5 0 0 0-13 0Zm4.879-2.773 4.264 2.559a.25.25 0 0 1 0 .428l-4.264 2.559A.25.25 0 0 1 6 10.559V5.442a.25.25 0 0 1 .379-.215Z"></path>
</svg>
        </span>
      
        <span data-view-component="true" class="ActionListItem-label">
          Actions
</span></a>
  
</li>
        <li hidden="hidden" data-menu-item="i4projects-tab" data-targets="action-list.items" role="none" data-view-component="true" class="ActionListItem">
    
    
    <a tabindex="-1" id="item-cab4f3bc-c536-4b08-b04c-e8eee42b9eb1" href="/ee16a/public_hw_notebooks/projects" role="menuitem" data-view-component="true" class="ActionListContent ActionListContent--visual16">
        <span class="ActionListItem-visual ActionListItem-visual--leading">
          <svg aria-hidden="true" height="16" viewBox="0 0 16 16" version="1.1" width="16" data-view-component="true" class="octicon octicon-table">
    <path d="M0 1.75C0 .784.784 0 1.75 0h12.5C15.216 0 16 .784 16 1.75v12.5A1.75 1.75 0 0 1 14.25 16H1.75A1.75 1.75 0 0 1 0 14.25ZM6.5 6.5v8h7.75a.25.25 0 0 0 .25-.25V6.5Zm8-1.5V1.75a.25.25 0 0 0-.25-.25H6.5V5Zm-13 1.5v7.75c0 .138.112.25.25.25H5v-8ZM5 5V1.5H1.75a.25.25 0 0 0-.25.25V5Z"></path>
</svg>
        </span>
      
        <span data-view-component="true" class="ActionListItem-label">
          Projects
</span></a>
  
</li>
        <li hidden="hidden" data-menu-item="i5security-tab" data-targets="action-list.items" role="none" data-view-component="true" class="ActionListItem">
    
    
    <a tabindex="-1" id="item-e20d965e-1422-48a3-9746-28ee9d76cd8d" href="/ee16a/public_hw_notebooks/security" role="menuitem" data-view-component="true" class="ActionListContent ActionListContent--visual16">
        <span class="ActionListItem-visual ActionListItem-visual--leading">
          <svg aria-hidden="true" height="16" viewBox="0 0 16 16" version="1.1" width="16" data-view-component="true" class="octicon octicon-shield">
    <path d="M7.467.133a1.748 1.748 0 0 1 1.066 0l5.25 1.68A1.75 1.75 0 0 1 15 3.48V7c0 1.566-.32 3.182-1.303 4.682-.983 1.498-2.585 2.813-5.032 3.855a1.697 1.697 0 0 1-1.33 0c-2.447-1.042-4.049-2.357-5.032-3.855C1.32 10.182 1 8.566 1 7V3.48a1.75 1.75 0 0 1 1.217-1.667Zm.61 1.429a.25.25 0 0 0-.153 0l-5.25 1.68a.25.25 0 0 0-.174.238V7c0 1.358.275 2.666 1.057 3.86.784 1.194 2.121 2.34 4.366 3.297a.196.196 0 0 0 .154 0c2.245-.956 3.582-2.104 4.366-3.298C13.225 9.666 13.5 8.36 13.5 7V3.48a.251.251 0 0 0-.174-.237l-5.25-1.68ZM8.75 4.75v3a.75.75 0 0 1-1.5 0v-3a.75.75 0 0 1 1.5 0ZM9 10.5a1 1 0 1 1-2 0 1 1 0 0 1 2 0Z"></path>
</svg>
        </span>
      
        <span data-view-component="true" class="ActionListItem-label">
          Security
</span></a>
  
</li>
        <li hidden="hidden" data-menu-item="i6insights-tab" data-targets="action-list.items" role="none" data-view-component="true" class="ActionListItem">
    
    
    <a tabindex="-1" id="item-8ed57293-db29-4afb-a143-e871b49bc954" href="/ee16a/public_hw_notebooks/pulse" role="menuitem" data-view-component="true" class="ActionListContent ActionListContent--visual16">
        <span class="ActionListItem-visual ActionListItem-visual--leading">
          <svg aria-hidden="true" height="16" viewBox="0 0 16 16" version="1.1" width="16" data-view-component="true" class="octicon octicon-graph">
    <path d="M1.5 1.75V13.5h13.75a.75.75 0 0 1 0 1.5H.75a.75.75 0 0 1-.75-.75V1.75a.75.75 0 0 1 1.5 0Zm14.28 2.53-5.25 5.25a.75.75 0 0 1-1.06 0L7 7.06 4.28 9.78a.751.751 0 0 1-1.042-.018.751.751 0 0 1-.018-1.042l3.25-3.25a.75.75 0 0 1 1.06 0L10 7.94l4.72-4.72a.751.751 0 0 1 1.042.018.751.751 0 0 1 .018 1.042Z"></path>
</svg>
        </span>
      
        <span data-view-component="true" class="ActionListItem-label">
          Insights
</span></a>
  
</li>
</ul>    
</div></action-list>


</div>
      
</div></anchored-position>  </focus-group>
</action-menu></div>
</nav>

  </div>

  



<turbo-frame id="repo-content-turbo-frame" target="_top" data-turbo-action="advance" class="">
    <div id="repo-content-pjax-container" class="repository-content " >
    



    
      
    






<react-app
  app-name="react-code-view"
  initial-path="/ee16a/public_hw_notebooks/blob/master/sp24_hw7/q_matrix_visualization.ipynb"
  style="display: block; min-height: calc(100vh - 64px)" 
  data-ssr="true"
  data-lazy="false"
  data-alternate="false"
>
  
  <script type="application/json" data-target="react-app.embeddedData">{"payload":{"allShortcutsEnabled":false,"fileTree":{"sp24_hw7":{"items":[{"name":"q_matrix_visualization.ipynb","path":"sp24_hw7/q_matrix_visualization.ipynb","contentType":"file"}],"totalCount":1},"":{"items":[{"name":".idea","path":".idea","contentType":"directory"},{"name":"fa19_OMP","path":"fa19_OMP","contentType":"directory"},{"name":"fa19_det_demo","path":"fa19_det_demo","contentType":"directory"},{"name":"fa19_eigval_demo","path":"fa19_eigval_demo","contentType":"directory"},{"name":"fa19_gauss_elim","path":"fa19_gauss_elim","contentType":"directory"},{"name":"fa19_linsys","path":"fa19_linsys","contentType":"directory"},{"name":"fa20_dis02B","path":"fa20_dis02B","contentType":"directory"},{"name":"fa20_dis03A","path":"fa20_dis03A","contentType":"directory"},{"name":"fa20_dis14A","path":"fa20_dis14A","contentType":"directory"},{"name":"fa20_hw12","path":"fa20_hw12","contentType":"directory"},{"name":"fa20_hw13","path":"fa20_hw13","contentType":"directory"},{"name":"fa20_hw2","path":"fa20_hw2","contentType":"directory"},{"name":"fa20_hw2_sol","path":"fa20_hw2_sol","contentType":"directory"},{"name":"fa20_hw3","path":"fa20_hw3","contentType":"directory"},{"name":"fa20_hw3_sol","path":"fa20_hw3_sol","contentType":"directory"},{"name":"fa20_hw4","path":"fa20_hw4","contentType":"directory"},{"name":"fa20_hw4_sol","path":"fa20_hw4_sol","contentType":"directory"},{"name":"fa20_hw5","path":"fa20_hw5","contentType":"directory"},{"name":"fa20_hw5_sol","path":"fa20_hw5_sol","contentType":"directory"},{"name":"fa22_dis02B","path":"fa22_dis02B","contentType":"directory"},{"name":"fa22_dis03B","path":"fa22_dis03B","contentType":"directory"},{"name":"fa22_hw02","path":"fa22_hw02","contentType":"directory"},{"name":"fa22_hw03","path":"fa22_hw03","contentType":"directory"},{"name":"fa22_hw03_sol","path":"fa22_hw03_sol","contentType":"directory"},{"name":"fa22_hw13","path":"fa22_hw13","contentType":"directory"},{"name":"fa23_dis03B","path":"fa23_dis03B","contentType":"directory"},{"name":"fa23_dis14B","path":"fa23_dis14B","contentType":"directory"},{"name":"fa23_hw1","path":"fa23_hw1","contentType":"directory"},{"name":"fa23_hw12","path":"fa23_hw12","contentType":"directory"},{"name":"fa23_hw12_sol","path":"fa23_hw12_sol","contentType":"directory"},{"name":"fa23_hw13","path":"fa23_hw13","contentType":"directory"},{"name":"fa23_hw13_sol","path":"fa23_hw13_sol","contentType":"directory"},{"name":"fa23_hw1_sol","path":"fa23_hw1_sol","contentType":"directory"},{"name":"fa23_hw2","path":"fa23_hw2","contentType":"directory"},{"name":"fa23_hw2_sol","path":"fa23_hw2_sol","contentType":"directory"},{"name":"fa23_hw3","path":"fa23_hw3","contentType":"directory"},{"name":"fa23_hw3_sol","path":"fa23_hw3_sol","contentType":"directory"},{"name":"fa23_hw4","path":"fa23_hw4","contentType":"directory"},{"name":"fa23_hw4_sol","path":"fa23_hw4_sol","contentType":"directory"},{"name":"fa23_hw7","path":"fa23_hw7","contentType":"directory"},{"name":"fa23_hw7_sol","path":"fa23_hw7_sol","contentType":"directory"},{"name":"fa23_last_lecture","path":"fa23_last_lecture","contentType":"directory"},{"name":"sp21_dis02A","path":"sp21_dis02A","contentType":"directory"},{"name":"sp21_dis02B","path":"sp21_dis02B","contentType":"directory"},{"name":"sp21_dis03A","path":"sp21_dis03A","contentType":"directory"},{"name":"sp21_dis04B","path":"sp21_dis04B","contentType":"directory"},{"name":"sp21_hw02","path":"sp21_hw02","contentType":"directory"},{"name":"sp21_hw03","path":"sp21_hw03","contentType":"directory"},{"name":"sp21_hw04","path":"sp21_hw04","contentType":"directory"},{"name":"sp21_hw05","path":"sp21_hw05","contentType":"directory"},{"name":"sp21_hwsol02","path":"sp21_hwsol02","contentType":"directory"},{"name":"sp21_hwsol03","path":"sp21_hwsol03","contentType":"directory"},{"name":"sp21_hwsol04","path":"sp21_hwsol04","contentType":"directory"},{"name":"sp21hw_04","path":"sp21hw_04","contentType":"directory"},{"name":"sp23_dis02B","path":"sp23_dis02B","contentType":"directory"},{"name":"sp23_dis13B","path":"sp23_dis13B","contentType":"directory"},{"name":"sp23_dis14B","path":"sp23_dis14B","contentType":"directory"},{"name":"sp23_hw02","path":"sp23_hw02","contentType":"directory"},{"name":"sp23_hw02_sol","path":"sp23_hw02_sol","contentType":"directory"},{"name":"sp23_hw03","path":"sp23_hw03","contentType":"directory"},{"name":"sp23_hw03_sol","path":"sp23_hw03_sol","contentType":"directory"},{"name":"sp23_hw05","path":"sp23_hw05","contentType":"directory"},{"name":"sp23_hw05_sol","path":"sp23_hw05_sol","contentType":"directory"},{"name":"sp23_hw13","path":"sp23_hw13","contentType":"directory"},{"name":"sp23_hw13_sol","path":"sp23_hw13_sol","contentType":"directory"},{"name":"sp23_hw14","path":"sp23_hw14","contentType":"directory"},{"name":"sp23_hw14_sol","path":"sp23_hw14_sol","contentType":"directory"},{"name":"sp23_hw15","path":"sp23_hw15","contentType":"directory"},{"name":"sp23_hw15_sol","path":"sp23_hw15_sol","contentType":"directory"},{"name":"sp24_dis11","path":"sp24_dis11","contentType":"directory"},{"name":"sp24_hw10","path":"sp24_hw10","contentType":"directory"},{"name":"sp24_hw10_sol","path":"sp24_hw10_sol","contentType":"directory"},{"name":"sp24_hw11","path":"sp24_hw11","contentType":"directory"},{"name":"sp24_hw11_sol","path":"sp24_hw11_sol","contentType":"directory"},{"name":"sp24_hw7","path":"sp24_hw7","contentType":"directory"},{"name":"sp24_hw8","path":"sp24_hw8","contentType":"directory"},{"name":"sp24_hw8_sol","path":"sp24_hw8_sol","contentType":"directory"},{"name":"su20_dis0D","path":"su20_dis0D","contentType":"directory"},{"name":"su20_dis1B","path":"su20_dis1B","contentType":"directory"},{"name":"su20_dis1C","path":"su20_dis1C","contentType":"directory"},{"name":"su20_dis6B","path":"su20_dis6B","contentType":"directory"},{"name":"su20_dis6D","path":"su20_dis6D","contentType":"directory"},{"name":"su20_finalpractice","path":"su20_finalpractice","contentType":"directory"},{"name":"su20_hw0B","path":"su20_hw0B","contentType":"directory"},{"name":"su20_hw1A","path":"su20_hw1A","contentType":"directory"},{"name":"su20_hw1B","path":"su20_hw1B","contentType":"directory"},{"name":"su20_hw2B","path":"su20_hw2B","contentType":"directory"},{"name":"su20_hw6A","path":"su20_hw6A","contentType":"directory"},{"name":"su20_hw6B","path":"su20_hw6B","contentType":"directory"},{"name":"su20_hw7A","path":"su20_hw7A","contentType":"directory"},{"name":"su20_lec1C","path":"su20_lec1C","contentType":"directory"},{"name":"su20_lec1D","path":"su20_lec1D","contentType":"directory"},{"name":"su20_lec2A","path":"su20_lec2A","contentType":"directory"},{"name":"su20_lec2B","path":"su20_lec2B","contentType":"directory"},{"name":"su20_lec5D","path":"su20_lec5D","contentType":"directory"},{"name":"su20_lec6B","path":"su20_lec6B","contentType":"directory"},{"name":"su23_dis02D","path":"su23_dis02D","contentType":"directory"},{"name":"su23_dis07D","path":"su23_dis07D","contentType":"directory"},{"name":"su23_hw02","path":"su23_hw02","contentType":"directory"},{"name":"su23_hw02_sol","path":"su23_hw02_sol","contentType":"directory"},{"name":"su23_hw03","path":"su23_hw03","contentType":"directory"},{"name":"su23_hw03_sol","path":"su23_hw03_sol","contentType":"directory"},{"name":"su23_hw04","path":"su23_hw04","contentType":"directory"},{"name":"su23_hw04_sol","path":"su23_hw04_sol","contentType":"directory"},{"name":"su23_hw07","path":"su23_hw07","contentType":"directory"},{"name":"su23_hw07_sol","path":"su23_hw07_sol","contentType":"directory"},{"name":"test","path":"test","contentType":"directory"},{"name":".gitignore","path":".gitignore","contentType":"file"},{"name":"README.md","path":"README.md","contentType":"file"}],"totalCount":109}},"fileTreeProcessingTime":11.081314,"foldersToFetch":[],"repo":{"id":274761554,"defaultBranch":"master","name":"public_hw_notebooks","ownerLogin":"ee16a","currentUserCanPush":false,"isFork":false,"isEmpty":false,"createdAt":"2020-06-24T20:19:14.000Z","ownerAvatar":"https://avatars.githubusercontent.com/u/10691876?v=4","public":true,"private":false,"isOrgOwned":true},"codeLineWrapEnabled":false,"symbolsExpanded":false,"treeExpanded":true,"refInfo":{"name":"master","listCacheKey":"v0:1630739598.772417","canEdit":false,"refType":"branch","currentOid":"4a734e1f5726a0f8db67d96187026c995e311c5b"},"path":"sp24_hw7/q_matrix_visualization.ipynb","currentUser":null,"blob":{"rawLines":["{"," \"cells\": [","  {","   \"cell_type\": \"markdown\",","   \"metadata\": {},","   \"source\": [","    \"# EECS 16A Discussion 7\"","   ]","  },","  {","   \"cell_type\": \"markdown\",","   \"metadata\": {},","   \"source\": [","    \"## Visualizing Matrices as Geometric Transformations on Vectors\"","   ]","  },","  {","   \"cell_type\": \"markdown\",","   \"metadata\": {},","   \"source\": [","    \"This exercise is going to help you visualize matrices as geometric transformations on vectors; it closely follows problem 2 on discussion 7. For example, when we multiply a vector by a rotation matrix, we will see it \\\"rotate\\\" in the true sense here. Similarly, when we multiply a vector by a scaling matrix, we will see it \\\"scale\\\". The way we will see this is by applying the operation to all the vertices of a polygon and seeing how the polygon changes.\\n\",","    \"Let's first do the necessary imports and define some useful functions to do this.\"","   ]","  },","  {","   \"cell_type\": \"code\",","   \"execution_count\": 11,","   \"metadata\": {},","   \"outputs\": [],","   \"source\": [","    \"%matplotlib inline\\n\",","    \"import numpy as np\\n\",","    \"import matplotlib.pyplot as plt\\n\",","    \"\\n\",","    \"\\\"\\\"\\\"Function that takes the vertices of a polygon and applies a matrix \\\"transformation\\\" to each of them, effectively\\n\",","    \"\\\"transforming\\\" the polygon.\\\"\\\"\\\"\\n\",","    \"def transform_the_polygon(polygon, T):\\n\",","    \"    transformed_polygon = []\\n\",","    \"    for point in polygon:\\n\",","    \"        transformed_point = np.dot(T, point)\\n\",","    \"        transformed_polygon.append(transformed_point)\\n\",","    \"    return transformed_polygon\\n\",","    \"\\n\",","    \"\\\"\\\"\\\"Function that plots a polygon in the x-y plane, given its vertices as x-y coordinates. The plot is defined in terms\\n\",","    \"of line segments connecting all adjacent vertices of the polygon.\\\"\\\"\\\"\\n\",","    \"def plot_the_polygon(polygon):\\n\",","    \"    fig = plt.figure(figsize=(6,6))\\n\",","    \"    ax = fig.add_subplot(111, xlim = [-3, 3], ylim = [-3, 3])\\n\",","    \"    for i in range(len(polygon) - 1):\\n\",","    \"        ax.plot([polygon[i][0], polygon[i+1][0]],\\n\",","    \"                [polygon[i][1], polygon[i+1][1]],linewidth = 3)\\n\",","    \"    ax.plot([polygon[i+1][0], polygon[0][0]], [polygon[i+1][1], polygon[0][1]],linewidth = 3)\\n\",","    \"    ax.grid(True)\\n\",","    \"    ax.axhline(y=0, color='k', linestyle = '--', linewidth = 1.5)\\n\",","    \"    ax.axvline(x=0, color='k', linestyle = '--', linewidth = 1.5)\\n\",","    \"    #plt.show()\\n\",","    \"\\n\",","    \"Re_y = np.array([[-1, 0], \\n\",","    \"                 [ 0, 1]])\\n\",","    \"T1=np.array([[ 0.96592583, -0.25881905],\\n\",","    \"             [ 0.25881905,  0.96592583]])\\n\",","    \"T2=np.array([[ 0.8660254, -0.5      ],\\n\",","    \"             [ 0.5      ,  0.8660254]])\"","   ]","  },","  {","   \"cell_type\": \"markdown\",","   \"metadata\": {},","   \"source\": [","    \"Next, we define our starting polygon, a square whose side is of length 1. Let's see what the square looks like.\"","   ]","  },","  {","   \"cell_type\": \"code\",","   \"execution_count\": 12,","   \"metadata\": {},","   \"outputs\": [","    {","     \"data\": {","      \"image/png\": \"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\",","      \"text/plain\": [","       \"\u003cFigure size 600x600 with 1 Axes\u003e\"","      ]","     },","     \"metadata\": {},","     \"output_type\": \"display_data\"","    }","   ],","   \"source\": [","    \"unit_square = [np.array([0,0]), np.array([1,0]), np.array([1,1]), np.array([0,1])]\\n\",","    \"plot_the_polygon(unit_square)\\n\",","    \"plt.show()\"","   ]","  },","  {","   \"cell_type\": \"markdown\",","   \"metadata\": {},","   \"source\": [","    \"Let's use matrices $T_1$ and $T_2$ to rotate the square by 45 degrees.\"","   ]","  },","  {","   \"cell_type\": \"code\",","   \"execution_count\": 13,","   \"metadata\": {},","   \"outputs\": [","    {","     \"data\": {","      \"image/png\": \"iVBORw0KGgoAAAANSUhEUgAAAgcAAAH/CAYAAADDiH7SAAAAOXRFWHRTb2Z0d2FyZQBNYXRwbG90bGliIHZlcnNpb24zLjcuMSwgaHR0cHM6Ly9tYXRwbG90bGliLm9yZy/bCgiHAAAACXBIWXMAAA9hAAAPYQGoP6dpAAA53ElEQVR4nO3deXxTVd7H8W+6pU2hRVbZWjYRUUEEF1ARBER0VB5GnRmUxUFGEFwGZkZ0kEXHwYVR0UcRB2VxRHRUYNSiUxkEh02LgIiCgErZdwp0SdPkPn9U8nBIW5uQ9Kbh83698no1pye5P4836Zdzck8clmVZAgAA+Emc3QUAAIDoQjgAAAAGwgEAADAQDgAAgIFwAAAADIQDAABgIBwAAAAD4QAAABgIBwAAwEA4AAAAhoiGg6lTp6pdu3ZKS0tTWlqaOnfurIULF0bykAAA4DQ5IvndCu+//77i4+N1zjnnyLIszZo1S08//bTWrFmj888/P1KHBQAApyGi4aAstWvX1tNPP60hQ4ZU5WEBAEAlJVTVgbxer/75z38qPz9fnTt3LrOP2+2W2+323/f5fDp06JDq1Kkjh8NRVaUCAFDtWZalY8eOqVGjRoqLC/JTBFaEffXVV1ZqaqoVHx9vpaenWx9++GG5fcePH29J4saNGzdu3LiF6bZ9+/ag/3ZHfFmhuLhYubm5ysvL0zvvvKPp06dryZIlatu2bUDfU2cO8vLylJGRoe+++061a9eOZJkxxePxaPHixerevbsSExPtLqdaYMyC5/F4NGPGDH333Xd69NFH5XK57C6pWuBcCw3jFrxDhw6pdevWOnLkiNLT04N6bMSXFZKSktSqVStJUseOHfXFF19oypQpmjZtWkBfp9Mpp9MZ0F67dm3VqVMn0qXGDI/HI5fLpTp16vAiqiTGLHj5+fl6+OGHJUnPPvusatWqZW9B1QTnWmgYt9CFsixf5fsc+Hw+Y3YAAABEl4jOHDz00EPq06ePMjIydOzYMc2ZM0effvqpPv7440geFgAAnIaIhoN9+/Zp4MCB2r17t9LT09WuXTt9/PHH6tWrVyQPCwAATkNEw8Grr74ayacHAAARwHcrAAAAA+EAAAAYqmyHRACxxel0av78+crJySnzEmQA1RfhAEBIEhISdP311/t/BhA7WFYAAAAGwgGAkHg8Hs2ePVuLFi2Sx+OxuxwAYUQ4ABCS4uJi3XXXXXrhhRdUXFxsdzkAwohwAAAADIQDAABgIBwAAAAD4QAAABgIBwAAwEA4AAAABrY1AxASp9OpOXPmaM2aNWyfDMQYwgGAkCQkJOiWW26Ry+Vi+2QgxrCsAAAADIQDACEpKSnRO++8o2XLlqmkpMTucgCEEeEAQEjcbrf69++vp59+Wm632+5yAIQR4QAAABgIBwAAwEA4AAAABsIBAAAwEA4AAICBcAAAAAxsawYgJElJSZo+fbrWrVunpKQku8sBEEbMHAAISWJiogYOHKgePXooMTHR7nIAhBHhAAAAGAgHAEJSUlKirKws5eTksH0yEGP4zAGAkLjdbvXt21eSNHr0aKWkpNhbEICwYeYAAAAYCAcAAMBAOAAAAAbCAQAAMBAOAACAgXAAAAAMXMoIICRJSUmaMmWKNmzYwPbJQIxh5gBASBITEzV8+HBdf/31bJ8MxBjCAQAAMBAOAITE6/VqyZIlWr9+vbxer93lAAgjPnMAICRFRUXq1auXJGnkyJFKTk62uSIA4cLMAQAAMBAOAACAgXAAAAAMhAMAAGAgHAAAAAPhAAAAGLiUEUBIEhMTNWnSJG3cuJEdEoEYQzgAEJKkpCSNHj1aWVlZfLcCEGNYVgAAAAbCAYCQeL1e5eTkaPPmzWyfDMQYlhUAhKSoqEhdunSRJN11111snwzEEGYOAACAgXAAAAAMhAMAAGAgHAAAAAPhAAAAGAgHAADAwKWMAEKSmJiosWPHavPmzWyfDMQYwgGAkCQlJWncuHFsnwzEIJYVAACAgXAAICQ+n08bNmxQbm6ufD6f3eUACCOWFQCEpLCwUB06dJAkDRgwQE6n0+aKAIQLMwcAAMBAOAAAAAbCAQAAMBAOAACAIaLhYNKkSbrkkktUs2ZN1a9fX3379tWmTZsieUgAAHCaIhoOlixZohEjRmjlypXKzs6Wx+PRtddeq/z8/EgeFgAAnIaIXsr40UcfGfdnzpyp+vXra/Xq1eratWskDw0gwhITEzVq1Ch9//33bJ8MxJgq3ecgLy9PklS7du0yf+92u+V2u/33jx49KknyeDzyeDyRLzBGnBgrxqzyGLPgORwOPfbYY8rOzpbD4WDsKolzLTSMW/BOZ6wclmVZYaylXD6fTzfddJOOHDmi//73v2X2mTBhgiZOnBjQPmfOHLlcrkiXCABAzCgoKFD//v2Vl5entLS0oB5bZeFg+PDhWrhwof773/+qSZMmZfYpa+agadOm2r17t+rUqVMVZcYEj8ej7Oxs9erVi+neSmLMgufz+fT999/rs88+U//+/dkhsZI410LDuAXv4MGDatiwYUjhoEqWFUaOHKkPPvhAS5cuLTcYSJLT6SzzDSYxMZGTIQSMW/AYs8rLz89X27ZtJUm33XabatSoYXNF1QvnWmgYt8o7nXGKaDiwLEv33nuv5s2bp08//VTNmzeP5OEAAEAYRDQcjBgxQnPmzNGCBQtUs2ZN7dmzR5KUnp6ulJSUSB4aAACEKKL7HEydOlV5eXnq1q2bGjZs6L+99dZbkTwsAAA4DRFfVgAAANUL360AAAAMhAMAAGCo0h0SAcSOhIQEDRs2TNu2bVNCAm8lQCzhFQ0gJE6nU88//7yysrLYAAmIMSwrAAAAA+EAQEgsy9L+/fuVl5fHlUlAjGFZAUBICgoK1LhxY0nSTTfdpKSkJJsrAhAuzBwAAAAD4QAAABgIBwAAwEA4AAAABsIBAAAwEA4AAICBSxkBhCQhIUEDBgzQjh072D4ZiDG8ogGExOl06tVXX2X7ZCAGsawAAAAMhAMAIbEsS/n5+SoqKmL7ZCDGsKwAICQFBQU666yzJEmHDx9m+2QghjBzAAAADIQDAABgIBwAAAAD4QAAABgIBwAAwEA4AAAABi5lBBCS+Ph49evXT3v27FF8fLzd5QAII8IBgJAkJydr7ty5ysrKUnJyst3lAAgjlhUAAICBcAAAAAwsKwAISX5+vmrUqCGpdPvkWrVq2VsQgLBh5gAAABgIBwAAwEA4AAAABsIBAAAwEA4AAICBcAAAAAxcygggJPHx8bq8S1sVFyWyfTIQYwgHAELyyYq/qGCoQ+08lizfcUk17S4JQJiwrAAgaO9/+oj+vG2+fA6H1ib59MC8G1VYcNDusgCECeEAQFD+tfFt/fnHefI5HP62Lxxuvf/W/0jF+TZWBiBcCAcAKm3BlgUau+ovshwO+dw+bfjdBm343Qb9et8R3bptnfTGrZL7uN1lAjhNhAMAlTJv8zw9suwRWbL8bVaxJavY0v2H8+SQpG3LpDdukdzHbKsTwOkjHAD4WfM2z9P45eONYHAyx8l3cldI/yAgANUZ4QBAhd797l2NWz4uIBgMaDvA/7Plqm0+aPtK6R+/lIqOVkWJAMKMcACgXP/87p+asGJCQPuQC4Zo5EUj/fdLfjVXctU1O21fRUAAqinCAYAyvb3pbT264tGA9qEXDtX9F98vx0lXK6heG2nQ+4EBYcfn0j/6SUV5Ea4WQDgRDgAEeHvT23ps5WMB7b9r9zvd2+FeMxic0KCtNPgDKbWe2b7jC+l1AgJQnRAOABjmbpxbZjC4u93dGnnRSH8wiIuLU9euXXX++ecrLu6nt5L650mDPpBS65sP3pkjvf4/UuGRCFcPIBwIBwD83tz4ph5f9XhA+/D2wzWyw0hjxiAlJUWffPKJHn/8caWkpPx/5/ptfppBODUgrJZe7ysVHo5Q9QDChXAAQJL0xrdv6K+r/hrQfk/7e3TPRfcE92T1zpUGfyjVaGC271ojze5LQACiHOEAgP7xzT/0xOdPBLTfc9E9Gn7R8NCetF7rnwLC2Wb77rXS7JulgkOhPS+AiCMcAGe41795XU9+8WRA+8iLRmp4+/KDQX5+vho1aqSBAwcqP7+c71Soe05pQKjZ0GzfvY6AAEQxwgFwBpu9Ybae+uKpgPb7Otynu9vf/bOPP3DggI4e/Zl9DOq2+ikgNDLb93wlzb6JgABEIcIBcIaatWGWns55OqD9/ovv19B2Q8N7sDotSz+kmNbYbN+zXpp1k5TP1z0D0YRwAJyBZnw9Q5NzJge0P3DxA7rrwrsic9DyAsLe9aUzCAQEIGoQDoAzzGtfv6ZnVj8T0D6q4ygNuXBIZA9eu8VPAaGJ2b73a2nWjVL+gcgeH0ClEA6AM8j09dP17OpnA9pHdxytOy+4s2qKOBEQ0pua7fs2lAaE4/urpg4A5SIcAGeIv3/1d035ckpA+x86/UGDLxhctcXUbv5TQMgw2/d9Q0AAogDhADgDvPLVK3p+zfMB7X/s9EcNOn9QSM8ZFxenjh07qlWrVv+/fXIwzmpWdkDY/6006xfS8X0h1QXg9BEOgBj38rqX9cKaFwLaH7zkQQ08f2DIz5uSkqIVK1Zo8uTJ5vbJwTgrU7rzQ6nWqQFhozTzF9KxvSHXByB0hAMghk1dO1Uvrn0xoH3MpWN0R9s7bKioDLUypMFZUq1Ms/3AptIZhGN77KkLOIMRDoAY9dLal/TSupcC2h+69CHdft7tNlRUgVpNSzdKOquZ2X7gu59mEAgIQFUiHAAxxrIsvbj2RU1dNzXgdw9f9rD6n9c/LMcpKCjQOeeco6FDh6qgoOD0n9AfEJqb7Qc3SzNvkI7uPv1jAKgUwgEQQ04Eg5fXvRzwu7GXjdVv2vwmrMfatm2b9u/fL8uywvOk6U1KA0LtFmb7wS0/BYRd4TkOgAoRDoAYYVmWXljzgqZ9NS3gd49c/oh+1eZXNlQVgvTGPwWElmb7oa2lSwwEBCDiCAdADLAsS8+veV5/X//3gN+N6zxOt517mw1VnYa0RqWXOdZpZbYf2lo6g5C30566gDME4QCo5izL0pQvp2j6+ukBv5vQeYJubX2rDVWFQVojaVBZAeH7nwLCDnvqAs4AEQ0HS5cu1Y033qhGjRrJ4XBo/vz5kTwccMaxLEvPfvmsXv36VaPdIYcmdpmoX7b+pU2VhUlaw9IlhjrnmO2HfygNCEe221MXEOMiGg7y8/PVvn17vfhi4HXWAE6PZVl6ZvUzmvH1DKP9RDDod04/myoLs5pnlwaEuq3N9sM//hQQcm0pC4hlCZF88j59+qhPnz6RPARwRrIsS3/L+ZtmfTPLaHfIoUeveFR9W/WNeA0Oh0PnnXeejh8/LofDEdmD1WxQGhBm/qJ0c6QTjmwrDQiDPijdbRFAWEQ0HATL7XbL7Xb77x89elSS5PF45PF47Cqr2jkxVoxZ5VWnMbMsS898+Yze2PSG0e6QQxMun6AbMm+okv+OxMRE5eTkKDs7W4mJiZE/pvMs6fZ5Snjjf+QwAkKurJk3qOSOBYHbMEeh6nSuRRPGLXinM1YOK2wXKP/MgRwOzZs3T3379i23z4QJEzRx4sSA9jlz5sjlckWwOqB6sCxLWYVZWlG8wmh3yKF+rn7qkNTBpsqqTpLnqK7YMklpReYVCwVJdbWs1UMqcNazqTIguhQUFKh///7Ky8tTWlpaUI+NqnBQ1sxB06ZNtXv3btWpU6cKqowNHo9H2dnZ6tWrlxITE+0up1qoDmNmWZYmr56sN79702iPc8Rp4uUTdUPzG6q8JtvGLX+/Et7oJ8f+b41mK62JSu6YH7gNcxSpDudaNGLcgnfw4EE1bNgwpHAQVcsKTqdTTqczoD0xMZGTIQSMW/Cidcwsy9KkzyeVGQz+euVfdUOLqg8GBQUF6tSpk44fP67169dX7exerZ/2QZh1k7Rvg7/ZcXSHEv/RVxr8fuAui1EmWs+1aMe4Vd7pjBP7HABRzrIs/XXVX/XmxsBgMOnKSbYEgxN1ffvtt9q+fXv4tk8ORmpdadD7UoMLzPajO0o/uHjo+6qvCYgREQ0Hx48f19q1a7V27VpJ0g8//KC1a9cqN5dLj4DK8Fk+Pb7qcc3dNNdoj3fE68mrntT1La63qbIokVpHGvgvqcGFZvvRndKMG6SDW+2pC6jmIhoOcnJy1KFDB3XoUPohqVGjRqlDhw4aN25cJA8LxASf5dPjKx/XW5veMtrjHfF6ousTuq75dTZVFmVS60iD/iWdfUpAOLar9DJHAgIQtIiGg27dusmyrIDbzJkzI3lYoNrzWT49tvIxvf3d20Z7vCNeT3Z9Utc1IxgYXLVLZxDObme2H9tdGhAObLGnLqCa4jMHQJTxWT49uuJRvfPdO0Z7giNBT1/9tHo3621TZVHOVVsauEBq2N5s9weEzfbUBVRDhAMgivgsnyaumKh3N79rtJ8IBr0ye9lUWTXhDwgXme3H95QGhP3f2VIWUN0QDoAo4bN8mrB8gt7b/J7RnuBI0OSrJ6tnZk+bKiubw+FQZmam6tWrF/ntk4ORclZpQGh0yoZQx/dKs34h7d9U9uMA+BEOgCjg9Xk1btk4zdsyz2hPiEvQ37r9TT0ye9hUWflcLpc2b96sv//979G3g2lKLWnAfKnRxWb78b2llznu22hHVUC1QTgAbOb1eTVu+Tgt2LrAaE+IS9AzVz+jazKusamyai6lljRwvtS4k9mev690BmHft2U9CoAIB4CtvD6vHln2iP619V9Ge0Jcgp7t9qy6Z3S3qbIYkZwuDXhPanKJ2Z6/v3QGYe839tQFRDnCAWATr8+rscvG6v3v3zfaE+MS9Vy359StaTd7CqukwsJCde7cWX/4wx9UWFhodznlS06X7nhPanKp2V5wQJp1o7R3Q9mPA85ghAPABiW+Ej3834f1wfcfGO2JcYl6rvtzurrp1TZVVnk+n0+rV6/Wli1b5PP57C6nYslp0h3vSk0vM9tPBIQ9X9tTFxClCAdAFTsRDLJ+yDLak+KSNKX7FHVt0tWmymKcPyBcbrYXHPwpIKy3py4gChEOgCpU4ivRw589rIU/LDTak+KSNOWaKbqqyVU2VXaGcNaU7nhHyuhsthceKv2Gx91f2VMXEGUIB0AVKfGVaMxnY7Twx8Bg8Pw1z+vKxlfaVNkZxllTuv0dKaOL2V54SJp9k7R7nT11AVGEcABUAY/PoweXPqiPf/zYaHfGO/XCNS/oisZX2FTZGcpZQ7r9n1LmKeNeeLh0BmHXWlvKAqIF4QCIsOLiQj245E/697Z/G+0ngkGXxl3KeSQi6kRAaHbKUk7REWn2zSrZ8aUtZQHRgHAARFBxUYEWDbhO9WZ9LFmWvz05Pln/2+N/1blR5woeHf3q1q2rtLQ0u8sIXVKq1P+tMgNC4fRf6Lsvl9pTF2AzwgEQIcVFBfpkcB81W7dPfVdauv1Tn2RZ/mBwecPLf/5Jolhqaqp27dql2bNnKzU11e5yQpeUKvV/W2puXiVSU/k6+1+/1uY1S2wqDLAP4QCIAJ/Pp+zf3qDma/f5225eaWnwkji91ONFXdbwsgoejSqX5JJ+85aOn/LZjzTlq8GCX+uHDatsKgywB+EAiIC4uDilXt1Vp24NdP0KjzJmLZZ10hIDosPX+z3qsWu4lnovNNq3J7ZU/Yw2NlUF2INwAERIt7snau/vbw0ICIdmztS+J56s9gGhsLBQPXv21J///Ofo3j65Er7emafbp6/S3sI4DfWM9geEb5IuVLP7PlRqzXSbKwSqFuEAiKBr7n5U+0b/Slacw2g/NGuW9k6aVK0Dgs/n09KlS7Vhw4bo3z65Aut3lAaDvEKPJMmtJA31jNb8Grep2X0fEAxwRiIcABHWfegENX7ySSnOfLkdnv269v61egeE6u6rHUd0+/SV/mBwwsUtGura+6bKVaOWPYUBNiMcAFUg/cYb1aisgPD669r7l8cJCDZYt/2I7pi+SkeLSoz2Li3r6LXBl8iVlGBTZYD9CAdAFUm/8Rdq9PRTgQHhjTe097HHCAhVaO32I7rj1cBgcEWrOnp10CVKSYq3qTIgOhAOgCqUfsMNajz5aSne/ONzeM6b2vPoo7Kq8dp9dbEm97AGTF+lY6cEgytb1SUYAD8hHABVLO3668sMCEfenEtAiLAvcw9r4Kuf65jbDAZXnVNX0wd1UnIiwQCQJBbVABuk9ekjOeK0c/Royev1tx+Z+5bks3T2hPFyxEV/dne5XPKeVH80W73tsAa99rmOnxIMuraup1cGdCQYACchHAA2Sbuut+RwlAaEkv//g3Xk7bcly6ezJ06M6oCQmpqqI0eOKCsrK+q3T1697ZAGvfZFQDC4unU9TSMYAAGi950HOAOk9b5WjZ/5m5Rg5vQj/3xHu8eNY4khDHJ+PKSBrwbOGHQ7l2AAlIdwANgs7dpr1eS5ZwMCQt4772r32EcICKfhix8PaeBrnyu/2Fz6uKZNfYIBUAHCARAFavbsqSZTnpMSE432vPfe0+4/j5UVhev6RUVFuvnmm/XYY4+pqKjI7nICfP7DIQ167XMVnBIMerSpr6l3XCxnAsEAKA/hAIgSNXv0KDsgzJsXlQHB6/Vq4cKFWr16ddR9KHHl9wc1eEZgMOh5Xn29RDAAfhbhAIgiNa+5Rk2enyLHqQFh/nztfvjhqAsI0WjF1oO6c8YXAcGgV9sGeun2jgQDoBIIB0CUqdm9uxq/8HxgQFjwL+166CECQgWWbz2g3878QoUec4yubdtAL/a/WEkJvOUBlcErBYhCNbt1U5P/fSEgIBz91/va9eAYWSUl5TzyzLV8S9nBoPf5DfTi7QQDIBi8WoAoVePqq9XkpRflSEoy2o9+8AEB4RTLthzQb2d9oSKPeWVHnwvO1v/2v1iJ8bzVAcHgFQNEsRpXXaUmL5YRED78ULv+9CABQdJ/N5fOGJwaDK6/8Gw9/5sOBAMgBLxqgChX46or1eSll+RwOo32o1lZ2vnHP57RAWHpd/s1ZNYXcpeYweCGCxtqyq8JBkCoeOUA1UCNK68oXWI4JSAcW/iRdv7hj7I8niqvKTU1VcXFxZo/f74t2ycv+W6/7pqdExAMftGuoab8+iKCAXAaePUA1USNK65Q06mBMwjHPrIvINjl0037NHR2jopPCQY3tm+k5351kRIIBsBp4RUEVCOpXbqo6ctT5UhONtqPffyxdo4afUYEhMWb9ul3s1cHBIObL2qkZ29rTzAAwoBXEVDNpHbuXHZAyM7WzlGjZBUXV0kdRUVF+vWvf62nnnqqyrZPXrxxn+6evVrFXjMY9L2okf52K8EACBdeSUA1lHr55Wo6bZocKSlG+7HsT7SjigKC1+vVe++9p+XLl1fJ9smLvt2ru18PDAb9OjTW325jKQEIJ15NQDWVetmlajrt5YCAcPyTRdrxwO+rbAahKnzyzV4N+0cZweDixnr61vaKj3PYVBkQmwgHQDWWeumlynhlmhwul9F+/D//0Y77H5AvBgJC9jd7NfyN1fJ4LaP9lxc30dO3EAyASCAcANWc65JLyg4Iixdr5333V+uA8O8Ne3RPGcHg1o5N9NQt7QgGQIQQDoAY4OrUSRl/f0VxpwaETz/Vjnvvlc/ttqmy0H309R7d88aXAcHgtk5N9OQvCQZAJBEOgBjh6thRTaf/PSAg5C9ZWu0Cwkdf79bIOV+qxGcGg19f0lRP9GunOIIBEFGEAyCGuC6+WE2nT1fcKTsW5i/9TDtGVo+AsHD9bo2YsyYgGPzm0qb66/9cSDAAqgDhAIgxros7KOPV6YqrUcNoz//sM+24Z4R8YdqTwOVy6fDhw5o7d65cp8xWhOrDr3Zr5Jtr5D0lGPS/LEOP9yUYAFWFcADEoJSLLio7ICxbFraA4HA4lJqaquTkZDkcp/9H+4Ovdum+uYHB4PbLMvSXmy8gGABViHAAxKiU9u2V8dqriqtZ02jPX75cO+65R77CQpsqC/T+ul26f+7agGAw4PJM/aUvwQCoaoQDIIaltGtXTkBYoe2nGRDcbreGDBmiKVOmyH0an2VYsHan7i9jxmBg50w9evP5YZmVABAcwgEQ41IuvFAZr72muLQ0o71gxUptHx56QCgpKdHrr7+uxYsXq6SkJKTnWLB2p37/1lqdkgs0uEszTbyJYADYhXAAnAFSLrygNCCkpxvtBStXavuw4fIVFFR5TfPW7CgzGNx5RTONv7EtwQCwEeEAOEOkXHB+6RLDqQFh1Sptv3tYlQaE977codFvrwsIBr+9ornG/YJgANiNcACcQVLOP1+ZM15T/KkB4YsvtP13d8uXnx/xGt5dvUOj/xkYDIZc2VyP/OI8ggEQBQgHwBkmuW1bZcycERgQcnKUe3dkA8I7q3foD++sk3VKMBh6VXONvYFgAEQLwgFwBko+7zxlzJqp+Fq1jPbCnNXK/d3d8h4Pf0B4O2e7/lhGMLi7aws9fD3BAIgmhAPgDJXcpk1pQDjrLKO9cPVqbf/d78IaEN7+YrsefPerwGBwdQuN6dOGYABEGcIBcAZLPvdcZcwsIyB8+aW2Dx0q7/Hj5T7W5XJp586dmjVrVoXbJ8/9PFd/KiMYDO/WUmOuIxgA0YhwAJzhks9tXTqDULu20V64Zo2231V+QHA4HKpXr57S09PL/QM/Z1Wuxry3PqB9RPeW+lPvcwkGQJQiHABQcuvWypw1U/F16hjthWvXavuQu+Q9dizo53xj1TY9PC8wGIzs3kp/uJZgAEQzwgEASZLznHNKA0LdukZ74bp1yh1yl7xHjxrtbrdb9913n6ZNmxawffI/Vm7Tn+d9HXCM+65ppdHXtiYYAFGOcADAz9mqVZkBoeirrwICQklJiV5++WUtXLjQ2D759RU/auz8wGBwf49zNIoZA6BaIBwAMDhbtlTm7FmKr3dKQFi/Xrm/HSJvXl65j5294kc9smBDQPsDPc/R73u1DnutACKDcAAggLNFC2XOmq2EevWM9qKvvy43IMxc9oPGlREMft+ztR7oSTAAqhPCAYAyOVs0V8bsWUqoX99oL9qwQbl3/lbeI0f8bf9YlasJ738T8Byje7XW/T3PiXSpAMKsSsLBiy++qGbNmik5OVmXXXaZPv/886o4LIDT5GzeXJllBYRvvlHu8OH++099vDngsX+4trXu7UEwAKqjiIeDt956S6NGjdL48eP15Zdfqn379urdu7f27dsX6UMDCIOkZs1KA0KDBka7e+Omch/zx97nauQ1BAOgukqI9AGeeeYZDR06VHfeeack6eWXX9aHH36o1157TWPGjKnUc+Tn5ys5OTmgPT4+3mjPr+ALY+Li4pSSkhJS34KCAlmnbu/2E4fDYewOF0zfwsJC+Xy+cutITU0NqW9RUZGKioqUn5+vxMTEn+3r9XrLfV6Xy+X/dLnb7TY+lX46fVNSUhQXV5pNi4uL5fF4wtI3OTlZ8fHxQff1eDwVjpnT6VRCQoK/b3FxcbnPe3LfkpKSgMv8TpaUlOQ/XjB9vV6vioqKyu2bmJiopKSkoPv6fD4VFhYGdqpXT3Vfnqpddw9T3E/B3nfSeV4j/5COq3QTpVG9WmvwpQ3ldrvldDolSZZlqaCCr4ROSEiodN9gXvfR+h5R3rlWle8RFb3uo/E9oqJxq6r3iMq+7qPlPaKic/hnWRHkdrut+Ph4a968eUb7wIEDrZtuuimgf1FRkZWXl+e/bd++3ZJU7q1Pnz5WcXGx/+Zyucrt27VrV6Nv3bp1y+3bsWNHo29mZma5fc877zyj73nnnVdu38zMTKNvx44dy+1bt25do2/Xrl3L7etyuYy+vXv3rnDcTu7br1+/CvsePnzY33fAgAEV9t25c6e/77Bhwyrs+9133/n7jho1qsK+a9as8fcdO3ZshX2XL1/u7ztp0qQK+2ZnZ/v7PvPMMxX2nT9/vr/v9OnTK+w7Z84cf985c+ZU2Hf69On+vvPnz6+w75QpU/x9s7OzK+w7adIkf9/ly5dX2Hfs2LH+vmvWrKmw7/133WV9d3U365tz21gfN29eYd9hw4b5n3fnzp0V9h0wYIC/7+HDhyvs269fP+Mcrqgv7xGlt1PfI/r06VPhuPEeUXo7+T1iypQpFfaN5veIvLy8oP9+R3Tm4MCBA/J6vWpwynRkgwYNtHHjxoD+kyZN0sSJEyv9/Pv27VNWVpb/fkXp9uDBg0bfilJdXl6e0beif8UcP37c6Hu8gr3oCwoKjL55FVwSVlxcbPQ9ePBguX29Xq/R98CBA+X2lWT03bNnT4V9P/74Y/+/vHbs2FFh308++UTpP30N8LZt2yrsu3jxYv958f3331fY97PPPvM/3+bNgWvbJ1u2bJl/yaqsc+xkK1eu9Cfrn+ubk5Pj/3ndunUV9l2zZo3/X39r1qypsO+6dev8/z9OPkZZNmzY4O+7fn3gzoMn27hxo7/vz43Z5s2b/X1zc3Mr7LvtwAF9fccA1X3p74rzVLw0uG3bNv/zVnSuS6Xn1om+Fc1ySKXn7MnncEV4jyh16nvEzy3r8h5R6uT3iA0bAq/EOVl1e4/4OQ7LKmcuLAx27dqlxo0ba/ny5ercubO//U9/+pOWLFmiVatWGf3dbrcxZXL06FE1bdpUW7duVe1T9n2XonfKsLJ9IzVleOzYMWVnZ+uaa65hWaGSfQsKCvTRRx+VO2bROGVYpcsKp/TN3bBVO397p1KPH5Ikbb15gK7980ijbzBLBWfSskJeXp4WLVpU5rnGssL/K2tZ4T//+U+Z48ayQmBfr9erXbt2qWXLlsrLy1NaWlq5jytLRGcO6tatq/j4eO3du9do37t3r84+++yA/k6n0/8GcbL09HTVOuV758tSmT6h9D2RdMPdt6w/QuHoW7NmTSUnJ6tWrVo/+7hI1VDd+rpcrqDGrKJvITy178l/RMLZt6zP4ZxuX0llvgZP1fKiNvK9Ol3jrrtWhxs00rsTfm/8QSnLiQBSGcH0jdTrPpLvEbw+g++blJRUqXGLZA3BvO6j4T0imPPyVBG9WiEpKUkdO3bUokWL/G0+n0+LFi0yZhIAVD+NWjfT3H279PH6nAr/9QWg+on41QqjRo3SoEGD1KlTJ1166aV67rnnlJ+f7796AQAARJeIh4Nf/epX2r9/v8aNG6c9e/booosu0kcffRTwIUUAABAdIh4OJGnkyJEaOXLkz3cEAAC247sVAACAgXAAAAAMhAMAAGCoks8cAIg9KSkpWrNmjT777LNKX3sNoHpg5gBASOLi4nT++ecrIyPDvzsdgNjAKxoAABgIBwBCUlxcrEcffVRvvvlmhfvIA6h+CAcAQuLxePSXv/xFb731FtsnAzGGcAAAAAyEAwAAYCAcAAAAA+EAAAAYCAcAAMBAOAAAAAa2TwYQkuTkZC1fvlzLli1TcnKy3eUACCPCAYCQxMfHq1OnTtq3b5/i4+PtLgdAGLGsAAAADIQDACEpLi7W3/72N82bN4/tk4EYQzgAEBKPx6OHHnpIs2bNYvtkIMYQDgAAgIFwAAAADIQDAABgIBwAAAAD4QAAABgIBwAAwMAOiQBCkpycrOzsbK1cuZLtk4EYQzgAEJL4+HhdffXVys/PZ/tkIMawrAAAAAyEAwAh8Xg8mjp1qrKystghEYgxhAMAISkuLtb999+vV155he9WAGIM4QAAABgIBwAAwEA4AAAABsIBAAAwEA4AAICBcAAAAAzskAggJE6nU/Pnz1dOTo6cTqfd5QAII8IBgJAkJCTo+uuv9/8MIHawrAAAAAyEAwAh8Xg8mj17thYtWsT2yUCMIRwACElxcbHuuusuvfDCC2yfDMQYwgEAADAQDgAAgIFwAAAADIQDAABgIBwAAAAD4QAAABjY1gxASJxOp+bMmaM1a9awfTIQYwgHAEKSkJCgW265RS6Xi+2TgRjDsgIAADAQDgCEpKSkRO+8846WLVumkpISu8sBEEaEAwAhcbvd6t+/v55++mm53W67ywEQRoQDAABgIBwAAAAD4QAAABgIBwAAwEA4AAAABsIBAAAwsK0ZgJAkJSVp+vTpWrdunZKSkuwuB0AYMXMAICSJiYkaOHCgevToocTERLvLARBGhAMAAGAgHAAISUlJibKyspSTk8P2yUCM4TMHAELidrvVt29fSdLo0aOVkpJib0EAwoaZAwAAYCAcAAAAA+EAAAAYIhYOHn/8cXXp0kUul0u1atWK1GEAAECYRSwcFBcX69Zbb9Xw4cMjdQgAABABEbtaYeLEiZKkmTNnRuoQAAAgAqLqUka32y232+2/f/ToUUmSx+ORx+Oxq6xq58RYMWaVx5gFz+Fw6JlnntHGjRvlcDgYu0riXAsN4xa80xkrh2VZVhhrCTBz5kw98MADOnLkyM/2nTBhgn/G4WRz5syRy+WKQHUAAMSmgoIC9e/fX3l5eUpLSwvqsUHNHIwZM0ZPPvlkhX2+/fZbtWnTJqgiTnjooYc0atQo//2jR4+qadOm6t69u+rUqRPSc56JPB6PsrOz1atXL/a8ryTGLDSMW/AYs9AwbsE7ePBgyI8NKhyMHj1agwcPrrBPixYtQi7G6XTK6XQGtCcmJnIyhIBxCx5jVnler1fLly/X+vXr1bt3b8YtSJxroWHcKu90ximocFCvXj3Vq1cv5IMBiB1FRUXq1auXJGnkyJFKTk62uSIA4RKxDyTm5ubq0KFDys3Nldfr1dq1ayVJrVq1Uo0aNSJ1WAAAcJoiFg7GjRunWbNm+e936NBBkrR48WJ169YtUocFAACnKWKbIM2cOVOWZQXcCAYAAEQ3vlsBAAAYCAcAAMBAOAAAAIao2j4ZQPWRmJioSZMmaePGjVx3DsQYwgGAkCQlJWn06NHKyspSUlKS3eUACCOWFQAAgIFwACAkXq9XOTk52rx5s7xer93lAAgjlhUAhKSoqEhdunSRJN11111snwzEEGYOAACAgXAAAAAMhAMAAGAgHAAAAAPhAAAAGAgHAADAwKWMAEKSmJiosWPHavPmzWyfDMQYwgGAkCQlJWncuHFsnwzEIJYVAACAgXAAICQ+n08bNmxQbm6ufD6f3eUACCOWFQCEpLCwUB06dJAkDRgwQE6n0+aKAIQLMwcAAMBAOAAAAAbCAQAAMBAOAACAgXAAAAAMhAMAAGDgUkYAIUlMTNSoUaP0/fffs30yEGMIBwBCkpSUpCeeeILtk4EYxLICAAAwEA4AhMTn8+nHH3/U3r172T4ZiDEsKwAISWFhoVq3bi1Juu2229g+GYghzBwAAAAD4QAAABgIBwAAwEA4AAAABsIBAAAwEA4AAICBSxkBhCQhIUHDhg3Ttm3blJDAWwkQS3hFAwiJ0+nU888/r6ysLPY4AGIMywoAAMBAOAAQEsuytH//fuXl5cmyLLvLARBGLCsACElBQYEaN24sSbrpppv4ZkYghjBzAAAADIQDAABgIBwAAAAD4QAAABgIBwAAwEA4AAAABi5lBBCShIQEDRgwQDt27GD7ZCDG8IoGEBKn06lXX32V7ZOBGMSyAgAAMBAOAITEsizl5+erqKiI7ZOBGMOyAoCQFBQU6KyzzpIkHT58mO2TgRjCzAEAADAQDgAAgIFwAAAADIQDAABgIBwAAAAD4QAAABi4lBFASOLj49WvXz/t2bNH8fHxdpcDIIwIBwBCkpycrLlz5yorK0vJycl2lwMgjFhWAAAABsIBAAAwsKwAICT5+fmqUaOGpNLtk2vVqmVvQQDChpkDAABgIBwAAAAD4QAAABgiFg5+/PFHDRkyRM2bN1dKSopatmyp8ePHq7i4OFKHBAAAYRCxDyRu3LhRPp9P06ZNU6tWrfT1119r6NChys/P1+TJkyN1WAAAcJoiFg6uu+46XXfddf77LVq00KZNmzR16lTCAQAAUaxKL2XMy8tT7dq1y/292+2W2+323z969KgkyePxyOPxRLy+WHFirBizymPMgufz+dS7d28dOHBAPp+PsaskzrXQMG7BO52xcliWZYWxlnJt2bJFHTt21OTJkzV06NAy+0yYMEETJ04MaJ8zZ45cLlekSwQAIGYUFBSof//+ysvLU1paWlCPDTocjBkzRk8++WSFfb799lu1adPGf3/nzp26+uqr1a1bN02fPr3cx5U1c9C0aVPt3r1bderUCabMM5rH41F2drZ69eqlxMREu8upFhiz0DBuwWPMQsO4Be/gwYNq2LBhSOEg6GWF0aNHa/DgwRX2adGihf/nXbt2qXv37urSpYteeeWVCh/ndDrldDoD2hMTEzkZQsC4BY8xCw3jFjzGLDSMW+WdzjgFHQ7q1aunevXqVarvzp071b17d3Xs2FEzZsxQXBzbKgCxIj8/X/Xr15fX69WePXvYPhmIIRH7QOLOnTvVrVs3ZWZmavLkydq/f7//d2effXakDgugChUUFNhdAoAIiFg4yM7O1pYtW7RlyxY1adLE+F0VfQYSAACEIGLz/IMHD5ZlWWXeAABA9OJDAAAAwEA4AAAABsIBAAAwVOn2yQBiR1xcnLp27aqDBw9ymTIQYwgHAEKSkpKiTz75RFlZWUpJSbG7HABhRNwHAAAGwgEAADCwrAAgJPn5+WrWrJmKi4u1bds2tk8GYgjhAEDIDhw4YHcJACKAZQUAAGAgHAAAAAPhAAAAGAgHAADAQDgAAAAGrlYAEJK4uDh17NhReXl5bJ8MxBjCAYCQpKSkaMWKFWyfDMQg4j4AADAQDgAAgIFlBQAhKSgoUNu2bVVQUKDNmzcrPT3d7pIAhAnhAEBILMvStm3b/D8DiB0sKwAAAAPhAAAAGAgHAADAQDgAAAAGwgEAADBwtQKAkDgcDp133nk6fvy4HA6H3eUACCPCAYCQuFwurVu3TllZWXK5XHaXAyCMWFYAAAAGwgEAADCwrAAgJAUFBerUqZOOHz+ubt26sX0yEEMIBwBCYlmWvv32W//PAGIHywoAAMBAOAAAAAbCAQAAMBAOAACAgXAAAAAMXK0AICQOh0OZmZkqKChg+2QgxhAOAITE5XJp8+bNbJ8MxCCWFQAAgIFwAAAADCwrAAhJYWGhrrrqKuXl5al79+5KTEy0uyQAYUI4ABASn8+n1atX+38GEDtYVgAAAAbCAQAAMBAOAACAgXAAAAAMhAMAAGDgagUAIatbt66Ki4vtLgNAmBEOAIQkNTVVu3btUlZWllJTU+0uB0AYsawAAAAMhAMAAGBgWQFASAoLC3Xdddfp4MGDbJ8MxBjCAYCQ+Hw+LV261P8zgNjBsgIAADAQDgAAgIFwAAAADIQDAABgIBwAAAADVysACJnL5ZLX67W7DABhRjgAEJLU1FQdOXKE7ZOBGMSyAgAAMBAOAACAgWUFACEpKipSv379tG/fPl1zzTVsnwzEEMIBgJB4vV4tXLjQ/zOA2MGyAgAAMBAOAACAIaLh4KabblJGRoaSk5PVsGFDDRgwQLt27YrkIQEAwGmKaDjo3r273n77bW3atEnvvvuutm7dqltuuSWShwQAAKcpoh9I/P3vf+//OTMzU2PGjFHfvn3l8Xj4ZDMAAFGqyq5WOHTokN544w116dKl3GDgdrvldrv99/Py8vyPReV5PB4VFBTo4MGDhLBKYsyCl5+f7//50KFDXLFQSZxroWHcgnfib6dlWcE/2IqwP/3pT5bL5bIkWZdffrl14MCBcvuOHz/eksSNGzdu3LhxC9Nt69atQf/tdlhWcJFizJgxevLJJyvs8+2336pNmzaSpAMHDujQoUPatm2bJk6cqPT0dH3wwQdyOBwBjzt15uDIkSPKzMxUbm6u0tPTgynzjHb06FE1bdpU27dvV1pamt3lVAuMWWgYt+AxZqFh3IKXl5enjIwMHT58WLVq1QrqsUGHg/379+vgwYMV9mnRooWSkpIC2nfs2KGmTZtq+fLl6ty5888e6+jRo0pPT1deXh4nQxAYt+AxZqFh3ILHmIWGcQve6YxZ0J85qFevnurVqxfswyRJPp9PkozZAQAAEF0i9oHEVatW6YsvvtCVV16ps846S1u3btUjjzyili1bVmrWAAAA2CNi+xy4XC6999576tGjh84991wNGTJE7dq105IlS+R0Oiv1HE6nU+PHj690f5Ri3ILHmIWGcQseYxYaxi14pzNmQX/mAAAAxDa+WwEAABgIBwAAwEA4AAAABsIBAAAwVKtwwFdAB+fHH3/UkCFD1Lx5c6WkpKhly5YaP368iouL7S4tqj3++OPq0qWLXC5X0LuKnUlefPFFNWvWTMnJybrsssv0+eef211SVFu6dKluvPFGNWrUSA6HQ/Pnz7e7pKg3adIkXXLJJapZs6bq16+vvn37atOmTXaXFfWmTp2qdu3aKS0tTWlpaercubMWLlwY1HNUq3DAV0AHZ+PGjfL5fJo2bZo2bNigZ599Vi+//LIefvhhu0uLasXFxbr11ls1fPhwu0uJWm+99ZZGjRql8ePH68svv1T79u3Vu3dv7du3z+7SolZ+fr7at2+vF1980e5Sqo0lS5ZoxIgRWrlypbKzs+XxeHTttdcaX/qFQE2aNNETTzyh1atXKycnR9dcc41uvvlmbdiwofJPEtrXKUWHBQsWWA6HwyouLra7lGrjqaeespo3b253GdXCjBkzrPT0dLvLiEqXXnqpNWLECP99r9drNWrUyJo0aZKNVVUfkqx58+bZXUa1s2/fPkuStWTJErtLqXbOOussa/r06ZXuX61mDk5Wma+ARqC8vDzVrl3b7jJQjRUXF2v16tXq2bOnvy0uLk49e/bUihUrbKwMsS4vL0+SeA8Lgtfr1dy5c5Wfnx/U7sTVLhw8+OCDSk1NVZ06dZSbm6sFCxbYXVK1sWXLFr3wwgu6++677S4F1diBAwfk9XrVoEEDo71Bgwbas2ePTVUh1vl8Pj3wwAO64oordMEFF9hdTtRbv369atSoIafTqWHDhmnevHlq27ZtpR9vezgYM2aMHA5HhbeNGzf6+//xj3/UmjVr9O9//1vx8fEaOHCgrDNsk8dgx0ySdu7cqeuuu0633nqrhg4dalPl9gllzABEjxEjRujrr7/W3Llz7S6lWjj33HO1du1arVq1SsOHD9egQYP0zTffVPrxtm+fXJVfAR0rgh2zXbt2qVu3brr88ss1c+ZMxcXZngmrXCjn2cyZM/XAAw/oyJEjEa6ueikuLpbL5dI777yjvn37+tsHDRqkI0eOMJtXCQ6HQ/PmzTPGD+UbOXKkFixYoKVLl6p58+Z2l1Mt9ezZUy1bttS0adMq1T9i38pYWXwFdPCCGbOdO3eqe/fu6tixo2bMmHFGBgPp9M4zmJKSktSxY0ctWrTI/8fN5/Np0aJFGjlypL3FIaZYlqV7771X8+bN06effkowOA0+ny+ov5W2h4PK4iugg7dz505169ZNmZmZmjx5svbv3+//3dlnn21jZdEtNzdXhw4dUm5urrxer9auXStJatWqlWrUqGFvcVFi1KhRGjRokDp16qRLL71Uzz33nPLz83XnnXfaXVrUOn78uLZs2eK//8MPP2jt2rWqXbu2MjIybKwseo0YMUJz5szRggULVLNmTf9nWtLT05WSkmJzddHroYceUp8+fZSRkaFjx45pzpw5+vTTT/Xxxx9X/kkidNVE2H311VdW9+7drdq1a1tOp9Nq1qyZNWzYMGvHjh12lxa1ZsyYYUkq84byDRo0qMwxW7x4sd2lRZUXXnjBysjIsJKSkqxLL73UWrlypd0lRbXFixeXeV4NGjTI7tKiVnnvXzNmzLC7tKj229/+1srMzLSSkpKsevXqWT169LD+/e9/B/Uctn/mAAAARJczcwEaAACUi3AAAAAMhAMAAGAgHAAAAAPhAAAAGAgHAADAQDgAAAAGwgEAADAQDgAAgIFwAAAADIQDAABgIBwAAADD/wF1TfLwX6JpuAAAAABJRU5ErkJggg==\",","      \"text/plain\": [","       \"\u003cFigure size 600x600 with 1 Axes\u003e\"","      ]","     },","     \"metadata\": {},","     \"output_type\": \"display_data\"","    }","   ],","   \"source\": [","    \"rotated_square_15 = transform_the_polygon(unit_square, T1)\\n\",","    \"rotated_square_45 = transform_the_polygon(rotated_square_15, T2)\\n\",","    \"plot_the_polygon(rotated_square_45)\"","   ]","  },","  {","   \"cell_type\": \"markdown\",","   \"metadata\": {},","   \"source\": [","    \"Next, let's use matrices $T_1$ and $T_2$ to rotate the square by 60 degrees.\"","   ]","  },","  {","   \"cell_type\": \"code\",","   \"execution_count\": 14,","   \"metadata\": {},","   \"outputs\": [","    {","     \"data\": {","      \"image/png\": \"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\",","      \"text/plain\": [","       \"\u003cFigure size 600x600 with 1 Axes\u003e\"","      ]","     },","     \"metadata\": {},","     \"output_type\": \"display_data\"","    }","   ],","   \"source\": [","    \"rotated_square_30 = transform_the_polygon(unit_square, T2)\\n\",","    \"rotated_square_60 = transform_the_polygon(rotated_square_30, T2)\\n\",","    \"plot_the_polygon(rotated_square_60)\"","   ]","  },","  {","   \"cell_type\": \"markdown\",","   \"metadata\": {},","   \"source\": [","    \"Now, lets find a single matrix $T_3$ that rotates the unit square by 60 degrees.\"","   ]","  },","  {","   \"cell_type\": \"code\",","   \"execution_count\": 15,","   \"metadata\": {},","   \"outputs\": [","    {","     \"data\": {","      \"image/png\": \"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\",","      \"text/plain\": [","       \"\u003cFigure size 600x600 with 1 Axes\u003e\"","      ]","     },","     \"metadata\": {},","     \"output_type\": \"display_data\"","    }","   ],","   \"source\": [","    \"T3=np.matmul(T2,T2)\\n\",","    \"rotated_square_T3 = transform_the_polygon(unit_square, T3)\\n\",","    \"plot_the_polygon(rotated_square_T3)\"","   ]","  },","  {","   \"cell_type\": \"markdown\",","   \"metadata\": {},","   \"source\": [","    \"And finally, we can \\\"reflect\\\" the square about the y-axis:\"","   ]","  },","  {","   \"cell_type\": \"code\",","   \"execution_count\": 16,","   \"metadata\": {},","   \"outputs\": [","    {","     \"data\": {","      \"image/png\": \"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\",","      \"text/plain\": [","       \"\u003cFigure size 600x600 with 1 Axes\u003e\"","      ]","     },","     \"metadata\": {},","     \"output_type\": \"display_data\"","    }","   ],","   \"source\": [","    \"reflected_square = transform_the_polygon(unit_square, Re_y)\\n\",","    \"plot_the_polygon(reflected_square)\"","   ]","  },","  {","   \"cell_type\": \"markdown\",","   \"metadata\": {","    \"collapsed\": true","   },","   \"source\": [","    \"The next natural question to ask is the following: Does the *order* in which you apply these operations matter?\\n\",","    \"\\n\",","    \"Let's see what happens to the unit square when we rotate the matrix by 60 degrees, and then reflect it along the y-axis.\"","   ]","  },","  {","   \"cell_type\": \"code\",","   \"execution_count\": 17,","   \"metadata\": {},","   \"outputs\": [],","   \"source\": [","    \"# As the name indicates, R_60 rotates the matrix by 60 degrees.\\n\",","    \"rotation_angle = np.pi/3 # 60 degrees in radians\\n\",","    \"R_60 = np.array([[np.cos(rotation_angle), -np.sin(rotation_angle)],\\n\",","    \"                 [np.sin(rotation_angle), np.cos(rotation_angle)]])\"","   ]","  },","  {","   \"cell_type\": \"code\",","   \"execution_count\": 18,","   \"metadata\": {},","   \"outputs\": [","    {","     \"data\": {","      \"image/png\": \"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\",","      \"text/plain\": [","       \"\u003cFigure size 600x600 with 1 Axes\u003e\"","      ]","     },","     \"metadata\": {},","     \"output_type\": \"display_data\"","    }","   ],","   \"source\": [","    \"reflected_after_rotated_square = transform_the_polygon(unit_square, R_60)\\n\",","    \"reflected_after_rotated_square = transform_the_polygon(reflected_after_rotated_square, Re_y)\\n\",","    \"plot_the_polygon(reflected_after_rotated_square)\"","   ]","  },","  {","   \"cell_type\": \"markdown\",","   \"metadata\": {},","   \"source\": [","    \"Now, let's reflect *before* rotating.\"","   ]","  },","  {","   \"cell_type\": \"code\",","   \"execution_count\": 20,","   \"metadata\": {},","   \"outputs\": [","    {","     \"data\": {","      \"image/png\": \"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\",","      \"text/plain\": [","       \"\u003cFigure size 600x600 with 1 Axes\u003e\"","      ]","     },","     \"metadata\": {},","     \"output_type\": \"display_data\"","    }","   ],","   \"source\": [","    \"rotated_after_reflected_square = transform_the_polygon(unit_square, Re_y)\\n\",","    \"rotated_after_reflected_square = transform_the_polygon(rotated_after_reflected_square, R_60)\\n\",","    \"plot_the_polygon(rotated_after_reflected_square)\"","   ]","  },","  {","   \"cell_type\": \"code\",","   \"execution_count\": null,","   \"metadata\": {},","   \"outputs\": [],","   \"source\": []","  }"," ],"," \"metadata\": {","  \"kernelspec\": {","   \"display_name\": \"Python 3\",","   \"language\": \"python\",","   \"name\": \"python3\"","  },","  \"language_info\": {","   \"codemirror_mode\": {","    \"name\": \"ipython\",","    \"version\": 3","   },","   \"file_extension\": \".py\",","   \"mimetype\": \"text/x-python\",","   \"name\": \"python\",","   \"nbconvert_exporter\": \"python\",","   \"pygments_lexer\": \"ipython3\",","   \"version\": \"3.11.2\"","  }"," },"," \"nbformat\": 4,"," \"nbformat_minor\": 1","}"],"stylingDirectives":null,"colorizedLines":null,"csv":null,"csvError":null,"dependabotInfo":{"showConfigurationBanner":false,"configFilePath":null,"networkDependabotPath":"/ee16a/public_hw_notebooks/network/updates","dismissConfigurationNoticePath":"/settings/dismiss-notice/dependabot_configuration_notice","configurationNoticeDismissed":null},"displayName":"q_matrix_visualization.ipynb","displayUrl":"https://notebooks.githubusercontent.com/view/ipynb?browser=unknown_browser\u0026bypass_fastly=true\u0026color_mode=auto\u0026commit=4a734e1f5726a0f8db67d96187026c995e311c5b\u0026device=unknown_device\u0026docs_host=https%3A%2F%2Fdocs.github.com\u0026enc_url=68747470733a2f2f7261772e67697468756275736572636f6e74656e742e636f6d2f65653136612f7075626c69635f68775f6e6f7465626f6f6b732f346137333465316635373236613066386462363764393631383730323663393935653331316335622f737032345f6877372f715f6d61747269785f76697375616c697a6174696f6e2e6970796e62\u0026logged_in=false\u0026nwo=ee16a%2Fpublic_hw_notebooks\u0026path=sp24_hw7%2Fq_matrix_visualization.ipynb\u0026platform=unknown_platform\u0026repository_id=274761554\u0026repository_type=Repository\u0026version=0","headerInfo":{"blobSize":"136 KB","deleteTooltip":"You must be signed in to make or propose changes","editTooltip":"You must be signed in to make or propose changes","ghDesktopPath":"https://desktop.github.com","isGitLfs":false,"onBranch":true,"shortPath":"ccbabe7","siteNavLoginPath":"/login?return_to=https%3A%2F%2Fgithub.com%2Fee16a%2Fpublic_hw_notebooks%2Fblob%2Fmaster%2Fsp24_hw7%2Fq_matrix_visualization.ipynb","isCSV":false,"isRichtext":false,"toc":null,"lineInfo":{"truncatedLoc":"313","truncatedSloc":"313"},"mode":"file"},"image":false,"isCodeownersFile":null,"isPlain":false,"isValidLegacyIssueTemplate":false,"issueTemplate":null,"discussionTemplate":null,"language":"Jupyter Notebook","languageID":185,"large":false,"planSupportInfo":{"repoIsFork":null,"repoOwnedByCurrentUser":null,"requestFullPath":"/ee16a/public_hw_notebooks/blob/master/sp24_hw7/q_matrix_visualization.ipynb","showFreeOrgGatedFeatureMessage":null,"showPlanSupportBanner":null,"upgradeDataAttributes":null,"upgradePath":null},"publishBannersInfo":{"dismissActionNoticePath":"/settings/dismiss-notice/publish_action_from_dockerfile","releasePath":"/ee16a/public_hw_notebooks/releases/new?marketplace=true","showPublishActionBanner":false},"rawBlobUrl":"https://github.com/ee16a/public_hw_notebooks/raw/master/sp24_hw7/q_matrix_visualization.ipynb","renderImageOrRaw":false,"richText":null,"renderedFileInfo":{"identityUUID":"4f587aa3-9f6c-41e4-a3c8-ed657878e533","renderFileType":"ipynb","size":139295},"shortPath":null,"symbolsEnabled":true,"tabSize":8,"topBannersInfo":{"overridingGlobalFundingFile":false,"globalPreferredFundingPath":null,"showInvalidCitationWarning":false,"citationHelpUrl":"https://docs.github.com/github/creating-cloning-and-archiving-repositories/creating-a-repository-on-github/about-citation-files","actionsOnboardingTip":null},"truncated":false,"viewable":true,"workflowRedirectUrl":null,"symbols":{"timed_out":false,"not_analyzed":true,"symbols":[]}},"copilotInfo":null,"copilotAccessAllowed":false,"csrf_tokens":{"/ee16a/public_hw_notebooks/branches":{"post":"oCMo7wJZh0ut6mOTiH-G9PMfMnvU0y7mKZHdlUxNuoI33HL5RLuYjsw8wOtNki2HWr5Zii7JwlTyPh40lSuNRg"},"/repos/preferences":{"post":"kj1LFLMKA_gjIVctjXVqkgHlVL_NA2EHO4-wCDHwmaAHSDENi9MQTA0bBuzMtHM06odBFzLtQONHxBmN4aZ4SA"}}},"title":"public_hw_notebooks/sp24_hw7/q_matrix_visualization.ipynb at master · ee16a/public_hw_notebooks","appPayload":{"helpUrl":"https://docs.github.com","findFileWorkerPath":"/assets-cdn/worker/find-file-worker-1583894afd38.js","findInFileWorkerPath":"/assets-cdn/worker/find-in-file-worker-3a63a487027b.js","githubDevUrl":null,"enabled_features":{"code_nav_ui_events":false,"react_blob_overlay":false,"copilot_conversational_ux_embedding_update":false,"copilot_smell_icebreaker_ux":true,"copilot_workspace":false}}}</script>
  <div data-target="react-app.reactRoot"><style data-styled="true" data-styled-version="5.3.6">.jUriTl{font-weight:600;font-size:32px;margin:0;display:-webkit-box;display:-webkit-flex;display:-ms-flexbox;display:flex;font-size:14px;}/*!sc*/
.cgQnMS{font-weight:600;font-size:32px;margin:0;}/*!sc*/
.diwsLq{font-weight:600;font-size:32px;margin:0;font-weight:600;display:inline-block;max-width:100%;font-size:16px;}/*!sc*/
.jAEDJk{font-weight:600;font-size:32px;margin:0;font-weight:600;display:inline-block;max-width:100%;font-size:14px;}/*!sc*/
data-styled.g1[id="Heading__StyledHeading-sc-1c1dgg0-0"]{content:"jUriTl,cgQnMS,diwsLq,jAEDJk,"}/*!sc*/
.fSWWem{padding:0;}/*!sc*/
.kPPmzM{max-width:100%;margin-left:auto;margin-right:auto;display:-webkit-box;display:-webkit-flex;display:-ms-flexbox;display:flex;-webkit-flex-wrap:wrap;-ms-flex-wrap:wrap;flex-wrap:wrap;}/*!sc*/
.cIAPDV{display:-webkit-box;display:-webkit-flex;display:-ms-flexbox;display:flex;-webkit-flex:1 1 100%;-ms-flex:1 1 100%;flex:1 1 100%;-webkit-flex-wrap:wrap;-ms-flex-wrap:wrap;flex-wrap:wrap;max-width:100%;}/*!sc*/
.gvCnwW{width:100%;}/*!sc*/
@media screen and (min-width:544px){.gvCnwW{width:100%;}}/*!sc*/
@media screen and (min-width:768px){.gvCnwW{width:auto;}}/*!sc*/
.esrURn{display:none;-webkit-order:1;-ms-flex-order:1;order:1;width:100%;margin-left:0;margin-right:0;-webkit-flex-direction:column;-ms-flex-direction:column;flex-direction:column;margin-bottom:0;min-width:0;}/*!sc*/
@media screen and (min-width:544px){.esrURn{-webkit-flex-direction:column;-ms-flex-direction:column;flex-direction:column;}}/*!sc*/
@media screen and (min-width:768px){.esrURn{width:auto;margin-top:0 !important;margin-bottom:0 !important;position:-webkit-sticky;position:sticky;top:0px;max-height:var(--sticky-pane-height);-webkit-flex-direction:row;-ms-flex-direction:row;flex-direction:row;margin-right:0;}}/*!sc*/
@media screen and (min-width:769px){.esrURn{height:100vh;max-height:100vh !important;}}/*!sc*/
@media print,screen and (max-width:1011px) and (min-width:768px){.esrURn{display:none;}}/*!sc*/
.eUyHuk{margin-left:0;margin-right:0;display:none;margin-top:0;}/*!sc*/
@media screen and (min-width:768px){.eUyHuk{margin-left:0 !important;margin-right:0 !important;}}/*!sc*/
.gNdDUH{--pane-min-width:256px;--pane-max-width-diff:511px;--pane-max-width:calc(100vw - var(--pane-max-width-diff));width:100%;padding:0;}/*!sc*/
@media screen and (min-width:544px){}/*!sc*/
@media screen and (min-width:768px){.gNdDUH{width:clamp(var(--pane-min-width),var(--pane-width),var(--pane-max-width));overflow:auto;}}/*!sc*/
@media screen and (min-width:1280px){.gNdDUH{--pane-max-width-diff:959px;}}/*!sc*/
.hAeDYA{height:100%;position:relative;display:none;margin-left:0;}/*!sc*/
.fjdBNx{position:absolute;inset:0 -2px;cursor:col-resize;background-color:transparent;-webkit-transition-delay:0.1s;transition-delay:0.1s;}/*!sc*/
.fjdBNx:hover{background-color:var(--bgColor-neutral-muted,var(--color-neutral-muted,rgba(175,184,193,0.2)));}/*!sc*/
.emFMJu{display:-webkit-box;display:-webkit-flex;display:-ms-flexbox;display:flex;-webkit-flex-direction:column;-ms-flex-direction:column;flex-direction:column;-webkit-order:2;-ms-flex-order:2;order:2;-webkit-flex-basis:0;-ms-flex-preferred-size:0;flex-basis:0;-webkit-box-flex:1;-webkit-flex-grow:1;-ms-flex-positive:1;flex-grow:1;-webkit-flex-shrink:1;-ms-flex-negative:1;flex-shrink:1;min-width:1px;margin-right:auto;}/*!sc*/
@media print{.emFMJu{display:-webkit-box !important;display:-webkit-flex !important;display:-ms-flexbox !important;display:flex !important;}}/*!sc*/
.hlUAHL{width:100%;max-width:100%;margin-left:auto;margin-right:auto;-webkit-box-flex:1;-webkit-flex-grow:1;-ms-flex-positive:1;flex-grow:1;padding:0;}/*!sc*/
.iStsmI{margin-left:auto;margin-right:auto;-webkit-flex-direction:column;-ms-flex-direction:column;flex-direction:column;padding-bottom:40px;max-width:100%;margin-top:0;}/*!sc*/
.eIgvIk{display:inherit;}/*!sc*/
.eVFfWF{width:100%;}/*!sc*/
.fywjmm{display:-webkit-box;display:-webkit-flex;display:-ms-flexbox;display:flex;gap:8px;-webkit-flex-direction:column;-ms-flex-direction:column;flex-direction:column;width:100%;}/*!sc*/
.dyczTK{display:-webkit-box;display:-webkit-flex;display:-ms-flexbox;display:flex;-webkit-align-items:start;-webkit-box-align:start;-ms-flex-align:start;align-items:start;-webkit-box-pack:justify;-webkit-justify-content:space-between;-ms-flex-pack:justify;justify-content:space-between;gap:8px;}/*!sc*/
.cpXcux{display:-webkit-box;display:-webkit-flex;display:-ms-flexbox;display:flex;-webkit-align-items:start;-webkit-box-align:start;-ms-flex-align:start;align-items:start;min-width:0;}/*!sc*/
.iPEkxH{display:block;margin-right:8px;}/*!sc*/
@media screen and (min-width:1360px){.iPEkxH{display:block;}}/*!sc*/
.kkrdEu{-webkit-box-pack:center;-webkit-justify-content:center;-ms-flex-pack:center;justify-content:center;}/*!sc*/
.trpoQ{display:-webkit-box;display:-webkit-flex;display:-ms-flexbox;display:flex;pointer-events:none;}/*!sc*/
.bKgizp{display:-webkit-box;display:-webkit-flex;display:-ms-flexbox;display:flex;width:100%;}/*!sc*/
.iPGYsi{margin-right:4px;color:var(--fgColor-muted,var(--color-fg-muted,#656d76));}/*!sc*/
.dKmYfk{font-size:14px;min-width:0;max-width:125px;overflow:hidden;text-overflow:ellipsis;white-space:nowrap;}/*!sc*/
.ehCeGn{-webkit-align-self:center;-ms-flex-item-align:center;align-self:center;display:-webkit-box;display:-webkit-flex;display:-ms-flexbox;display:flex;padding-left:8px;padding-right:8px;min-width:0;}/*!sc*/
.eTvGbF{display:-webkit-box;display:-webkit-flex;display:-ms-flexbox;display:flex;-webkit-flex-direction:row;-ms-flex-direction:row;flex-direction:row;font-size:16px;min-width:0;-webkit-flex-shrink:1;-ms-flex-negative:1;flex-shrink:1;-webkit-flex-wrap:wrap;-ms-flex-wrap:wrap;flex-wrap:wrap;max-width:100%;-webkit-align-items:center;-webkit-box-align:center;-ms-flex-align:center;align-items:center;}/*!sc*/
.kzRgrI{max-width:100%;}/*!sc*/
.cmAPIB{max-width:100%;list-style:none;display:inline-block;}/*!sc*/
.jwXCBK{display:inline-block;max-width:100%;}/*!sc*/
.gtBUEp{min-height:32px;display:-webkit-box;display:-webkit-flex;display:-ms-flexbox;display:flex;-webkit-align-items:start;-webkit-box-align:start;-ms-flex-align:start;align-items:start;}/*!sc*/
.kfYOBR{margin-left:4px;margin-right:4px;}/*!sc*/
.hVZtwF{margin-left:16px;margin-right:16px;}/*!sc*/
.cMYnca{display:-webkit-box;display:-webkit-flex;display:-ms-flexbox;display:flex;-webkit-flex-direction:column;-ms-flex-direction:column;flex-direction:column;}/*!sc*/
.brJRqk{display:-webkit-box;display:-webkit-flex;display:-ms-flexbox;display:flex;-webkit-flex-direction:row;-ms-flex-direction:row;flex-direction:row;-webkit-flex-wrap:wrap;-ms-flex-wrap:wrap;flex-wrap:wrap;-webkit-box-pack:justify;-webkit-justify-content:space-between;-ms-flex-pack:justify;justify-content:space-between;-webkit-align-items:center;-webkit-box-align:center;-ms-flex-align:center;align-items:center;gap:8px;min-width:273px;padding:8px;}/*!sc*/
@media screen and (min-width:544px){.brJRqk{-webkit-flex-wrap:nowrap;-ms-flex-wrap:nowrap;flex-wrap:nowrap;}}/*!sc*/
.iJmJly{display:-webkit-box;display:-webkit-flex;display:-ms-flexbox;display:flex;-webkit-flex-direction:row;-ms-flex-direction:row;flex-direction:row;}/*!sc*/
.jACbi{width:100%;height:-webkit-fit-content;height:-moz-fit-content;height:fit-content;min-width:0;margin-right:0;}/*!sc*/
.gIJuDf{height:40px;padding-left:4px;padding-bottom:16px;}/*!sc*/
.fleZSW{-webkit-align-items:center;-webkit-box-align:center;-ms-flex-align:center;align-items:center;}/*!sc*/
.BnySK{font-size:12px;-webkit-flex:auto;-ms-flex:auto;flex:auto;padding-right:16px;color:var(--fgColor-muted,var(--color-fg-muted,#656d76));min-width:0;}/*!sc*/
.VHzRk{top:0px;z-index:4;background:var(--bgColor-default,var(--color-canvas-default));position:-webkit-sticky;position:sticky;}/*!sc*/
.ePiodO{display:-webkit-box;display:-webkit-flex;display:-ms-flexbox;display:flex;-webkit-flex-direction:column;-ms-flex-direction:column;flex-direction:column;width:100%;position:absolute;}/*!sc*/
.kQJlnf{display:none;min-width:0;padding-top:8px;padding-bottom:8px;}/*!sc*/
.nSWSp{display:-webkit-box;display:-webkit-flex;display:-ms-flexbox;display:flex;-webkit-align-items:center;-webkit-box-align:center;-ms-flex-align:center;align-items:center;overflow:hidden;margin-left:8px;margin-right:8px;-webkit-flex-direction:row;-ms-flex-direction:row;flex-direction:row;-webkit-box-pack:justify;-webkit-justify-content:space-between;-ms-flex-pack:justify;justify-content:space-between;width:100%;}/*!sc*/
.lhFvfi{display:-webkit-box;display:-webkit-flex;display:-ms-flexbox;display:flex;-webkit-align-items:center;-webkit-box-align:center;-ms-flex-align:center;align-items:center;}/*!sc*/
.doiYd{margin-left:4px;margin-right:8px;}/*!sc*/
.jKPiSV{text-overflow:ellipsis;overflow:hidden;display:-webkit-box;display:-webkit-flex;display:-ms-flexbox;display:flex;}/*!sc*/
.iZJewz{display:-webkit-box;display:-webkit-flex;display:-ms-flexbox;display:flex;-webkit-flex-direction:row;-ms-flex-direction:row;flex-direction:row;font-size:14px;min-width:0;-webkit-flex-shrink:1;-ms-flex-negative:1;flex-shrink:1;-webkit-flex-wrap:wrap;-ms-flex-wrap:wrap;flex-wrap:wrap;max-width:100%;-webkit-align-items:center;-webkit-box-align:center;-ms-flex-align:center;align-items:center;}/*!sc*/
.jfjHXm{padding-left:8px;padding-top:8px;padding-bottom:8px;display:-webkit-box;display:-webkit-flex;display:-ms-flexbox;display:flex;-webkit-flex:1;-ms-flex:1;flex:1;-webkit-align-items:center;-webkit-box-align:center;-ms-flex-align:center;align-items:center;-webkit-box-pack:justify;-webkit-justify-content:space-between;-ms-flex-pack:justify;justify-content:space-between;background-color:var(--bgColor-muted,var(--color-canvas-subtle,#f6f8fa));border:1px solid var(--borderColor-default,var(--color-border-default));border-radius:6px 6px 0px 0px;}/*!sc*/
.bfkNRF{display:-webkit-box;display:-webkit-flex;display:-ms-flexbox;display:flex;-webkit-align-items:center;-webkit-box-align:center;-ms-flex-align:center;align-items:center;gap:8px;min-width:0;}/*!sc*/
.fXBLEV{display:block;position:relative;-webkit-box-flex:1;-webkit-flex-grow:1;-ms-flex-positive:1;flex-grow:1;margin-top:-1px;margin-bottom:-1px;--separator-color:transparent;}/*!sc*/
.fXBLEV:not(:last-child){margin-right:1px;}/*!sc*/
.fXBLEV:not(:last-child):after{background-color:var(--separator-color);content:"";position:absolute;right:-2px;top:8px;bottom:8px;width:1px;}/*!sc*/
.fXBLEV:focus-within:has(:focus-visible){--separator-color:transparent;}/*!sc*/
.fXBLEV:first-child{margin-left:-1px;}/*!sc*/
.fXBLEV:last-child{margin-right:-1px;}/*!sc*/
.gMPsNT{display:block;position:relative;-webkit-box-flex:1;-webkit-flex-grow:1;-ms-flex-positive:1;flex-grow:1;margin-top:-1px;margin-bottom:-1px;--separator-color:var(--borderColor-default,var(--color-border-default,#d0d7de));}/*!sc*/
.gMPsNT:not(:last-child){margin-right:1px;}/*!sc*/
.gMPsNT:not(:last-child):after{background-color:var(--separator-color);content:"";position:absolute;right:-2px;top:8px;bottom:8px;width:1px;}/*!sc*/
.gMPsNT:focus-within:has(:focus-visible){--separator-color:transparent;}/*!sc*/
.gMPsNT:first-child{margin-left:-1px;}/*!sc*/
.gMPsNT:last-child{margin-right:-1px;}/*!sc*/
.iBylDf{display:-webkit-box;display:-webkit-flex;display:-ms-flexbox;display:flex;-webkit-align-items:center;-webkit-box-align:center;-ms-flex-align:center;align-items:center;gap:8px;margin-right:8px;}/*!sc*/
.kSGBPx{gap:8px;}/*!sc*/
.ytOJl{border:1px solid;border-top:none;border-color:var(--borderColor-default,var(--color-border-default,#d0d7de));border-radius:0px 0px 6px 6px;min-width:273px;}/*!sc*/
.eJsjkT{background-color:var(--bgColor-default,var(--color-canvas-default));border:0px;border-width:0;border-radius:0px 0px 6px 6px;padding:0;min-width:0;margin-top:46px;overflow:auto;}/*!sc*/
.aZrVR{position:fixed;top:0;right:0;height:100%;width:15px;-webkit-transition:-webkit-transform 0.3s;-webkit-transition:transform 0.3s;transition:transform 0.3s;z-index:1;}/*!sc*/
.aZrVR:hover{-webkit-transform:scaleX(1.5);-ms-transform:scaleX(1.5);transform:scaleX(1.5);}/*!sc*/
.bAzdCq{display:-webkit-box;display:-webkit-flex;display:-ms-flexbox;display:flex;-webkit-flex-direction:column;-ms-flex-direction:column;flex-direction:column;-webkit-align-items:center;-webkit-box-align:center;-ms-flex-align:center;align-items:center;padding-top:16px;padding-bottom:16px;}/*!sc*/
data-styled.g2[id="Box-sc-g0xbh4-0"]{content:"fSWWem,kPPmzM,cIAPDV,gvCnwW,esrURn,eUyHuk,gNdDUH,hAeDYA,fjdBNx,emFMJu,hlUAHL,iStsmI,eIgvIk,eVFfWF,fywjmm,dyczTK,cpXcux,iPEkxH,kkrdEu,trpoQ,bKgizp,iPGYsi,dKmYfk,ehCeGn,eTvGbF,kzRgrI,cmAPIB,jwXCBK,gtBUEp,kfYOBR,hVZtwF,cMYnca,brJRqk,iJmJly,jACbi,gIJuDf,fleZSW,BnySK,VHzRk,ePiodO,kQJlnf,nSWSp,lhFvfi,doiYd,jKPiSV,iZJewz,jfjHXm,bfkNRF,fXBLEV,gMPsNT,iBylDf,kSGBPx,ytOJl,eJsjkT,aZrVR,bAzdCq,"}/*!sc*/
.blmaBs{border-radius:6px;border:1px solid;border-color:transparent;font-family:inherit;font-weight:500;font-size:14px;cursor:pointer;-webkit-appearance:none;-moz-appearance:none;appearance:none;-webkit-user-select:none;-moz-user-select:none;-ms-user-select:none;user-select:none;-webkit-text-decoration:none;text-decoration:none;text-align:center;display:-webkit-box;display:-webkit-flex;display:-ms-flexbox;display:flex;-webkit-align-items:center;-webkit-box-align:center;-ms-flex-align:center;align-items:center;-webkit-box-pack:justify;-webkit-justify-content:space-between;-ms-flex-pack:justify;justify-content:space-between;height:32px;padding:0 12px;gap:8px;min-width:-webkit-max-content;min-width:-moz-max-content;min-width:max-content;-webkit-transition:80ms cubic-bezier(0.65,0,0.35,1);transition:80ms cubic-bezier(0.65,0,0.35,1);-webkit-transition-property:color,fill,background-color,border-color;transition-property:color,fill,background-color,border-color;color:var(--button-default-fgColor-rest,var(--color-btn-text,#24292f));background-color:transparent;box-shadow:none;}/*!sc*/
.blmaBs:focus:not(:disabled){box-shadow:none;outline:2px solid var(--fgColor-accent,var(--color-accent-fg,#0969da));outline-offset:-2px;}/*!sc*/
.blmaBs:focus:not(:disabled):not(:focus-visible){outline:solid 1px transparent;}/*!sc*/
.blmaBs:focus-visible:not(:disabled){box-shadow:none;outline:2px solid var(--fgColor-accent,var(--color-accent-fg,#0969da));outline-offset:-2px;}/*!sc*/
.blmaBs[href]{display:-webkit-inline-box;display:-webkit-inline-flex;display:-ms-inline-flexbox;display:inline-flex;}/*!sc*/
.blmaBs[href]:hover{-webkit-text-decoration:none;text-decoration:none;}/*!sc*/
.blmaBs:hover{-webkit-transition-duration:80ms;transition-duration:80ms;}/*!sc*/
.blmaBs:active{-webkit-transition:none;transition:none;}/*!sc*/
.blmaBs[data-inactive]{cursor:auto;}/*!sc*/
.blmaBs:disabled{cursor:not-allowed;box-shadow:none;color:var(--fgColor-disabled,var(--color-primer-fg-disabled,#8c959f));}/*!sc*/
.blmaBs:disabled [data-component=ButtonCounter],.blmaBs:disabled [data-component="leadingVisual"],.blmaBs:disabled [data-component="trailingAction"]{color:inherit;}/*!sc*/
@media (forced-colors:active){.blmaBs:focus{outline:solid 1px transparent;}}/*!sc*/
.blmaBs [data-component=ButtonCounter]{font-size:12px;}/*!sc*/
.blmaBs[data-component=IconButton]{display:inline-grid;padding:unset;place-content:center;width:32px;min-width:unset;}/*!sc*/
.blmaBs[data-size="small"]{padding:0 8px;height:28px;gap:4px;font-size:12px;}/*!sc*/
.blmaBs[data-size="small"] [data-component="text"]{line-height:calc(20 / 12);}/*!sc*/
.blmaBs[data-size="small"] [data-component=ButtonCounter]{font-size:12px;}/*!sc*/
.blmaBs[data-size="small"] [data-component="buttonContent"] > :not(:last-child){margin-right:4px;}/*!sc*/
.blmaBs[data-size="small"][data-component=IconButton]{width:28px;padding:unset;}/*!sc*/
.blmaBs[data-size="large"]{padding:0 16px;height:40px;gap:8px;}/*!sc*/
.blmaBs[data-size="large"] [data-component="buttonContent"] > :not(:last-child){margin-right:8px;}/*!sc*/
.blmaBs[data-size="large"][data-component=IconButton]{width:40px;padding:unset;}/*!sc*/
.blmaBs[data-block="block"]{width:100%;}/*!sc*/
.blmaBs[data-inactive]:not([disabled]){background-color:var(--button-inactive-bgColor,var(--button-inactive-bgColor-rest,var(--color-btn-inactive-bg,#eaeef2)));border-color:var(--button-inactive-bgColor,var(--button-inactive-bgColor-rest,var(--color-btn-inactive-bg,#eaeef2)));color:var(--button-inactive-fgColor,var(--button-inactive-fgColor-rest,var(--color-btn-inactive-text,#57606a)));}/*!sc*/
.blmaBs[data-inactive]:not([disabled]):focus-visible{box-shadow:none;}/*!sc*/
.blmaBs [data-component="leadingVisual"]{grid-area:leadingVisual;color:var(--fgColor-muted,var(--color-fg-muted,#656d76));}/*!sc*/
.blmaBs [data-component="text"]{grid-area:text;line-height:calc(20/14);white-space:nowrap;}/*!sc*/
.blmaBs [data-component="trailingVisual"]{grid-area:trailingVisual;}/*!sc*/
.blmaBs [data-component="trailingAction"]{margin-right:-4px;color:var(--fgColor-muted,var(--color-fg-muted,#656d76));}/*!sc*/
.blmaBs [data-component="buttonContent"]{-webkit-flex:1 0 auto;-ms-flex:1 0 auto;flex:1 0 auto;display:grid;grid-template-areas:"leadingVisual text trailingVisual";grid-template-columns:min-content minmax(0,auto) min-content;-webkit-align-items:center;-webkit-box-align:center;-ms-flex-align:center;align-items:center;-webkit-align-content:center;-ms-flex-line-pack:center;align-content:center;}/*!sc*/
.blmaBs [data-component="buttonContent"] > :not(:last-child){margin-right:8px;}/*!sc*/
.blmaBs:hover:not([disabled]){background-color:var(--control-transparent-bgColor-hover,var(--color-action-list-item-default-hover-bg,rgba(208,215,222,0.32)));}/*!sc*/
.blmaBs:active:not([disabled]){background-color:var(--control-transparent-bgColor-active,var(--color-action-list-item-default-active-bg,rgba(208,215,222,0.48)));}/*!sc*/
.blmaBs[aria-expanded=true]{background-color:var(--control-transparent-bgColor-selected,var(--color-action-list-item-default-selected-bg,rgba(208,215,222,0.24)));}/*!sc*/
.blmaBs[data-component="IconButton"][data-no-visuals]{color:var(--fgColor-muted,var(--color-fg-muted,#656d76));}/*!sc*/
.blmaBs[data-no-visuals]{color:var(--fgColor-accent,var(--color-accent-fg,#0969da));}/*!sc*/
.blmaBs:has([data-component="ButtonCounter"]){color:var(--button-default-fgColor-rest,var(--color-btn-text,#24292f));}/*!sc*/
.blmaBs:disabled[data-no-visuals]{color:var(--fgColor-disabled,var(--color-primer-fg-disabled,#8c959f));}/*!sc*/
.blmaBs:disabled[data-no-visuals] [data-component=ButtonCounter]{color:inherit;}/*!sc*/
.blmaBs{color:var(--fgColor-muted,var(--color-fg-muted,#656d76));padding-left:8px;padding-right:8px;display:none;}/*!sc*/
@media screen and (max-width:768px){.blmaBs{display:block;}}/*!sc*/
.hkJzmn{border-radius:6px;border:1px solid;border-color:transparent;font-family:inherit;font-weight:500;font-size:14px;cursor:pointer;-webkit-appearance:none;-moz-appearance:none;appearance:none;-webkit-user-select:none;-moz-user-select:none;-ms-user-select:none;user-select:none;-webkit-text-decoration:none;text-decoration:none;text-align:center;display:-webkit-box;display:-webkit-flex;display:-ms-flexbox;display:flex;-webkit-align-items:center;-webkit-box-align:center;-ms-flex-align:center;align-items:center;-webkit-box-pack:justify;-webkit-justify-content:space-between;-ms-flex-pack:justify;justify-content:space-between;height:32px;padding:0 12px;gap:8px;min-width:-webkit-max-content;min-width:-moz-max-content;min-width:max-content;-webkit-transition:80ms cubic-bezier(0.65,0,0.35,1);transition:80ms cubic-bezier(0.65,0,0.35,1);-webkit-transition-property:color,fill,background-color,border-color;transition-property:color,fill,background-color,border-color;color:var(--button-default-fgColor-rest,var(--color-btn-text,#24292f));background-color:transparent;box-shadow:none;}/*!sc*/
.hkJzmn:focus:not(:disabled){box-shadow:none;outline:2px solid var(--fgColor-accent,var(--color-accent-fg,#0969da));outline-offset:-2px;}/*!sc*/
.hkJzmn:focus:not(:disabled):not(:focus-visible){outline:solid 1px transparent;}/*!sc*/
.hkJzmn:focus-visible:not(:disabled){box-shadow:none;outline:2px solid var(--fgColor-accent,var(--color-accent-fg,#0969da));outline-offset:-2px;}/*!sc*/
.hkJzmn[href]{display:-webkit-inline-box;display:-webkit-inline-flex;display:-ms-inline-flexbox;display:inline-flex;}/*!sc*/
.hkJzmn[href]:hover{-webkit-text-decoration:none;text-decoration:none;}/*!sc*/
.hkJzmn:hover{-webkit-transition-duration:80ms;transition-duration:80ms;}/*!sc*/
.hkJzmn:active{-webkit-transition:none;transition:none;}/*!sc*/
.hkJzmn[data-inactive]{cursor:auto;}/*!sc*/
.hkJzmn:disabled{cursor:not-allowed;box-shadow:none;color:var(--fgColor-disabled,var(--color-primer-fg-disabled,#8c959f));}/*!sc*/
.hkJzmn:disabled [data-component=ButtonCounter],.hkJzmn:disabled [data-component="leadingVisual"],.hkJzmn:disabled [data-component="trailingAction"]{color:inherit;}/*!sc*/
@media (forced-colors:active){.hkJzmn:focus{outline:solid 1px transparent;}}/*!sc*/
.hkJzmn [data-component=ButtonCounter]{font-size:12px;}/*!sc*/
.hkJzmn[data-component=IconButton]{display:inline-grid;padding:unset;place-content:center;width:32px;min-width:unset;}/*!sc*/
.hkJzmn[data-size="small"]{padding:0 8px;height:28px;gap:4px;font-size:12px;}/*!sc*/
.hkJzmn[data-size="small"] [data-component="text"]{line-height:calc(20 / 12);}/*!sc*/
.hkJzmn[data-size="small"] [data-component=ButtonCounter]{font-size:12px;}/*!sc*/
.hkJzmn[data-size="small"] [data-component="buttonContent"] > :not(:last-child){margin-right:4px;}/*!sc*/
.hkJzmn[data-size="small"][data-component=IconButton]{width:28px;padding:unset;}/*!sc*/
.hkJzmn[data-size="large"]{padding:0 16px;height:40px;gap:8px;}/*!sc*/
.hkJzmn[data-size="large"] [data-component="buttonContent"] > :not(:last-child){margin-right:8px;}/*!sc*/
.hkJzmn[data-size="large"][data-component=IconButton]{width:40px;padding:unset;}/*!sc*/
.hkJzmn[data-block="block"]{width:100%;}/*!sc*/
.hkJzmn[data-inactive]:not([disabled]){background-color:var(--button-inactive-bgColor,var(--button-inactive-bgColor-rest,var(--color-btn-inactive-bg,#eaeef2)));border-color:var(--button-inactive-bgColor,var(--button-inactive-bgColor-rest,var(--color-btn-inactive-bg,#eaeef2)));color:var(--button-inactive-fgColor,var(--button-inactive-fgColor-rest,var(--color-btn-inactive-text,#57606a)));}/*!sc*/
.hkJzmn[data-inactive]:not([disabled]):focus-visible{box-shadow:none;}/*!sc*/
.hkJzmn [data-component="leadingVisual"]{grid-area:leadingVisual;color:var(--fgColor-muted,var(--color-fg-muted,#656d76));}/*!sc*/
.hkJzmn [data-component="text"]{grid-area:text;line-height:calc(20/14);white-space:nowrap;}/*!sc*/
.hkJzmn [data-component="trailingVisual"]{grid-area:trailingVisual;}/*!sc*/
.hkJzmn [data-component="trailingAction"]{margin-right:-4px;color:var(--fgColor-muted,var(--color-fg-muted,#656d76));}/*!sc*/
.hkJzmn [data-component="buttonContent"]{-webkit-flex:1 0 auto;-ms-flex:1 0 auto;flex:1 0 auto;display:grid;grid-template-areas:"leadingVisual text trailingVisual";grid-template-columns:min-content minmax(0,auto) min-content;-webkit-align-items:center;-webkit-box-align:center;-ms-flex-align:center;align-items:center;-webkit-align-content:center;-ms-flex-line-pack:center;align-content:center;}/*!sc*/
.hkJzmn [data-component="buttonContent"] > :not(:last-child){margin-right:8px;}/*!sc*/
.hkJzmn:hover:not([disabled]){background-color:var(--control-transparent-bgColor-hover,var(--color-action-list-item-default-hover-bg,rgba(208,215,222,0.32)));}/*!sc*/
.hkJzmn:active:not([disabled]){background-color:var(--control-transparent-bgColor-active,var(--color-action-list-item-default-active-bg,rgba(208,215,222,0.48)));}/*!sc*/
.hkJzmn[aria-expanded=true]{background-color:var(--control-transparent-bgColor-selected,var(--color-action-list-item-default-selected-bg,rgba(208,215,222,0.24)));}/*!sc*/
.hkJzmn[data-component="IconButton"][data-no-visuals]{color:var(--fgColor-muted,var(--color-fg-muted,#656d76));}/*!sc*/
.hkJzmn[data-no-visuals]{color:var(--fgColor-muted,var(--color-fg-muted,#656d76));height:32px;position:relative;}/*!sc*/
@media screen and (max-width:768px){.hkJzmn[data-no-visuals]{display:none;}}/*!sc*/
.hkJzmn:has([data-component="ButtonCounter"]){color:var(--button-default-fgColor-rest,var(--color-btn-text,#24292f));}/*!sc*/
.hkJzmn:disabled[data-no-visuals]{color:var(--fgColor-disabled,var(--color-primer-fg-disabled,#8c959f));}/*!sc*/
.hkJzmn:disabled[data-no-visuals] [data-component=ButtonCounter]{color:inherit;}/*!sc*/
.hILMMl{border-radius:6px;border:1px solid;border-color:var(--button-default-borderColor-rest,var(--button-default-borderColor-rest,var(--color-btn-border,rgba(31,35,40,0.15))));font-family:inherit;font-weight:500;font-size:14px;cursor:pointer;-webkit-appearance:none;-moz-appearance:none;appearance:none;-webkit-user-select:none;-moz-user-select:none;-ms-user-select:none;user-select:none;-webkit-text-decoration:none;text-decoration:none;text-align:center;display:-webkit-box;display:-webkit-flex;display:-ms-flexbox;display:flex;-webkit-align-items:center;-webkit-box-align:center;-ms-flex-align:center;align-items:center;-webkit-box-pack:justify;-webkit-justify-content:space-between;-ms-flex-pack:justify;justify-content:space-between;height:32px;padding:0 12px;gap:8px;min-width:-webkit-max-content;min-width:-moz-max-content;min-width:max-content;-webkit-transition:80ms cubic-bezier(0.65,0,0.35,1);transition:80ms cubic-bezier(0.65,0,0.35,1);-webkit-transition-property:color,fill,background-color,border-color;transition-property:color,fill,background-color,border-color;color:var(--button-default-fgColor-rest,var(--color-btn-text,#24292f));background-color:var(--button-default-bgColor-rest,var(--color-btn-bg,#f6f8fa));box-shadow:var(--button-default-shadow-resting,var(--color-btn-shadow,0 1px 0 rgba(31,35,40,0.04))),var(--button-default-shadow-inset,var(--color-btn-inset-shadow,inset 0 1px 0 rgba(255,255,255,0.25)));}/*!sc*/
.hILMMl:focus:not(:disabled){box-shadow:none;outline:2px solid var(--fgColor-accent,var(--color-accent-fg,#0969da));outline-offset:-2px;}/*!sc*/
.hILMMl:focus:not(:disabled):not(:focus-visible){outline:solid 1px transparent;}/*!sc*/
.hILMMl:focus-visible:not(:disabled){box-shadow:none;outline:2px solid var(--fgColor-accent,var(--color-accent-fg,#0969da));outline-offset:-2px;}/*!sc*/
.hILMMl[href]{display:-webkit-inline-box;display:-webkit-inline-flex;display:-ms-inline-flexbox;display:inline-flex;}/*!sc*/
.hILMMl[href]:hover{-webkit-text-decoration:none;text-decoration:none;}/*!sc*/
.hILMMl:hover{-webkit-transition-duration:80ms;transition-duration:80ms;}/*!sc*/
.hILMMl:active{-webkit-transition:none;transition:none;}/*!sc*/
.hILMMl[data-inactive]{cursor:auto;}/*!sc*/
.hILMMl:disabled{cursor:not-allowed;box-shadow:none;color:var(--fgColor-disabled,var(--color-primer-fg-disabled,#8c959f));border-color:var(--button-default-borderColor-disabled,var(--button-default-borderColor-rest,var(--color-btn-border,rgba(31,35,40,0.15))));background-color:var(--button-default-bgColor-disabled,var(--control-bgColor-disabled,var(--color-input-disabled-bg,rgba(175,184,193,0.2))));}/*!sc*/
.hILMMl:disabled [data-component=ButtonCounter]{color:inherit;}/*!sc*/
@media (forced-colors:active){.hILMMl:focus{outline:solid 1px transparent;}}/*!sc*/
.hILMMl [data-component=ButtonCounter]{font-size:12px;background-color:var(--buttonCounter-default-bgColor-rest,var(--color-btn-counter-bg,rgba(31,35,40,0.08)));}/*!sc*/
.hILMMl[data-component=IconButton]{display:inline-grid;padding:unset;place-content:center;width:32px;min-width:unset;}/*!sc*/
.hILMMl[data-size="small"]{padding:0 8px;height:28px;gap:4px;font-size:12px;}/*!sc*/
.hILMMl[data-size="small"] [data-component="text"]{line-height:calc(20 / 12);}/*!sc*/
.hILMMl[data-size="small"] [data-component=ButtonCounter]{font-size:12px;}/*!sc*/
.hILMMl[data-size="small"] [data-component="buttonContent"] > :not(:last-child){margin-right:4px;}/*!sc*/
.hILMMl[data-size="small"][data-component=IconButton]{width:28px;padding:unset;}/*!sc*/
.hILMMl[data-size="large"]{padding:0 16px;height:40px;gap:8px;}/*!sc*/
.hILMMl[data-size="large"] [data-component="buttonContent"] > :not(:last-child){margin-right:8px;}/*!sc*/
.hILMMl[data-size="large"][data-component=IconButton]{width:40px;padding:unset;}/*!sc*/
.hILMMl[data-block="block"]{width:100%;}/*!sc*/
.hILMMl[data-inactive]:not([disabled]){background-color:var(--button-inactive-bgColor,var(--button-inactive-bgColor-rest,var(--color-btn-inactive-bg,#eaeef2)));border-color:var(--button-inactive-bgColor,var(--button-inactive-bgColor-rest,var(--color-btn-inactive-bg,#eaeef2)));color:var(--button-inactive-fgColor,var(--button-inactive-fgColor-rest,var(--color-btn-inactive-text,#57606a)));}/*!sc*/
.hILMMl[data-inactive]:not([disabled]):focus-visible{box-shadow:none;}/*!sc*/
.hILMMl [data-component="leadingVisual"]{grid-area:leadingVisual;}/*!sc*/
.hILMMl [data-component="text"]{grid-area:text;line-height:calc(20/14);white-space:nowrap;}/*!sc*/
.hILMMl [data-component="trailingVisual"]{grid-area:trailingVisual;}/*!sc*/
.hILMMl [data-component="trailingAction"]{margin-right:-4px;}/*!sc*/
.hILMMl [data-component="buttonContent"]{-webkit-flex:1 0 auto;-ms-flex:1 0 auto;flex:1 0 auto;display:grid;grid-template-areas:"leadingVisual text trailingVisual";grid-template-columns:min-content minmax(0,auto) min-content;-webkit-align-items:center;-webkit-box-align:center;-ms-flex-align:center;align-items:center;-webkit-align-content:center;-ms-flex-line-pack:center;align-content:center;}/*!sc*/
.hILMMl [data-component="buttonContent"] > :not(:last-child){margin-right:8px;}/*!sc*/
.hILMMl:hover:not([disabled]):not([data-inactive]){background-color:var(--button-default-bgColor-hover,var(--color-btn-hover-bg,#f3f4f6));border-color:var(--button-default-borderColor-hover,var(--button-default-borderColor-hover,var(--color-btn-hover-border,rgba(31,35,40,0.15))));}/*!sc*/
.hILMMl:active:not([disabled]):not([data-inactive]){background-color:var(--button-default-bgColor-active,var(--color-btn-active-bg,hsla(220,14%,93%,1)));border-color:var(--button-default-borderColor-active,var(--button-default-borderColor-active,var(--color-btn-active-border,rgba(31,35,40,0.15))));}/*!sc*/
.hILMMl[aria-expanded=true]{background-color:var(--button-default-bgColor-active,var(--color-btn-active-bg,hsla(220,14%,93%,1)));border-color:var(--button-default-borderColor-active,var(--button-default-borderColor-active,var(--color-btn-active-border,rgba(31,35,40,0.15))));}/*!sc*/
.hILMMl [data-component="leadingVisual"],.hILMMl [data-component="trailingVisual"],.hILMMl [data-component="trailingAction"]{color:var(--button-color,var(--fgColor-muted,var(--color-fg-muted,#656d76)));}/*!sc*/
.hILMMl[data-component="IconButton"][data-no-visuals]{color:var(--fgColor-muted,var(--color-fg-muted,#656d76));}/*!sc*/
.hILMMl{display:-webkit-box;display:-webkit-flex;display:-ms-flexbox;display:flex;}/*!sc*/
.hILMMl svg{color:var(--fgColor-muted,var(--color-fg-muted,#656d76));}/*!sc*/
.hILMMl > span{width:inherit;}/*!sc*/
.ivbpoP{border-radius:6px;border:1px solid;border-color:transparent;font-family:inherit;font-weight:500;font-size:14px;cursor:pointer;-webkit-appearance:none;-moz-appearance:none;appearance:none;-webkit-user-select:none;-moz-user-select:none;-ms-user-select:none;user-select:none;-webkit-text-decoration:none;text-decoration:none;text-align:center;display:-webkit-box;display:-webkit-flex;display:-ms-flexbox;display:flex;-webkit-align-items:center;-webkit-box-align:center;-ms-flex-align:center;align-items:center;-webkit-box-pack:justify;-webkit-justify-content:space-between;-ms-flex-pack:justify;justify-content:space-between;height:32px;padding:0 12px;gap:8px;min-width:-webkit-max-content;min-width:-moz-max-content;min-width:max-content;-webkit-transition:80ms cubic-bezier(0.65,0,0.35,1);transition:80ms cubic-bezier(0.65,0,0.35,1);-webkit-transition-property:color,fill,background-color,border-color;transition-property:color,fill,background-color,border-color;color:var(--button-default-fgColor-rest,var(--color-btn-text,#24292f));background-color:transparent;box-shadow:none;}/*!sc*/
.ivbpoP:focus:not(:disabled){box-shadow:none;outline:2px solid var(--fgColor-accent,var(--color-accent-fg,#0969da));outline-offset:-2px;}/*!sc*/
.ivbpoP:focus:not(:disabled):not(:focus-visible){outline:solid 1px transparent;}/*!sc*/
.ivbpoP:focus-visible:not(:disabled){box-shadow:none;outline:2px solid var(--fgColor-accent,var(--color-accent-fg,#0969da));outline-offset:-2px;}/*!sc*/
.ivbpoP[href]{display:-webkit-inline-box;display:-webkit-inline-flex;display:-ms-inline-flexbox;display:inline-flex;}/*!sc*/
.ivbpoP[href]:hover{-webkit-text-decoration:none;text-decoration:none;}/*!sc*/
.ivbpoP:hover{-webkit-transition-duration:80ms;transition-duration:80ms;}/*!sc*/
.ivbpoP:active{-webkit-transition:none;transition:none;}/*!sc*/
.ivbpoP[data-inactive]{cursor:auto;}/*!sc*/
.ivbpoP:disabled{cursor:not-allowed;box-shadow:none;color:var(--fgColor-disabled,var(--color-primer-fg-disabled,#8c959f));}/*!sc*/
.ivbpoP:disabled [data-component=ButtonCounter],.ivbpoP:disabled [data-component="leadingVisual"],.ivbpoP:disabled [data-component="trailingAction"]{color:inherit;}/*!sc*/
@media (forced-colors:active){.ivbpoP:focus{outline:solid 1px transparent;}}/*!sc*/
.ivbpoP [data-component=ButtonCounter]{font-size:12px;}/*!sc*/
.ivbpoP[data-component=IconButton]{display:inline-grid;padding:unset;place-content:center;width:32px;min-width:unset;}/*!sc*/
.ivbpoP[data-size="small"]{padding:0 8px;height:28px;gap:4px;font-size:12px;}/*!sc*/
.ivbpoP[data-size="small"] [data-component="text"]{line-height:calc(20 / 12);}/*!sc*/
.ivbpoP[data-size="small"] [data-component=ButtonCounter]{font-size:12px;}/*!sc*/
.ivbpoP[data-size="small"] [data-component="buttonContent"] > :not(:last-child){margin-right:4px;}/*!sc*/
.ivbpoP[data-size="small"][data-component=IconButton]{width:28px;padding:unset;}/*!sc*/
.ivbpoP[data-size="large"]{padding:0 16px;height:40px;gap:8px;}/*!sc*/
.ivbpoP[data-size="large"] [data-component="buttonContent"] > :not(:last-child){margin-right:8px;}/*!sc*/
.ivbpoP[data-size="large"][data-component=IconButton]{width:40px;padding:unset;}/*!sc*/
.ivbpoP[data-block="block"]{width:100%;}/*!sc*/
.ivbpoP[data-inactive]:not([disabled]){background-color:var(--button-inactive-bgColor,var(--button-inactive-bgColor-rest,var(--color-btn-inactive-bg,#eaeef2)));border-color:var(--button-inactive-bgColor,var(--button-inactive-bgColor-rest,var(--color-btn-inactive-bg,#eaeef2)));color:var(--button-inactive-fgColor,var(--button-inactive-fgColor-rest,var(--color-btn-inactive-text,#57606a)));}/*!sc*/
.ivbpoP[data-inactive]:not([disabled]):focus-visible{box-shadow:none;}/*!sc*/
.ivbpoP [data-component="leadingVisual"]{grid-area:leadingVisual;color:var(--fgColor-muted,var(--color-fg-muted,#656d76));}/*!sc*/
.ivbpoP [data-component="text"]{grid-area:text;line-height:calc(20/14);white-space:nowrap;}/*!sc*/
.ivbpoP [data-component="trailingVisual"]{grid-area:trailingVisual;}/*!sc*/
.ivbpoP [data-component="trailingAction"]{margin-right:-4px;color:var(--fgColor-muted,var(--color-fg-muted,#656d76));}/*!sc*/
.ivbpoP [data-component="buttonContent"]{-webkit-flex:1 0 auto;-ms-flex:1 0 auto;flex:1 0 auto;display:grid;grid-template-areas:"leadingVisual text trailingVisual";grid-template-columns:min-content minmax(0,auto) min-content;-webkit-align-items:center;-webkit-box-align:center;-ms-flex-align:center;align-items:center;-webkit-align-content:center;-ms-flex-line-pack:center;align-content:center;}/*!sc*/
.ivbpoP [data-component="buttonContent"] > :not(:last-child){margin-right:8px;}/*!sc*/
.ivbpoP:hover:not([disabled]){background-color:var(--control-transparent-bgColor-hover,var(--color-action-list-item-default-hover-bg,rgba(208,215,222,0.32)));}/*!sc*/
.ivbpoP:active:not([disabled]){background-color:var(--control-transparent-bgColor-active,var(--color-action-list-item-default-active-bg,rgba(208,215,222,0.48)));}/*!sc*/
.ivbpoP[aria-expanded=true]{background-color:var(--control-transparent-bgColor-selected,var(--color-action-list-item-default-selected-bg,rgba(208,215,222,0.24)));}/*!sc*/
.ivbpoP[data-component="IconButton"][data-no-visuals]{color:var(--fgColor-muted,var(--color-fg-muted,#656d76));}/*!sc*/
.ivbpoP[data-no-visuals]{color:var(--fgColor-accent,var(--color-accent-fg,#0969da));}/*!sc*/
.ivbpoP:has([data-component="ButtonCounter"]){color:var(--button-default-fgColor-rest,var(--color-btn-text,#24292f));}/*!sc*/
.ivbpoP:disabled[data-no-visuals]{color:var(--fgColor-disabled,var(--color-primer-fg-disabled,#8c959f));}/*!sc*/
.ivbpoP:disabled[data-no-visuals] [data-component=ButtonCounter]{color:inherit;}/*!sc*/
.ivbpoP[data-size="small"][data-no-visuals]{margin-left:8px;}/*!sc*/
.hviaoI{border-radius:6px;border:1px solid;border-color:var(--button-default-borderColor-rest,var(--button-default-borderColor-rest,var(--color-btn-border,rgba(31,35,40,0.15))));font-family:inherit;font-weight:500;font-size:14px;cursor:pointer;-webkit-appearance:none;-moz-appearance:none;appearance:none;-webkit-user-select:none;-moz-user-select:none;-ms-user-select:none;user-select:none;-webkit-text-decoration:none;text-decoration:none;text-align:center;display:-webkit-box;display:-webkit-flex;display:-ms-flexbox;display:flex;-webkit-align-items:center;-webkit-box-align:center;-ms-flex-align:center;align-items:center;-webkit-box-pack:justify;-webkit-justify-content:space-between;-ms-flex-pack:justify;justify-content:space-between;height:32px;padding:0 12px;gap:8px;min-width:-webkit-max-content;min-width:-moz-max-content;min-width:max-content;-webkit-transition:80ms cubic-bezier(0.65,0,0.35,1);transition:80ms cubic-bezier(0.65,0,0.35,1);-webkit-transition-property:color,fill,background-color,border-color;transition-property:color,fill,background-color,border-color;color:var(--button-default-fgColor-rest,var(--color-btn-text,#24292f));background-color:var(--button-default-bgColor-rest,var(--color-btn-bg,#f6f8fa));box-shadow:var(--button-default-shadow-resting,var(--color-btn-shadow,0 1px 0 rgba(31,35,40,0.04))),var(--button-default-shadow-inset,var(--color-btn-inset-shadow,inset 0 1px 0 rgba(255,255,255,0.25)));}/*!sc*/
.hviaoI:focus:not(:disabled){box-shadow:none;outline:2px solid var(--fgColor-accent,var(--color-accent-fg,#0969da));outline-offset:-2px;}/*!sc*/
.hviaoI:focus:not(:disabled):not(:focus-visible){outline:solid 1px transparent;}/*!sc*/
.hviaoI:focus-visible:not(:disabled){box-shadow:none;outline:2px solid var(--fgColor-accent,var(--color-accent-fg,#0969da));outline-offset:-2px;}/*!sc*/
.hviaoI[href]{display:-webkit-inline-box;display:-webkit-inline-flex;display:-ms-inline-flexbox;display:inline-flex;}/*!sc*/
.hviaoI[href]:hover{-webkit-text-decoration:none;text-decoration:none;}/*!sc*/
.hviaoI:hover{-webkit-transition-duration:80ms;transition-duration:80ms;}/*!sc*/
.hviaoI:active{-webkit-transition:none;transition:none;}/*!sc*/
.hviaoI[data-inactive]{cursor:auto;}/*!sc*/
.hviaoI:disabled{cursor:not-allowed;box-shadow:none;color:var(--fgColor-disabled,var(--color-primer-fg-disabled,#8c959f));border-color:var(--button-default-borderColor-disabled,var(--button-default-borderColor-rest,var(--color-btn-border,rgba(31,35,40,0.15))));background-color:var(--button-default-bgColor-disabled,var(--control-bgColor-disabled,var(--color-input-disabled-bg,rgba(175,184,193,0.2))));}/*!sc*/
.hviaoI:disabled [data-component=ButtonCounter]{color:inherit;}/*!sc*/
@media (forced-colors:active){.hviaoI:focus{outline:solid 1px transparent;}}/*!sc*/
.hviaoI [data-component=ButtonCounter]{font-size:12px;background-color:var(--buttonCounter-default-bgColor-rest,var(--color-btn-counter-bg,rgba(31,35,40,0.08)));}/*!sc*/
.hviaoI[data-component=IconButton]{display:inline-grid;padding:unset;place-content:center;width:32px;min-width:unset;}/*!sc*/
.hviaoI[data-size="small"]{padding:0 8px;height:28px;gap:4px;font-size:12px;}/*!sc*/
.hviaoI[data-size="small"] [data-component="text"]{line-height:calc(20 / 12);}/*!sc*/
.hviaoI[data-size="small"] [data-component=ButtonCounter]{font-size:12px;}/*!sc*/
.hviaoI[data-size="small"] [data-component="buttonContent"] > :not(:last-child){margin-right:4px;}/*!sc*/
.hviaoI[data-size="small"][data-component=IconButton]{width:28px;padding:unset;}/*!sc*/
.hviaoI[data-size="large"]{padding:0 16px;height:40px;gap:8px;}/*!sc*/
.hviaoI[data-size="large"] [data-component="buttonContent"] > :not(:last-child){margin-right:8px;}/*!sc*/
.hviaoI[data-size="large"][data-component=IconButton]{width:40px;padding:unset;}/*!sc*/
.hviaoI[data-block="block"]{width:100%;}/*!sc*/
.hviaoI[data-inactive]:not([disabled]){background-color:var(--button-inactive-bgColor,var(--button-inactive-bgColor-rest,var(--color-btn-inactive-bg,#eaeef2)));border-color:var(--button-inactive-bgColor,var(--button-inactive-bgColor-rest,var(--color-btn-inactive-bg,#eaeef2)));color:var(--button-inactive-fgColor,var(--button-inactive-fgColor-rest,var(--color-btn-inactive-text,#57606a)));}/*!sc*/
.hviaoI[data-inactive]:not([disabled]):focus-visible{box-shadow:none;}/*!sc*/
.hviaoI [data-component="leadingVisual"]{grid-area:leadingVisual;}/*!sc*/
.hviaoI [data-component="text"]{grid-area:text;line-height:calc(20/14);white-space:nowrap;}/*!sc*/
.hviaoI [data-component="trailingVisual"]{grid-area:trailingVisual;}/*!sc*/
.hviaoI [data-component="trailingAction"]{margin-right:-4px;}/*!sc*/
.hviaoI [data-component="buttonContent"]{-webkit-flex:1 0 auto;-ms-flex:1 0 auto;flex:1 0 auto;display:grid;grid-template-areas:"leadingVisual text trailingVisual";grid-template-columns:min-content minmax(0,auto) min-content;-webkit-align-items:center;-webkit-box-align:center;-ms-flex-align:center;align-items:center;-webkit-align-content:center;-ms-flex-line-pack:center;align-content:center;}/*!sc*/
.hviaoI [data-component="buttonContent"] > :not(:last-child){margin-right:8px;}/*!sc*/
.hviaoI:hover:not([disabled]):not([data-inactive]){background-color:var(--button-default-bgColor-hover,var(--color-btn-hover-bg,#f3f4f6));border-color:var(--button-default-borderColor-hover,var(--button-default-borderColor-hover,var(--color-btn-hover-border,rgba(31,35,40,0.15))));}/*!sc*/
.hviaoI:active:not([disabled]):not([data-inactive]){background-color:var(--button-default-bgColor-active,var(--color-btn-active-bg,hsla(220,14%,93%,1)));border-color:var(--button-default-borderColor-active,var(--button-default-borderColor-active,var(--color-btn-active-border,rgba(31,35,40,0.15))));}/*!sc*/
.hviaoI[aria-expanded=true]{background-color:var(--button-default-bgColor-active,var(--color-btn-active-bg,hsla(220,14%,93%,1)));border-color:var(--button-default-borderColor-active,var(--button-default-borderColor-active,var(--color-btn-active-border,rgba(31,35,40,0.15))));}/*!sc*/
.hviaoI [data-component="leadingVisual"],.hviaoI [data-component="trailingVisual"],.hviaoI [data-component="trailingAction"]{color:var(--button-color,var(--fgColor-muted,var(--color-fg-muted,#656d76)));}/*!sc*/
.hviaoI[data-component="IconButton"][data-no-visuals]{color:var(--fgColor-muted,var(--color-fg-muted,#656d76));}/*!sc*/
.hviaoI[data-no-visuals]{border-top-left-radius:0;border-bottom-left-radius:0;display:none;}/*!sc*/
.jXTShb{border-radius:6px;border:1px solid;border-color:var(--button-default-borderColor-rest,var(--button-default-borderColor-rest,var(--color-btn-border,rgba(31,35,40,0.15))));font-family:inherit;font-weight:500;font-size:14px;cursor:pointer;-webkit-appearance:none;-moz-appearance:none;appearance:none;-webkit-user-select:none;-moz-user-select:none;-ms-user-select:none;user-select:none;-webkit-text-decoration:none;text-decoration:none;text-align:center;display:-webkit-box;display:-webkit-flex;display:-ms-flexbox;display:flex;-webkit-align-items:center;-webkit-box-align:center;-ms-flex-align:center;align-items:center;-webkit-box-pack:justify;-webkit-justify-content:space-between;-ms-flex-pack:justify;justify-content:space-between;height:32px;padding:0 12px;gap:8px;min-width:-webkit-max-content;min-width:-moz-max-content;min-width:max-content;-webkit-transition:80ms cubic-bezier(0.65,0,0.35,1);transition:80ms cubic-bezier(0.65,0,0.35,1);-webkit-transition-property:color,fill,background-color,border-color;transition-property:color,fill,background-color,border-color;color:var(--button-default-fgColor-rest,var(--color-btn-text,#24292f));background-color:var(--button-default-bgColor-rest,var(--color-btn-bg,#f6f8fa));box-shadow:var(--button-default-shadow-resting,var(--color-btn-shadow,0 1px 0 rgba(31,35,40,0.04))),var(--button-default-shadow-inset,var(--color-btn-inset-shadow,inset 0 1px 0 rgba(255,255,255,0.25)));}/*!sc*/
.jXTShb:focus:not(:disabled){box-shadow:none;outline:2px solid var(--fgColor-accent,var(--color-accent-fg,#0969da));outline-offset:-2px;}/*!sc*/
.jXTShb:focus:not(:disabled):not(:focus-visible){outline:solid 1px transparent;}/*!sc*/
.jXTShb:focus-visible:not(:disabled){box-shadow:none;outline:2px solid var(--fgColor-accent,var(--color-accent-fg,#0969da));outline-offset:-2px;}/*!sc*/
.jXTShb[href]{display:-webkit-inline-box;display:-webkit-inline-flex;display:-ms-inline-flexbox;display:inline-flex;}/*!sc*/
.jXTShb[href]:hover{-webkit-text-decoration:none;text-decoration:none;}/*!sc*/
.jXTShb:hover{-webkit-transition-duration:80ms;transition-duration:80ms;}/*!sc*/
.jXTShb:active{-webkit-transition:none;transition:none;}/*!sc*/
.jXTShb[data-inactive]{cursor:auto;}/*!sc*/
.jXTShb:disabled{cursor:not-allowed;box-shadow:none;color:var(--fgColor-disabled,var(--color-primer-fg-disabled,#8c959f));border-color:var(--button-default-borderColor-disabled,var(--button-default-borderColor-rest,var(--color-btn-border,rgba(31,35,40,0.15))));background-color:var(--button-default-bgColor-disabled,var(--control-bgColor-disabled,var(--color-input-disabled-bg,rgba(175,184,193,0.2))));}/*!sc*/
.jXTShb:disabled [data-component=ButtonCounter]{color:inherit;}/*!sc*/
@media (forced-colors:active){.jXTShb:focus{outline:solid 1px transparent;}}/*!sc*/
.jXTShb [data-component=ButtonCounter]{font-size:12px;background-color:var(--buttonCounter-default-bgColor-rest,var(--color-btn-counter-bg,rgba(31,35,40,0.08)));}/*!sc*/
.jXTShb[data-component=IconButton]{display:inline-grid;padding:unset;place-content:center;width:32px;min-width:unset;}/*!sc*/
.jXTShb[data-size="small"]{padding:0 8px;height:28px;gap:4px;font-size:12px;}/*!sc*/
.jXTShb[data-size="small"] [data-component="text"]{line-height:calc(20 / 12);}/*!sc*/
.jXTShb[data-size="small"] [data-component=ButtonCounter]{font-size:12px;}/*!sc*/
.jXTShb[data-size="small"] [data-component="buttonContent"] > :not(:last-child){margin-right:4px;}/*!sc*/
.jXTShb[data-size="small"][data-component=IconButton]{width:28px;padding:unset;}/*!sc*/
.jXTShb[data-size="large"]{padding:0 16px;height:40px;gap:8px;}/*!sc*/
.jXTShb[data-size="large"] [data-component="buttonContent"] > :not(:last-child){margin-right:8px;}/*!sc*/
.jXTShb[data-size="large"][data-component=IconButton]{width:40px;padding:unset;}/*!sc*/
.jXTShb[data-block="block"]{width:100%;}/*!sc*/
.jXTShb[data-inactive]:not([disabled]){background-color:var(--button-inactive-bgColor,var(--button-inactive-bgColor-rest,var(--color-btn-inactive-bg,#eaeef2)));border-color:var(--button-inactive-bgColor,var(--button-inactive-bgColor-rest,var(--color-btn-inactive-bg,#eaeef2)));color:var(--button-inactive-fgColor,var(--button-inactive-fgColor-rest,var(--color-btn-inactive-text,#57606a)));}/*!sc*/
.jXTShb[data-inactive]:not([disabled]):focus-visible{box-shadow:none;}/*!sc*/
.jXTShb [data-component="leadingVisual"]{grid-area:leadingVisual;}/*!sc*/
.jXTShb [data-component="text"]{grid-area:text;line-height:calc(20/14);white-space:nowrap;}/*!sc*/
.jXTShb [data-component="trailingVisual"]{grid-area:trailingVisual;}/*!sc*/
.jXTShb [data-component="trailingAction"]{margin-right:-4px;}/*!sc*/
.jXTShb [data-component="buttonContent"]{-webkit-flex:1 0 auto;-ms-flex:1 0 auto;flex:1 0 auto;display:grid;grid-template-areas:"leadingVisual text trailingVisual";grid-template-columns:min-content minmax(0,auto) min-content;-webkit-align-items:center;-webkit-box-align:center;-ms-flex-align:center;align-items:center;-webkit-align-content:center;-ms-flex-line-pack:center;align-content:center;}/*!sc*/
.jXTShb [data-component="buttonContent"] > :not(:last-child){margin-right:8px;}/*!sc*/
.jXTShb:hover:not([disabled]):not([data-inactive]){background-color:var(--button-default-bgColor-hover,var(--color-btn-hover-bg,#f3f4f6));border-color:var(--button-default-borderColor-hover,var(--button-default-borderColor-hover,var(--color-btn-hover-border,rgba(31,35,40,0.15))));}/*!sc*/
.jXTShb:active:not([disabled]):not([data-inactive]){background-color:var(--button-default-bgColor-active,var(--color-btn-active-bg,hsla(220,14%,93%,1)));border-color:var(--button-default-borderColor-active,var(--button-default-borderColor-active,var(--color-btn-active-border,rgba(31,35,40,0.15))));}/*!sc*/
.jXTShb[aria-expanded=true]{background-color:var(--button-default-bgColor-active,var(--color-btn-active-bg,hsla(220,14%,93%,1)));border-color:var(--button-default-borderColor-active,var(--button-default-borderColor-active,var(--color-btn-active-border,rgba(31,35,40,0.15))));}/*!sc*/
.jXTShb [data-component="leadingVisual"],.jXTShb [data-component="trailingVisual"],.jXTShb [data-component="trailingAction"]{color:var(--button-color,var(--fgColor-muted,var(--color-fg-muted,#656d76)));}/*!sc*/
.jXTShb[data-component="IconButton"][data-no-visuals]{color:var(--fgColor-muted,var(--color-fg-muted,#656d76));}/*!sc*/
.jXTShb[data-no-visuals]{color:var(--fgColor-muted,var(--color-fg-muted,#656d76));}/*!sc*/
.dOnKJi{border-radius:6px;border:1px solid;border-color:transparent;font-family:inherit;font-weight:500;font-size:14px;cursor:pointer;-webkit-appearance:none;-moz-appearance:none;appearance:none;-webkit-user-select:none;-moz-user-select:none;-ms-user-select:none;user-select:none;-webkit-text-decoration:none;text-decoration:none;text-align:center;display:-webkit-box;display:-webkit-flex;display:-ms-flexbox;display:flex;-webkit-align-items:center;-webkit-box-align:center;-ms-flex-align:center;align-items:center;-webkit-box-pack:justify;-webkit-justify-content:space-between;-ms-flex-pack:justify;justify-content:space-between;height:32px;padding:0 12px;gap:8px;min-width:-webkit-max-content;min-width:-moz-max-content;min-width:max-content;-webkit-transition:80ms cubic-bezier(0.65,0,0.35,1);transition:80ms cubic-bezier(0.65,0,0.35,1);-webkit-transition-property:color,fill,background-color,border-color;transition-property:color,fill,background-color,border-color;color:var(--button-default-fgColor-rest,var(--color-btn-text,#24292f));background-color:transparent;box-shadow:none;}/*!sc*/
.dOnKJi:focus:not(:disabled){box-shadow:none;outline:2px solid var(--fgColor-accent,var(--color-accent-fg,#0969da));outline-offset:-2px;}/*!sc*/
.dOnKJi:focus:not(:disabled):not(:focus-visible){outline:solid 1px transparent;}/*!sc*/
.dOnKJi:focus-visible:not(:disabled){box-shadow:none;outline:2px solid var(--fgColor-accent,var(--color-accent-fg,#0969da));outline-offset:-2px;}/*!sc*/
.dOnKJi[href]{display:-webkit-inline-box;display:-webkit-inline-flex;display:-ms-inline-flexbox;display:inline-flex;}/*!sc*/
.dOnKJi[href]:hover{-webkit-text-decoration:none;text-decoration:none;}/*!sc*/
.dOnKJi:hover{-webkit-transition-duration:80ms;transition-duration:80ms;}/*!sc*/
.dOnKJi:active{-webkit-transition:none;transition:none;}/*!sc*/
.dOnKJi[data-inactive]{cursor:auto;}/*!sc*/
.dOnKJi:disabled{cursor:not-allowed;box-shadow:none;color:var(--fgColor-disabled,var(--color-primer-fg-disabled,#8c959f));}/*!sc*/
.dOnKJi:disabled [data-component=ButtonCounter],.dOnKJi:disabled [data-component="leadingVisual"],.dOnKJi:disabled [data-component="trailingAction"]{color:inherit;}/*!sc*/
@media (forced-colors:active){.dOnKJi:focus{outline:solid 1px transparent;}}/*!sc*/
.dOnKJi [data-component=ButtonCounter]{font-size:12px;}/*!sc*/
.dOnKJi[data-component=IconButton]{display:inline-grid;padding:unset;place-content:center;width:32px;min-width:unset;}/*!sc*/
.dOnKJi[data-size="small"]{padding:0 8px;height:28px;gap:4px;font-size:12px;}/*!sc*/
.dOnKJi[data-size="small"] [data-component="text"]{line-height:calc(20 / 12);}/*!sc*/
.dOnKJi[data-size="small"] [data-component=ButtonCounter]{font-size:12px;}/*!sc*/
.dOnKJi[data-size="small"] [data-component="buttonContent"] > :not(:last-child){margin-right:4px;}/*!sc*/
.dOnKJi[data-size="small"][data-component=IconButton]{width:28px;padding:unset;}/*!sc*/
.dOnKJi[data-size="large"]{padding:0 16px;height:40px;gap:8px;}/*!sc*/
.dOnKJi[data-size="large"] [data-component="buttonContent"] > :not(:last-child){margin-right:8px;}/*!sc*/
.dOnKJi[data-size="large"][data-component=IconButton]{width:40px;padding:unset;}/*!sc*/
.dOnKJi[data-block="block"]{width:100%;}/*!sc*/
.dOnKJi[data-inactive]:not([disabled]){background-color:var(--button-inactive-bgColor,var(--button-inactive-bgColor-rest,var(--color-btn-inactive-bg,#eaeef2)));border-color:var(--button-inactive-bgColor,var(--button-inactive-bgColor-rest,var(--color-btn-inactive-bg,#eaeef2)));color:var(--button-inactive-fgColor,var(--button-inactive-fgColor-rest,var(--color-btn-inactive-text,#57606a)));}/*!sc*/
.dOnKJi[data-inactive]:not([disabled]):focus-visible{box-shadow:none;}/*!sc*/
.dOnKJi [data-component="leadingVisual"]{grid-area:leadingVisual;color:var(--fgColor-muted,var(--color-fg-muted,#656d76));}/*!sc*/
.dOnKJi [data-component="text"]{grid-area:text;line-height:calc(20/14);white-space:nowrap;}/*!sc*/
.dOnKJi [data-component="trailingVisual"]{grid-area:trailingVisual;}/*!sc*/
.dOnKJi [data-component="trailingAction"]{margin-right:-4px;color:var(--fgColor-muted,var(--color-fg-muted,#656d76));}/*!sc*/
.dOnKJi [data-component="buttonContent"]{-webkit-flex:1 0 auto;-ms-flex:1 0 auto;flex:1 0 auto;display:grid;grid-template-areas:"leadingVisual text trailingVisual";grid-template-columns:min-content minmax(0,auto) min-content;-webkit-align-items:center;-webkit-box-align:center;-ms-flex-align:center;align-items:center;-webkit-align-content:center;-ms-flex-line-pack:center;align-content:center;}/*!sc*/
.dOnKJi [data-component="buttonContent"] > :not(:last-child){margin-right:8px;}/*!sc*/
.dOnKJi:hover:not([disabled]){background-color:var(--control-transparent-bgColor-hover,var(--color-action-list-item-default-hover-bg,rgba(208,215,222,0.32)));}/*!sc*/
.dOnKJi:active:not([disabled]){background-color:var(--control-transparent-bgColor-active,var(--color-action-list-item-default-active-bg,rgba(208,215,222,0.48)));}/*!sc*/
.dOnKJi[aria-expanded=true]{background-color:var(--control-transparent-bgColor-selected,var(--color-action-list-item-default-selected-bg,rgba(208,215,222,0.24)));}/*!sc*/
.dOnKJi[data-component="IconButton"][data-no-visuals]{color:var(--fgColor-muted,var(--color-fg-muted,#656d76));}/*!sc*/
.dOnKJi[data-no-visuals]{color:var(--fgColor-accent,var(--color-accent-fg,#0969da));}/*!sc*/
.dOnKJi:has([data-component="ButtonCounter"]){color:var(--button-default-fgColor-rest,var(--color-btn-text,#24292f));}/*!sc*/
.dOnKJi:disabled[data-no-visuals]{color:var(--fgColor-disabled,var(--color-primer-fg-disabled,#8c959f));}/*!sc*/
.dOnKJi:disabled[data-no-visuals] [data-component=ButtonCounter]{color:inherit;}/*!sc*/
.gfKkfV{border-radius:6px;border:1px solid;border-color:transparent;font-family:inherit;font-weight:500;font-size:14px;cursor:pointer;-webkit-appearance:none;-moz-appearance:none;appearance:none;-webkit-user-select:none;-moz-user-select:none;-ms-user-select:none;user-select:none;-webkit-text-decoration:none;text-decoration:none;text-align:center;display:-webkit-box;display:-webkit-flex;display:-ms-flexbox;display:flex;-webkit-align-items:center;-webkit-box-align:center;-ms-flex-align:center;align-items:center;-webkit-box-pack:justify;-webkit-justify-content:space-between;-ms-flex-pack:justify;justify-content:space-between;height:32px;padding:0 12px;gap:8px;min-width:-webkit-max-content;min-width:-moz-max-content;min-width:max-content;-webkit-transition:80ms cubic-bezier(0.65,0,0.35,1);transition:80ms cubic-bezier(0.65,0,0.35,1);-webkit-transition-property:color,fill,background-color,border-color;transition-property:color,fill,background-color,border-color;color:var(--button-default-fgColor-rest,var(--color-btn-text,#24292f));background-color:transparent;box-shadow:none;}/*!sc*/
.gfKkfV:focus:not(:disabled){box-shadow:none;outline:2px solid var(--fgColor-accent,var(--color-accent-fg,#0969da));outline-offset:-2px;}/*!sc*/
.gfKkfV:focus:not(:disabled):not(:focus-visible){outline:solid 1px transparent;}/*!sc*/
.gfKkfV:focus-visible:not(:disabled){box-shadow:none;outline:2px solid var(--fgColor-accent,var(--color-accent-fg,#0969da));outline-offset:-2px;}/*!sc*/
.gfKkfV[href]{display:-webkit-inline-box;display:-webkit-inline-flex;display:-ms-inline-flexbox;display:inline-flex;}/*!sc*/
.gfKkfV[href]:hover{-webkit-text-decoration:none;text-decoration:none;}/*!sc*/
.gfKkfV:hover{-webkit-transition-duration:80ms;transition-duration:80ms;}/*!sc*/
.gfKkfV:active{-webkit-transition:none;transition:none;}/*!sc*/
.gfKkfV[data-inactive]{cursor:auto;}/*!sc*/
.gfKkfV:disabled{cursor:not-allowed;box-shadow:none;color:var(--fgColor-disabled,var(--color-primer-fg-disabled,#8c959f));}/*!sc*/
.gfKkfV:disabled [data-component=ButtonCounter],.gfKkfV:disabled [data-component="leadingVisual"],.gfKkfV:disabled [data-component="trailingAction"]{color:inherit;}/*!sc*/
@media (forced-colors:active){.gfKkfV:focus{outline:solid 1px transparent;}}/*!sc*/
.gfKkfV [data-component=ButtonCounter]{font-size:12px;}/*!sc*/
.gfKkfV[data-component=IconButton]{display:inline-grid;padding:unset;place-content:center;width:32px;min-width:unset;}/*!sc*/
.gfKkfV[data-size="small"]{padding:0 8px;height:28px;gap:4px;font-size:12px;color:var(--fgColor-default,var(--color-fg-default,#1F2328));margin-left:8px;}/*!sc*/
.gfKkfV[data-size="small"] [data-component="text"]{line-height:calc(20 / 12);}/*!sc*/
.gfKkfV[data-size="small"] [data-component=ButtonCounter]{font-size:12px;}/*!sc*/
.gfKkfV[data-size="small"] [data-component="buttonContent"] > :not(:last-child){margin-right:4px;}/*!sc*/
.gfKkfV[data-size="small"][data-component=IconButton]{width:28px;padding:unset;}/*!sc*/
.gfKkfV[data-size="large"]{padding:0 16px;height:40px;gap:8px;}/*!sc*/
.gfKkfV[data-size="large"] [data-component="buttonContent"] > :not(:last-child){margin-right:8px;}/*!sc*/
.gfKkfV[data-size="large"][data-component=IconButton]{width:40px;padding:unset;}/*!sc*/
.gfKkfV[data-block="block"]{width:100%;}/*!sc*/
.gfKkfV[data-inactive]:not([disabled]){background-color:var(--button-inactive-bgColor,var(--button-inactive-bgColor-rest,var(--color-btn-inactive-bg,#eaeef2)));border-color:var(--button-inactive-bgColor,var(--button-inactive-bgColor-rest,var(--color-btn-inactive-bg,#eaeef2)));color:var(--button-inactive-fgColor,var(--button-inactive-fgColor-rest,var(--color-btn-inactive-text,#57606a)));}/*!sc*/
.gfKkfV[data-inactive]:not([disabled]):focus-visible{box-shadow:none;}/*!sc*/
.gfKkfV [data-component="leadingVisual"]{grid-area:leadingVisual;color:var(--fgColor-muted,var(--color-fg-muted,#656d76));}/*!sc*/
.gfKkfV [data-component="text"]{grid-area:text;line-height:calc(20/14);white-space:nowrap;}/*!sc*/
.gfKkfV [data-component="trailingVisual"]{grid-area:trailingVisual;}/*!sc*/
.gfKkfV [data-component="trailingAction"]{margin-right:-4px;color:var(--fgColor-muted,var(--color-fg-muted,#656d76));}/*!sc*/
.gfKkfV [data-component="buttonContent"]{-webkit-flex:1 0 auto;-ms-flex:1 0 auto;flex:1 0 auto;display:grid;grid-template-areas:"leadingVisual text trailingVisual";grid-template-columns:min-content minmax(0,auto) min-content;-webkit-align-items:center;-webkit-box-align:center;-ms-flex-align:center;align-items:center;-webkit-align-content:center;-ms-flex-line-pack:center;align-content:center;}/*!sc*/
.gfKkfV [data-component="buttonContent"] > :not(:last-child){margin-right:8px;}/*!sc*/
.gfKkfV:hover:not([disabled]){background-color:var(--control-transparent-bgColor-hover,var(--color-action-list-item-default-hover-bg,rgba(208,215,222,0.32)));}/*!sc*/
.gfKkfV:active:not([disabled]){background-color:var(--control-transparent-bgColor-active,var(--color-action-list-item-default-active-bg,rgba(208,215,222,0.48)));}/*!sc*/
.gfKkfV[aria-expanded=true]{background-color:var(--control-transparent-bgColor-selected,var(--color-action-list-item-default-selected-bg,rgba(208,215,222,0.24)));}/*!sc*/
.gfKkfV[data-component="IconButton"][data-no-visuals]{color:var(--fgColor-muted,var(--color-fg-muted,#656d76));}/*!sc*/
.gfKkfV[data-no-visuals]{color:var(--fgColor-accent,var(--color-accent-fg,#0969da));}/*!sc*/
.gfKkfV:has([data-component="ButtonCounter"]){color:var(--button-default-fgColor-rest,var(--color-btn-text,#24292f));}/*!sc*/
.gfKkfV:disabled[data-no-visuals]{color:var(--fgColor-disabled,var(--color-primer-fg-disabled,#8c959f));}/*!sc*/
.gfKkfV:disabled[data-no-visuals] [data-component=ButtonCounter]{color:inherit;}/*!sc*/
.dTgfec{border-radius:6px;border:1px solid;border-color:var(--button-default-borderColor-rest,var(--button-default-borderColor-rest,var(--color-btn-border,rgba(31,35,40,0.15))));font-family:inherit;font-weight:500;font-size:14px;cursor:pointer;-webkit-appearance:none;-moz-appearance:none;appearance:none;-webkit-user-select:none;-moz-user-select:none;-ms-user-select:none;user-select:none;-webkit-text-decoration:none;text-decoration:none;text-align:center;display:-webkit-box;display:-webkit-flex;display:-ms-flexbox;display:flex;-webkit-align-items:center;-webkit-box-align:center;-ms-flex-align:center;align-items:center;-webkit-box-pack:justify;-webkit-justify-content:space-between;-ms-flex-pack:justify;justify-content:space-between;height:32px;padding:0 12px;gap:8px;min-width:-webkit-max-content;min-width:-moz-max-content;min-width:max-content;-webkit-transition:80ms cubic-bezier(0.65,0,0.35,1);transition:80ms cubic-bezier(0.65,0,0.35,1);-webkit-transition-property:color,fill,background-color,border-color;transition-property:color,fill,background-color,border-color;color:var(--button-default-fgColor-rest,var(--color-btn-text,#24292f));background-color:var(--button-default-bgColor-rest,var(--color-btn-bg,#f6f8fa));box-shadow:var(--button-default-shadow-resting,var(--color-btn-shadow,0 1px 0 rgba(31,35,40,0.04))),var(--button-default-shadow-inset,var(--color-btn-inset-shadow,inset 0 1px 0 rgba(255,255,255,0.25)));padding-left:8px;padding-right:8px;}/*!sc*/
.dTgfec:focus:not(:disabled){box-shadow:none;outline:2px solid var(--fgColor-accent,var(--color-accent-fg,#0969da));outline-offset:-2px;}/*!sc*/
.dTgfec:focus:not(:disabled):not(:focus-visible){outline:solid 1px transparent;}/*!sc*/
.dTgfec:focus-visible:not(:disabled){box-shadow:none;outline:2px solid var(--fgColor-accent,var(--color-accent-fg,#0969da));outline-offset:-2px;}/*!sc*/
.dTgfec[href]{display:-webkit-inline-box;display:-webkit-inline-flex;display:-ms-inline-flexbox;display:inline-flex;}/*!sc*/
.dTgfec[href]:hover{-webkit-text-decoration:none;text-decoration:none;}/*!sc*/
.dTgfec:hover{-webkit-transition-duration:80ms;transition-duration:80ms;}/*!sc*/
.dTgfec:active{-webkit-transition:none;transition:none;}/*!sc*/
.dTgfec[data-inactive]{cursor:auto;}/*!sc*/
.dTgfec:disabled{cursor:not-allowed;box-shadow:none;color:var(--fgColor-disabled,var(--color-primer-fg-disabled,#8c959f));border-color:var(--button-default-borderColor-disabled,var(--button-default-borderColor-rest,var(--color-btn-border,rgba(31,35,40,0.15))));background-color:var(--button-default-bgColor-disabled,var(--control-bgColor-disabled,var(--color-input-disabled-bg,rgba(175,184,193,0.2))));}/*!sc*/
.dTgfec:disabled [data-component=ButtonCounter]{color:inherit;}/*!sc*/
@media (forced-colors:active){.dTgfec:focus{outline:solid 1px transparent;}}/*!sc*/
.dTgfec [data-component=ButtonCounter]{font-size:12px;background-color:var(--buttonCounter-default-bgColor-rest,var(--color-btn-counter-bg,rgba(31,35,40,0.08)));}/*!sc*/
.dTgfec[data-component=IconButton]{display:inline-grid;padding:unset;place-content:center;width:32px;min-width:unset;}/*!sc*/
.dTgfec[data-size="small"]{padding:0 8px;height:28px;gap:4px;font-size:12px;}/*!sc*/
.dTgfec[data-size="small"] [data-component="text"]{line-height:calc(20 / 12);}/*!sc*/
.dTgfec[data-size="small"] [data-component=ButtonCounter]{font-size:12px;}/*!sc*/
.dTgfec[data-size="small"] [data-component="buttonContent"] > :not(:last-child){margin-right:4px;}/*!sc*/
.dTgfec[data-size="small"][data-component=IconButton]{width:28px;padding:unset;}/*!sc*/
.dTgfec[data-size="large"]{padding:0 16px;height:40px;gap:8px;}/*!sc*/
.dTgfec[data-size="large"] [data-component="buttonContent"] > :not(:last-child){margin-right:8px;}/*!sc*/
.dTgfec[data-size="large"][data-component=IconButton]{width:40px;padding:unset;}/*!sc*/
.dTgfec[data-block="block"]{width:100%;}/*!sc*/
.dTgfec[data-inactive]:not([disabled]){background-color:var(--button-inactive-bgColor,var(--button-inactive-bgColor-rest,var(--color-btn-inactive-bg,#eaeef2)));border-color:var(--button-inactive-bgColor,var(--button-inactive-bgColor-rest,var(--color-btn-inactive-bg,#eaeef2)));color:var(--button-inactive-fgColor,var(--button-inactive-fgColor-rest,var(--color-btn-inactive-text,#57606a)));}/*!sc*/
.dTgfec[data-inactive]:not([disabled]):focus-visible{box-shadow:none;}/*!sc*/
.dTgfec [data-component="leadingVisual"]{grid-area:leadingVisual;}/*!sc*/
.dTgfec [data-component="text"]{grid-area:text;line-height:calc(20/14);white-space:nowrap;}/*!sc*/
.dTgfec [data-component="trailingVisual"]{grid-area:trailingVisual;}/*!sc*/
.dTgfec [data-component="trailingAction"]{margin-right:-4px;}/*!sc*/
.dTgfec [data-component="buttonContent"]{-webkit-flex:1 0 auto;-ms-flex:1 0 auto;flex:1 0 auto;display:grid;grid-template-areas:"leadingVisual text trailingVisual";grid-template-columns:min-content minmax(0,auto) min-content;-webkit-align-items:center;-webkit-box-align:center;-ms-flex-align:center;align-items:center;-webkit-align-content:center;-ms-flex-line-pack:center;align-content:center;}/*!sc*/
.dTgfec [data-component="buttonContent"] > :not(:last-child){margin-right:8px;}/*!sc*/
.dTgfec:hover:not([disabled]):not([data-inactive]){background-color:var(--button-default-bgColor-hover,var(--color-btn-hover-bg,#f3f4f6));border-color:var(--button-default-borderColor-hover,var(--button-default-borderColor-hover,var(--color-btn-hover-border,rgba(31,35,40,0.15))));}/*!sc*/
.dTgfec:active:not([disabled]):not([data-inactive]){background-color:var(--button-default-bgColor-active,var(--color-btn-active-bg,hsla(220,14%,93%,1)));border-color:var(--button-default-borderColor-active,var(--button-default-borderColor-active,var(--color-btn-active-border,rgba(31,35,40,0.15))));}/*!sc*/
.dTgfec[aria-expanded=true]{background-color:var(--button-default-bgColor-active,var(--color-btn-active-bg,hsla(220,14%,93%,1)));border-color:var(--button-default-borderColor-active,var(--button-default-borderColor-active,var(--color-btn-active-border,rgba(31,35,40,0.15))));}/*!sc*/
.dTgfec [data-component="leadingVisual"],.dTgfec [data-component="trailingVisual"],.dTgfec [data-component="trailingAction"]{color:var(--button-color,var(--fgColor-muted,var(--color-fg-muted,#656d76)));}/*!sc*/
.dTgfec[data-component="IconButton"][data-no-visuals]{color:var(--fgColor-muted,var(--color-fg-muted,#656d76));}/*!sc*/
.dTgfec linkButtonSx:hover:not([disabled]){-webkit-text-decoration:none;text-decoration:none;}/*!sc*/
.dTgfec linkButtonSx:focus:not([disabled]){-webkit-text-decoration:none;text-decoration:none;}/*!sc*/
.dTgfec linkButtonSx:active:not([disabled]){-webkit-text-decoration:none;text-decoration:none;}/*!sc*/
.pyyxt{border-radius:6px;border:1px solid;border-color:var(--button-default-borderColor-rest,var(--button-default-borderColor-rest,var(--color-btn-border,rgba(31,35,40,0.15))));font-family:inherit;font-weight:500;font-size:14px;cursor:pointer;-webkit-appearance:none;-moz-appearance:none;appearance:none;-webkit-user-select:none;-moz-user-select:none;-ms-user-select:none;user-select:none;-webkit-text-decoration:none;text-decoration:none;text-align:center;display:-webkit-box;display:-webkit-flex;display:-ms-flexbox;display:flex;-webkit-align-items:center;-webkit-box-align:center;-ms-flex-align:center;align-items:center;-webkit-box-pack:justify;-webkit-justify-content:space-between;-ms-flex-pack:justify;justify-content:space-between;height:32px;padding:0 12px;gap:8px;min-width:-webkit-max-content;min-width:-moz-max-content;min-width:max-content;-webkit-transition:80ms cubic-bezier(0.65,0,0.35,1);transition:80ms cubic-bezier(0.65,0,0.35,1);-webkit-transition-property:color,fill,background-color,border-color;transition-property:color,fill,background-color,border-color;color:var(--button-default-fgColor-rest,var(--color-btn-text,#24292f));background-color:var(--button-default-bgColor-rest,var(--color-btn-bg,#f6f8fa));box-shadow:var(--button-default-shadow-resting,var(--color-btn-shadow,0 1px 0 rgba(31,35,40,0.04))),var(--button-default-shadow-inset,var(--color-btn-inset-shadow,inset 0 1px 0 rgba(255,255,255,0.25)));}/*!sc*/
.pyyxt:focus:not(:disabled){box-shadow:none;outline:2px solid var(--fgColor-accent,var(--color-accent-fg,#0969da));outline-offset:-2px;}/*!sc*/
.pyyxt:focus:not(:disabled):not(:focus-visible){outline:solid 1px transparent;}/*!sc*/
.pyyxt:focus-visible:not(:disabled){box-shadow:none;outline:2px solid var(--fgColor-accent,var(--color-accent-fg,#0969da));outline-offset:-2px;}/*!sc*/
.pyyxt[href]{display:-webkit-inline-box;display:-webkit-inline-flex;display:-ms-inline-flexbox;display:inline-flex;}/*!sc*/
.pyyxt[href]:hover{-webkit-text-decoration:none;text-decoration:none;}/*!sc*/
.pyyxt:hover{-webkit-transition-duration:80ms;transition-duration:80ms;}/*!sc*/
.pyyxt:active{-webkit-transition:none;transition:none;}/*!sc*/
.pyyxt[data-inactive]{cursor:auto;}/*!sc*/
.pyyxt:disabled{cursor:not-allowed;box-shadow:none;color:var(--fgColor-disabled,var(--color-primer-fg-disabled,#8c959f));border-color:var(--button-default-borderColor-disabled,var(--button-default-borderColor-rest,var(--color-btn-border,rgba(31,35,40,0.15))));background-color:var(--button-default-bgColor-disabled,var(--control-bgColor-disabled,var(--color-input-disabled-bg,rgba(175,184,193,0.2))));}/*!sc*/
.pyyxt:disabled [data-component=ButtonCounter]{color:inherit;}/*!sc*/
@media (forced-colors:active){.pyyxt:focus{outline:solid 1px transparent;}}/*!sc*/
.pyyxt [data-component=ButtonCounter]{font-size:12px;background-color:var(--buttonCounter-default-bgColor-rest,var(--color-btn-counter-bg,rgba(31,35,40,0.08)));}/*!sc*/
.pyyxt[data-component=IconButton]{display:inline-grid;padding:unset;place-content:center;width:32px;min-width:unset;}/*!sc*/
.pyyxt[data-size="small"]{padding:0 8px;height:28px;gap:4px;font-size:12px;}/*!sc*/
.pyyxt[data-size="small"] [data-component="text"]{line-height:calc(20 / 12);}/*!sc*/
.pyyxt[data-size="small"] [data-component=ButtonCounter]{font-size:12px;}/*!sc*/
.pyyxt[data-size="small"] [data-component="buttonContent"] > :not(:last-child){margin-right:4px;}/*!sc*/
.pyyxt[data-size="small"][data-component=IconButton]{width:28px;padding:unset;}/*!sc*/
.pyyxt[data-size="large"]{padding:0 16px;height:40px;gap:8px;}/*!sc*/
.pyyxt[data-size="large"] [data-component="buttonContent"] > :not(:last-child){margin-right:8px;}/*!sc*/
.pyyxt[data-size="large"][data-component=IconButton]{width:40px;padding:unset;}/*!sc*/
.pyyxt[data-block="block"]{width:100%;}/*!sc*/
.pyyxt[data-inactive]:not([disabled]){background-color:var(--button-inactive-bgColor,var(--button-inactive-bgColor-rest,var(--color-btn-inactive-bg,#eaeef2)));border-color:var(--button-inactive-bgColor,var(--button-inactive-bgColor-rest,var(--color-btn-inactive-bg,#eaeef2)));color:var(--button-inactive-fgColor,var(--button-inactive-fgColor-rest,var(--color-btn-inactive-text,#57606a)));}/*!sc*/
.pyyxt[data-inactive]:not([disabled]):focus-visible{box-shadow:none;}/*!sc*/
.pyyxt [data-component="leadingVisual"]{grid-area:leadingVisual;}/*!sc*/
.pyyxt [data-component="text"]{grid-area:text;line-height:calc(20/14);white-space:nowrap;}/*!sc*/
.pyyxt [data-component="trailingVisual"]{grid-area:trailingVisual;}/*!sc*/
.pyyxt [data-component="trailingAction"]{margin-right:-4px;}/*!sc*/
.pyyxt [data-component="buttonContent"]{-webkit-flex:1 0 auto;-ms-flex:1 0 auto;flex:1 0 auto;display:grid;grid-template-areas:"leadingVisual text trailingVisual";grid-template-columns:min-content minmax(0,auto) min-content;-webkit-align-items:center;-webkit-box-align:center;-ms-flex-align:center;align-items:center;-webkit-align-content:center;-ms-flex-line-pack:center;align-content:center;}/*!sc*/
.pyyxt [data-component="buttonContent"] > :not(:last-child){margin-right:8px;}/*!sc*/
.pyyxt:hover:not([disabled]):not([data-inactive]){background-color:var(--button-default-bgColor-hover,var(--color-btn-hover-bg,#f3f4f6));border-color:var(--button-default-borderColor-hover,var(--button-default-borderColor-hover,var(--color-btn-hover-border,rgba(31,35,40,0.15))));}/*!sc*/
.pyyxt:active:not([disabled]):not([data-inactive]){background-color:var(--button-default-bgColor-active,var(--color-btn-active-bg,hsla(220,14%,93%,1)));border-color:var(--button-default-borderColor-active,var(--button-default-borderColor-active,var(--color-btn-active-border,rgba(31,35,40,0.15))));}/*!sc*/
.pyyxt[aria-expanded=true]{background-color:var(--button-default-bgColor-active,var(--color-btn-active-bg,hsla(220,14%,93%,1)));border-color:var(--button-default-borderColor-active,var(--button-default-borderColor-active,var(--color-btn-active-border,rgba(31,35,40,0.15))));}/*!sc*/
.pyyxt [data-component="leadingVisual"],.pyyxt [data-component="trailingVisual"],.pyyxt [data-component="trailingAction"]{color:var(--button-color,var(--fgColor-muted,var(--color-fg-muted,#656d76)));}/*!sc*/
.pyyxt[data-component="IconButton"][data-no-visuals]{color:var(--fgColor-muted,var(--color-fg-muted,#656d76));}/*!sc*/
.fmvlPZ{border-radius:6px;border:1px solid;border-color:var(--button-default-borderColor-rest,var(--button-default-borderColor-rest,var(--color-btn-border,rgba(31,35,40,0.15))));font-family:inherit;font-weight:500;font-size:14px;cursor:pointer;-webkit-appearance:none;-moz-appearance:none;appearance:none;-webkit-user-select:none;-moz-user-select:none;-ms-user-select:none;user-select:none;-webkit-text-decoration:none;text-decoration:none;text-align:center;display:-webkit-box;display:-webkit-flex;display:-ms-flexbox;display:flex;-webkit-align-items:center;-webkit-box-align:center;-ms-flex-align:center;align-items:center;-webkit-box-pack:justify;-webkit-justify-content:space-between;-ms-flex-pack:justify;justify-content:space-between;height:32px;padding:0 12px;gap:8px;min-width:-webkit-max-content;min-width:-moz-max-content;min-width:max-content;-webkit-transition:80ms cubic-bezier(0.65,0,0.35,1);transition:80ms cubic-bezier(0.65,0,0.35,1);-webkit-transition-property:color,fill,background-color,border-color;transition-property:color,fill,background-color,border-color;color:var(--button-default-fgColor-rest,var(--color-btn-text,#24292f));background-color:var(--button-default-bgColor-rest,var(--color-btn-bg,#f6f8fa));box-shadow:var(--button-default-shadow-resting,var(--color-btn-shadow,0 1px 0 rgba(31,35,40,0.04))),var(--button-default-shadow-inset,var(--color-btn-inset-shadow,inset 0 1px 0 rgba(255,255,255,0.25)));}/*!sc*/
.fmvlPZ:focus:not(:disabled){box-shadow:none;outline:2px solid var(--fgColor-accent,var(--color-accent-fg,#0969da));outline-offset:-2px;}/*!sc*/
.fmvlPZ:focus:not(:disabled):not(:focus-visible){outline:solid 1px transparent;}/*!sc*/
.fmvlPZ:focus-visible:not(:disabled){box-shadow:none;outline:2px solid var(--fgColor-accent,var(--color-accent-fg,#0969da));outline-offset:-2px;}/*!sc*/
.fmvlPZ[href]{display:-webkit-inline-box;display:-webkit-inline-flex;display:-ms-inline-flexbox;display:inline-flex;}/*!sc*/
.fmvlPZ[href]:hover{-webkit-text-decoration:none;text-decoration:none;}/*!sc*/
.fmvlPZ:hover{-webkit-transition-duration:80ms;transition-duration:80ms;}/*!sc*/
.fmvlPZ:active{-webkit-transition:none;transition:none;}/*!sc*/
.fmvlPZ[data-inactive]{cursor:auto;}/*!sc*/
.fmvlPZ:disabled{cursor:not-allowed;box-shadow:none;color:var(--fgColor-disabled,var(--color-primer-fg-disabled,#8c959f));border-color:var(--button-default-borderColor-disabled,var(--button-default-borderColor-rest,var(--color-btn-border,rgba(31,35,40,0.15))));background-color:var(--button-default-bgColor-disabled,var(--control-bgColor-disabled,var(--color-input-disabled-bg,rgba(175,184,193,0.2))));}/*!sc*/
.fmvlPZ:disabled [data-component=ButtonCounter]{color:inherit;}/*!sc*/
@media (forced-colors:active){.fmvlPZ:focus{outline:solid 1px transparent;}}/*!sc*/
.fmvlPZ [data-component=ButtonCounter]{font-size:12px;background-color:var(--buttonCounter-default-bgColor-rest,var(--color-btn-counter-bg,rgba(31,35,40,0.08)));}/*!sc*/
.fmvlPZ[data-component=IconButton]{display:inline-grid;padding:unset;place-content:center;width:32px;min-width:unset;}/*!sc*/
.fmvlPZ[data-size="small"]{padding:0 8px;height:28px;gap:4px;font-size:12px;}/*!sc*/
.fmvlPZ[data-size="small"] [data-component="text"]{line-height:calc(20 / 12);}/*!sc*/
.fmvlPZ[data-size="small"] [data-component=ButtonCounter]{font-size:12px;}/*!sc*/
.fmvlPZ[data-size="small"] [data-component="buttonContent"] > :not(:last-child){margin-right:4px;}/*!sc*/
.fmvlPZ[data-size="small"][data-component=IconButton]{width:28px;padding:unset;}/*!sc*/
.fmvlPZ[data-size="large"]{padding:0 16px;height:40px;gap:8px;}/*!sc*/
.fmvlPZ[data-size="large"] [data-component="buttonContent"] > :not(:last-child){margin-right:8px;}/*!sc*/
.fmvlPZ[data-size="large"][data-component=IconButton]{width:40px;padding:unset;}/*!sc*/
.fmvlPZ[data-block="block"]{width:100%;}/*!sc*/
.fmvlPZ[data-inactive]:not([disabled]){background-color:var(--button-inactive-bgColor,var(--button-inactive-bgColor-rest,var(--color-btn-inactive-bg,#eaeef2)));border-color:var(--button-inactive-bgColor,var(--button-inactive-bgColor-rest,var(--color-btn-inactive-bg,#eaeef2)));color:var(--button-inactive-fgColor,var(--button-inactive-fgColor-rest,var(--color-btn-inactive-text,#57606a)));}/*!sc*/
.fmvlPZ[data-inactive]:not([disabled]):focus-visible{box-shadow:none;}/*!sc*/
.fmvlPZ [data-component="leadingVisual"]{grid-area:leadingVisual;}/*!sc*/
.fmvlPZ [data-component="text"]{grid-area:text;line-height:calc(20/14);white-space:nowrap;}/*!sc*/
.fmvlPZ [data-component="trailingVisual"]{grid-area:trailingVisual;}/*!sc*/
.fmvlPZ [data-component="trailingAction"]{margin-right:-4px;}/*!sc*/
.fmvlPZ [data-component="buttonContent"]{-webkit-flex:1 0 auto;-ms-flex:1 0 auto;flex:1 0 auto;display:grid;grid-template-areas:"leadingVisual text trailingVisual";grid-template-columns:min-content minmax(0,auto) min-content;-webkit-align-items:center;-webkit-box-align:center;-ms-flex-align:center;align-items:center;-webkit-align-content:center;-ms-flex-line-pack:center;align-content:center;}/*!sc*/
.fmvlPZ [data-component="buttonContent"] > :not(:last-child){margin-right:8px;}/*!sc*/
.fmvlPZ:hover:not([disabled]):not([data-inactive]){background-color:var(--button-default-bgColor-hover,var(--color-btn-hover-bg,#f3f4f6));border-color:var(--button-default-borderColor-hover,var(--button-default-borderColor-hover,var(--color-btn-hover-border,rgba(31,35,40,0.15))));}/*!sc*/
.fmvlPZ:active:not([disabled]):not([data-inactive]){background-color:var(--button-default-bgColor-active,var(--color-btn-active-bg,hsla(220,14%,93%,1)));border-color:var(--button-default-borderColor-active,var(--button-default-borderColor-active,var(--color-btn-active-border,rgba(31,35,40,0.15))));}/*!sc*/
.fmvlPZ[aria-expanded=true]{background-color:var(--button-default-bgColor-active,var(--color-btn-active-bg,hsla(220,14%,93%,1)));border-color:var(--button-default-borderColor-active,var(--button-default-borderColor-active,var(--color-btn-active-border,rgba(31,35,40,0.15))));}/*!sc*/
.fmvlPZ [data-component="leadingVisual"],.fmvlPZ [data-component="trailingVisual"],.fmvlPZ [data-component="trailingAction"]{color:var(--button-color,var(--fgColor-muted,var(--color-fg-muted,#656d76)));}/*!sc*/
.fmvlPZ[data-component="IconButton"][data-no-visuals]{color:var(--fgColor-muted,var(--color-fg-muted,#656d76));}/*!sc*/
.fmvlPZ[data-size="small"][data-no-visuals]{border-top-left-radius:0;border-bottom-left-radius:0;}/*!sc*/
.dGDIQc{border-radius:6px;border:1px solid;border-color:transparent;font-family:inherit;font-weight:500;font-size:14px;cursor:pointer;-webkit-appearance:none;-moz-appearance:none;appearance:none;-webkit-user-select:none;-moz-user-select:none;-ms-user-select:none;user-select:none;-webkit-text-decoration:none;text-decoration:none;text-align:center;display:-webkit-box;display:-webkit-flex;display:-ms-flexbox;display:flex;-webkit-align-items:center;-webkit-box-align:center;-ms-flex-align:center;align-items:center;-webkit-box-pack:justify;-webkit-justify-content:space-between;-ms-flex-pack:justify;justify-content:space-between;height:32px;padding:0 12px;gap:8px;min-width:-webkit-max-content;min-width:-moz-max-content;min-width:max-content;-webkit-transition:80ms cubic-bezier(0.65,0,0.35,1);transition:80ms cubic-bezier(0.65,0,0.35,1);-webkit-transition-property:color,fill,background-color,border-color;transition-property:color,fill,background-color,border-color;color:var(--button-default-fgColor-rest,var(--color-btn-text,#24292f));background-color:transparent;box-shadow:none;}/*!sc*/
.dGDIQc:focus:not(:disabled){box-shadow:none;outline:2px solid var(--fgColor-accent,var(--color-accent-fg,#0969da));outline-offset:-2px;}/*!sc*/
.dGDIQc:focus:not(:disabled):not(:focus-visible){outline:solid 1px transparent;}/*!sc*/
.dGDIQc:focus-visible:not(:disabled){box-shadow:none;outline:2px solid var(--fgColor-accent,var(--color-accent-fg,#0969da));outline-offset:-2px;}/*!sc*/
.dGDIQc[href]{display:-webkit-inline-box;display:-webkit-inline-flex;display:-ms-inline-flexbox;display:inline-flex;}/*!sc*/
.dGDIQc[href]:hover{-webkit-text-decoration:none;text-decoration:none;}/*!sc*/
.dGDIQc:hover{-webkit-transition-duration:80ms;transition-duration:80ms;}/*!sc*/
.dGDIQc:active{-webkit-transition:none;transition:none;}/*!sc*/
.dGDIQc[data-inactive]{cursor:auto;}/*!sc*/
.dGDIQc:disabled{cursor:not-allowed;box-shadow:none;color:var(--fgColor-disabled,var(--color-primer-fg-disabled,#8c959f));}/*!sc*/
.dGDIQc:disabled [data-component=ButtonCounter],.dGDIQc:disabled [data-component="leadingVisual"],.dGDIQc:disabled [data-component="trailingAction"]{color:inherit;}/*!sc*/
@media (forced-colors:active){.dGDIQc:focus{outline:solid 1px transparent;}}/*!sc*/
.dGDIQc [data-component=ButtonCounter]{font-size:12px;}/*!sc*/
.dGDIQc[data-component=IconButton]{display:inline-grid;padding:unset;place-content:center;width:32px;min-width:unset;}/*!sc*/
.dGDIQc[data-size="small"]{padding:0 8px;height:28px;gap:4px;font-size:12px;}/*!sc*/
.dGDIQc[data-size="small"] [data-component="text"]{line-height:calc(20 / 12);}/*!sc*/
.dGDIQc[data-size="small"] [data-component=ButtonCounter]{font-size:12px;}/*!sc*/
.dGDIQc[data-size="small"] [data-component="buttonContent"] > :not(:last-child){margin-right:4px;}/*!sc*/
.dGDIQc[data-size="small"][data-component=IconButton]{width:28px;padding:unset;}/*!sc*/
.dGDIQc[data-size="large"]{padding:0 16px;height:40px;gap:8px;}/*!sc*/
.dGDIQc[data-size="large"] [data-component="buttonContent"] > :not(:last-child){margin-right:8px;}/*!sc*/
.dGDIQc[data-size="large"][data-component=IconButton]{width:40px;padding:unset;}/*!sc*/
.dGDIQc[data-block="block"]{width:100%;}/*!sc*/
.dGDIQc[data-inactive]:not([disabled]){background-color:var(--button-inactive-bgColor,var(--button-inactive-bgColor-rest,var(--color-btn-inactive-bg,#eaeef2)));border-color:var(--button-inactive-bgColor,var(--button-inactive-bgColor-rest,var(--color-btn-inactive-bg,#eaeef2)));color:var(--button-inactive-fgColor,var(--button-inactive-fgColor-rest,var(--color-btn-inactive-text,#57606a)));}/*!sc*/
.dGDIQc[data-inactive]:not([disabled]):focus-visible{box-shadow:none;}/*!sc*/
.dGDIQc [data-component="leadingVisual"]{grid-area:leadingVisual;color:var(--fgColor-muted,var(--color-fg-muted,#656d76));}/*!sc*/
.dGDIQc [data-component="text"]{grid-area:text;line-height:calc(20/14);white-space:nowrap;}/*!sc*/
.dGDIQc [data-component="trailingVisual"]{grid-area:trailingVisual;}/*!sc*/
.dGDIQc [data-component="trailingAction"]{margin-right:-4px;color:var(--fgColor-muted,var(--color-fg-muted,#656d76));}/*!sc*/
.dGDIQc [data-component="buttonContent"]{-webkit-flex:1 0 auto;-ms-flex:1 0 auto;flex:1 0 auto;display:grid;grid-template-areas:"leadingVisual text trailingVisual";grid-template-columns:min-content minmax(0,auto) min-content;-webkit-align-items:center;-webkit-box-align:center;-ms-flex-align:center;align-items:center;-webkit-align-content:center;-ms-flex-line-pack:center;align-content:center;}/*!sc*/
.dGDIQc [data-component="buttonContent"] > :not(:last-child){margin-right:8px;}/*!sc*/
.dGDIQc:hover:not([disabled]){background-color:var(--control-transparent-bgColor-hover,var(--color-action-list-item-default-hover-bg,rgba(208,215,222,0.32)));}/*!sc*/
.dGDIQc:active:not([disabled]){background-color:var(--control-transparent-bgColor-active,var(--color-action-list-item-default-active-bg,rgba(208,215,222,0.48)));}/*!sc*/
.dGDIQc[aria-expanded=true]{background-color:var(--control-transparent-bgColor-selected,var(--color-action-list-item-default-selected-bg,rgba(208,215,222,0.24)));}/*!sc*/
.dGDIQc[data-component="IconButton"][data-no-visuals]{color:var(--fgColor-muted,var(--color-fg-muted,#656d76));}/*!sc*/
.dGDIQc[data-no-visuals]{color:var(--fgColor-accent,var(--color-accent-fg,#0969da));}/*!sc*/
.dGDIQc:has([data-component="ButtonCounter"]){color:var(--button-default-fgColor-rest,var(--color-btn-text,#24292f));}/*!sc*/
.dGDIQc:disabled[data-no-visuals]{color:var(--fgColor-disabled,var(--color-primer-fg-disabled,#8c959f));}/*!sc*/
.dGDIQc:disabled[data-no-visuals] [data-component=ButtonCounter]{color:inherit;}/*!sc*/
.dGDIQc[data-size="small"][data-no-visuals]{color:var(--fgColor-muted,var(--color-fg-muted,#656d76));}/*!sc*/
data-styled.g4[id="types__StyledButton-sc-ws60qy-0"]{content:"blmaBs,hkJzmn,hILMMl,ivbpoP,hviaoI,jXTShb,dOnKJi,gfKkfV,dTgfec,pyyxt,fmvlPZ,dGDIQc,"}/*!sc*/
.bOMzPg{min-width:0;}/*!sc*/
.fIsVJr{padding-left:4px;padding-right:4px;font-weight:400;color:var(--fgColor-muted,var(--color-fg-muted,#656d76));font-size:16px;}/*!sc*/
.cYjMDB{padding-left:4px;padding-right:4px;font-weight:400;color:var(--fgColor-muted,var(--color-fg-muted,#656d76));font-size:14px;}/*!sc*/
data-styled.g7[id="Text-sc-17v1xeu-0"]{content:"bOMzPg,fIsVJr,gPDEWA,cYjMDB,"}/*!sc*/
.ipyMWB{color:var(--fgColor-accent,var(--color-accent-fg,#0969da));-webkit-text-decoration:none;text-decoration:none;font-weight:600;}/*!sc*/
[data-a11y-link-underlines='true'] .Link__StyledLink-sc-14289xe-0[data-inline='true']{-webkit-text-decoration:underline;text-decoration:underline;}/*!sc*/
.ipyMWB:hover{-webkit-text-decoration:underline;text-decoration:underline;}/*!sc*/
.ipyMWB:is(button){display:inline-block;padding:0;font-size:inherit;white-space:nowrap;cursor:pointer;-webkit-user-select:none;-moz-user-select:none;-ms-user-select:none;user-select:none;background-color:transparent;border:0;-webkit-appearance:none;-moz-appearance:none;appearance:none;}/*!sc*/
.jmkYvv{color:var(--fgColor-accent,var(--color-accent-fg,#0969da));-webkit-text-decoration:none;text-decoration:none;font-weight:400;}/*!sc*/
[data-a11y-link-underlines='true'] .Link__StyledLink-sc-14289xe-0[data-inline='true']{-webkit-text-decoration:underline;text-decoration:underline;}/*!sc*/
.jmkYvv:hover{-webkit-text-decoration:underline;text-decoration:underline;}/*!sc*/
.jmkYvv:is(button){display:inline-block;padding:0;font-size:inherit;white-space:nowrap;cursor:pointer;-webkit-user-select:none;-moz-user-select:none;-ms-user-select:none;user-select:none;background-color:transparent;border:0;-webkit-appearance:none;-moz-appearance:none;appearance:none;}/*!sc*/
data-styled.g8[id="Link__StyledLink-sc-14289xe-0"]{content:"ipyMWB,jmkYvv,"}/*!sc*/
.hPEVNM{-webkit-animation:rotate-keyframes 1s linear infinite;animation:rotate-keyframes 1s linear infinite;}/*!sc*/
@-webkit-keyframes rotate-keyframes{100%{-webkit-transform:rotate(360deg);-ms-transform:rotate(360deg);transform:rotate(360deg);}}/*!sc*/
@keyframes rotate-keyframes{100%{-webkit-transform:rotate(360deg);-ms-transform:rotate(360deg);transform:rotate(360deg);}}/*!sc*/
data-styled.g9[id="Spinner__StyledSpinner-sc-1knt686-0"]{content:"hPEVNM,"}/*!sc*/
.cXNreu{font-size:14px;line-height:20px;color:var(--fgColor-default,var(--color-fg-default,#1F2328));vertical-align:middle;background-color:var(--bgColor-default,var(--color-canvas-default,#ffffff));border:1px solid var(--control-borderColor-rest,var(--borderColor-default,var(--color-border-default,#d0d7de)));border-radius:6px;outline:none;box-shadow:var(--shadow-inset,var(--color-primer-shadow-inset,inset 0 1px 0 rgba(208,215,222,0.2)));display:-webkit-inline-box;display:-webkit-inline-flex;display:-ms-inline-flexbox;display:inline-flex;-webkit-align-items:stretch;-webkit-box-align:stretch;-ms-flex-align:stretch;align-items:stretch;min-height:32px;overflow:hidden;display:-webkit-box;display:-webkit-flex;display:-ms-flexbox;display:flex;min-width:160px;}/*!sc*/
.cXNreu input,.cXNreu textarea{cursor:text;}/*!sc*/
.cXNreu select{cursor:pointer;}/*!sc*/
.cXNreu input::-webkit-input-placeholder,.cXNreu textarea::-webkit-input-placeholder,.cXNreu select::-webkit-input-placeholder{color:var(---control-fgColor-placeholder,var(--fgColor-muted,var(--color-fg-muted,#656d76)));}/*!sc*/
.cXNreu input::-moz-placeholder,.cXNreu textarea::-moz-placeholder,.cXNreu select::-moz-placeholder{color:var(---control-fgColor-placeholder,var(--fgColor-muted,var(--color-fg-muted,#656d76)));}/*!sc*/
.cXNreu input:-ms-input-placeholder,.cXNreu textarea:-ms-input-placeholder,.cXNreu select:-ms-input-placeholder{color:var(---control-fgColor-placeholder,var(--fgColor-muted,var(--color-fg-muted,#656d76)));}/*!sc*/
.cXNreu input::placeholder,.cXNreu textarea::placeholder,.cXNreu select::placeholder{color:var(---control-fgColor-placeholder,var(--fgColor-muted,var(--color-fg-muted,#656d76)));}/*!sc*/
.cXNreu:focus-within{border-color:var(--fgColor-accent,var(--color-accent-fg,#0969da));outline:2px solid var(--fgColor-accent,var(--color-accent-fg,#0969da));outline-offset:-1px;}/*!sc*/
.cXNreu > textarea{padding:12px;}/*!sc*/
@media (min-width:768px){.cXNreu{font-size:14px;}}/*!sc*/
data-styled.g10[id="TextInputWrapper__TextInputBaseWrapper-sc-1mqhpbi-0"]{content:"cXNreu,"}/*!sc*/
.jbzqwE{background-repeat:no-repeat;background-position:right 8px center;padding-left:12px;padding-right:12px;display:-webkit-box;display:-webkit-flex;display:-ms-flexbox;display:flex;min-width:160px;}/*!sc*/
.jbzqwE > :not(:last-child){margin-right:8px;}/*!sc*/
.jbzqwE .TextInput-icon,.jbzqwE .TextInput-action{-webkit-align-self:center;-ms-flex-item-align:center;align-self:center;color:var(--fgColor-muted,var(--color-fg-muted,#656d76));-webkit-flex-shrink:0;-ms-flex-negative:0;flex-shrink:0;}/*!sc*/
.jbzqwE > input,.jbzqwE > select{padding-left:0;padding-right:0;}/*!sc*/
data-styled.g11[id="TextInputWrapper-sc-1mqhpbi-1"]{content:"jbzqwE,"}/*!sc*/
.gNgnVl{position:relative;display:inline-block;}/*!sc*/
.gNgnVl::after{position:absolute;z-index:1000000;display:none;padding:0.5em 0.75em;font:normal normal 11px/1.5 -apple-system,BlinkMacSystemFont,"Segoe UI","Noto Sans",Helvetica,Arial,sans-serif,"Apple Color Emoji","Segoe UI Emoji";-webkit-font-smoothing:subpixel-antialiased;color:var(--fgColor-onEmphasis,var(--color-fg-on-emphasis,#ffffff));text-align:center;-webkit-text-decoration:none;text-decoration:none;text-shadow:none;text-transform:none;-webkit-letter-spacing:normal;-moz-letter-spacing:normal;-ms-letter-spacing:normal;letter-spacing:normal;word-wrap:break-word;white-space:pre;pointer-events:none;content:attr(aria-label);background:var(--bgColor-emphasis,var(--color-neutral-emphasis-plus,#24292f));border-radius:6px;opacity:0;}/*!sc*/
@-webkit-keyframes tooltip-appear{from{opacity:0;}to{opacity:1;}}/*!sc*/
@keyframes tooltip-appear{from{opacity:0;}to{opacity:1;}}/*!sc*/
.gNgnVl:hover::after,.gNgnVl:active::after,.gNgnVl:focus::after,.gNgnVl:focus-within::after{display:inline-block;-webkit-text-decoration:none;text-decoration:none;-webkit-animation-name:tooltip-appear;animation-name:tooltip-appear;-webkit-animation-duration:0.1s;animation-duration:0.1s;-webkit-animation-fill-mode:forwards;animation-fill-mode:forwards;-webkit-animation-timing-function:ease-in;animation-timing-function:ease-in;-webkit-animation-delay:0s;animation-delay:0s;}/*!sc*/
.gNgnVl.tooltipped-no-delay:hover::after,.gNgnVl.tooltipped-no-delay:active::after,.gNgnVl.tooltipped-no-delay:focus::after,.gNgnVl.tooltipped-no-delay:focus-within::after{-webkit-animation-delay:0s;animation-delay:0s;}/*!sc*/
.gNgnVl.tooltipped-multiline:hover::after,.gNgnVl.tooltipped-multiline:active::after,.gNgnVl.tooltipped-multiline:focus::after,.gNgnVl.tooltipped-multiline:focus-within::after{display:table-cell;}/*!sc*/
.gNgnVl.tooltipped-s::after,.gNgnVl.tooltipped-se::after,.gNgnVl.tooltipped-sw::after{top:100%;right:50%;margin-top:6px;}/*!sc*/
.gNgnVl.tooltipped-se::after{right:auto;left:50%;margin-left:-16px;}/*!sc*/
.gNgnVl.tooltipped-sw::after{margin-right:-16px;}/*!sc*/
.gNgnVl.tooltipped-n::after,.gNgnVl.tooltipped-ne::after,.gNgnVl.tooltipped-nw::after{right:50%;bottom:100%;margin-bottom:6px;}/*!sc*/
.gNgnVl.tooltipped-ne::after{right:auto;left:50%;margin-left:-16px;}/*!sc*/
.gNgnVl.tooltipped-nw::after{margin-right:-16px;}/*!sc*/
.gNgnVl.tooltipped-s::after,.gNgnVl.tooltipped-n::after{-webkit-transform:translateX(50%);-ms-transform:translateX(50%);transform:translateX(50%);}/*!sc*/
.gNgnVl.tooltipped-w::after{right:100%;bottom:50%;margin-right:6px;-webkit-transform:translateY(50%);-ms-transform:translateY(50%);transform:translateY(50%);}/*!sc*/
.gNgnVl.tooltipped-e::after{bottom:50%;left:100%;margin-left:6px;-webkit-transform:translateY(50%);-ms-transform:translateY(50%);transform:translateY(50%);}/*!sc*/
.gNgnVl.tooltipped-multiline::after{width:-webkit-max-content;width:-moz-max-content;width:max-content;max-width:250px;word-wrap:break-word;white-space:pre-line;border-collapse:separate;}/*!sc*/
.gNgnVl.tooltipped-multiline.tooltipped-s::after,.gNgnVl.tooltipped-multiline.tooltipped-n::after{right:auto;left:50%;-webkit-transform:translateX(-50%);-ms-transform:translateX(-50%);transform:translateX(-50%);}/*!sc*/
.gNgnVl.tooltipped-multiline.tooltipped-w::after,.gNgnVl.tooltipped-multiline.tooltipped-e::after{right:100%;}/*!sc*/
.gNgnVl.tooltipped-align-right-2::after{right:0;margin-right:0;}/*!sc*/
.gNgnVl.tooltipped-align-left-2::after{left:0;margin-left:0;}/*!sc*/
data-styled.g13[id="Tooltip__TooltipBase-sc-17tf59c-0"]{content:"gNgnVl,"}/*!sc*/
.cDLBls{border:0;font-size:inherit;font-family:inherit;background-color:transparent;-webkit-appearance:none;color:inherit;width:100%;}/*!sc*/
.cDLBls:focus{outline:0;}/*!sc*/
data-styled.g14[id="UnstyledTextInput-sc-14ypya-0"]{content:"cDLBls,"}/*!sc*/
body[data-page-layout-dragging="true"]{cursor:col-resize;}/*!sc*/
body[data-page-layout-dragging="true"] *{-webkit-user-select:none;-moz-user-select:none;-ms-user-select:none;user-select:none;}/*!sc*/
data-styled.g15[id="sc-global-gbKrvU1"]{content:"sc-global-gbKrvU1,"}/*!sc*/
.fUpWeN{display:inline-block;overflow:hidden;text-overflow:ellipsis;vertical-align:top;white-space:nowrap;max-width:125px;max-width:100%;}/*!sc*/
data-styled.g30[id="Truncate__StyledTruncate-sc-23o1d2-0"]{content:"fUpWeN,"}/*!sc*/
.cjbBGq{display:-webkit-inline-box;display:-webkit-inline-flex;display:-ms-inline-flexbox;display:inline-flex;vertical-align:middle;isolation:isolate;}/*!sc*/
.cjbBGq.cjbBGq > *{margin-inline-end:-1px;position:relative;border-radius:0;}/*!sc*/
.cjbBGq.cjbBGq > *:first-child{border-top-left-radius:6px;border-bottom-left-radius:6px;}/*!sc*/
.cjbBGq.cjbBGq > *:last-child{border-top-right-radius:6px;border-bottom-right-radius:6px;}/*!sc*/
.cjbBGq.cjbBGq > *:focus,.cjbBGq.cjbBGq > *:active,.cjbBGq.cjbBGq > *:hover{z-index:1;}/*!sc*/
data-styled.g37[id="ButtonGroup-sc-1gxhls1-0"]{content:"cjbBGq,"}/*!sc*/
.jEdVkE{--segmented-control-button-inner-padding:12px;--segmented-control-button-bg-inset:4px;--segmented-control-outer-radius:6px;background-color:transparent;border-color:transparent;border-radius:var(--segmented-control-outer-radius);border-width:0;color:currentColor;cursor:pointer;font-family:inherit;font-size:inherit;font-weight:600;padding:0;height:100%;width:100%;}/*!sc*/
.jEdVkE .segmentedControl-content{-webkit-align-items:center;-webkit-box-align:center;-ms-flex-align:center;align-items:center;background-color:var(--controlKnob-bgColor-rest,var(--color-segmented-control-button-bg,#ffffff));border-color:var(--controlKnob-borderColor-rest,var(--color-segmented-control-button-hover-active-selected-border,#8c959f));border-style:solid;border-width:1px;border-radius:var(--segmented-control-outer-radius);display:-webkit-box;display:-webkit-flex;display:-ms-flexbox;display:flex;height:100%;-webkit-box-pack:center;-webkit-justify-content:center;-ms-flex-pack:center;justify-content:center;padding-left:var(--segmented-control-button-inner-padding);padding-right:var(--segmented-control-button-inner-padding);}/*!sc*/
.jEdVkE svg{fill:var(--fgColor-muted,var(--color-fg-muted,#656d76));}/*!sc*/
.jEdVkE:focus:focus-visible:not(:last-child):after{width:0;}/*!sc*/
.jEdVkE .segmentedControl-text:after{content:"Preview";display:block;font-weight:600;height:0;overflow:hidden;pointer-events:none;-webkit-user-select:none;-moz-user-select:none;-ms-user-select:none;user-select:none;visibility:hidden;}/*!sc*/
@media (pointer:coarse){.jEdVkE:before{content:"";position:absolute;left:0;right:0;-webkit-transform:translateY(-50%);-ms-transform:translateY(-50%);transform:translateY(-50%);top:50%;min-height:44px;}}/*!sc*/
.TvbfG{--segmented-control-button-inner-padding:12px;--segmented-control-button-bg-inset:4px;--segmented-control-outer-radius:6px;background-color:transparent;border-color:transparent;border-radius:var(--segmented-control-outer-radius);border-width:0;color:currentColor;cursor:pointer;font-family:inherit;font-size:inherit;font-weight:400;padding:var(--segmented-control-button-bg-inset);height:100%;width:100%;}/*!sc*/
.TvbfG .segmentedControl-content{-webkit-align-items:center;-webkit-box-align:center;-ms-flex-align:center;align-items:center;background-color:transparent;border-color:transparent;border-style:solid;border-width:1px;border-radius:calc(var(--segmented-control-outer-radius) - var(--segmented-control-button-bg-inset) / 2);display:-webkit-box;display:-webkit-flex;display:-ms-flexbox;display:flex;height:100%;-webkit-box-pack:center;-webkit-justify-content:center;-ms-flex-pack:center;justify-content:center;padding-left:calc(var(--segmented-control-button-inner-padding) - var(--segmented-control-button-bg-inset));padding-right:calc(var(--segmented-control-button-inner-padding) - var(--segmented-control-button-bg-inset));}/*!sc*/
.TvbfG svg{fill:var(--fgColor-muted,var(--color-fg-muted,#656d76));}/*!sc*/
.TvbfG:hover .segmentedControl-content{background-color:var(--controlTrack-bgColor-hover,var(--color-segmented-control-button-hover-bg,rgba(175,184,193,0.2)));}/*!sc*/
.TvbfG:active .segmentedControl-content{background-color:var(--controlTrack-bgColor-active,var(--color-segmented-control-button-hover-active-bg,rgba(175,184,193,0.4)));}/*!sc*/
.TvbfG:focus:focus-visible:not(:last-child):after{width:0;}/*!sc*/
.TvbfG .segmentedControl-text:after{content:"Code";display:block;font-weight:600;height:0;overflow:hidden;pointer-events:none;-webkit-user-select:none;-moz-user-select:none;-ms-user-select:none;user-select:none;visibility:hidden;}/*!sc*/
@media (pointer:coarse){.TvbfG:before{content:"";position:absolute;left:0;right:0;-webkit-transform:translateY(-50%);-ms-transform:translateY(-50%);transform:translateY(-50%);top:50%;min-height:44px;}}/*!sc*/
.fIktcg{--segmented-control-button-inner-padding:12px;--segmented-control-button-bg-inset:4px;--segmented-control-outer-radius:6px;background-color:transparent;border-color:transparent;border-radius:var(--segmented-control-outer-radius);border-width:0;color:currentColor;cursor:pointer;font-family:inherit;font-size:inherit;font-weight:400;padding:var(--segmented-control-button-bg-inset);height:100%;width:100%;}/*!sc*/
.fIktcg .segmentedControl-content{-webkit-align-items:center;-webkit-box-align:center;-ms-flex-align:center;align-items:center;background-color:transparent;border-color:transparent;border-style:solid;border-width:1px;border-radius:calc(var(--segmented-control-outer-radius) - var(--segmented-control-button-bg-inset) / 2);display:-webkit-box;display:-webkit-flex;display:-ms-flexbox;display:flex;height:100%;-webkit-box-pack:center;-webkit-justify-content:center;-ms-flex-pack:center;justify-content:center;padding-left:calc(var(--segmented-control-button-inner-padding) - var(--segmented-control-button-bg-inset));padding-right:calc(var(--segmented-control-button-inner-padding) - var(--segmented-control-button-bg-inset));}/*!sc*/
.fIktcg svg{fill:var(--fgColor-muted,var(--color-fg-muted,#656d76));}/*!sc*/
.fIktcg:hover .segmentedControl-content{background-color:var(--controlTrack-bgColor-hover,var(--color-segmented-control-button-hover-bg,rgba(175,184,193,0.2)));}/*!sc*/
.fIktcg:active .segmentedControl-content{background-color:var(--controlTrack-bgColor-active,var(--color-segmented-control-button-hover-active-bg,rgba(175,184,193,0.4)));}/*!sc*/
.fIktcg:focus:focus-visible:not(:last-child):after{width:0;}/*!sc*/
.fIktcg .segmentedControl-text:after{content:"Blame";display:block;font-weight:600;height:0;overflow:hidden;pointer-events:none;-webkit-user-select:none;-moz-user-select:none;-ms-user-select:none;user-select:none;visibility:hidden;}/*!sc*/
@media (pointer:coarse){.fIktcg:before{content:"";position:absolute;left:0;right:0;-webkit-transform:translateY(-50%);-ms-transform:translateY(-50%);transform:translateY(-50%);top:50%;min-height:44px;}}/*!sc*/
data-styled.g58[id="SegmentedControlButton__SegmentedControlButtonStyled-sc-8lkgxl-0"]{content:"jEdVkE,TvbfG,fIktcg,"}/*!sc*/
.huxtnT{background-color:var(--controlTrack-bgColor-rest,var(--color-segmented-control-bg,#eaeef2));border-radius:6px;display:-webkit-inline-box;display:-webkit-inline-flex;display:-ms-inline-flexbox;display:inline-flex;font-size:14px;height:28px;margin:0;padding:0;}/*!sc*/
data-styled.g60[id="SegmentedControl__SegmentedControlList-sc-1rzig82-0"]{content:"huxtnT,"}/*!sc*/
</style><meta data-hydrostats="publish"/> <!-- --> <!-- --> <!-- --> <button hidden="" data-testid="header-permalink-button" data-hotkey-scope="read-only-cursor-text-area"></button><button hidden=""></button><div><div style="--sticky-pane-height:100vh" class="Box-sc-g0xbh4-0 fSWWem"><div class="Box-sc-g0xbh4-0 kPPmzM"><div class="Box-sc-g0xbh4-0 cIAPDV"><div tabindex="0" class="Box-sc-g0xbh4-0 gvCnwW"><div class="Box-sc-g0xbh4-0 esrURn"><div class="Box-sc-g0xbh4-0 eUyHuk"></div><div style="--pane-width:320px" class="Box-sc-g0xbh4-0 gNdDUH"></div><div class="Box-sc-g0xbh4-0 hAeDYA"><div role="slider" aria-label="Draggable pane splitter" aria-valuemin="0" aria-valuemax="0" aria-valuenow="0" aria-valuetext="Pane width 0 pixels" tabindex="0" class="Box-sc-g0xbh4-0 fjdBNx"></div></div></div></div><div class="Box-sc-g0xbh4-0 emFMJu"><div class="Box-sc-g0xbh4-0"></div><div class="Box-sc-g0xbh4-0 hlUAHL"><div data-selector="repos-split-pane-content" tabindex="0" class="Box-sc-g0xbh4-0 iStsmI"><div class="Box-sc-g0xbh4-0 eIgvIk"><div class="Box-sc-g0xbh4-0 eVFfWF container"><div class="px-3 pt-3 pb-0" id="StickyHeader"><div class="Box-sc-g0xbh4-0 fywjmm"><div class="Box-sc-g0xbh4-0 dyczTK"><div class="Box-sc-g0xbh4-0 cpXcux react-code-view-header-wrap--narrow"><div class="Box-sc-g0xbh4-0 iPEkxH"><h2 class="Heading__StyledHeading-sc-1c1dgg0-0 jUriTl"><button style="--button-color:fg.muted" type="button" aria-label="Expand file tree" data-testid="expand-file-tree-button-mobile" class="types__StyledButton-sc-ws60qy-0 blmaBs"><span data-component="buttonContent" class="Box-sc-g0xbh4-0 kkrdEu"><span data-component="leadingVisual" class="Box-sc-g0xbh4-0 trpoQ"><svg aria-hidden="true" focusable="false" role="img" class="octicon octicon-arrow-left" viewBox="0 0 16 16" width="16" height="16" fill="currentColor" style="display:inline-block;user-select:none;vertical-align:text-bottom;overflow:visible"><path d="M7.78 12.53a.75.75 0 0 1-1.06 0L2.47 8.28a.75.75 0 0 1 0-1.06l4.25-4.25a.751.751 0 0 1 1.042.018.751.751 0 0 1 .018 1.042L4.81 7h7.44a.75.75 0 0 1 0 1.5H4.81l2.97 2.97a.75.75 0 0 1 0 1.06Z"></path></svg></span><span data-component="text">Files</span></span></button><span role="tooltip" aria-label="Expand file tree" id="expand-button-file-tree-button" class="Tooltip__TooltipBase-sc-17tf59c-0 gNgnVl tooltipped-se"><button data-component="IconButton" type="button" data-testid="expand-file-tree-button" aria-labelledby="expand-button-file-tree-button" aria-controls="repos-file-tree" class="types__StyledButton-sc-ws60qy-0 hkJzmn" data-no-visuals="true"><svg aria-hidden="true" focusable="false" role="img" class="octicon octicon-sidebar-collapse" viewBox="0 0 16 16" width="16" height="16" fill="currentColor" style="display:inline-block;user-select:none;vertical-align:text-bottom;overflow:visible"><path d="M6.823 7.823a.25.25 0 0 1 0 .354l-2.396 2.396A.25.25 0 0 1 4 10.396V5.604a.25.25 0 0 1 .427-.177Z"></path><path d="M1.75 0h12.5C15.216 0 16 .784 16 1.75v12.5A1.75 1.75 0 0 1 14.25 16H1.75A1.75 1.75 0 0 1 0 14.25V1.75C0 .784.784 0 1.75 0ZM1.5 1.75v12.5c0 .138.112.25.25.25H9.5v-13H1.75a.25.25 0 0 0-.25.25ZM11 14.5h3.25a.25.25 0 0 0 .25-.25V1.75a.25.25 0 0 0-.25-.25H11Z"></path></svg></button></span><button hidden="" data-testid="" data-hotkey-scope="read-only-cursor-text-area"></button></h2></div><div class="react-code-view-header-mb--narrow mr-2"><button type="button" id="branch-picker-repos-header-ref-selector-wide" aria-haspopup="true" tabindex="0" aria-label="master branch" data-testid="anchor-button" class="types__StyledButton-sc-ws60qy-0 hILMMl ref-selector-class"><span data-component="buttonContent" class="Box-sc-g0xbh4-0 kkrdEu"><span data-component="text"><div class="Box-sc-g0xbh4-0 bKgizp"><div class="Box-sc-g0xbh4-0 iPGYsi"><svg aria-hidden="true" focusable="false" role="img" class="octicon octicon-git-branch" viewBox="0 0 16 16" width="16" height="16" fill="currentColor" style="display:inline-block;user-select:none;vertical-align:text-bottom;overflow:visible"><path d="M9.5 3.25a2.25 2.25 0 1 1 3 2.122V6A2.5 2.5 0 0 1 10 8.5H6a1 1 0 0 0-1 1v1.128a2.251 2.251 0 1 1-1.5 0V5.372a2.25 2.25 0 1 1 1.5 0v1.836A2.493 2.493 0 0 1 6 7h4a1 1 0 0 0 1-1v-.628A2.25 2.25 0 0 1 9.5 3.25Zm-6 0a.75.75 0 1 0 1.5 0 .75.75 0 0 0-1.5 0Zm8.25-.75a.75.75 0 1 0 0 1.5.75.75 0 0 0 0-1.5ZM4.25 12a.75.75 0 1 0 0 1.5.75.75 0 0 0 0-1.5Z"></path></svg></div><div class="Box-sc-g0xbh4-0 dKmYfk ref-selector-button-text-container"><span class="Text-sc-17v1xeu-0 bOMzPg"> <!-- -->master</span></div></div></span><span data-component="trailingVisual" class="Box-sc-g0xbh4-0 trpoQ"><svg aria-hidden="true" focusable="false" role="img" class="octicon octicon-triangle-down" viewBox="0 0 16 16" width="16" height="16" fill="currentColor" style="display:inline-block;user-select:none;vertical-align:text-bottom;overflow:visible"><path d="m4.427 7.427 3.396 3.396a.25.25 0 0 0 .354 0l3.396-3.396A.25.25 0 0 0 11.396 7H4.604a.25.25 0 0 0-.177.427Z"></path></svg></span></span></button><button hidden="" data-hotkey-scope="read-only-cursor-text-area"></button></div><div class="Box-sc-g0xbh4-0 ehCeGn react-code-view-header-mb--narrow"><div class="Box-sc-g0xbh4-0 eTvGbF"><nav data-testid="breadcrumbs" aria-labelledby="repos-header-breadcrumb-heading" id="repos-header-breadcrumb" class="Box-sc-g0xbh4-0 kzRgrI"><h2 class="Heading__StyledHeading-sc-1c1dgg0-0 cgQnMS sr-only" data-testid="screen-reader-heading" id="repos-header-breadcrumb-heading">Breadcrumbs</h2><ol class="Box-sc-g0xbh4-0 cmAPIB"><li class="Box-sc-g0xbh4-0 jwXCBK"><a sx="[object Object]" data-testid="breadcrumbs-repo-link" class="Link__StyledLink-sc-14289xe-0 ipyMWB" href="/ee16a/public_hw_notebooks/tree/master">public_hw_notebooks</a></li><li class="Box-sc-g0xbh4-0 jwXCBK"><span aria-hidden="true" class="Text-sc-17v1xeu-0 fIsVJr">/</span><a sx="[object Object]" class="Link__StyledLink-sc-14289xe-0 jmkYvv" href="/ee16a/public_hw_notebooks/tree/master/sp24_hw7">sp24_hw7</a></li></ol></nav><div data-testid="breadcrumbs-filename" class="Box-sc-g0xbh4-0 jwXCBK"><span aria-hidden="true" class="Text-sc-17v1xeu-0 fIsVJr">/</span><h1 tabindex="-1" id="file-name-id" class="Heading__StyledHeading-sc-1c1dgg0-0 diwsLq">q_matrix_visualization.ipynb</h1></div><div aria-describedby=":R1td9laeb:" class="Box-sc-g0xbh4-0"><button data-component="IconButton" type="button" aria-label="Copy path" tabindex="0" class="types__StyledButton-sc-ws60qy-0 ivbpoP" data-size="small" data-no-visuals="true"><svg aria-hidden="true" focusable="false" role="img" class="octicon octicon-copy" viewBox="0 0 16 16" width="16" height="16" fill="currentColor" style="display:inline-block;user-select:none;vertical-align:text-bottom;overflow:visible"><path d="M0 6.75C0 5.784.784 5 1.75 5h1.5a.75.75 0 0 1 0 1.5h-1.5a.25.25 0 0 0-.25.25v7.5c0 .138.112.25.25.25h7.5a.25.25 0 0 0 .25-.25v-1.5a.75.75 0 0 1 1.5 0v1.5A1.75 1.75 0 0 1 9.25 16h-7.5A1.75 1.75 0 0 1 0 14.25Z"></path><path d="M5 1.75C5 .784 5.784 0 6.75 0h7.5C15.216 0 16 .784 16 1.75v7.5A1.75 1.75 0 0 1 14.25 11h-7.5A1.75 1.75 0 0 1 5 9.25Zm1.75-.25a.25.25 0 0 0-.25.25v7.5c0 .138.112.25.25.25h7.5a.25.25 0 0 0 .25-.25v-7.5a.25.25 0 0 0-.25-.25Z"></path></svg></button></div></div></div></div><div class="react-code-view-header-element--wide"><div class="Box-sc-g0xbh4-0 gtBUEp"><div class="d-flex gap-2"> <div><div class="Box-sc-g0xbh4-0 kfYOBR"><span class="TextInputWrapper__TextInputBaseWrapper-sc-1mqhpbi-0 TextInputWrapper-sc-1mqhpbi-1 cXNreu jbzqwE TextInput-wrapper" aria-busy="false"><span class="TextInput-icon"><svg aria-hidden="true" focusable="false" role="img" class="octicon octicon-search" viewBox="0 0 16 16" width="16" height="16" fill="currentColor" style="display:inline-block;user-select:none;vertical-align:text-bottom;overflow:visible"><path d="M10.68 11.74a6 6 0 0 1-7.922-8.982 6 6 0 0 1 8.982 7.922l3.04 3.04a.749.749 0 0 1-.326 1.275.749.749 0 0 1-.734-.215ZM11.5 7a4.499 4.499 0 1 0-8.997 0A4.499 4.499 0 0 0 11.5 7Z"></path></svg></span><input type="text" aria-label="Go to file" role="combobox" aria-controls="file-results-list" aria-expanded="false" aria-haspopup="dialog" autoCorrect="off" spellcheck="false" placeholder="Go to file" data-component="input" class="UnstyledTextInput-sc-14ypya-0 cDLBls" value=""/><span class="TextInput-icon"></span></span></div><button hidden="" data-testid="" data-hotkey-scope="read-only-cursor-text-area"></button><button hidden=""></button></div><button type="button" data-no-visuals="true" class="types__StyledButton-sc-ws60qy-0 hviaoI"><span data-component="buttonContent" class="Box-sc-g0xbh4-0 kkrdEu"><span data-component="text">Blame</span></span></button><button hidden="" data-testid="" data-hotkey-scope="read-only-cursor-text-area"></button><button data-component="IconButton" type="button" aria-label="More file actions" class="types__StyledButton-sc-ws60qy-0 jXTShb js-blob-dropdown-click" title="More file actions" data-testid="more-file-actions-button-nav-menu-wide" id=":R156d9laeb:" aria-haspopup="true" tabindex="0" data-no-visuals="true"><svg aria-hidden="true" focusable="false" role="img" class="octicon octicon-kebab-horizontal" viewBox="0 0 16 16" width="16" height="16" fill="currentColor" style="display:inline-block;user-select:none;vertical-align:text-bottom;overflow:visible"><path d="M8 9a1.5 1.5 0 1 0 0-3 1.5 1.5 0 0 0 0 3ZM1.5 9a1.5 1.5 0 1 0 0-3 1.5 1.5 0 0 0 0 3Zm13 0a1.5 1.5 0 1 0 0-3 1.5 1.5 0 0 0 0 3Z"></path></svg></button> </div></div></div><div class="react-code-view-header-element--narrow"><div class="Box-sc-g0xbh4-0 gtBUEp"><div class="d-flex gap-2"> <button type="button" data-no-visuals="true" class="types__StyledButton-sc-ws60qy-0 hviaoI"><span data-component="buttonContent" class="Box-sc-g0xbh4-0 kkrdEu"><span data-component="text">Blame</span></span></button><button hidden="" data-testid="" data-hotkey-scope="read-only-cursor-text-area"></button><button data-component="IconButton" type="button" aria-label="More file actions" class="types__StyledButton-sc-ws60qy-0 jXTShb js-blob-dropdown-click" title="More file actions" data-testid="more-file-actions-button-nav-menu-narrow" id=":R157d9laeb:" aria-haspopup="true" tabindex="0" data-no-visuals="true"><svg aria-hidden="true" focusable="false" role="img" class="octicon octicon-kebab-horizontal" viewBox="0 0 16 16" width="16" height="16" fill="currentColor" style="display:inline-block;user-select:none;vertical-align:text-bottom;overflow:visible"><path d="M8 9a1.5 1.5 0 1 0 0-3 1.5 1.5 0 0 0 0 3ZM1.5 9a1.5 1.5 0 1 0 0-3 1.5 1.5 0 0 0 0 3Zm13 0a1.5 1.5 0 1 0 0-3 1.5 1.5 0 0 0 0 3Z"></path></svg></button> </div></div></div></div></div></div></div></div><div class="Box-sc-g0xbh4-0 hVZtwF react-code-view-bottom-padding"> <div class="Box-sc-g0xbh4-0 cMYnca"></div> <!-- --> <!-- --> </div><div class="Box-sc-g0xbh4-0 hVZtwF"> <!-- --> <!-- --> <div class="d-flex flex-column border rounded-2 mb-3 pl-1"><div class="Box-sc-g0xbh4-0 brJRqk"><h2 class="Heading__StyledHeading-sc-1c1dgg0-0 cgQnMS sr-only" data-testid="screen-reader-heading">Latest commit</h2><div style="width:120px" class="Skeleton Skeleton--text" data-testid="loading"> </div><div class="d-flex gap-2"><div data-testid="latest-commit-details" class="d-none d-sm-flex flex-items-center"></div><div class="d-flex gap-2"><h2 class="Heading__StyledHeading-sc-1c1dgg0-0 cgQnMS sr-only" data-testid="screen-reader-heading">History</h2><a aria-label="Commit history" class="types__StyledButton-sc-ws60qy-0 dOnKJi d-none d-lg-flex LinkButton-module__code-view-link-button--xvCGA flex-items-center fgColor-default" href="/ee16a/public_hw_notebooks/commits/master/sp24_hw7/q_matrix_visualization.ipynb" data-size="small"><span data-component="buttonContent" class="Box-sc-g0xbh4-0 kkrdEu"><span data-component="leadingVisual" class="Box-sc-g0xbh4-0 trpoQ"><svg aria-hidden="true" focusable="false" role="img" class="octicon octicon-history" viewBox="0 0 16 16" width="16" height="16" fill="currentColor" style="display:inline-block;user-select:none;vertical-align:text-bottom;overflow:visible"><path d="m.427 1.927 1.215 1.215a8.002 8.002 0 1 1-1.6 5.685.75.75 0 1 1 1.493-.154 6.5 6.5 0 1 0 1.18-4.458l1.358 1.358A.25.25 0 0 1 3.896 6H.25A.25.25 0 0 1 0 5.75V2.104a.25.25 0 0 1 .427-.177ZM7.75 4a.75.75 0 0 1 .75.75v2.992l2.028.812a.75.75 0 0 1-.557 1.392l-2.5-1A.751.751 0 0 1 7 8.25v-3.5A.75.75 0 0 1 7.75 4Z"></path></svg></span><span data-component="text"><span class="Text-sc-17v1xeu-0 gPDEWA fgColor-default">History</span></span></span></a><div class="d-sm-none"></div><div class="d-flex d-lg-none"><span role="tooltip" aria-label="History" id="history-icon-button-tooltip" class="Tooltip__TooltipBase-sc-17tf59c-0 gNgnVl tooltipped-n"><a aria-label="Commit history" aria-describedby="history-icon-button-tooltip" class="types__StyledButton-sc-ws60qy-0 dOnKJi LinkButton-module__code-view-link-button--xvCGA flex-items-center fgColor-default" href="/ee16a/public_hw_notebooks/commits/master/sp24_hw7/q_matrix_visualization.ipynb" data-size="small"><span data-component="buttonContent" class="Box-sc-g0xbh4-0 kkrdEu"><span data-component="leadingVisual" class="Box-sc-g0xbh4-0 trpoQ"><svg aria-hidden="true" focusable="false" role="img" class="octicon octicon-history" viewBox="0 0 16 16" width="16" height="16" fill="currentColor" style="display:inline-block;user-select:none;vertical-align:text-bottom;overflow:visible"><path d="m.427 1.927 1.215 1.215a8.002 8.002 0 1 1-1.6 5.685.75.75 0 1 1 1.493-.154 6.5 6.5 0 1 0 1.18-4.458l1.358 1.358A.25.25 0 0 1 3.896 6H.25A.25.25 0 0 1 0 5.75V2.104a.25.25 0 0 1 .427-.177ZM7.75 4a.75.75 0 0 1 .75.75v2.992l2.028.812a.75.75 0 0 1-.557 1.392l-2.5-1A.751.751 0 0 1 7 8.25v-3.5A.75.75 0 0 1 7.75 4Z"></path></svg></span></span></a></span></div></div></div></div></div><div class="Box-sc-g0xbh4-0 iJmJly"><div class="Box-sc-g0xbh4-0 jACbi container"><div class="Box-sc-g0xbh4-0 gIJuDf react-code-size-details-banner"><div class="Box-sc-g0xbh4-0 fleZSW react-code-size-details-banner"><div class="Box-sc-g0xbh4-0 BnySK text-mono"><div title="136 KB" data-testid="blob-size" class="Truncate__StyledTruncate-sc-23o1d2-0 fUpWeN"><span class="Text-sc-17v1xeu-0 gPDEWA">313 lines (313 loc) · 136 KB</span></div></div></div></div><div class="Box-sc-g0xbh4-0 VHzRk react-blob-view-header-sticky" id="repos-sticky-header"><div class="Box-sc-g0xbh4-0 ePiodO"><div class="Box-sc-g0xbh4-0 react-blob-sticky-header"><div class="Box-sc-g0xbh4-0 kQJlnf"><div class="Box-sc-g0xbh4-0 nSWSp"><div class="Box-sc-g0xbh4-0 lhFvfi"><div class="Box-sc-g0xbh4-0 doiYd"><button type="button" id="branch-picker-repos-header-ref-selector" aria-haspopup="true" tabindex="0" aria-label="master branch" data-testid="anchor-button" class="types__StyledButton-sc-ws60qy-0 hILMMl ref-selector-class"><span data-component="buttonContent" class="Box-sc-g0xbh4-0 kkrdEu"><span data-component="text"><div class="Box-sc-g0xbh4-0 bKgizp"><div class="Box-sc-g0xbh4-0 iPGYsi"><svg aria-hidden="true" focusable="false" role="img" class="octicon octicon-git-branch" viewBox="0 0 16 16" width="16" height="16" fill="currentColor" style="display:inline-block;user-select:none;vertical-align:text-bottom;overflow:visible"><path d="M9.5 3.25a2.25 2.25 0 1 1 3 2.122V6A2.5 2.5 0 0 1 10 8.5H6a1 1 0 0 0-1 1v1.128a2.251 2.251 0 1 1-1.5 0V5.372a2.25 2.25 0 1 1 1.5 0v1.836A2.493 2.493 0 0 1 6 7h4a1 1 0 0 0 1-1v-.628A2.25 2.25 0 0 1 9.5 3.25Zm-6 0a.75.75 0 1 0 1.5 0 .75.75 0 0 0-1.5 0Zm8.25-.75a.75.75 0 1 0 0 1.5.75.75 0 0 0 0-1.5ZM4.25 12a.75.75 0 1 0 0 1.5.75.75 0 0 0 0-1.5Z"></path></svg></div><div class="Box-sc-g0xbh4-0 dKmYfk ref-selector-button-text-container"><span class="Text-sc-17v1xeu-0 bOMzPg"> <!-- -->master</span></div></div></span><span data-component="trailingVisual" class="Box-sc-g0xbh4-0 trpoQ"><svg aria-hidden="true" focusable="false" role="img" class="octicon octicon-triangle-down" viewBox="0 0 16 16" width="16" height="16" fill="currentColor" style="display:inline-block;user-select:none;vertical-align:text-bottom;overflow:visible"><path d="m4.427 7.427 3.396 3.396a.25.25 0 0 0 .354 0l3.396-3.396A.25.25 0 0 0 11.396 7H4.604a.25.25 0 0 0-.177.427Z"></path></svg></span></span></button><button hidden="" data-hotkey-scope="read-only-cursor-text-area"></button></div><div class="Box-sc-g0xbh4-0 jKPiSV"><div class="Box-sc-g0xbh4-0 iZJewz"><nav data-testid="breadcrumbs" aria-labelledby="sticky-breadcrumb-heading" id="sticky-breadcrumb" class="Box-sc-g0xbh4-0 kzRgrI"><h2 class="Heading__StyledHeading-sc-1c1dgg0-0 cgQnMS sr-only" data-testid="screen-reader-heading" id="sticky-breadcrumb-heading">Breadcrumbs</h2><ol class="Box-sc-g0xbh4-0 cmAPIB"><li class="Box-sc-g0xbh4-0 jwXCBK"><a sx="[object Object]" data-testid="breadcrumbs-repo-link" class="Link__StyledLink-sc-14289xe-0 ipyMWB" href="/ee16a/public_hw_notebooks/tree/master">public_hw_notebooks</a></li><li class="Box-sc-g0xbh4-0 jwXCBK"><span aria-hidden="true" class="Text-sc-17v1xeu-0 cYjMDB">/</span><a sx="[object Object]" class="Link__StyledLink-sc-14289xe-0 jmkYvv" href="/ee16a/public_hw_notebooks/tree/master/sp24_hw7">sp24_hw7</a></li></ol></nav><div data-testid="breadcrumbs-filename" class="Box-sc-g0xbh4-0 jwXCBK"><span aria-hidden="true" class="Text-sc-17v1xeu-0 cYjMDB">/</span><h1 tabindex="-1" id="sticky-file-name-id" class="Heading__StyledHeading-sc-1c1dgg0-0 jAEDJk">q_matrix_visualization.ipynb</h1></div></div></div></div><button style="--button-color:fg.default" type="button" data-size="small" class="types__StyledButton-sc-ws60qy-0 gfKkfV"><span data-component="buttonContent" class="Box-sc-g0xbh4-0 kkrdEu"><span data-component="leadingVisual" class="Box-sc-g0xbh4-0 trpoQ"><svg aria-hidden="true" focusable="false" role="img" class="octicon octicon-arrow-up" viewBox="0 0 16 16" width="16" height="16" fill="currentColor" style="display:inline-block;user-select:none;vertical-align:text-bottom;overflow:visible"><path d="M3.47 7.78a.75.75 0 0 1 0-1.06l4.25-4.25a.75.75 0 0 1 1.06 0l4.25 4.25a.751.751 0 0 1-.018 1.042.751.751 0 0 1-1.042.018L9 4.81v7.44a.75.75 0 0 1-1.5 0V4.81L4.53 7.78a.75.75 0 0 1-1.06 0Z"></path></svg></span><span data-component="text">Top</span></span></button></div></div></div><div class="Box-sc-g0xbh4-0 jfjHXm"><h2 class="Heading__StyledHeading-sc-1c1dgg0-0 cgQnMS sr-only" data-testid="screen-reader-heading">File metadata and controls</h2><div class="Box-sc-g0xbh4-0 bfkNRF"><ul aria-label="File view" class="SegmentedControl__SegmentedControlList-sc-1rzig82-0 huxtnT"><li class="Box-sc-g0xbh4-0 fXBLEV"><button aria-current="true" class="SegmentedControlButton__SegmentedControlButtonStyled-sc-8lkgxl-0 jEdVkE"><span class="segmentedControl-content"><div class="Box-sc-g0xbh4-0 segmentedControl-text">Preview</div></span></button></li><li class="Box-sc-g0xbh4-0 gMPsNT"><button aria-current="false" class="SegmentedControlButton__SegmentedControlButtonStyled-sc-8lkgxl-0 TvbfG"><span class="segmentedControl-content"><div class="Box-sc-g0xbh4-0 segmentedControl-text">Code</div></span></button></li><li class="Box-sc-g0xbh4-0 gMPsNT"><button aria-current="false" class="SegmentedControlButton__SegmentedControlButtonStyled-sc-8lkgxl-0 fIktcg"><span class="segmentedControl-content"><div class="Box-sc-g0xbh4-0 segmentedControl-text">Blame</div></span></button></li></ul><button hidden="" data-testid="" data-hotkey-scope="read-only-cursor-text-area"></button><button hidden="" data-testid="" data-hotkey-scope="read-only-cursor-text-area"></button><button hidden="" data-testid="" data-hotkey-scope="read-only-cursor-text-area"></button><div class="Box-sc-g0xbh4-0 fleZSW react-code-size-details-in-header"><div class="Box-sc-g0xbh4-0 BnySK text-mono"><div title="136 KB" data-testid="blob-size" class="Truncate__StyledTruncate-sc-23o1d2-0 fUpWeN"><span class="Text-sc-17v1xeu-0 gPDEWA">313 lines (313 loc) · 136 KB</span></div></div></div></div><div class="Box-sc-g0xbh4-0 iBylDf"><div class="Box-sc-g0xbh4-0 kSGBPx react-blob-header-edit-and-raw-actions"><div class="ButtonGroup-sc-1gxhls1-0 cjbBGq"><a href="https://github.com/ee16a/public_hw_notebooks/raw/master/sp24_hw7/q_matrix_visualization.ipynb" data-testid="raw-button" data-size="small" data-no-visuals="true" class="types__StyledButton-sc-ws60qy-0 dTgfec"><span data-component="buttonContent" class="Box-sc-g0xbh4-0 kkrdEu"><span data-component="text">Raw</span></span></a><button data-component="IconButton" type="button" aria-label="Copy raw content" data-testid="copy-raw-button" data-size="small" data-no-visuals="true" class="types__StyledButton-sc-ws60qy-0 pyyxt"><svg aria-hidden="true" focusable="false" role="img" class="octicon octicon-copy" viewBox="0 0 16 16" width="16" height="16" fill="currentColor" style="display:inline-block;user-select:none;vertical-align:text-bottom;overflow:visible"><path d="M0 6.75C0 5.784.784 5 1.75 5h1.5a.75.75 0 0 1 0 1.5h-1.5a.25.25 0 0 0-.25.25v7.5c0 .138.112.25.25.25h7.5a.25.25 0 0 0 .25-.25v-1.5a.75.75 0 0 1 1.5 0v1.5A1.75 1.75 0 0 1 9.25 16h-7.5A1.75 1.75 0 0 1 0 14.25Z"></path><path d="M5 1.75C5 .784 5.784 0 6.75 0h7.5C15.216 0 16 .784 16 1.75v7.5A1.75 1.75 0 0 1 14.25 11h-7.5A1.75 1.75 0 0 1 5 9.25Zm1.75-.25a.25.25 0 0 0-.25.25v7.5c0 .138.112.25.25.25h7.5a.25.25 0 0 0 .25-.25v-7.5a.25.25 0 0 0-.25-.25Z"></path></svg></button><span role="tooltip" aria-label="Download raw file" id=":Rdcsptal9laeb:" class="Tooltip__TooltipBase-sc-17tf59c-0 gNgnVl tooltipped-n"><button data-component="IconButton" type="button" aria-label="Download raw content" data-testid="download-raw-button" data-size="small" data-no-visuals="true" class="types__StyledButton-sc-ws60qy-0 fmvlPZ"><svg aria-hidden="true" focusable="false" role="img" class="octicon octicon-download" viewBox="0 0 16 16" width="16" height="16" fill="currentColor" style="display:inline-block;user-select:none;vertical-align:text-bottom;overflow:visible"><path d="M2.75 14A1.75 1.75 0 0 1 1 12.25v-2.5a.75.75 0 0 1 1.5 0v2.5c0 .138.112.25.25.25h10.5a.25.25 0 0 0 .25-.25v-2.5a.75.75 0 0 1 1.5 0v2.5A1.75 1.75 0 0 1 13.25 14Z"></path><path d="M7.25 7.689V2a.75.75 0 0 1 1.5 0v5.689l1.97-1.969a.749.749 0 1 1 1.06 1.06l-3.25 3.25a.749.749 0 0 1-1.06 0L4.22 6.78a.749.749 0 1 1 1.06-1.06l1.97 1.969Z"></path></svg></button></span></div><button hidden="" data-testid="raw-button-shortcut" data-hotkey-scope="read-only-cursor-text-area"></button><button hidden="" data-testid="copy-raw-button-shortcut" data-hotkey-scope="read-only-cursor-text-area"></button><button hidden="" data-testid="download-raw-button-shortcut" data-hotkey-scope="read-only-cursor-text-area"></button></div><div class="Box-sc-g0xbh4-0 react-blob-header-edit-and-raw-actions-combined"><button data-component="IconButton" type="button" aria-label="Edit and raw actions" class="types__StyledButton-sc-ws60qy-0 dGDIQc js-blob-dropdown-click" title="More file actions" data-testid="more-file-actions-button" id=":Rnsptal9laeb:" aria-haspopup="true" tabindex="0" data-size="small" data-no-visuals="true"><svg aria-hidden="true" focusable="false" role="img" class="octicon octicon-kebab-horizontal" viewBox="0 0 16 16" width="16" height="16" fill="currentColor" style="display:inline-block;user-select:none;vertical-align:text-bottom;overflow:visible"><path d="M8 9a1.5 1.5 0 1 0 0-3 1.5 1.5 0 0 0 0 3ZM1.5 9a1.5 1.5 0 1 0 0-3 1.5 1.5 0 0 0 0 3Zm13 0a1.5 1.5 0 1 0 0-3 1.5 1.5 0 0 0 0 3Z"></path></svg></button></div></div></div></div><div></div></div><div class="Box-sc-g0xbh4-0 ytOJl"><section aria-labelledby="file-name-id-wide file-name-id-mobile" class="Box-sc-g0xbh4-0 eJsjkT"><!--$!--><template></template><div data-testid="suspense-spinner" class="Box-sc-g0xbh4-0 bAzdCq"><svg height="32px" width="32px" viewBox="0 0 16 16" fill="none" aria-label="Loading" class="Spinner__StyledSpinner-sc-1knt686-0 hPEVNM"><circle cx="8" cy="8" r="7" stroke="currentColor" stroke-opacity="0.25" stroke-width="2" vector-effect="non-scaling-stroke"></circle><path d="M15 8a7.002 7.002 0 00-7-7" stroke="currentColor" stroke-width="2" stroke-linecap="round" vector-effect="non-scaling-stroke"></path></svg></div><!--/$--></section></div></div></div> <!-- --> <!-- --> </div></div></div><div class="Box-sc-g0xbh4-0"></div></div></div></div></div><div id="find-result-marks-container" class="Box-sc-g0xbh4-0 aZrVR"></div><button hidden="" data-testid="" data-hotkey-scope="read-only-cursor-text-area"></button><button hidden=""></button></div> <!-- --> <!-- --> <!-- --> <script type="application/json" id="__PRIMER_DATA_:R0:__">{"resolvedServerColorMode":"day"}</script></div>
</react-app>
</turbo-frame>



  </div>

</turbo-frame>

    </main>
  </div>

  </div>

          <footer class="footer pt-8 pb-6 f6 color-fg-muted p-responsive" role="contentinfo" >
  <h2 class='sr-only'>Footer</h2>

  


  <div class="d-flex flex-justify-center flex-items-center flex-column-reverse flex-lg-row flex-wrap flex-lg-nowrap">
    <div class="d-flex flex-items-center flex-shrink-0 mx-2">
      <a aria-label="Homepage" title="GitHub" class="footer-octicon mr-2" href="https://github.com">
        <svg aria-hidden="true" height="24" viewBox="0 0 16 16" version="1.1" width="24" data-view-component="true" class="octicon octicon-mark-github">
    <path d="M8 0c4.42 0 8 3.58 8 8a8.013 8.013 0 0 1-5.45 7.59c-.4.08-.55-.17-.55-.38 0-.27.01-1.13.01-2.2 0-.75-.25-1.23-.54-1.48 1.78-.2 3.65-.88 3.65-3.95 0-.88-.31-1.59-.82-2.15.08-.2.36-1.02-.08-2.12 0 0-.67-.22-2.2.82-.64-.18-1.32-.27-2-.27-.68 0-1.36.09-2 .27-1.53-1.03-2.2-.82-2.2-.82-.44 1.1-.16 1.92-.08 2.12-.51.56-.82 1.28-.82 2.15 0 3.06 1.86 3.75 3.64 3.95-.23.2-.44.55-.51 1.07-.46.21-1.61.55-2.33-.66-.15-.24-.6-.83-1.23-.82-.67.01-.27.38.01.53.34.19.73.9.82 1.13.16.45.68 1.31 2.69.94 0 .67.01 1.3.01 1.49 0 .21-.15.45-.55.38A7.995 7.995 0 0 1 0 8c0-4.42 3.58-8 8-8Z"></path>
</svg>
</a>
      <span>
        &copy; 2024 GitHub,&nbsp;Inc.
      </span>
    </div>

    <nav aria-label="Footer">
      <h3 class="sr-only" id="sr-footer-heading">Footer navigation</h3>

      <ul class="list-style-none d-flex flex-justify-center flex-wrap mb-2 mb-lg-0" aria-labelledby="sr-footer-heading">

          <li class="mx-2">
            <a data-analytics-event="{&quot;category&quot;:&quot;Footer&quot;,&quot;action&quot;:&quot;go to Terms&quot;,&quot;label&quot;:&quot;text:terms&quot;}" href="https://docs.github.com/site-policy/github-terms/github-terms-of-service" data-view-component="true" class="Link--secondary Link">Terms</a>
          </li>

          <li class="mx-2">
            <a data-analytics-event="{&quot;category&quot;:&quot;Footer&quot;,&quot;action&quot;:&quot;go to privacy&quot;,&quot;label&quot;:&quot;text:privacy&quot;}" href="https://docs.github.com/site-policy/privacy-policies/github-privacy-statement" data-view-component="true" class="Link--secondary Link">Privacy</a>
          </li>

          <li class="mx-2">
            <a data-analytics-event="{&quot;category&quot;:&quot;Footer&quot;,&quot;action&quot;:&quot;go to security&quot;,&quot;label&quot;:&quot;text:security&quot;}" href="https://github.com/security" data-view-component="true" class="Link--secondary Link">Security</a>
          </li>

          <li class="mx-2">
            <a data-analytics-event="{&quot;category&quot;:&quot;Footer&quot;,&quot;action&quot;:&quot;go to status&quot;,&quot;label&quot;:&quot;text:status&quot;}" href="https://www.githubstatus.com/" data-view-component="true" class="Link--secondary Link">Status</a>
          </li>

          <li class="mx-2">
            <a data-analytics-event="{&quot;category&quot;:&quot;Footer&quot;,&quot;action&quot;:&quot;go to docs&quot;,&quot;label&quot;:&quot;text:docs&quot;}" href="https://docs.github.com/" data-view-component="true" class="Link--secondary Link">Docs</a>
          </li>

          <li class="mx-2">
            <a data-analytics-event="{&quot;category&quot;:&quot;Footer&quot;,&quot;action&quot;:&quot;go to contact&quot;,&quot;label&quot;:&quot;text:contact&quot;}" href="https://support.github.com?tags=dotcom-footer" data-view-component="true" class="Link--secondary Link">Contact</a>
          </li>

          <li class="mr-3" >
  <cookie-consent-link>
    <button type="button" class="Link--secondary underline-on-hover border-0 p-0 color-bg-transparent" data-action="click:cookie-consent-link#showConsentManagement">
      Manage cookies
    </button>
  </cookie-consent-link>
</li>

<li class="mr-3">
  <cookie-consent-link>
    <button type="button" class="Link--secondary underline-on-hover border-0 p-0 color-bg-transparent" data-action="click:cookie-consent-link#showConsentManagement">
      Do not share my personal information
    </button>
  </cookie-consent-link>
</li>

      </ul>
    </nav>
  </div>
</footer>




    <ghcc-consent id="ghcc" class="position-fixed bottom-0 left-0" style="z-index: 999999" data-initial-cookie-consent-allowed="" data-cookie-consent-required="false"></ghcc-consent>


  <div id="ajax-error-message" class="ajax-error-message flash flash-error" hidden>
    <svg aria-hidden="true" height="16" viewBox="0 0 16 16" version="1.1" width="16" data-view-component="true" class="octicon octicon-alert">
    <path d="M6.457 1.047c.659-1.234 2.427-1.234 3.086 0l6.082 11.378A1.75 1.75 0 0 1 14.082 15H1.918a1.75 1.75 0 0 1-1.543-2.575Zm1.763.707a.25.25 0 0 0-.44 0L1.698 13.132a.25.25 0 0 0 .22.368h12.164a.25.25 0 0 0 .22-.368Zm.53 3.996v2.5a.75.75 0 0 1-1.5 0v-2.5a.75.75 0 0 1 1.5 0ZM9 11a1 1 0 1 1-2 0 1 1 0 0 1 2 0Z"></path>
</svg>
    <button type="button" class="flash-close js-ajax-error-dismiss" aria-label="Dismiss error">
      <svg aria-hidden="true" height="16" viewBox="0 0 16 16" version="1.1" width="16" data-view-component="true" class="octicon octicon-x">
    <path d="M3.72 3.72a.75.75 0 0 1 1.06 0L8 6.94l3.22-3.22a.749.749 0 0 1 1.275.326.749.749 0 0 1-.215.734L9.06 8l3.22 3.22a.749.749 0 0 1-.326 1.275.749.749 0 0 1-.734-.215L8 9.06l-3.22 3.22a.751.751 0 0 1-1.042-.018.751.751 0 0 1-.018-1.042L6.94 8 3.72 4.78a.75.75 0 0 1 0-1.06Z"></path>
</svg>
    </button>
    You can’t perform that action at this time.
  </div>

    <template id="site-details-dialog">
  <details class="details-reset details-overlay details-overlay-dark lh-default color-fg-default hx_rsm" open>
    <summary role="button" aria-label="Close dialog"></summary>
    <details-dialog class="Box Box--overlay d-flex flex-column anim-fade-in fast hx_rsm-dialog hx_rsm-modal">
      <button class="Box-btn-octicon m-0 btn-octicon position-absolute right-0 top-0" type="button" aria-label="Close dialog" data-close-dialog>
        <svg aria-hidden="true" height="16" viewBox="0 0 16 16" version="1.1" width="16" data-view-component="true" class="octicon octicon-x">
    <path d="M3.72 3.72a.75.75 0 0 1 1.06 0L8 6.94l3.22-3.22a.749.749 0 0 1 1.275.326.749.749 0 0 1-.215.734L9.06 8l3.22 3.22a.749.749 0 0 1-.326 1.275.749.749 0 0 1-.734-.215L8 9.06l-3.22 3.22a.751.751 0 0 1-1.042-.018.751.751 0 0 1-.018-1.042L6.94 8 3.72 4.78a.75.75 0 0 1 0-1.06Z"></path>
</svg>
      </button>
      <div class="octocat-spinner my-6 js-details-dialog-spinner"></div>
    </details-dialog>
  </details>
</template>

    <div class="Popover js-hovercard-content position-absolute" style="display: none; outline: none;" tabindex="0">
  <div class="Popover-message Popover-message--bottom-left Popover-message--large Box color-shadow-large" style="width:360px;">
  </div>
</div>

    <template id="snippet-clipboard-copy-button">
  <div class="zeroclipboard-container position-absolute right-0 top-0">
    <clipboard-copy aria-label="Copy" class="ClipboardButton btn js-clipboard-copy m-2 p-0 tooltipped-no-delay" data-copy-feedback="Copied!" data-tooltip-direction="w">
      <svg aria-hidden="true" height="16" viewBox="0 0 16 16" version="1.1" width="16" data-view-component="true" class="octicon octicon-copy js-clipboard-copy-icon m-2">
    <path d="M0 6.75C0 5.784.784 5 1.75 5h1.5a.75.75 0 0 1 0 1.5h-1.5a.25.25 0 0 0-.25.25v7.5c0 .138.112.25.25.25h7.5a.25.25 0 0 0 .25-.25v-1.5a.75.75 0 0 1 1.5 0v1.5A1.75 1.75 0 0 1 9.25 16h-7.5A1.75 1.75 0 0 1 0 14.25Z"></path><path d="M5 1.75C5 .784 5.784 0 6.75 0h7.5C15.216 0 16 .784 16 1.75v7.5A1.75 1.75 0 0 1 14.25 11h-7.5A1.75 1.75 0 0 1 5 9.25Zm1.75-.25a.25.25 0 0 0-.25.25v7.5c0 .138.112.25.25.25h7.5a.25.25 0 0 0 .25-.25v-7.5a.25.25 0 0 0-.25-.25Z"></path>
</svg>
      <svg aria-hidden="true" height="16" viewBox="0 0 16 16" version="1.1" width="16" data-view-component="true" class="octicon octicon-check js-clipboard-check-icon color-fg-success d-none m-2">
    <path d="M13.78 4.22a.75.75 0 0 1 0 1.06l-7.25 7.25a.75.75 0 0 1-1.06 0L2.22 9.28a.751.751 0 0 1 .018-1.042.751.751 0 0 1 1.042-.018L6 10.94l6.72-6.72a.75.75 0 0 1 1.06 0Z"></path>
</svg>
    </clipboard-copy>
  </div>
</template>
<template id="snippet-clipboard-copy-button-unpositioned">
  <div class="zeroclipboard-container">
    <clipboard-copy aria-label="Copy" class="ClipboardButton btn btn-invisible js-clipboard-copy m-2 p-0 tooltipped-no-delay d-flex flex-justify-center flex-items-center" data-copy-feedback="Copied!" data-tooltip-direction="w">
      <svg aria-hidden="true" height="16" viewBox="0 0 16 16" version="1.1" width="16" data-view-component="true" class="octicon octicon-copy js-clipboard-copy-icon">
    <path d="M0 6.75C0 5.784.784 5 1.75 5h1.5a.75.75 0 0 1 0 1.5h-1.5a.25.25 0 0 0-.25.25v7.5c0 .138.112.25.25.25h7.5a.25.25 0 0 0 .25-.25v-1.5a.75.75 0 0 1 1.5 0v1.5A1.75 1.75 0 0 1 9.25 16h-7.5A1.75 1.75 0 0 1 0 14.25Z"></path><path d="M5 1.75C5 .784 5.784 0 6.75 0h7.5C15.216 0 16 .784 16 1.75v7.5A1.75 1.75 0 0 1 14.25 11h-7.5A1.75 1.75 0 0 1 5 9.25Zm1.75-.25a.25.25 0 0 0-.25.25v7.5c0 .138.112.25.25.25h7.5a.25.25 0 0 0 .25-.25v-7.5a.25.25 0 0 0-.25-.25Z"></path>
</svg>
      <svg aria-hidden="true" height="16" viewBox="0 0 16 16" version="1.1" width="16" data-view-component="true" class="octicon octicon-check js-clipboard-check-icon color-fg-success d-none">
    <path d="M13.78 4.22a.75.75 0 0 1 0 1.06l-7.25 7.25a.75.75 0 0 1-1.06 0L2.22 9.28a.751.751 0 0 1 .018-1.042.751.751 0 0 1 1.042-.018L6 10.94l6.72-6.72a.75.75 0 0 1 1.06 0Z"></path>
</svg>
    </clipboard-copy>
  </div>
</template>




    </div>

    <div id="js-global-screen-reader-notice" class="sr-only" aria-live="polite" aria-atomic="true" ></div>
    <div id="js-global-screen-reader-notice-assertive" class="sr-only" aria-live="assertive" aria-atomic="true"></div>
  </body>
</html>

