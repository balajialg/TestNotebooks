{
 "cells": [
  {
   "cell_type": "raw",
   "metadata": {},
   "source": [
    "# ASSIGNMENT CONFIG\n",
    "requirements:\n",
    "    - matplotlib\n",
    "    - numpy\n",
    "    - pandas\n",
    "    \n",
    "solutions_pdf: false\n",
    "export_cell:\n",
    "    instructions: \"Save, then download the zip file and submit it to the Gradescope autograder assignment. Then, extract the written solutions PDF and upload to the written work lab assignment.\"\n",
    "generate: \n",
    "    pdf: true\n",
    "    filtering: true\n",
    "    pagebreaks: true\n",
    "    zips: false\n",
    "files: [./e_coli_genome.fasta, ./human_chr21.fasta, ./yeast_chr7.fasta]"
   ]
  },
  {
   "cell_type": "markdown",
   "metadata": {},
   "source": [
    "# Lab 7: Statistical Methods\n",
    "### Data Science for Biology\n",
    "**Notebook developed by:** *Kinsey Long*<br>\n",
    "**Supervised by:** *Max Staller*<br>\n",
    "\n",
    "### Learning Outcomes\n",
    "\n",
    "In this notebook, you will learn about:\n",
    "* Randomness in Python\n",
    "* Probability calculations\n",
    "* Permutation tests and p-values\n",
    "* Poisson Statistics\n",
    "* Distributions"
   ]
  },
  {
   "cell_type": "markdown",
   "metadata": {},
   "source": [
    "---\n",
    "### Helpful Data Science Resources\n",
    "Here are some resources you can check out while doing this notebook!\n",
    "\n",
    "- [Introductory documentation for pandas](https://pandas.pydata.org/docs/user_guide/10min.html)\n",
    "- [DS4BIO Pandas Guide](pandas_guide.ipynb)\n",
    "- [GeeksForGeeks Poisson Distribution](https://www.geeksforgeeks.org/poisson-distribution/#)\n",
    "\n",
    "\n",
    "### Peer Consulting\n",
    "\n",
    "If you find yourself having trouble with any content in this notebook, Data Peer Consultants are an excellent resource! Click [here](https://dlab.berkeley.edu/training/frontdesk-info) to locate live help.\n",
    "\n",
    "Peer Consultants are there to answer all data-related questions, whether it be about the content of this notebook, applications of data science in the world, or other data science courses offered at Berkeley.\n",
    "\n",
    "---"
   ]
  },
  {
   "cell_type": "markdown",
   "metadata": {},
   "source": [
    "To prepare our notebook environment, run the following cell which imports the necessary packages. It will print `All necessary packages have been imported.` below the cell when it's completed importing."
   ]
  },
  {
   "cell_type": "code",
   "execution_count": 1,
   "metadata": {},
   "outputs": [
    {
     "name": "stdout",
     "output_type": "stream",
     "text": [
      "All necessary packages have been imported!\n"
     ]
    }
   ],
   "source": [
    "from datascience import *\n",
    "import numpy as np\n",
    "import seaborn as sns\n",
    "import scipy.stats as stats\n",
    "import pandas as pd\n",
    "import re\n",
    "%matplotlib inline\n",
    "import matplotlib.pyplot as plt\n",
    "import math\n",
    "\n",
    "pd.options.mode.chained_assignment = None\n",
    "import warnings\n",
    "warnings.simplefilter(action='ignore', category=FutureWarning)\n",
    "\n",
    "print(\"All necessary packages have been imported!\")"
   ]
  },
  {
   "cell_type": "markdown",
   "metadata": {},
   "source": [
    "## 1. Restriction Enzyme Cut Sites"
   ]
  },
  {
   "cell_type": "markdown",
   "metadata": {},
   "source": [
    "Restriction enzymes are molecular scissors employed in genetic engineering to precisely cut DNA molecules at specific sequences known as cut sites. These enzymes play a crucial role in various molecular biology techniques, such as DNA cloning, gene editing, and DNA fingerprinting. By recognizing and cleaving specific DNA sequences, restriction enzymes enable scientists to manipulate and study genes with a high degree of precision.\n",
    "\n",
    "In this lab, we will be exploring the quantity and spacing of restriction enzyme recognition sites across different DNA sequences using statistical methods."
   ]
  },
  {
   "cell_type": "markdown",
   "metadata": {},
   "source": [
    "### 1.1 GC Content"
   ]
  },
  {
   "cell_type": "markdown",
   "metadata": {},
   "source": [
    "In this lab, we will be comparing *Saccharomyces cerevisiae* (yeast) and *Homo sapiens* (human) DNA. A reference genome serves as a representative blueprint of a species' genetic material, providing a standardized framework against which individual genomes can be compared and analyzed. These comprehensive maps are invaluable in deciphering the genetic basis of traits, diseases, and evolutionary relationships.\n",
    "\n",
    "\n",
    "First, run the cell below to import the sequences `human_chr21`, `yeast_chr7`, `e_coli_genome` as strings. These contain the full reference DNA sequences for human chromosome 21, yeast chromosome 7, and the whole reference genome of *Escherichia coli* O157:H7 strain respectively. These sequences can be downloaded from NCBI. You can find various data on the human reference genome [here](https://www.ncbi.nlm.nih.gov/datasets/taxonomy/9606/), data on the yeast reference genome [here](https://www.ncbi.nlm.nih.gov/datasets/taxonomy/4932/) and data of the E. coli reference genome [here](https://www.ncbi.nlm.nih.gov/datasets/genome/GCF_000008865.2/)."
   ]
  },
  {
   "cell_type": "code",
   "execution_count": 2,
   "metadata": {},
   "outputs": [
    {
     "name": "stdout",
     "output_type": "stream",
     "text": [
      "The first 10 nucleotides of our human DNA are:  NNNNNNNNNN\n",
      "The first 10 nucleotides of our yeast DNA are:  CCACACCCAC\n",
      "The first 10 nucleotides of our E. coli DNA are:  AGCTTTTCAT\n",
      "The length of the human chr21 DNA is 46709983 nucleotides.\n",
      "The length of the yeast chr7 DNA is 1090940 nucleotides.\n",
      "The length of the E. coli DNA is 5498578 nucleotides.\n"
     ]
    }
   ],
   "source": [
    "#Just run this cell\n",
    "with open(\"human_chr21.fasta\") as f:\n",
    "    human_chr21 = f.read().replace(\"\\n\", \"\")\n",
    "\n",
    "with open(\"yeast_chr7.fasta\") as f:\n",
    "    yeast_chr7 = f.read().replace(\"\\n\", \"\")\n",
    "\n",
    "with open(\"e_coli_genome.fasta\") as f:\n",
    "    e_coli_genome = f.read().replace(\"\\n\", \"\")\n",
    "\n",
    "print(\"The first 10 nucleotides of our human DNA are: \", human_chr21[:10])\n",
    "print(\"The first 10 nucleotides of our yeast DNA are: \", yeast_chr7[:10])\n",
    "print(\"The first 10 nucleotides of our E. coli DNA are: \", e_coli_genome[:10])\n",
    "\n",
    "print(f\"The length of the human chr21 DNA is {len(human_chr21)} nucleotides.\")\n",
    "print(f\"The length of the yeast chr7 DNA is {len(yeast_chr7)} nucleotides.\")\n",
    "print(f\"The length of the E. coli DNA is {len(e_coli_genome)} nucleotides.\")"
   ]
  },
  {
   "cell_type": "raw",
   "metadata": {},
   "source": [
    "# BEGIN QUESTION\n",
    "name: q1\n",
    "points: 3"
   ]
  },
  {
   "cell_type": "markdown",
   "metadata": {},
   "source": [
    "Notice that our human DNA contains \"N\" nucleotides, which indicates that the nucleotide at that position is variable. The sequences are also vastly different in length. In order to conduct our statitical analysis later, let's adjust our strings a little bit.\n",
    "\n",
    "<font color = #d14d0f>**QUESTION 1**:</font> Set `human_dna` to the first 1,000,000 nucleotides in `human_chr21` that are **not** \"N\". Set `yeast_dna` to the first 1,000,000 nucleotides in `yeast_chr7` that are **not** \"N\". Set `e_coli_dna` to the first 1,000,000 nucleotides in `e_coli_genome` that are **not** \"N\". "
   ]
  },
  {
   "cell_type": "raw",
   "metadata": {},
   "source": [
    "# BEGIN SOLUTION"
   ]
  },
  {
   "cell_type": "code",
   "execution_count": 3,
   "metadata": {},
   "outputs": [
    {
     "name": "stdout",
     "output_type": "stream",
     "text": [
      "The first 10 nucleotides of our selected human DNA are:  GATCCACCCG\n",
      "The first 10 nucleotides of our selected yeast DNA are:  CCACACCCAC\n",
      "The first 10 nucleotides of our selected E. coli DNA are:  AGCTTTTCAT\n",
      "The length of the selected human DNA is 1000000 nucleotides.\n",
      "The length of the selected yeast DNA is 1000000 nucleotides.\n",
      "The length of the selected E. coli DNA is 1000000 nucleotides.\n"
     ]
    }
   ],
   "source": [
    "# BEGIN SOLUTION NO PROMPT\n",
    "human_dna = human_chr21.replace(\"N\", \"\")[:1000000]\n",
    "yeast_dna = yeast_chr7.replace(\"N\", \"\")[:1000000]\n",
    "e_coli_dna = e_coli_genome.replace(\"N\", \"\")[:1000000]# END SOLUTION\n",
    "\"\"\" # BEGIN PROMPT\n",
    "human_dna = human_chr21.replace(...)[...]\n",
    "yeast_dna = yeast_chr7.replace(...)[...]\n",
    "e_coli_dna = e_coli_genome.replace(...)[...]\n",
    "\"\"\" # END PROMPT\n",
    "\n",
    "# Do not change code below this line\n",
    "print(\"The first 10 nucleotides of our selected human DNA are: \", human_dna[:10])\n",
    "print(\"The first 10 nucleotides of our selected yeast DNA are: \", yeast_dna[:10])\n",
    "print(\"The first 10 nucleotides of our selected E. coli DNA are: \", e_coli_dna[:10])\n",
    "print(f\"The length of the selected human DNA is {len(human_dna)} nucleotides.\")\n",
    "print(f\"The length of the selected yeast DNA is {len(yeast_dna)} nucleotides.\")\n",
    "print(f\"The length of the selected E. coli DNA is {len(e_coli_dna)} nucleotides.\")\n"
   ]
  },
  {
   "cell_type": "raw",
   "metadata": {},
   "source": [
    "# END SOLUTION"
   ]
  },
  {
   "cell_type": "raw",
   "metadata": {},
   "source": [
    "# BEGIN TESTS"
   ]
  },
  {
   "cell_type": "code",
   "execution_count": 4,
   "metadata": {},
   "outputs": [
    {
     "data": {
      "text/plain": [
       "True"
      ]
     },
     "execution_count": 4,
     "metadata": {},
     "output_type": "execute_result"
    }
   ],
   "source": [
    "type(human_dna) == str and type(yeast_dna) == str and type(e_coli_dna) == str"
   ]
  },
  {
   "cell_type": "code",
   "execution_count": 5,
   "metadata": {},
   "outputs": [
    {
     "data": {
      "text/plain": [
       "0"
      ]
     },
     "execution_count": 5,
     "metadata": {},
     "output_type": "execute_result"
    }
   ],
   "source": [
    "human_dna.count(\"N\") + yeast_dna.count(\"N\") + e_coli_dna.count(\"N\")"
   ]
  },
  {
   "cell_type": "code",
   "execution_count": 6,
   "metadata": {},
   "outputs": [
    {
     "data": {
      "text/plain": [
       "True"
      ]
     },
     "execution_count": 6,
     "metadata": {},
     "output_type": "execute_result"
    }
   ],
   "source": [
    "# HIDDEN\n",
    "all([human_dna[len(human_dna)//5000: len(human_dna)//4800] == \"TGTCTTCT\", yeast_dna[len(yeast_dna)//5000: len(yeast_dna)//4800] == 'TTACCCTC', e_coli_dna[len(e_coli_dna)//5000: len(e_coli_dna)//4800] == \"TAGCACCA\"])"
   ]
  },
  {
   "cell_type": "raw",
   "metadata": {},
   "source": [
    "# END TESTS"
   ]
  },
  {
   "cell_type": "raw",
   "metadata": {},
   "source": [
    "# END QUESTION"
   ]
  },
  {
   "cell_type": "raw",
   "metadata": {},
   "source": [
    "# BEGIN QUESTION\n",
    "name: q2\n",
    "points: 3"
   ]
  },
  {
   "cell_type": "markdown",
   "metadata": {},
   "source": [
    "<font color = #d14d0f>**QUESTION 2**:</font> Build the function `GC_proportion` which calculates the GC content of an input DNA sequence as a proportion, **rounded to 3 decimal places**.\n",
    "> Hint: You can use `string1.count(string2)` to count the number of occurances of `string2` within `string1`."
   ]
  },
  {
   "cell_type": "raw",
   "metadata": {},
   "source": [
    "# BEGIN SOLUTION"
   ]
  },
  {
   "cell_type": "code",
   "execution_count": 7,
   "metadata": {},
   "outputs": [
    {
     "data": {
      "text/plain": [
       "' # BEGIN PROMPT\\ndef GC_proportion(sequence):\\n    ...\\n    return ...\\n'"
      ]
     },
     "execution_count": 7,
     "metadata": {},
     "output_type": "execute_result"
    }
   ],
   "source": [
    "# BEGIN SOLUTION NO PROMPT\n",
    "def GC_proportion(sequence):\n",
    "    gc_count = sequence.count(\"G\") + sequence.count(\"C\")\n",
    "    return np.round(gc_count/len(sequence), 3) # END SOLUTION\n",
    "\n",
    "\"\"\" # BEGIN PROMPT\n",
    "def GC_proportion(sequence):\n",
    "    ...\n",
    "    return ...\n",
    "\"\"\" # END PROMPT"
   ]
  },
  {
   "cell_type": "raw",
   "metadata": {},
   "source": [
    "# END SOLUTION"
   ]
  },
  {
   "cell_type": "raw",
   "metadata": {},
   "source": [
    "# BEGIN TESTS"
   ]
  },
  {
   "cell_type": "code",
   "execution_count": 8,
   "metadata": {},
   "outputs": [
    {
     "data": {
      "text/plain": [
       "0.75"
      ]
     },
     "execution_count": 8,
     "metadata": {},
     "output_type": "execute_result"
    }
   ],
   "source": [
    "GC_proportion(\"AGCG\")"
   ]
  },
  {
   "cell_type": "code",
   "execution_count": 9,
   "metadata": {},
   "outputs": [
    {
     "data": {
      "text/plain": [
       "True"
      ]
     },
     "execution_count": 9,
     "metadata": {},
     "output_type": "execute_result"
    }
   ],
   "source": [
    "# HIDDEN\n",
    "GC_proportion(\"AACCGGCGC\") == 0.778"
   ]
  },
  {
   "cell_type": "raw",
   "metadata": {},
   "source": [
    "# END TESTS"
   ]
  },
  {
   "cell_type": "raw",
   "metadata": {},
   "source": [
    "# END QUESTION"
   ]
  },
  {
   "cell_type": "markdown",
   "metadata": {},
   "source": [
    "The cell below creates a dictionary of the three different sequences we have set-up so far."
   ]
  },
  {
   "cell_type": "code",
   "execution_count": 10,
   "metadata": {},
   "outputs": [],
   "source": [
    "#Just run this cell\n",
    "dna_dict = {\"Human\": human_dna,\n",
    "            \"Yeast\": yeast_dna,\n",
    "            \"E. coli\": e_coli_dna\n",
    "            }"
   ]
  },
  {
   "cell_type": "code",
   "execution_count": 11,
   "metadata": {},
   "outputs": [
    {
     "data": {
      "text/html": [
       "<div>\n",
       "<style scoped>\n",
       "    .dataframe tbody tr th:only-of-type {\n",
       "        vertical-align: middle;\n",
       "    }\n",
       "\n",
       "    .dataframe tbody tr th {\n",
       "        vertical-align: top;\n",
       "    }\n",
       "\n",
       "    .dataframe thead th {\n",
       "        text-align: right;\n",
       "    }\n",
       "</style>\n",
       "<table border=\"1\" class=\"dataframe\">\n",
       "  <thead>\n",
       "    <tr style=\"text-align: right;\">\n",
       "      <th></th>\n",
       "      <th>GC content</th>\n",
       "    </tr>\n",
       "  </thead>\n",
       "  <tbody>\n",
       "    <tr>\n",
       "      <th>Human</th>\n",
       "      <td>0.448</td>\n",
       "    </tr>\n",
       "    <tr>\n",
       "      <th>Yeast</th>\n",
       "      <td>0.380</td>\n",
       "    </tr>\n",
       "    <tr>\n",
       "      <th>E. coli</th>\n",
       "      <td>0.513</td>\n",
       "    </tr>\n",
       "  </tbody>\n",
       "</table>\n",
       "</div>"
      ],
      "text/plain": [
       "         GC content\n",
       "Human         0.448\n",
       "Yeast         0.380\n",
       "E. coli       0.513"
      ]
     },
     "execution_count": 11,
     "metadata": {},
     "output_type": "execute_result"
    }
   ],
   "source": [
    "#Just run this cell to compare the GC content of the three sequences\n",
    "gc_df = pd.DataFrame({\"GC content\": []})\n",
    "\n",
    "for dna, sequence in dna_dict.items():\n",
    "    gc_df.loc[dna] = GC_proportion(sequence)\n",
    "\n",
    "gc_df"
   ]
  },
  {
   "cell_type": "raw",
   "metadata": {},
   "source": [
    "# BEGIN QUESTION\n",
    "name: q3a\n",
    "points: 3"
   ]
  },
  {
   "cell_type": "markdown",
   "metadata": {},
   "source": [
    "<font color = #d14d0f>**QUESTION 3a**:</font> Fill in the code below to generate a random DNA sequence `random_dna` of length 1,000,000 nucleotides that is equal proportion A, T, C, and G. "
   ]
  },
  {
   "cell_type": "raw",
   "metadata": {},
   "source": [
    "# BEGIN SOLUTION"
   ]
  },
  {
   "cell_type": "code",
   "execution_count": 12,
   "metadata": {},
   "outputs": [
    {
     "name": "stdout",
     "output_type": "stream",
     "text": [
      "The first 10 nucleotides of our random DNA are:  TGCCAAAGCC\n"
     ]
    }
   ],
   "source": [
    "# DO NOT CHANGE THIS LINE:\n",
    "np.random.seed(42)\n",
    "\n",
    "# BEGIN SOLUTION NO PROMPT\n",
    "random_dna = \"\".join(np.random.choice([\"A\", \"T\", \"C\", \"G\"], 1000000, p=[1/4, 1/4, 1/4, 1/4]))\n",
    " # END SOLUTION\n",
    "\n",
    "\"\"\" # BEGIN PROMPT\n",
    "random_dna = \"\".join(np.random.choice([\"A\", \"T\", \"C\", \"G\"], ..., p=[...]))\n",
    "\"\"\" # END PROMPT\n",
    "\n",
    "#YOUR CODE HERE\n",
    "print(\"The first 10 nucleotides of our random DNA are: \", random_dna[:10])"
   ]
  },
  {
   "cell_type": "raw",
   "metadata": {},
   "source": [
    "# END SOLUTION"
   ]
  },
  {
   "cell_type": "raw",
   "metadata": {},
   "source": [
    "# BEGIN TESTS"
   ]
  },
  {
   "cell_type": "code",
   "execution_count": 13,
   "metadata": {},
   "outputs": [
    {
     "data": {
      "text/plain": [
       "True"
      ]
     },
     "execution_count": 13,
     "metadata": {},
     "output_type": "execute_result"
    }
   ],
   "source": [
    "type(random_dna) == str"
   ]
  },
  {
   "cell_type": "code",
   "execution_count": 14,
   "metadata": {},
   "outputs": [
    {
     "data": {
      "text/plain": [
       "'TGCCAAAGCCAGGAAATCTTCATTTGACCACAAGGGTACTATAGTCTCCA'"
      ]
     },
     "execution_count": 14,
     "metadata": {},
     "output_type": "execute_result"
    }
   ],
   "source": [
    "random_dna[:50]"
   ]
  },
  {
   "cell_type": "code",
   "execution_count": 15,
   "metadata": {},
   "outputs": [
    {
     "data": {
      "text/plain": [
       "1000000"
      ]
     },
     "execution_count": 15,
     "metadata": {},
     "output_type": "execute_result"
    }
   ],
   "source": [
    "len(random_dna)"
   ]
  },
  {
   "cell_type": "raw",
   "metadata": {},
   "source": [
    "# END TESTS"
   ]
  },
  {
   "cell_type": "raw",
   "metadata": {},
   "source": [
    "# END QUESTION"
   ]
  },
  {
   "cell_type": "raw",
   "metadata": {},
   "source": [
    "# BEGIN QUESTION\n",
    "name: q3b\n",
    "points: 2"
   ]
  },
  {
   "cell_type": "markdown",
   "metadata": {},
   "source": [
    "<font color = #d14d0f>**QUESTION 3b**:</font> Build a function `generate_random_DNA` which takes in an input `GC_content` as a proportion, and generates a random DNA sequence of length 1,000,000 nucleotides with nucleotide frequencies determined from the input `GC_content`.\n",
    "> Hint:\n",
    "> - If you aren't sure how to determine the nucleotide frequencies/probabilities from only the GC content, consider Chargaff's Rules.\n",
    "> - Ignore the `seed` parameter. It is used to help reproduce random sequences, making it easier to check student's work! You can learn more about it [here.](https://www.geeksforgeeks.org/random-seed-in-python/)"
   ]
  },
  {
   "cell_type": "raw",
   "metadata": {},
   "source": [
    "# BEGIN SOLUTION"
   ]
  },
  {
   "cell_type": "code",
   "execution_count": 16,
   "metadata": {},
   "outputs": [
    {
     "data": {
      "text/plain": [
       "' # BEGIN PROMPT\\ndef generate_random_DNA(GC_content, seed):\\n    np.random.seed(seed) #DO NOT CHANGE THIS LINE!\\n    #YOUR CODE HERE\\n    AT_content = ...\\n    random_dna = ...\\n    return ...\\n'"
      ]
     },
     "execution_count": 16,
     "metadata": {},
     "output_type": "execute_result"
    }
   ],
   "source": [
    "# BEGIN SOLUTION NO PROMPT\n",
    "def generate_random_DNA(GC_content, seed):\n",
    "    np.random.seed(seed) #DO NOT CHANGE THIS LINE!\n",
    "    #YOUR CODE HERE\n",
    "    AT_content = 1 - GC_content\n",
    "    random_dna = \"\".join(np.random.choice([\"A\", \"T\", \"C\", \"G\"], 1000000, p=[AT_content/2, AT_content/2, GC_content/2, GC_content/2]))\n",
    "    return random_dna\n",
    " # END SOLUTION\n",
    "\n",
    "\"\"\" # BEGIN PROMPT\n",
    "def generate_random_DNA(GC_content, seed):\n",
    "    np.random.seed(seed) #DO NOT CHANGE THIS LINE!\n",
    "    #YOUR CODE HERE\n",
    "    AT_content = ...\n",
    "    random_dna = ...\n",
    "    return ...\n",
    "\"\"\" # END PROMPT"
   ]
  },
  {
   "cell_type": "raw",
   "metadata": {},
   "source": [
    "# END SOLUTION"
   ]
  },
  {
   "cell_type": "raw",
   "metadata": {},
   "source": [
    "# BEGIN TESTS"
   ]
  },
  {
   "cell_type": "code",
   "execution_count": 17,
   "metadata": {},
   "outputs": [
    {
     "data": {
      "text/plain": [
       "'CTACCTGCTT'"
      ]
     },
     "execution_count": 17,
     "metadata": {},
     "output_type": "execute_result"
    }
   ],
   "source": [
    "generate_random_DNA(0.5, 123)[:10]"
   ]
  },
  {
   "cell_type": "code",
   "execution_count": 18,
   "metadata": {},
   "outputs": [
    {
     "data": {
      "text/plain": [
       "349719"
      ]
     },
     "execution_count": 18,
     "metadata": {},
     "output_type": "execute_result"
    }
   ],
   "source": [
    "generate_random_DNA(0.3, 123).count(\"A\")"
   ]
  },
  {
   "cell_type": "code",
   "execution_count": 19,
   "metadata": {},
   "outputs": [
    {
     "data": {
      "text/plain": [
       "1000000"
      ]
     },
     "execution_count": 19,
     "metadata": {},
     "output_type": "execute_result"
    }
   ],
   "source": [
    "len(generate_random_DNA(0.75, 46920))"
   ]
  },
  {
   "cell_type": "raw",
   "metadata": {},
   "source": [
    "# END TESTS"
   ]
  },
  {
   "cell_type": "raw",
   "metadata": {},
   "source": [
    "# END QUESTION"
   ]
  },
  {
   "cell_type": "raw",
   "metadata": {},
   "source": [
    "# BEGIN QUESTION\n",
    "name: q3c\n",
    "points: 2"
   ]
  },
  {
   "cell_type": "markdown",
   "metadata": {},
   "source": [
    "<font color = #d14d0f>**QUESTION 3c**:</font> Use `generate_random_DNA` to generate three random DNA sequences: `random_human`, `random_yeast` and `random_ecoli`. Each sequence should have the same GC content as their real sequence counterparts, shown in `gc_df`. Do not change the `seed`!\n"
   ]
  },
  {
   "cell_type": "raw",
   "metadata": {},
   "source": [
    "# BEGIN SOLUTION"
   ]
  },
  {
   "cell_type": "code",
   "execution_count": 20,
   "metadata": {},
   "outputs": [
    {
     "name": "stdout",
     "output_type": "stream",
     "text": [
      "The first 10 nucleotides of our random human DNA are:  CACCTAACAA\n",
      "The first 10 nucleotides of our random yeast DNA are:  AATCTTATGG\n",
      "The first 10 nucleotides of our random E. coli DNA are:  ACTCAGGAGA\n"
     ]
    }
   ],
   "source": [
    "# BEGIN SOLUTION NO PROMPT\n",
    "random_human = generate_random_DNA(0.448, 10)\n",
    "random_yeast = generate_random_DNA(0.380, 11)\n",
    "random_ecoli = generate_random_DNA(0.513, 12)\n",
    "# END SOLUTION\n",
    "\n",
    "\"\"\" # BEGIN PROMPT\n",
    "random_human = generate_random_DNA(..., 10)\n",
    "random_yeast = generate_random_DNA(..., 11)\n",
    "random_ecoli = generate_random_DNA(..., 12)\n",
    "\"\"\" # END PROMPT\n",
    "\n",
    "# Do not change code below this line\n",
    "print(\"The first 10 nucleotides of our random human DNA are: \", random_human[:10])\n",
    "print(\"The first 10 nucleotides of our random yeast DNA are: \", random_yeast[:10])\n",
    "print(\"The first 10 nucleotides of our random E. coli DNA are: \", random_ecoli[:10])"
   ]
  },
  {
   "cell_type": "raw",
   "metadata": {},
   "source": [
    "# END SOLUTION"
   ]
  },
  {
   "cell_type": "raw",
   "metadata": {},
   "source": [
    "# BEGIN TESTS"
   ]
  },
  {
   "cell_type": "code",
   "execution_count": 21,
   "metadata": {},
   "outputs": [
    {
     "data": {
      "text/plain": [
       "'CACCTAACAAAATCTTATGGACTCAGGAGA'"
      ]
     },
     "execution_count": 21,
     "metadata": {},
     "output_type": "execute_result"
    }
   ],
   "source": [
    "random_human[:10] + random_yeast[:10] + random_ecoli[:10]"
   ]
  },
  {
   "cell_type": "code",
   "execution_count": 22,
   "metadata": {},
   "outputs": [
    {
     "data": {
      "text/plain": [
       "3000000"
      ]
     },
     "execution_count": 22,
     "metadata": {},
     "output_type": "execute_result"
    }
   ],
   "source": [
    "len(random_human) + len(random_yeast) + len(random_ecoli)"
   ]
  },
  {
   "cell_type": "raw",
   "metadata": {},
   "source": [
    "# END TESTS"
   ]
  },
  {
   "cell_type": "raw",
   "metadata": {},
   "source": [
    "# END QUESTION"
   ]
  },
  {
   "cell_type": "markdown",
   "metadata": {},
   "source": [
    "### 1.2 Counting Restriction Enzyme Binding Sites"
   ]
  },
  {
   "cell_type": "markdown",
   "metadata": {},
   "source": [
    "Now, let's take a look at the recognition sequences of some restriction enzymes. These are the sequences that the restriction enzyme will recognize and bind to, allowing it to make a cut in the DNA. You can find more information on specific restriction enzymes [here](https://enzymefinder.neb.com/#!#nebheader)."
   ]
  },
  {
   "cell_type": "code",
   "execution_count": 23,
   "metadata": {},
   "outputs": [
    {
     "data": {
      "text/html": [
       "<div>\n",
       "<style scoped>\n",
       "    .dataframe tbody tr th:only-of-type {\n",
       "        vertical-align: middle;\n",
       "    }\n",
       "\n",
       "    .dataframe tbody tr th {\n",
       "        vertical-align: top;\n",
       "    }\n",
       "\n",
       "    .dataframe thead th {\n",
       "        text-align: right;\n",
       "    }\n",
       "</style>\n",
       "<table border=\"1\" class=\"dataframe\">\n",
       "  <thead>\n",
       "    <tr style=\"text-align: right;\">\n",
       "      <th></th>\n",
       "      <th>Enzyme</th>\n",
       "      <th>Recognition Sequence</th>\n",
       "    </tr>\n",
       "  </thead>\n",
       "  <tbody>\n",
       "    <tr>\n",
       "      <th>0</th>\n",
       "      <td>MluCI</td>\n",
       "      <td>AATT</td>\n",
       "    </tr>\n",
       "    <tr>\n",
       "      <th>1</th>\n",
       "      <td>HaeIII</td>\n",
       "      <td>GGCC</td>\n",
       "    </tr>\n",
       "    <tr>\n",
       "      <th>2</th>\n",
       "      <td>HpyCH4IV</td>\n",
       "      <td>ACGT</td>\n",
       "    </tr>\n",
       "    <tr>\n",
       "      <th>3</th>\n",
       "      <td>MfeI</td>\n",
       "      <td>CAATTG</td>\n",
       "    </tr>\n",
       "    <tr>\n",
       "      <th>4</th>\n",
       "      <td>EagI-HF®</td>\n",
       "      <td>CGGCCG</td>\n",
       "    </tr>\n",
       "    <tr>\n",
       "      <th>5</th>\n",
       "      <td>ZraI</td>\n",
       "      <td>GACGTC</td>\n",
       "    </tr>\n",
       "    <tr>\n",
       "      <th>6</th>\n",
       "      <td>BssSI-v2</td>\n",
       "      <td>CACGAG</td>\n",
       "    </tr>\n",
       "    <tr>\n",
       "      <th>7</th>\n",
       "      <td>PacI</td>\n",
       "      <td>TTAATTAA</td>\n",
       "    </tr>\n",
       "    <tr>\n",
       "      <th>8</th>\n",
       "      <td>NotI</td>\n",
       "      <td>GCGGCCGC</td>\n",
       "    </tr>\n",
       "  </tbody>\n",
       "</table>\n",
       "</div>"
      ],
      "text/plain": [
       "     Enzyme Recognition Sequence\n",
       "0     MluCI                 AATT\n",
       "1    HaeIII                 GGCC\n",
       "2  HpyCH4IV                 ACGT\n",
       "3      MfeI               CAATTG\n",
       "4  EagI-HF®               CGGCCG\n",
       "5      ZraI               GACGTC\n",
       "6  BssSI-v2               CACGAG\n",
       "7      PacI             TTAATTAA\n",
       "8      NotI             GCGGCCGC"
      ]
     },
     "execution_count": 23,
     "metadata": {},
     "output_type": "execute_result"
    }
   ],
   "source": [
    "#Just run this cell to load our restriction enzymes\n",
    "restriction_enzymes_df = pd.DataFrame({\n",
    "    \"Enzyme\": [\"MluCI\", \"HaeIII\", \"HpyCH4IV\", \"MfeI\", \"EagI-HF®\", \"ZraI\", \"BssSI-v2\", \"PacI\", \"NotI\"],\n",
    "    \"Recognition Sequence\": [\"AATT\", \"GGCC\", \"ACGT\", \"CAATTG\", \"CGGCCG\", \"GACGTC\", \"CACGAG\", \"TTAATTAA\", \"GCGGCCGC\"]\n",
    "})\n",
    "\n",
    "restriction_enzymes_dict = restriction_enzymes_df.to_dict       #Creates a dictionary equivalent of this DataFrame\n",
    "\n",
    "restriction_enzymes_df"
   ]
  },
  {
   "cell_type": "raw",
   "metadata": {},
   "source": [
    "# BEGIN QUESTION\n",
    "name: q4a\n",
    "points: 1"
   ]
  },
  {
   "cell_type": "markdown",
   "metadata": {},
   "source": [
    "<font color = #d14d0f>**QUESTION 4a**:</font> Build the function `count_seq` which returns the number of occurances of a binding recognition seq, `target_seq`, in a DNA sequence, `DNA`."
   ]
  },
  {
   "cell_type": "raw",
   "metadata": {},
   "source": [
    "# BEGIN SOLUTION"
   ]
  },
  {
   "cell_type": "code",
   "execution_count": 24,
   "metadata": {},
   "outputs": [
    {
     "data": {
      "text/plain": [
       "' # BEGIN PROMPT\\ndef count_seq(DNA, target_seq):\\n    return ...\\n'"
      ]
     },
     "execution_count": 24,
     "metadata": {},
     "output_type": "execute_result"
    }
   ],
   "source": [
    "# BEGIN SOLUTION NO PROMPT\n",
    "def count_seq(DNA, target_seq):\n",
    "    return DNA.count(target_seq)\n",
    "# END SOLUTION\n",
    "\n",
    "\"\"\" # BEGIN PROMPT\n",
    "def count_seq(DNA, target_seq):\n",
    "    return ...\n",
    "\"\"\" # END PROMPT"
   ]
  },
  {
   "cell_type": "raw",
   "metadata": {},
   "source": [
    "# END SOLUTION"
   ]
  },
  {
   "cell_type": "raw",
   "metadata": {},
   "source": [
    "# BEGIN TESTS"
   ]
  },
  {
   "cell_type": "code",
   "execution_count": 25,
   "metadata": {},
   "outputs": [
    {
     "data": {
      "text/plain": [
       "True"
      ]
     },
     "execution_count": 25,
     "metadata": {},
     "output_type": "execute_result"
    }
   ],
   "source": [
    "count_seq(\"AAATTTAAATTT\", \"AAA\") == 2"
   ]
  },
  {
   "cell_type": "code",
   "execution_count": 26,
   "metadata": {},
   "outputs": [
    {
     "data": {
      "text/plain": [
       "4285"
      ]
     },
     "execution_count": 26,
     "metadata": {},
     "output_type": "execute_result"
    }
   ],
   "source": [
    "# HIDDEN\n",
    "count_seq(human_chr21, \"AAAAAAAAAAAA\")"
   ]
  },
  {
   "cell_type": "raw",
   "metadata": {},
   "source": [
    "# END TESTS"
   ]
  },
  {
   "cell_type": "raw",
   "metadata": {},
   "source": [
    "# END QUESTION"
   ]
  },
  {
   "cell_type": "raw",
   "metadata": {},
   "source": [
    "# BEGIN QUESTION\n",
    "name: q4b\n",
    "points: 4"
   ]
  },
  {
   "cell_type": "markdown",
   "metadata": {},
   "source": [
    "<font color = #d14d0f>**QUESTION 4b**:</font> Build the function `theoretical_count` which returns the expectation value for the number of occurances of a binding recognition seq, `target_seq`, in a DNA sequence with `DNA_length` number of nucleotides. Ensure that it outputs a whole number. Assume that each DNA nucleotide is equally likely to be observed.\n",
    "> Guiding questions:\n",
    "> - What is the probability of observing a target sequence at the start of the DNA sequence? \n",
    "> - What about at the second position of the DNA sequence?\n",
    "> - How many different locations is it possible to observe a match?\n",
    "> - How does this affect the expected number of occurances?"
   ]
  },
  {
   "cell_type": "raw",
   "metadata": {},
   "source": [
    "# BEGIN SOLUTION"
   ]
  },
  {
   "cell_type": "code",
   "execution_count": 27,
   "metadata": {},
   "outputs": [
    {
     "data": {
      "text/plain": [
       "' # BEGIN PROMPT\\ndef theoretical_count(DNA_length, cut_seq):\\n    match_probability = ...\\n    expected_num_matches = ... * ...\\n    return ...\\n'"
      ]
     },
     "execution_count": 27,
     "metadata": {},
     "output_type": "execute_result"
    }
   ],
   "source": [
    "# BEGIN SOLUTION NO PROMPT\n",
    "def theoretical_count(DNA_length, target_seq):\n",
    "    match_probability =  (1/4) ** len(target_seq)\n",
    "    expected_num_matches = match_probability * (DNA_length - len(target_seq) + 1)\n",
    "    return np.round(expected_num_matches, 0)\n",
    "# END SOLUTION\n",
    "\n",
    "\"\"\" # BEGIN PROMPT\n",
    "def theoretical_count(DNA_length, target_seq):\n",
    "    match_probability =  ... ** ...\n",
    "    expected_num_matches = ... * ...\n",
    "    return ...\n",
    "\"\"\" # END PROMPT"
   ]
  },
  {
   "cell_type": "raw",
   "metadata": {},
   "source": [
    "# END SOLUTION"
   ]
  },
  {
   "cell_type": "raw",
   "metadata": {},
   "source": [
    "# BEGIN TESTS"
   ]
  },
  {
   "cell_type": "code",
   "execution_count": 28,
   "metadata": {},
   "outputs": [
    {
     "data": {
      "text/plain": [
       "True"
      ]
     },
     "execution_count": 28,
     "metadata": {},
     "output_type": "execute_result"
    }
   ],
   "source": [
    "np.random.seed(10)\n",
    "theoretical_count(np.random.choice(range(10, 1000000), 1)[0], \"ACGTA\") == 337\n"
   ]
  },
  {
   "cell_type": "code",
   "execution_count": 29,
   "metadata": {},
   "outputs": [
    {
     "data": {
      "text/plain": [
       "True"
      ]
     },
     "execution_count": 29,
     "metadata": {},
     "output_type": "execute_result"
    }
   ],
   "source": [
    "np.random.seed(10)\n",
    "theoretical_count(np.random.choice(range(1000, 1000000), 1)[0], \"GC\") == 21647"
   ]
  },
  {
   "cell_type": "raw",
   "metadata": {},
   "source": [
    "# END TESTS"
   ]
  },
  {
   "cell_type": "raw",
   "metadata": {},
   "source": [
    "# END QUESTION"
   ]
  },
  {
   "cell_type": "raw",
   "metadata": {},
   "source": [
    "# BEGIN QUESTION\n",
    "name: q4c\n",
    "points: 3"
   ]
  },
  {
   "cell_type": "markdown",
   "metadata": {},
   "source": [
    "<font color = #d14d0f>**QUESTION 4c**:</font> Create a new DataFrame, `re_frequencies` with the following columns, in order: \n",
    "- `\"Enzyme\"`: str, the name of the restriction enzyme.\n",
    "- `\"Recognition Sequence\"`: str, the binding recognition sequence for the enzyme.\n",
    "- `\"Expected Count\"`: int, the expected value of observing the recognition sequence in a random DNA sequence of length 1,000,000.\n",
    "- `\"Actual Count Human\"`: int, the actual number of recognitition sequence matches in `human_dna`.\n",
    "- `\"Actual Count Yeast\"`: int, the actual number of recognitition sequence matches in `yeast_dna`.\n",
    "- `\"Actual Count E. coli\"`: int, the actual number of recognitition sequence matches in `e_coli_dna`.\n",
    "- `\"Actual Count Random\"`: int, the actual number of recognitition sequence matches in `random_dna`."
   ]
  },
  {
   "cell_type": "raw",
   "metadata": {},
   "source": [
    "# BEGIN SOLUTION"
   ]
  },
  {
   "cell_type": "code",
   "execution_count": 30,
   "metadata": {},
   "outputs": [
    {
     "data": {
      "text/plain": [
       "' # BEGIN PROMPT\\nexpected_counts = ...\\nactual_counts_human = ...\\nactual_counts_yeast = ...\\nactual_counts_random = ...\\n\\nfor target_seq in restriction_enzymes_df[\"Recognition Sequence\"]:\\n    expected_counts.append(...)\\n    actual_counts_human.append(...)\\n    actual_counts_yeast.append(...)\\n    actual_counts_random.append(...)\\n\\nre_frequencies = restriction_enzymes_df.copy()\\n...\\n\\nre_frequencies\\n'"
      ]
     },
     "execution_count": 30,
     "metadata": {},
     "output_type": "execute_result"
    }
   ],
   "source": [
    "# BEGIN SOLUTION NO PROMPT\n",
    "expected_counts = []\n",
    "actual_counts_human = []\n",
    "actual_counts_yeast = []\n",
    "actual_counts_e_coli = []\n",
    "actual_counts_random = []\n",
    "\n",
    "for target_seq in restriction_enzymes_df[\"Recognition Sequence\"]:\n",
    "    expected_counts.append(theoretical_count(1000000, target_seq))\n",
    "    actual_counts_human.append(count_seq(human_dna, target_seq))\n",
    "    actual_counts_yeast.append(count_seq(yeast_dna, target_seq))\n",
    "    actual_counts_e_coli.append(count_seq(e_coli_dna, target_seq))\n",
    "    actual_counts_random.append(count_seq(random_dna, target_seq))\n",
    "\n",
    "re_frequencies = restriction_enzymes_df.copy()\n",
    "re_frequencies[\"Expected Count\"] = expected_counts\n",
    "re_frequencies[\"Actual Count Human\"] = actual_counts_human\n",
    "re_frequencies[\"Actual Count Yeast\"] = actual_counts_yeast\n",
    "re_frequencies[\"Actual Count E. coli\"] = actual_counts_e_coli\n",
    "re_frequencies[\"Actual Count Random\"] = actual_counts_random\n",
    "\n",
    "re_frequencies\n",
    "# END SOLUTION\n",
    "\n",
    "\"\"\" # BEGIN PROMPT\n",
    "expected_counts = ...\n",
    "actual_counts_human = ...\n",
    "actual_counts_yeast = ...\n",
    "actual_counts_random = ...\n",
    "\n",
    "for target_seq in restriction_enzymes_df[\"Recognition Sequence\"]:\n",
    "    expected_counts.append(...)\n",
    "    actual_counts_human.append(...)\n",
    "    actual_counts_yeast.append(...)\n",
    "    actual_counts_random.append(...)\n",
    "\n",
    "re_frequencies = restriction_enzymes_df.copy()\n",
    "...\n",
    "\n",
    "re_frequencies\n",
    "\"\"\" # END PROMPT"
   ]
  },
  {
   "cell_type": "raw",
   "metadata": {},
   "source": [
    "# END SOLUTION"
   ]
  },
  {
   "cell_type": "raw",
   "metadata": {},
   "source": [
    "# BEGIN TESTS"
   ]
  },
  {
   "cell_type": "code",
   "execution_count": 31,
   "metadata": {},
   "outputs": [
    {
     "data": {
      "text/plain": [
       "(9, 7)"
      ]
     },
     "execution_count": 31,
     "metadata": {},
     "output_type": "execute_result"
    }
   ],
   "source": [
    "re_frequencies.shape"
   ]
  },
  {
   "cell_type": "code",
   "execution_count": 32,
   "metadata": {},
   "outputs": [
    {
     "data": {
      "text/plain": [
       "'Enzyme Recognition Sequence Expected Count Actual Count Human Actual Count Yeast Actual Count E. coli Actual Count Random'"
      ]
     },
     "execution_count": 32,
     "metadata": {},
     "output_type": "execute_result"
    }
   ],
   "source": [
    "\" \".join(re_frequencies.columns.to_list())"
   ]
  },
  {
   "cell_type": "code",
   "execution_count": 33,
   "metadata": {},
   "outputs": [
    {
     "data": {
      "text/plain": [
       "True"
      ]
     },
     "execution_count": 33,
     "metadata": {},
     "output_type": "execute_result"
    }
   ],
   "source": [
    "1400 < np.mean(re_frequencies[\"Expected Count\"]) < 1420"
   ]
  },
  {
   "cell_type": "code",
   "execution_count": 34,
   "metadata": {},
   "outputs": [
    {
     "data": {
      "text/plain": [
       "True"
      ]
     },
     "execution_count": 34,
     "metadata": {},
     "output_type": "execute_result"
    }
   ],
   "source": [
    "1290 < np.mean(re_frequencies[\"Actual Count Human\"]) < 1300"
   ]
  },
  {
   "cell_type": "code",
   "execution_count": 35,
   "metadata": {},
   "outputs": [
    {
     "data": {
      "text/plain": [
       "'AATT ACGT BssSI-v2 CAATTG CACGAG CGGCCG EagI-HF® GACGTC GCGGCCGC GGCC HaeIII HpyCH4IV MfeI MluCI NotI PacI TTAATTAA ZraI'"
      ]
     },
     "execution_count": 35,
     "metadata": {},
     "output_type": "execute_result"
    }
   ],
   "source": [
    "# HIDDEN\n",
    "\" \".join(sorted(re_frequencies[\"Enzyme\"].to_list() + re_frequencies[\"Recognition Sequence\"].to_list()))"
   ]
  },
  {
   "cell_type": "code",
   "execution_count": 36,
   "metadata": {},
   "outputs": [
    {
     "data": {
      "text/plain": [
       "True"
      ]
     },
     "execution_count": 36,
     "metadata": {},
     "output_type": "execute_result"
    }
   ],
   "source": [
    "# HIDDEN\n",
    "1160 < np.mean(re_frequencies[\"Actual Count E. coli\"]) < 1168"
   ]
  },
  {
   "cell_type": "code",
   "execution_count": 37,
   "metadata": {},
   "outputs": [
    {
     "data": {
      "text/plain": [
       "True"
      ]
     },
     "execution_count": 37,
     "metadata": {},
     "output_type": "execute_result"
    }
   ],
   "source": [
    "# HIDDEN\n",
    "1570 < np.mean(re_frequencies[\"Actual Count Yeast\"]) < 1575"
   ]
  },
  {
   "cell_type": "code",
   "execution_count": 38,
   "metadata": {},
   "outputs": [
    {
     "data": {
      "text/plain": [
       "True"
      ]
     },
     "execution_count": 38,
     "metadata": {},
     "output_type": "execute_result"
    }
   ],
   "source": [
    "# HIDDEN\n",
    "1400 < np.mean(re_frequencies[\"Actual Count Random\"]) < 1408"
   ]
  },
  {
   "cell_type": "raw",
   "metadata": {},
   "source": [
    "# END TESTS"
   ]
  },
  {
   "cell_type": "raw",
   "metadata": {},
   "source": [
    "# END QUESTION"
   ]
  },
  {
   "cell_type": "raw",
   "metadata": {},
   "source": [
    "# BEGIN QUESTION\n",
    "name: q4d"
   ]
  },
  {
   "cell_type": "markdown",
   "metadata": {},
   "source": [
    "<!-- BEGIN QUESTION -->\n",
    "<font color = #d14d0f>**QUESTION 4d**:</font> Compare the expected count and actual counts for each DNA sequence."
   ]
  },
  {
   "cell_type": "markdown",
   "metadata": {},
   "source": [
    "**ANSWER:** Double-click to write your response here."
   ]
  },
  {
   "cell_type": "raw",
   "metadata": {},
   "source": [
    "# BEGIN SOLUTION"
   ]
  },
  {
   "cell_type": "markdown",
   "metadata": {},
   "source": [
    "<mark> SOLUTION: </mark> The expected count is only close to the random count DNA, but is often very far off from the human, yeast and E.coli real DNA. This indicates that the real DNA sequences are not random sequences with equal A, T, C, G proportions, and instead may have meaningful patterns in the sequence."
   ]
  },
  {
   "cell_type": "raw",
   "metadata": {},
   "source": [
    "# END SOLUTION"
   ]
  },
  {
   "cell_type": "markdown",
   "metadata": {},
   "source": [
    "<!-- END QUESTION -->"
   ]
  },
  {
   "cell_type": "raw",
   "metadata": {},
   "source": [
    "# END QUESTION"
   ]
  },
  {
   "cell_type": "markdown",
   "metadata": {},
   "source": [
    "### 1.3 Accounting for GC Bias"
   ]
  },
  {
   "cell_type": "markdown",
   "metadata": {},
   "source": [
    "One explanation for the observed results above is that we assumed the DNA nucleotide frequencies were equal in our expectation value calculation. This may not be the case for human and yeast DNA. Therefore, it may be useful to account for bias in nucleotide frequency in our theoretical count function."
   ]
  },
  {
   "cell_type": "raw",
   "metadata": {},
   "source": [
    "# BEGIN QUESTION\n",
    "name: q5a\n",
    "points: 5"
   ]
  },
  {
   "cell_type": "markdown",
   "metadata": {},
   "source": [
    "<font color = #d14d0f>**QUESTION 5a**:</font> Build the function `theoretical_count_with_GC` which returns the expectation value for the number of occurances of a binding recognition seq, `target_seq`, in a DNA sequence with `DNA_length` number of nucleotides, incorporating DNA nucleotide frequency information from the `DNA_GC_proportion` of the input DNA. Ensure that it outputs a whole number. \n",
    "> Hint: <br>\n",
    "> - What is the probability of observing the sequence \"ATCG\" if the probability of each nucleotide is different?\n",
    "> - If you aren't sure how to determine the nucleotide frequencies/probabilities from only the GC content, consider Chargaff's Rules."
   ]
  },
  {
   "cell_type": "raw",
   "metadata": {},
   "source": [
    "# BEGIN SOLUTION"
   ]
  },
  {
   "cell_type": "code",
   "execution_count": 39,
   "metadata": {},
   "outputs": [
    {
     "data": {
      "text/plain": [
       "' # BEGIN PROMPT\\ndef theoretical_count_with_GC(DNA_length, target_seq, DNA_GC_proportion):\\n    at_count_of_target, cg_count_of_target = ..., ...\\n    DNA_AT_proportion = ...\\n    match_probability = ...\\n    expected_num_matches = ... * ...\\n    return ...\\n'"
      ]
     },
     "execution_count": 39,
     "metadata": {},
     "output_type": "execute_result"
    }
   ],
   "source": [
    "# BEGIN SOLUTION NO PROMPT\n",
    "def theoretical_count_with_GC(DNA_length, target_seq, DNA_GC_proportion):\n",
    "    at_count_of_target, gc_count_of_target = target_seq.count(\"A\") + target_seq.count(\"T\"), target_seq.count(\"C\") + target_seq.count(\"G\")\n",
    "    DNA_AT_proportion = 1 - DNA_GC_proportion\n",
    "    match_probability = (DNA_AT_proportion/2) ** at_count_of_target * (DNA_GC_proportion/2) ** gc_count_of_target\n",
    "    expected_num_matches = match_probability * (DNA_length - len(target_seq) + 1)\n",
    "    return np.round(expected_num_matches, 0)\n",
    "# END SOLUTION\n",
    "\n",
    "\"\"\" # BEGIN PROMPT\n",
    "def theoretical_count_with_GC(DNA_length, target_seq, DNA_GC_proportion):\n",
    "    at_count_of_target, cg_count_of_target = ..., ...\n",
    "    DNA_AT_proportion = ...\n",
    "    match_probability = ...\n",
    "    expected_num_matches = ... * ...\n",
    "    return ...\n",
    "\"\"\" # END PROMPT"
   ]
  },
  {
   "cell_type": "raw",
   "metadata": {},
   "source": [
    "# END SOLUTION"
   ]
  },
  {
   "cell_type": "raw",
   "metadata": {},
   "source": [
    "# BEGIN TESTS"
   ]
  },
  {
   "cell_type": "code",
   "execution_count": 40,
   "metadata": {},
   "outputs": [
    {
     "data": {
      "text/plain": [
       "1.0"
      ]
     },
     "execution_count": 40,
     "metadata": {},
     "output_type": "execute_result"
    }
   ],
   "source": [
    "theoretical_count_with_GC(4, \"A\", 0.5)"
   ]
  },
  {
   "cell_type": "code",
   "execution_count": 41,
   "metadata": {},
   "outputs": [
    {
     "data": {
      "text/plain": [
       "2.0"
      ]
     },
     "execution_count": 41,
     "metadata": {},
     "output_type": "execute_result"
    }
   ],
   "source": [
    "theoretical_count_with_GC(10, \"A\", 0.6)"
   ]
  },
  {
   "cell_type": "code",
   "execution_count": 42,
   "metadata": {},
   "outputs": [
    {
     "data": {
      "text/plain": [
       "10.0"
      ]
     },
     "execution_count": 42,
     "metadata": {},
     "output_type": "execute_result"
    }
   ],
   "source": [
    "# HIDDEN\n",
    "theoretical_count_with_GC(1000, \"AT\", 0.8)"
   ]
  },
  {
   "cell_type": "code",
   "execution_count": 43,
   "metadata": {},
   "outputs": [
    {
     "data": {
      "text/plain": [
       "True"
      ]
     },
     "execution_count": 43,
     "metadata": {},
     "output_type": "execute_result"
    }
   ],
   "source": [
    "# HIDDEN\n",
    "all([theoretical_count_with_GC(16000, \"AAA\", 0.5) == 250, theoretical_count_with_GC(5000, \"AATT\", 0.2) == 128, theoretical_count_with_GC(50000, \"GGTTA\", 0.8) == 8])"
   ]
  },
  {
   "cell_type": "raw",
   "metadata": {},
   "source": [
    "# END TESTS"
   ]
  },
  {
   "cell_type": "raw",
   "metadata": {},
   "source": [
    "# END QUESTION"
   ]
  },
  {
   "cell_type": "raw",
   "metadata": {},
   "source": [
    "# BEGIN QUESTION\n",
    "name: q5b\n",
    "points: 3"
   ]
  },
  {
   "cell_type": "markdown",
   "metadata": {},
   "source": [
    "<font color = #d14d0f>**QUESTION 5b**:</font> Create a new DataFrame, `re_frequencies_GC` with the following columns, in order: \n",
    "- `\"Enzyme\"`: str, the name of the restriction enzyme.\n",
    "- `\"Recognition Sequence\"`: str, the binding recognition sequence for the enzyme.\n",
    "- `\"Expected Count Human\"`: int, the expected value of observing the recognition sequence in `human_DNA`.\n",
    "- `\"Actual Count Human\"`: int, the actual number of recognitition sequence matches in `human_dna`.\n",
    "- `\"Expected Count Yeast\"`: int, the expected value of observing the recognition sequence in `yeast_DNA`.\n",
    "- `\"Actual Count Yeast\"`: int, the actual number of recognitition sequence matches in `yeast_dna`.\n",
    "- `\"Expected Count E. coli\"`: int, the expected value of observing the recognition sequence in `e_coli_DNA`.\n",
    "- `\"Actual Count E. coli\"`: int, the actual number of recognitition sequence matches in `e_coli_DNA`."
   ]
  },
  {
   "cell_type": "raw",
   "metadata": {},
   "source": [
    "# BEGIN SOLUTION"
   ]
  },
  {
   "cell_type": "code",
   "execution_count": 44,
   "metadata": {},
   "outputs": [
    {
     "data": {
      "text/html": [
       "<div>\n",
       "<style scoped>\n",
       "    .dataframe tbody tr th:only-of-type {\n",
       "        vertical-align: middle;\n",
       "    }\n",
       "\n",
       "    .dataframe tbody tr th {\n",
       "        vertical-align: top;\n",
       "    }\n",
       "\n",
       "    .dataframe thead th {\n",
       "        text-align: right;\n",
       "    }\n",
       "</style>\n",
       "<table border=\"1\" class=\"dataframe\">\n",
       "  <thead>\n",
       "    <tr style=\"text-align: right;\">\n",
       "      <th></th>\n",
       "      <th>Enzyme</th>\n",
       "      <th>Recognition Sequence</th>\n",
       "      <th>Expected Count Human</th>\n",
       "      <th>Actual Count Human</th>\n",
       "      <th>Expected Count Yeast</th>\n",
       "      <th>Actual Count Yeast</th>\n",
       "      <th>Expected Count E. coli</th>\n",
       "      <th>Actual Count E. coli</th>\n",
       "    </tr>\n",
       "  </thead>\n",
       "  <tbody>\n",
       "    <tr>\n",
       "      <th>0</th>\n",
       "      <td>MluCI</td>\n",
       "      <td>AATT</td>\n",
       "      <td>5803.0</td>\n",
       "      <td>5645</td>\n",
       "      <td>9235.0</td>\n",
       "      <td>9375</td>\n",
       "      <td>3516.0</td>\n",
       "      <td>4147</td>\n",
       "    </tr>\n",
       "    <tr>\n",
       "      <th>1</th>\n",
       "      <td>HaeIII</td>\n",
       "      <td>GGCC</td>\n",
       "      <td>2518.0</td>\n",
       "      <td>4647</td>\n",
       "      <td>1303.0</td>\n",
       "      <td>1535</td>\n",
       "      <td>4329.0</td>\n",
       "      <td>2804</td>\n",
       "    </tr>\n",
       "    <tr>\n",
       "      <th>2</th>\n",
       "      <td>HpyCH4IV</td>\n",
       "      <td>ACGT</td>\n",
       "      <td>3822.0</td>\n",
       "      <td>972</td>\n",
       "      <td>3469.0</td>\n",
       "      <td>2458</td>\n",
       "      <td>3901.0</td>\n",
       "      <td>3065</td>\n",
       "    </tr>\n",
       "    <tr>\n",
       "      <th>3</th>\n",
       "      <td>MfeI</td>\n",
       "      <td>CAATTG</td>\n",
       "      <td>291.0</td>\n",
       "      <td>182</td>\n",
       "      <td>333.0</td>\n",
       "      <td>520</td>\n",
       "      <td>231.0</td>\n",
       "      <td>193</td>\n",
       "    </tr>\n",
       "    <tr>\n",
       "      <th>4</th>\n",
       "      <td>EagI-HF®</td>\n",
       "      <td>CGGCCG</td>\n",
       "      <td>126.0</td>\n",
       "      <td>78</td>\n",
       "      <td>47.0</td>\n",
       "      <td>34</td>\n",
       "      <td>285.0</td>\n",
       "      <td>55</td>\n",
       "    </tr>\n",
       "    <tr>\n",
       "      <th>5</th>\n",
       "      <td>ZraI</td>\n",
       "      <td>GACGTC</td>\n",
       "      <td>192.0</td>\n",
       "      <td>61</td>\n",
       "      <td>125.0</td>\n",
       "      <td>101</td>\n",
       "      <td>257.0</td>\n",
       "      <td>136</td>\n",
       "    </tr>\n",
       "    <tr>\n",
       "      <th>6</th>\n",
       "      <td>BssSI-v2</td>\n",
       "      <td>CACGAG</td>\n",
       "      <td>192.0</td>\n",
       "      <td>71</td>\n",
       "      <td>125.0</td>\n",
       "      <td>89</td>\n",
       "      <td>257.0</td>\n",
       "      <td>57</td>\n",
       "    </tr>\n",
       "    <tr>\n",
       "      <th>7</th>\n",
       "      <td>PacI</td>\n",
       "      <td>TTAATTAA</td>\n",
       "      <td>34.0</td>\n",
       "      <td>21</td>\n",
       "      <td>85.0</td>\n",
       "      <td>35</td>\n",
       "      <td>12.0</td>\n",
       "      <td>26</td>\n",
       "    </tr>\n",
       "    <tr>\n",
       "      <th>8</th>\n",
       "      <td>NotI</td>\n",
       "      <td>GCGGCCGC</td>\n",
       "      <td>6.0</td>\n",
       "      <td>6</td>\n",
       "      <td>2.0</td>\n",
       "      <td>4</td>\n",
       "      <td>19.0</td>\n",
       "      <td>4</td>\n",
       "    </tr>\n",
       "  </tbody>\n",
       "</table>\n",
       "</div>"
      ],
      "text/plain": [
       "     Enzyme Recognition Sequence  Expected Count Human  Actual Count Human  \\\n",
       "0     MluCI                 AATT                5803.0                5645   \n",
       "1    HaeIII                 GGCC                2518.0                4647   \n",
       "2  HpyCH4IV                 ACGT                3822.0                 972   \n",
       "3      MfeI               CAATTG                 291.0                 182   \n",
       "4  EagI-HF®               CGGCCG                 126.0                  78   \n",
       "5      ZraI               GACGTC                 192.0                  61   \n",
       "6  BssSI-v2               CACGAG                 192.0                  71   \n",
       "7      PacI             TTAATTAA                  34.0                  21   \n",
       "8      NotI             GCGGCCGC                   6.0                   6   \n",
       "\n",
       "   Expected Count Yeast  Actual Count Yeast  Expected Count E. coli  \\\n",
       "0                9235.0                9375                  3516.0   \n",
       "1                1303.0                1535                  4329.0   \n",
       "2                3469.0                2458                  3901.0   \n",
       "3                 333.0                 520                   231.0   \n",
       "4                  47.0                  34                   285.0   \n",
       "5                 125.0                 101                   257.0   \n",
       "6                 125.0                  89                   257.0   \n",
       "7                  85.0                  35                    12.0   \n",
       "8                   2.0                   4                    19.0   \n",
       "\n",
       "   Actual Count E. coli  \n",
       "0                  4147  \n",
       "1                  2804  \n",
       "2                  3065  \n",
       "3                   193  \n",
       "4                    55  \n",
       "5                   136  \n",
       "6                    57  \n",
       "7                    26  \n",
       "8                     4  "
      ]
     },
     "execution_count": 44,
     "metadata": {},
     "output_type": "execute_result"
    }
   ],
   "source": [
    "# BEGIN SOLUTION NO PROMPT\n",
    "expected_counts_GC_human = []\n",
    "expected_counts_GC_yeast = []\n",
    "expected_counts_GC_e_coli = []\n",
    "\n",
    "GC_content_human = gc_df[\"GC content\"][\"Human\"]\n",
    "GC_content_yeast = gc_df[\"GC content\"][\"Yeast\"]\n",
    "GC_content_e_coli = gc_df[\"GC content\"][\"E. coli\"]\n",
    "\n",
    "for target_seq in restriction_enzymes_df[\"Recognition Sequence\"]:\n",
    "    expected_counts_GC_human.append(theoretical_count_with_GC(1000000, target_seq, GC_content_human))\n",
    "    expected_counts_GC_yeast.append(theoretical_count_with_GC(1000000, target_seq, GC_content_yeast))\n",
    "    expected_counts_GC_e_coli.append(theoretical_count_with_GC(1000000, target_seq, GC_content_e_coli))\n",
    "\n",
    "re_frequencies_GC = restriction_enzymes_df.copy()\n",
    "re_frequencies_GC[\"Expected Count Human\"] = expected_counts_GC_human\n",
    "re_frequencies_GC[\"Actual Count Human\"] = actual_counts_human\n",
    "re_frequencies_GC[\"Expected Count Yeast\"] = expected_counts_GC_yeast\n",
    "re_frequencies_GC[\"Actual Count Yeast\"] = actual_counts_yeast\n",
    "re_frequencies_GC[\"Expected Count E. coli\"] = expected_counts_GC_e_coli\n",
    "re_frequencies_GC[\"Actual Count E. coli\"] = actual_counts_e_coli\n",
    "# END SOLUTION\n",
    "\n",
    "\"\"\" # BEGIN PROMPT\n",
    "expected_counts_GC_human = ...\n",
    "expected_counts_GC_yeast = ...\n",
    "expected_counts_GC_e_coli = ...\n",
    "\n",
    "for target_seq in restriction_enzymes_df[\"Recognition Sequence\"]:\n",
    "    expected_counts_GC_human.append(...)\n",
    "    expected_counts_GC_yeast.append(...)\n",
    "    expected_counts_GC_e_coli.append(...)\n",
    "\n",
    "re_frequencies_GC = restriction_enzymes_df.copy()\n",
    "re_frequencies_GC[\"Expected Count Human\"] = ...\n",
    "re_frequencies_GC[\"Actual Count Human\"] = ...\n",
    "re_frequencies_GC[\"Expected Count Yeast\"] = ...\n",
    "re_frequencies_GC[\"Actual Count Yeast\"] = ...\n",
    "re_frequencies_GC[\"Expected Count E. coli\"] = ...\n",
    "re_frequencies_GC[\"Actual Count E. coli\"] = ...\n",
    "\"\"\" # END PROMPT\n",
    "\n",
    "re_frequencies_GC"
   ]
  },
  {
   "cell_type": "raw",
   "metadata": {},
   "source": [
    "# END SOLUTION"
   ]
  },
  {
   "cell_type": "raw",
   "metadata": {},
   "source": [
    "# BEGIN TESTS"
   ]
  },
  {
   "cell_type": "code",
   "execution_count": 45,
   "metadata": {},
   "outputs": [
    {
     "data": {
      "text/plain": [
       "(9, 8)"
      ]
     },
     "execution_count": 45,
     "metadata": {},
     "output_type": "execute_result"
    }
   ],
   "source": [
    "re_frequencies_GC.shape"
   ]
  },
  {
   "cell_type": "code",
   "execution_count": 46,
   "metadata": {},
   "outputs": [
    {
     "data": {
      "text/plain": [
       "'Actual Count E. coli Actual Count Human Actual Count Yeast Enzyme Expected Count E. coli Expected Count Human Expected Count Yeast Recognition Sequence'"
      ]
     },
     "execution_count": 46,
     "metadata": {},
     "output_type": "execute_result"
    }
   ],
   "source": [
    "\" \".join(sorted(re_frequencies_GC.columns.to_list()))"
   ]
  },
  {
   "cell_type": "code",
   "execution_count": 47,
   "metadata": {},
   "outputs": [
    {
     "data": {
      "text/plain": [
       "True"
      ]
     },
     "execution_count": 47,
     "metadata": {},
     "output_type": "execute_result"
    }
   ],
   "source": [
    "# HIDDEN\n",
    "1420 < np.mean(re_frequencies_GC[\"Expected Count E. coli\"]) < 1425"
   ]
  },
  {
   "cell_type": "code",
   "execution_count": 48,
   "metadata": {},
   "outputs": [
    {
     "data": {
      "text/plain": [
       "True"
      ]
     },
     "execution_count": 48,
     "metadata": {},
     "output_type": "execute_result"
    }
   ],
   "source": [
    "# HIDDEN\n",
    "1440 < np.mean(re_frequencies_GC[\"Expected Count Human\"]) < 1445"
   ]
  },
  {
   "cell_type": "code",
   "execution_count": 49,
   "metadata": {},
   "outputs": [
    {
     "data": {
      "text/plain": [
       "True"
      ]
     },
     "execution_count": 49,
     "metadata": {},
     "output_type": "execute_result"
    }
   ],
   "source": [
    "# HIDDEN\n",
    "1635 < np.mean(re_frequencies_GC[\"Expected Count Yeast\"]) < 1640"
   ]
  },
  {
   "cell_type": "raw",
   "metadata": {},
   "source": [
    "# END TESTS"
   ]
  },
  {
   "cell_type": "raw",
   "metadata": {},
   "source": [
    "# END QUESTION"
   ]
  },
  {
   "cell_type": "raw",
   "metadata": {},
   "source": [
    "# BEGIN QUESTION\n",
    "name: q5d"
   ]
  },
  {
   "cell_type": "markdown",
   "metadata": {},
   "source": [
    "<!-- BEGIN QUESTION -->\n",
    "<font color = #d14d0f>**QUESTION 5d**:</font> Compare the expected count and actual counts for each DNA sequence. In particular, consider the GC content of the recognition sequences and the GC content of the DNA sequences. How do these results compare to the previous DataFrame in Q4c?"
   ]
  },
  {
   "cell_type": "markdown",
   "metadata": {},
   "source": [
    "**ANSWER:** Double-click to write your response here."
   ]
  },
  {
   "cell_type": "raw",
   "metadata": {},
   "source": [
    "# BEGIN SOLUTION"
   ]
  },
  {
   "cell_type": "markdown",
   "metadata": {},
   "source": [
    "<mark> SOLUTION: </mark> \n",
    "- The expected and actual counts are much closer for all three DNA types compared to the previous DataFrame.\n",
    "- There is not an obvious trend between GC content of species and recognition sequences and their expected vs actual counts. This indicates that real DNA has specific patterns that do not follow a random distribution."
   ]
  },
  {
   "cell_type": "raw",
   "metadata": {},
   "source": [
    "# END SOLUTION"
   ]
  },
  {
   "cell_type": "raw",
   "metadata": {},
   "source": [
    "# BEGIN TESTS"
   ]
  },
  {
   "cell_type": "raw",
   "metadata": {},
   "source": [
    "# END TESTS"
   ]
  },
  {
   "cell_type": "markdown",
   "metadata": {},
   "source": [
    "<!-- END QUESTION -->"
   ]
  },
  {
   "cell_type": "raw",
   "metadata": {},
   "source": [
    "# END QUESTION"
   ]
  },
  {
   "cell_type": "markdown",
   "metadata": {},
   "source": [
    "### 1.4 Hypothesis Testing\n",
    "\n",
    "In Question 5, we looked at the expected versus actual number of restriction enzyme recognition enzymes. If we want to statistically determine whether this value is different between real human DNA versus random DNA with the same GC content, we could set up a hypothesis test. In this section, we will explore whether the number of MfeI recognition sites is statistically significant in real human DNA compared to random DNA."
   ]
  },
  {
   "cell_type": "raw",
   "metadata": {},
   "source": [
    "# BEGIN QUESTION\n",
    "name: q6a"
   ]
  },
  {
   "cell_type": "markdown",
   "metadata": {},
   "source": [
    "<!-- BEGIN QUESTION -->\n",
    "<font color = #d14d0f>**QUESTION 6a**:</font> Write a null and alternative hypothesis for our hypothesis test."
   ]
  },
  {
   "cell_type": "markdown",
   "metadata": {},
   "source": [
    "**ANSWER:**\n",
    "- Null hypothesis: Double-click to write your response here.\n",
    "- Alternative hypothesis: Double-click to write your response here."
   ]
  },
  {
   "cell_type": "raw",
   "metadata": {},
   "source": [
    "# BEGIN SOLUTION"
   ]
  },
  {
   "cell_type": "markdown",
   "metadata": {},
   "source": [
    "<mark> SOLUTION: </mark> \n",
    "- Null hypothesis: The observed number of MluCI recognition sites (\"AATT\") in real human DNA is the same as in random DNA with the same GC content. Any variation is due to chance.\n",
    "- Alternative hypothesis: The observed number of MluCI recognition sites (\"AATT\") in real human DNA is differnet than in random DNA with the same GC content. Any variation is not due to chance."
   ]
  },
  {
   "cell_type": "raw",
   "metadata": {},
   "source": [
    "# END SOLUTION"
   ]
  },
  {
   "cell_type": "raw",
   "metadata": {},
   "source": [
    "# BEGIN TESTS"
   ]
  },
  {
   "cell_type": "raw",
   "metadata": {},
   "source": [
    "# END TESTS"
   ]
  },
  {
   "cell_type": "raw",
   "metadata": {},
   "source": [
    "# END QUESTION"
   ]
  },
  {
   "cell_type": "markdown",
   "metadata": {},
   "source": [
    "<!-- END QUESTION -->"
   ]
  },
  {
   "cell_type": "raw",
   "metadata": {},
   "source": [
    "# BEGIN QUESTION\n",
    "name: q6b\n",
    "points: 2"
   ]
  },
  {
   "cell_type": "markdown",
   "metadata": {},
   "source": [
    "<font color = #d14d0f>**QUESTION 6b**:</font> Now, we want to simulate results under the null hypothesis. Fill in the code below to generate the array `predicted_counts`, which has the counts of MluCI recognition sites for 250 random DNA sequences with the same GC content and length as `human_DNA`. Your code may take around a minute to run.\n",
    "> Hint: Use your function from Q3c to generate a random DNA sequence with the appropriate GC content."
   ]
  },
  {
   "cell_type": "raw",
   "metadata": {},
   "source": [
    "# BEGIN SOLUTION"
   ]
  },
  {
   "cell_type": "code",
   "execution_count": 50,
   "metadata": {},
   "outputs": [
    {
     "data": {
      "text/plain": [
       "' # BEGIN PROMPT\\nMluCI_recognition_sequence = \"...\"\\n\\npredicted_counts = []\\nfor i in range(...):\\n    random_seq = ...(..., i) #DO NOT CHANGE THE SEED, i.\\n    count_result = ...(..., ...)\\n    predicted_counts.append(...)\\n'"
      ]
     },
     "execution_count": 50,
     "metadata": {},
     "output_type": "execute_result"
    }
   ],
   "source": [
    "# BEGIN SOLUTION NO PROMPT\n",
    "MluCI_recognition_sequence = \"AATT\"\n",
    "\n",
    "predicted_counts = []\n",
    "for i in range(250):\n",
    "    random_seq = generate_random_DNA(GC_content_human, i)\n",
    "    count_result = count_seq(random_seq, MluCI_recognition_sequence)\n",
    "    predicted_counts.append(count_result)\n",
    "# END SOLUTION\n",
    "\n",
    "\"\"\" # BEGIN PROMPT\n",
    "MluCI_recognition_sequence = \"...\"\n",
    "\n",
    "predicted_counts = []\n",
    "for i in range(...):\n",
    "    random_seq = ...(..., i) #DO NOT CHANGE THE SEED, i.\n",
    "    count_result = ...(..., ...)\n",
    "    predicted_counts.append(...)\n",
    "\"\"\" # END PROMPT"
   ]
  },
  {
   "cell_type": "raw",
   "metadata": {},
   "source": [
    "# END SOLUTION"
   ]
  },
  {
   "cell_type": "raw",
   "metadata": {},
   "source": [
    "# BEGIN TESTS"
   ]
  },
  {
   "cell_type": "code",
   "execution_count": 51,
   "metadata": {},
   "outputs": [
    {
     "data": {
      "text/plain": [
       "250"
      ]
     },
     "execution_count": 51,
     "metadata": {},
     "output_type": "execute_result"
    }
   ],
   "source": [
    "len(predicted_counts)"
   ]
  },
  {
   "cell_type": "code",
   "execution_count": 52,
   "metadata": {},
   "outputs": [
    {
     "data": {
      "text/plain": [
       "5928"
      ]
     },
     "execution_count": 52,
     "metadata": {},
     "output_type": "execute_result"
    }
   ],
   "source": [
    "predicted_counts[52]"
   ]
  },
  {
   "cell_type": "code",
   "execution_count": 53,
   "metadata": {},
   "outputs": [
    {
     "data": {
      "text/plain": [
       "[5814, 5864, 5845, 5907, 5811, 5888, 5833, 5796, 5909, 5747]"
      ]
     },
     "execution_count": 53,
     "metadata": {},
     "output_type": "execute_result"
    }
   ],
   "source": [
    "# HIDDEN\n",
    "predicted_counts[10:20]"
   ]
  },
  {
   "cell_type": "raw",
   "metadata": {},
   "source": [
    "# END TESTS"
   ]
  },
  {
   "cell_type": "raw",
   "metadata": {},
   "source": [
    "# END QUESTION"
   ]
  },
  {
   "cell_type": "raw",
   "metadata": {},
   "source": [
    "# BEGIN QUESTION\n",
    "name: q6c\n",
    "points: 1"
   ]
  },
  {
   "cell_type": "markdown",
   "metadata": {},
   "source": [
    "<font color = #d14d0f>**QUESTION 6c**:</font> Assign `observed_count` to the number of MluCI recognition sequences in `human_DNA`."
   ]
  },
  {
   "cell_type": "raw",
   "metadata": {},
   "source": [
    "# BEGIN SOLUTION"
   ]
  },
  {
   "cell_type": "code",
   "execution_count": 54,
   "metadata": {},
   "outputs": [
    {
     "data": {
      "text/plain": [
       "' # BEGIN PROMPT\\nobserved_count = ...\\n'"
      ]
     },
     "execution_count": 54,
     "metadata": {},
     "output_type": "execute_result"
    }
   ],
   "source": [
    "# BEGIN SOLUTION NO PROMPT\n",
    "observed_count = count_seq(human_dna, MluCI_recognition_sequence)\n",
    "\n",
    "# END SOLUTION\n",
    "\n",
    "\"\"\" # BEGIN PROMPT\n",
    "observed_count = ...\n",
    "\"\"\" # END PROMPT"
   ]
  },
  {
   "cell_type": "markdown",
   "metadata": {},
   "source": [
    "Now, just run the cell below to see how the observed result (the number of MluCI recognition sequences in real DNA) compares to the results simulated under the null hypothesis."
   ]
  },
  {
   "cell_type": "code",
   "execution_count": 55,
   "metadata": {},
   "outputs": [
    {
     "data": {
      "text/plain": [
       "Text(0.5, 1.0, 'Number of MluCI Binding Sites in Human DNA vs 250 random sequences of same GC content')"
      ]
     },
     "execution_count": 55,
     "metadata": {},
     "output_type": "execute_result"
    },
    {
     "data": {
      "image/png": "[encoded data removed]",
      "text/plain": [
       "<Figure size 640x480 with 1 Axes>"
      ]
     },
     "metadata": {},
     "output_type": "display_data"
    }
   ],
   "source": [
    "#Just run this cell\n",
    "plt.hist(predicted_counts, fill=True)\n",
    "plt.axvline(x = observed_count, color = \"red\")\n",
    "plt.xlabel(\"Number of MluCI Binding Sites\")\n",
    "plt.title(\"Number of MluCI Binding Sites in Human DNA vs 250 random sequences of same GC content\")"
   ]
  },
  {
   "cell_type": "raw",
   "metadata": {},
   "source": [
    "# END SOLUTION"
   ]
  },
  {
   "cell_type": "raw",
   "metadata": {},
   "source": [
    "# BEGIN TESTS"
   ]
  },
  {
   "cell_type": "code",
   "execution_count": 56,
   "metadata": {},
   "outputs": [
    {
     "data": {
      "text/plain": [
       "True"
      ]
     },
     "execution_count": 56,
     "metadata": {},
     "output_type": "execute_result"
    }
   ],
   "source": [
    "5500 < observed_count < 6000"
   ]
  },
  {
   "cell_type": "code",
   "execution_count": 57,
   "metadata": {},
   "outputs": [
    {
     "data": {
      "text/plain": [
       "5645"
      ]
     },
     "execution_count": 57,
     "metadata": {},
     "output_type": "execute_result"
    }
   ],
   "source": [
    "# HIDDEN\n",
    "observed_count"
   ]
  },
  {
   "cell_type": "raw",
   "metadata": {},
   "source": [
    "# END TESTS"
   ]
  },
  {
   "cell_type": "raw",
   "metadata": {},
   "source": [
    "# END QUESTION"
   ]
  },
  {
   "cell_type": "raw",
   "metadata": {},
   "source": [
    "# BEGIN QUESTION\n",
    "name: q7a\n",
    "points: 2"
   ]
  },
  {
   "cell_type": "markdown",
   "metadata": {},
   "source": [
    "<font color = #d14d0f>**QUESTION 7a**:</font> Calculate the p-value, comparing `observed_count` to `predicted_counts`, and assign it to `p_value`."
   ]
  },
  {
   "cell_type": "raw",
   "metadata": {},
   "source": [
    "# BEGIN SOLUTION"
   ]
  },
  {
   "cell_type": "code",
   "execution_count": 58,
   "metadata": {},
   "outputs": [
    {
     "name": "stdout",
     "output_type": "stream",
     "text": [
      "The p-value for this hypothesis test is 0.012.\n"
     ]
    }
   ],
   "source": [
    "# BEGIN SOLUTION NO PROMPT\n",
    "p_value = sum([1 for i in predicted_counts if i <= observed_count])/len(predicted_counts)\n",
    "# END SOLUTION\n",
    "\n",
    "\"\"\" # BEGIN PROMPT\n",
    "p_value = ...\n",
    "\"\"\" # END PROMPT\n",
    "\n",
    "print(f\"The p-value for this hypothesis test is {p_value}.\")"
   ]
  },
  {
   "cell_type": "raw",
   "metadata": {},
   "source": [
    "# END SOLUTION"
   ]
  },
  {
   "cell_type": "raw",
   "metadata": {},
   "source": [
    "# BEGIN TESTS"
   ]
  },
  {
   "cell_type": "code",
   "execution_count": 59,
   "metadata": {},
   "outputs": [
    {
     "data": {
      "text/plain": [
       "True"
      ]
     },
     "execution_count": 59,
     "metadata": {},
     "output_type": "execute_result"
    }
   ],
   "source": [
    "0 < p_value < 1"
   ]
  },
  {
   "cell_type": "code",
   "execution_count": 60,
   "metadata": {},
   "outputs": [
    {
     "data": {
      "text/plain": [
       "0.012"
      ]
     },
     "execution_count": 60,
     "metadata": {},
     "output_type": "execute_result"
    }
   ],
   "source": [
    "# HIDDEN\n",
    "np.round(p_value, 3)"
   ]
  },
  {
   "cell_type": "raw",
   "metadata": {},
   "source": [
    "# END TESTS"
   ]
  },
  {
   "cell_type": "raw",
   "metadata": {},
   "source": [
    "# END QUESTION"
   ]
  },
  {
   "cell_type": "raw",
   "metadata": {},
   "source": [
    "# BEGIN QUESTION\n",
    "name: q7b"
   ]
  },
  {
   "cell_type": "markdown",
   "metadata": {},
   "source": [
    "<!-- BEGIN QUESTION -->\n",
    "<font color = #d14d0f>**QUESTION 7b**:</font> What can we conclude from our results, given a p-value cutoff of 0.05? What about for a p-value of 0.01?"
   ]
  },
  {
   "cell_type": "markdown",
   "metadata": {},
   "source": [
    "**ANSWER:** DOUBLE-CLICK TO TYPE YOUR RESPONSE HERE."
   ]
  },
  {
   "cell_type": "raw",
   "metadata": {},
   "source": [
    "# BEGIN SOLUTION"
   ]
  },
  {
   "cell_type": "markdown",
   "metadata": {},
   "source": [
    "<mark>SOLUTION:</mark> \n",
    "- For a p-value cutoff of 0.05, we can reject the null hypothesis and accept the alternative hypothesis. This means that our observed number of MluCI binding sites in real human DNA is statistically different from random DNA with the same GC content, suggesting that real DNA is organized.\n",
    "- For a p-value cutoff of 0.01, we would fail to reject the null hypothesis. This means that our observed number of MluCI binding sites in real human DNA is not statistically different from random DNA with the same GC content."
   ]
  },
  {
   "cell_type": "raw",
   "metadata": {},
   "source": [
    "# END SOLUTION"
   ]
  },
  {
   "cell_type": "raw",
   "metadata": {},
   "source": [
    "# BEGIN TESTS"
   ]
  },
  {
   "cell_type": "raw",
   "metadata": {},
   "source": [
    "# END TESTS"
   ]
  },
  {
   "cell_type": "markdown",
   "metadata": {},
   "source": [
    "<!-- END QUESTION -->"
   ]
  },
  {
   "cell_type": "raw",
   "metadata": {},
   "source": [
    "# END QUESTION"
   ]
  },
  {
   "cell_type": "markdown",
   "metadata": {},
   "source": [
    "### 1.4 Poisson Statistics\n",
    "\n",
    "**The Poisson Probability Distribution** <br>\n",
    "\n",
    "The Poisson probability distribution is a mathematical concept used to model the probability of a given number of **discrete events** happening in a fixed interval of time or space, under certain conditions. It is particularly useful for **rare events** that occur with a known constant mean rate and independently of the time since the last event. For example, the Poisson distribution can be used to model the number of emails a person receives in an hour or the number of stars appearing in a certain area of the sky. The key parameter of this distribution is λ (lambda), which represents the average number of events in the given interval. The probability of observing exactly k events (where k is a non-negative integer) is calculated using the formula P(X = k) = (λ^k * e^(-λ)) / k!. The mean and variance of this distribution are both equal to λ. \n",
    "\n",
    "A common point of confusion arises when students try to decide between using the Poisson distribution and the Gaussian (or normal) distribution. While both distributions can be used in certain contexts, they are fundamentally different. The Gaussian distribution is typically used for continuous data and is most appropriate when dealing with large sample sizes or events that are not rare. In contrast, the Poisson distribution is better suited for rare events with smaller sample sizes. However, it's important to note that as the sample size increases (i.e., in the limit of large N), the Poisson distribution can converge to a Gaussian distribution, which is a key point in understanding the relationship between these two statistical models.\n",
    "\n",
    "--- \n",
    "\n",
    "In this section, we will model the probability of observing a given number of PacI recognition sites (\"TTAATTAA\") in a random 100,000 nucleotides-long DNA sequence using the Poisson distribution, and then using our model to make probabilistic calculations. Therefore, in our scenario, P(X=2) symbolizes the probability of observing 2 MluCI recognition sites in a DNA sequence of length 100,000 with the same GC content as `human_DNA`. "
   ]
  },
  {
   "cell_type": "raw",
   "metadata": {},
   "source": [
    "# BEGIN QUESTION\n",
    "name: q8a\n",
    "points: 2"
   ]
  },
  {
   "cell_type": "markdown",
   "metadata": {},
   "source": [
    "<font color = #d14d0f>**QUESTION 8a**:</font> Assign `lambda_constant` to the value of λ for a Poisson probability distribution that models the probability of observing a given number of MluCI recognition sites in a random 100,000 nucleotides-long DNA sequence (with the same GC content as a human).\n",
    "> Hint: you may want to use a function that you previously built."
   ]
  },
  {
   "cell_type": "raw",
   "metadata": {},
   "source": [
    "# BEGIN SOLUTION"
   ]
  },
  {
   "cell_type": "code",
   "execution_count": 61,
   "metadata": {},
   "outputs": [
    {
     "name": "stdout",
     "output_type": "stream",
     "text": [
      "The lambda for our Poission distribution is 3.0.\n"
     ]
    }
   ],
   "source": [
    "# BEGIN SOLUTION NO PROMPT\n",
    "lambda_constant = theoretical_count_with_GC(100000, \"TTAATTAA\", GC_content_human)\n",
    "# END SOLUTION\n",
    "\n",
    "\"\"\" # BEGIN PROMPT\n",
    "lambda_constant = ...\n",
    "\"\"\" # END PROMPT\n",
    "\n",
    "print(f\"The lambda for our Poission distribution is {lambda_constant}.\")"
   ]
  },
  {
   "cell_type": "raw",
   "metadata": {},
   "source": [
    "# END SOLUTION"
   ]
  },
  {
   "cell_type": "raw",
   "metadata": {},
   "source": [
    "# BEGIN TESTS"
   ]
  },
  {
   "cell_type": "code",
   "execution_count": 62,
   "metadata": {},
   "outputs": [
    {
     "data": {
      "text/plain": [
       "True"
      ]
     },
     "execution_count": 62,
     "metadata": {},
     "output_type": "execute_result"
    }
   ],
   "source": [
    "0 < lambda_constant < 10"
   ]
  },
  {
   "cell_type": "code",
   "execution_count": 63,
   "metadata": {},
   "outputs": [
    {
     "data": {
      "text/plain": [
       "True"
      ]
     },
     "execution_count": 63,
     "metadata": {},
     "output_type": "execute_result"
    }
   ],
   "source": [
    "# HIDDEN\n",
    "lambda_constant == 3"
   ]
  },
  {
   "cell_type": "raw",
   "metadata": {},
   "source": [
    "# END TESTS"
   ]
  },
  {
   "cell_type": "raw",
   "metadata": {},
   "source": [
    "# END QUESTION"
   ]
  },
  {
   "cell_type": "raw",
   "metadata": {},
   "source": [
    "# BEGIN QUESTION\n",
    "name: q8b\n",
    "points: 1"
   ]
  },
  {
   "cell_type": "markdown",
   "metadata": {},
   "source": [
    "<font color = #d14d0f>**QUESTION 8b**:</font> Assign `observed_count_100000` to the number of PacI recognition sites in the first 100,000 nucleotides of `human_DNA`."
   ]
  },
  {
   "cell_type": "raw",
   "metadata": {},
   "source": [
    "# BEGIN SOLUTION"
   ]
  },
  {
   "cell_type": "code",
   "execution_count": 64,
   "metadata": {},
   "outputs": [
    {
     "name": "stdout",
     "output_type": "stream",
     "text": [
      "There are 1 MluCl recognition sites in the first 100,000 nucleotides of our real human DNA.\n"
     ]
    }
   ],
   "source": [
    "# BEGIN SOLUTION NO PROMPT\n",
    "observed_count_100000 = count_seq(human_dna[:100000], \"TTAATTAA\")\n",
    "# END SOLUTION\n",
    "\n",
    "\"\"\" # BEGIN PROMPT\n",
    "observed_count_100000 = ...\n",
    "\"\"\" # END PROMPT\n",
    "\n",
    "print(f\"There are {observed_count_100000} PacI recognition sites in the first 100,000 nucleotides of our real human DNA.\")"
   ]
  },
  {
   "cell_type": "raw",
   "metadata": {},
   "source": [
    "# END SOLUTION"
   ]
  },
  {
   "cell_type": "raw",
   "metadata": {},
   "source": [
    "# BEGIN TESTS"
   ]
  },
  {
   "cell_type": "code",
   "execution_count": 65,
   "metadata": {},
   "outputs": [
    {
     "data": {
      "text/plain": [
       "True"
      ]
     },
     "execution_count": 65,
     "metadata": {},
     "output_type": "execute_result"
    }
   ],
   "source": [
    "0 < observed_count_100000 < 10"
   ]
  },
  {
   "cell_type": "code",
   "execution_count": 66,
   "metadata": {},
   "outputs": [
    {
     "data": {
      "text/plain": [
       "True"
      ]
     },
     "execution_count": 66,
     "metadata": {},
     "output_type": "execute_result"
    }
   ],
   "source": [
    "# HIDDEN\n",
    "observed_count_100000 == 1"
   ]
  },
  {
   "cell_type": "raw",
   "metadata": {},
   "source": [
    "# END TESTS"
   ]
  },
  {
   "cell_type": "raw",
   "metadata": {},
   "source": [
    "# END QUESTION"
   ]
  },
  {
   "cell_type": "raw",
   "metadata": {},
   "source": [
    "# BEGIN QUESTION\n",
    "name: q8c\n",
    "points: 2"
   ]
  },
  {
   "cell_type": "markdown",
   "metadata": {},
   "source": [
    "<font color = #d14d0f>**QUESTION 8c**:</font> Use the formula for P(X=k) to calculate the probability of observing exactly `observed_count_100000` number of PacI recognition sites in a random DNA (with the same GC content as human). In other words, calculate P(X = `observed_count_100000`). Assign your results to `p_x_observedcount100000`.\n",
    "> Hint: `math.e` and `math.factorial(int)` may be useful."
   ]
  },
  {
   "cell_type": "raw",
   "metadata": {},
   "source": [
    "# BEGIN SOLUTION"
   ]
  },
  {
   "cell_type": "code",
   "execution_count": 67,
   "metadata": {},
   "outputs": [
    {
     "name": "stdout",
     "output_type": "stream",
     "text": [
      "The probability of observed 1 number of PacI binding sites in random DNA of length 100,000 with human GC content is 0.14936120510359185.\n"
     ]
    }
   ],
   "source": [
    "# BEGIN SOLUTION NO PROMPT\n",
    "p_x_observedcount100000 = (lambda_constant ** observed_count_100000 * math.e ** (-lambda_constant))/math.factorial(observed_count_100000)\n",
    "# END SOLUTION\n",
    "\n",
    "\"\"\" # BEGIN PROMPT\n",
    "p_x_observedcount100000 = ...\n",
    "\"\"\" # END PROMPT\n",
    "\n",
    "print(f\"The probability of observed {observed_count_100000} number of PacI binding sites in random DNA of length 100,000 with human GC content is {p_x_observedcount100000}.\")"
   ]
  },
  {
   "cell_type": "raw",
   "metadata": {},
   "source": [
    "# END SOLUTION"
   ]
  },
  {
   "cell_type": "raw",
   "metadata": {},
   "source": [
    "# BEGIN TESTS"
   ]
  },
  {
   "cell_type": "code",
   "execution_count": 68,
   "metadata": {},
   "outputs": [
    {
     "data": {
      "text/plain": [
       "True"
      ]
     },
     "execution_count": 68,
     "metadata": {},
     "output_type": "execute_result"
    }
   ],
   "source": [
    "0 < p_x_observedcount100000 < 1"
   ]
  },
  {
   "cell_type": "code",
   "execution_count": 69,
   "metadata": {},
   "outputs": [
    {
     "data": {
      "text/plain": [
       "True"
      ]
     },
     "execution_count": 69,
     "metadata": {},
     "output_type": "execute_result"
    }
   ],
   "source": [
    "# HIDDEN\n",
    "np.round(p_x_observedcount100000, 3) == np.round((lambda_constant ** observed_count_100000 * math.e ** (-lambda_constant))/math.factorial(observed_count_100000), 3)"
   ]
  },
  {
   "cell_type": "raw",
   "metadata": {},
   "source": [
    "# END TESTS"
   ]
  },
  {
   "cell_type": "raw",
   "metadata": {},
   "source": [
    "# END QUESTION"
   ]
  },
  {
   "cell_type": "raw",
   "metadata": {},
   "source": [
    "# BEGIN QUESTION\n",
    "name: q9a\n",
    "points: 3"
   ]
  },
  {
   "cell_type": "markdown",
   "metadata": {},
   "source": [
    "<font color = #d14d0f>**QUESTION 9a**:</font> Fill in the code below to create a list `pmf` (Probability Mass Function), which contains the probability of observing `k` number of PacI recongition sites in random DNA (with the same GC content as human), for up until `k` = 30. In other words, `pmf` should be a list containing P(X=0), P(X=1), P(X=2), and so on."
   ]
  },
  {
   "cell_type": "raw",
   "metadata": {},
   "source": [
    "# BEGIN SOLUTION"
   ]
  },
  {
   "cell_type": "code",
   "execution_count": 70,
   "metadata": {},
   "outputs": [
    {
     "data": {
      "text/plain": [
       "' # BEGIN PROMPT\\nk_values = ...\\npmf = []\\nfor k in k_values:\\n    p_x_k = ...\\n    pmf.append(...)\\n'"
      ]
     },
     "execution_count": 70,
     "metadata": {},
     "output_type": "execute_result"
    }
   ],
   "source": [
    "# BEGIN SOLUTION NO PROMPT\n",
    "k_values = np.arange(0, 31)\n",
    "pmf = []\n",
    "for k in k_values:\n",
    "    p_x_k = (lambda_constant ** k * math.e ** (-lambda_constant))/math.factorial(k)\n",
    "    pmf.append(p_x_k)\n",
    "# END SOLUTION\n",
    "\n",
    "\"\"\" # BEGIN PROMPT\n",
    "k_values = ...\n",
    "pmf = []\n",
    "for k in k_values:\n",
    "    p_x_k = ...\n",
    "    pmf.append(...)\n",
    "\"\"\" # END PROMPT"
   ]
  },
  {
   "cell_type": "raw",
   "metadata": {},
   "source": [
    "# END SOLUTION"
   ]
  },
  {
   "cell_type": "raw",
   "metadata": {},
   "source": [
    "# BEGIN TESTS"
   ]
  },
  {
   "cell_type": "code",
   "execution_count": 71,
   "metadata": {},
   "outputs": [
    {
     "data": {
      "text/plain": [
       "31"
      ]
     },
     "execution_count": 71,
     "metadata": {},
     "output_type": "execute_result"
    }
   ],
   "source": [
    "len(pmf)"
   ]
  },
  {
   "cell_type": "code",
   "execution_count": 72,
   "metadata": {},
   "outputs": [
    {
     "data": {
      "text/plain": [
       "True"
      ]
     },
     "execution_count": 72,
     "metadata": {},
     "output_type": "execute_result"
    }
   ],
   "source": [
    "all([True for i in pmf if (0 < i < 1)])"
   ]
  },
  {
   "cell_type": "code",
   "execution_count": 73,
   "metadata": {},
   "outputs": [
    {
     "data": {
      "text/plain": [
       "True"
      ]
     },
     "execution_count": 73,
     "metadata": {},
     "output_type": "execute_result"
    }
   ],
   "source": [
    "# HIDDEN\n",
    "np.round(np.mean(pmf),3) == 0.032"
   ]
  },
  {
   "cell_type": "raw",
   "metadata": {},
   "source": [
    "# END TESTS"
   ]
  },
  {
   "cell_type": "raw",
   "metadata": {},
   "source": [
    "# END QUESTION"
   ]
  },
  {
   "cell_type": "raw",
   "metadata": {},
   "source": [
    "# BEGIN QUESTION\n",
    "name: q9b"
   ]
  },
  {
   "cell_type": "markdown",
   "metadata": {},
   "source": [
    "<!-- BEGIN QUESTION -->\n",
    "<font color = #d14d0f>**QUESTION 9b**:</font> Fill in the code below to generate a `sns` scatterplot of the `pmf` (Probability Mass Function) for values of `k` from 0 to 60 (inclusive). \n",
    "> Note: the vertical red line is the number of PacI sites in 100,000 nucleotides of real DNA that you determined in Q8b."
   ]
  },
  {
   "cell_type": "raw",
   "metadata": {},
   "source": [
    "# BEGIN SOLUTION"
   ]
  },
  {
   "cell_type": "code",
   "execution_count": 74,
   "metadata": {},
   "outputs": [
    {
     "data": {
      "text/plain": [
       "Text(0.5, 1.0, 'Poisson Probability Distribution of Observed k Number of Cut Sites in DNA length 5000')"
      ]
     },
     "execution_count": 74,
     "metadata": {},
     "output_type": "execute_result"
    },
    {
     "data": {
      "image/png": "[encoded data removed]",
      "text/plain": [
       "<Figure size 640x480 with 1 Axes>"
      ]
     },
     "metadata": {},
     "output_type": "display_data"
    }
   ],
   "source": [
    "# BEGIN SOLUTION NO PROMPT\n",
    "ax = sns.scatterplot(x = k_values, y = pmf)\n",
    "# END SOLUTION\n",
    "\n",
    "\"\"\" # BEGIN PROMPT\n",
    "ax = sns.scatterplot(...)\n",
    "\"\"\" # END PROMPT\n",
    "\n",
    "ax.axvline(x = observed_count_100000, color = \"red\")\n",
    "ax.set_xlabel(\"k (Number of Observed Cut Sites)\")\n",
    "ax.set_ylabel(\"Probability\")\n",
    "ax.set_title(\"Poisson Probability Distribution of Observed k Number of Cut Sites in DNA length 5000\")"
   ]
  },
  {
   "cell_type": "raw",
   "metadata": {},
   "source": [
    "# END SOLUTION"
   ]
  },
  {
   "cell_type": "markdown",
   "metadata": {},
   "source": [
    "<!-- END QUESTION -->"
   ]
  },
  {
   "cell_type": "raw",
   "metadata": {},
   "source": [
    "# END QUESTION"
   ]
  },
  {
   "cell_type": "raw",
   "metadata": {},
   "source": [
    "# BEGIN QUESTION\n",
    "name: q9c\n",
    "points: 2"
   ]
  },
  {
   "cell_type": "markdown",
   "metadata": {},
   "source": [
    "<font color = #d14d0f>**QUESTION 9c**:</font> Calculate the probability of observing at least 8 PacI cut sites. Assign your result to `p_x_atleast8`. \n",
    "> Note: assume the P(k>30) is negligible for these questions."
   ]
  },
  {
   "cell_type": "raw",
   "metadata": {},
   "source": [
    "# BEGIN SOLUTION"
   ]
  },
  {
   "cell_type": "code",
   "execution_count": 75,
   "metadata": {},
   "outputs": [
    {
     "name": "stdout",
     "output_type": "stream",
     "text": [
      "The probability of observing at least 8 cut sites is 0.011904503856357392.\n"
     ]
    }
   ],
   "source": [
    "# BEGIN SOLUTION NO PROMPT\n",
    "p_x_atleast8 = sum(pmf[8:])\n",
    "# END SOLUTION\n",
    "\n",
    "\"\"\" # BEGIN PROMPT\n",
    "p_x_atleast8 = ...\n",
    "\"\"\" # END PROMPT\n",
    "\n",
    "print(f\"The probability of observing at least 8 cut sites is {p_x_atleast8}.\")"
   ]
  },
  {
   "cell_type": "raw",
   "metadata": {},
   "source": [
    "# END SOLUTION"
   ]
  },
  {
   "cell_type": "raw",
   "metadata": {},
   "source": [
    "# BEGIN TESTS"
   ]
  },
  {
   "cell_type": "code",
   "execution_count": 76,
   "metadata": {},
   "outputs": [
    {
     "data": {
      "text/plain": [
       "True"
      ]
     },
     "execution_count": 76,
     "metadata": {},
     "output_type": "execute_result"
    }
   ],
   "source": [
    "0 < p_x_atleast8 < 1"
   ]
  },
  {
   "cell_type": "code",
   "execution_count": 77,
   "metadata": {},
   "outputs": [
    {
     "data": {
      "text/plain": [
       "True"
      ]
     },
     "execution_count": 77,
     "metadata": {},
     "output_type": "execute_result"
    }
   ],
   "source": [
    "# HIDDEN\n",
    "np.round(p_x_atleast8, 3) == np.round(sum(pmf[8:]), 3)"
   ]
  },
  {
   "cell_type": "raw",
   "metadata": {},
   "source": [
    "# END TESTS"
   ]
  },
  {
   "cell_type": "raw",
   "metadata": {},
   "source": [
    "# END QUESTION"
   ]
  },
  {
   "cell_type": "raw",
   "metadata": {},
   "source": [
    "# BEGIN QUESTION\n",
    "name: q9d\n",
    "points: 3"
   ]
  },
  {
   "cell_type": "markdown",
   "metadata": {},
   "source": [
    "<font color = #d14d0f>**QUESTION 9d**:</font> Calculate the probability of observing between 5 and 10 (inclusive) PacI cut sites. Assign your result to `p_5_x_10`."
   ]
  },
  {
   "cell_type": "raw",
   "metadata": {},
   "source": [
    "# BEGIN SOLUTION"
   ]
  },
  {
   "cell_type": "code",
   "execution_count": 78,
   "metadata": {},
   "outputs": [
    {
     "name": "stdout",
     "output_type": "stream",
     "text": [
      "The probability of observing between 5 and 10 (inclusive) cut sites is 0.1844444185255806.\n"
     ]
    }
   ],
   "source": [
    "# BEGIN SOLUTION NO PROMPT\n",
    "p_5_x_10 = sum(pmf[5:]) - sum(pmf[11:])\n",
    "# END SOLUTION\n",
    "\n",
    "\"\"\" # BEGIN PROMPT\n",
    "p_5_x_10 = ...\n",
    "\"\"\" # END PROMPT\n",
    "\n",
    "print(f\"The probability of observing between 5 and 10 (inclusive) cut sites is {p_5_x_10}.\")"
   ]
  },
  {
   "cell_type": "raw",
   "metadata": {},
   "source": [
    "# END SOLUTION"
   ]
  },
  {
   "cell_type": "raw",
   "metadata": {},
   "source": [
    "# BEGIN TESTS"
   ]
  },
  {
   "cell_type": "code",
   "execution_count": 79,
   "metadata": {},
   "outputs": [
    {
     "data": {
      "text/plain": [
       "True"
      ]
     },
     "execution_count": 79,
     "metadata": {},
     "output_type": "execute_result"
    }
   ],
   "source": [
    "0 < p_5_x_10 < 1"
   ]
  },
  {
   "cell_type": "code",
   "execution_count": 80,
   "metadata": {},
   "outputs": [
    {
     "data": {
      "text/plain": [
       "True"
      ]
     },
     "execution_count": 80,
     "metadata": {},
     "output_type": "execute_result"
    }
   ],
   "source": [
    "# HIDDEN\n",
    "np.round(p_5_x_10, 3) == np.round(sum(pmf[5:]) - sum(pmf[11:]), 3)"
   ]
  },
  {
   "cell_type": "raw",
   "metadata": {},
   "source": [
    "# END TESTS"
   ]
  },
  {
   "cell_type": "raw",
   "metadata": {},
   "source": [
    "# END QUESTION"
   ]
  },
  {
   "cell_type": "raw",
   "metadata": {},
   "source": [
    "# BEGIN QUESTION\n",
    "name: q10"
   ]
  },
  {
   "cell_type": "markdown",
   "metadata": {},
   "source": [
    "<!-- BEGIN QUESTION -->\n",
    "<font color = #d14d0f>**QUESTION 10**:</font> Explain whether λ must always be discrete for the Poisson distribution. Could the expected number of a cut sites be 1.5? Is it possible to observe 1.5 cut sites? Why?"
   ]
  },
  {
   "cell_type": "markdown",
   "metadata": {},
   "source": [
    "**ANSWER:** DOUBLE-CLICK TO TYPE YOUR RESPONSE HERE."
   ]
  },
  {
   "cell_type": "raw",
   "metadata": {},
   "source": [
    "# BEGIN SOLUTION"
   ]
  },
  {
   "cell_type": "markdown",
   "metadata": {},
   "source": [
    "<mark>SOLUTION:</mark> \n",
    "- The expected value (λ in Poisson) is the long-term average value of a random variable based on its probability distribution. Since it is an average, it does not have to be discrete.\n",
    "- The expectation value of the number of cut sites does not have to be discrete, so it could be 1.5.\n",
    "- The actual number of cut sites is a discrete variable, and it can't be 1.5."
   ]
  },
  {
   "cell_type": "raw",
   "metadata": {},
   "source": [
    "# END SOLUTION"
   ]
  },
  {
   "cell_type": "markdown",
   "metadata": {},
   "source": [
    "<!-- END QUESTION -->"
   ]
  },
  {
   "cell_type": "raw",
   "metadata": {},
   "source": [
    "# END QUESTION"
   ]
  },
  {
   "cell_type": "markdown",
   "metadata": {},
   "source": [
    "## 2. Fragment Lengths\n",
    "\n",
    "In this final section, we will be exploring trends in the fragment lengths between restriction enzyme cut sites in DNA. Throughout this section, we will assume that a cut site is made immediately at the end of a restriction enzyme binding site. "
   ]
  },
  {
   "cell_type": "raw",
   "metadata": {},
   "source": [
    "# BEGIN QUESTION\n",
    "name: q11\n",
    "points: 5"
   ]
  },
  {
   "cell_type": "markdown",
   "metadata": {},
   "source": [
    "<font color = #d14d0f>**QUESTION 11**:</font> Build a function `fragment_lengths` that takes in a `dna_sequence` and a `cut_site_sequence` and returns a list of the lengths of all possible fragments generated.\n",
    "> Hint:\n",
    "> - For example, `fragment_lengths(\"GGGTTTGGGTTGGG\", \"GGG\")` should output a list like [6, 5, 11] (not necessarily in that order). It has three cut sites **after** each \"GGG\", highlighted: \"GGG<mark>|</mark>TTTGGG<mark>|</mark>TTGGG<mark>|</mark>\"\n",
    "> - `matches` is a list of the indices of the last character of all `cut_site_sequence` matches in the `dna_sequence`.\n",
    "> - Then, use two for loops to calculate the distances between all possible cut sites. Append each distance to the `lengths` array.\n",
    "> - You do not have to follow the skeleton code if you have a different approach to this answering this question."
   ]
  },
  {
   "cell_type": "raw",
   "metadata": {},
   "source": [
    "# BEGIN SOLUTION"
   ]
  },
  {
   "cell_type": "code",
   "execution_count": 81,
   "metadata": {},
   "outputs": [
    {
     "data": {
      "text/plain": [
       "' # BEGIN PROMPT\\ndef fragment_lengths(dna_sequence, cut_site_sequence):\\n    matches = [match.end() for match in re.finditer(cut_site_sequence, dna_sequence)]\\n    lengths = []\\n    for i in range(...):\\n        for j in range(..., ...):\\n            lengths.append(...)\\n    return lengths\\n'"
      ]
     },
     "execution_count": 81,
     "metadata": {},
     "output_type": "execute_result"
    }
   ],
   "source": [
    "# BEGIN SOLUTION NO PROMPT\n",
    "def fragment_lengths(dna_sequence, cut_site_sequence):\n",
    "    matches = [match.end() for match in re.finditer(cut_site_sequence, dna_sequence)]\n",
    "    lengths = []\n",
    "    for i in range(len(matches) - 1):\n",
    "        for j in range(i + 1, len(matches)):\n",
    "            lengths.append(matches[j] - matches[i])\n",
    "    return lengths\n",
    "# END SOLUTION\n",
    "\n",
    "\"\"\" # BEGIN PROMPT\n",
    "def fragment_lengths(dna_sequence, cut_site_sequence):\n",
    "    matches = [match.end() for match in re.finditer(cut_site_sequence, dna_sequence)]\n",
    "    lengths = []\n",
    "    for i in range(...):\n",
    "        for j in range(..., ...):\n",
    "            lengths.append(...)\n",
    "    return lengths\n",
    "\"\"\" # END PROMPT"
   ]
  },
  {
   "cell_type": "raw",
   "metadata": {},
   "source": [
    "# END SOLUTION"
   ]
  },
  {
   "cell_type": "raw",
   "metadata": {},
   "source": [
    "# BEGIN TESTS"
   ]
  },
  {
   "cell_type": "code",
   "execution_count": 82,
   "metadata": {},
   "outputs": [
    {
     "data": {
      "text/plain": [
       "True"
      ]
     },
     "execution_count": 82,
     "metadata": {},
     "output_type": "execute_result"
    }
   ],
   "source": [
    "sorted(fragment_lengths(\"AAATTAAA\", \"AAA\")) == [5]"
   ]
  },
  {
   "cell_type": "code",
   "execution_count": 83,
   "metadata": {},
   "outputs": [
    {
     "data": {
      "text/plain": [
       "True"
      ]
     },
     "execution_count": 83,
     "metadata": {},
     "output_type": "execute_result"
    }
   ],
   "source": [
    "sorted(fragment_lengths(\"GGGTTTGGGTTGGG\", \"GGG\")) == [5, 6, 11]"
   ]
  },
  {
   "cell_type": "code",
   "execution_count": 84,
   "metadata": {},
   "outputs": [
    {
     "data": {
      "text/plain": [
       "True"
      ]
     },
     "execution_count": 84,
     "metadata": {},
     "output_type": "execute_result"
    }
   ],
   "source": [
    "np.random.seed(20)\n",
    "len(fragment_lengths(\"\".join(np.random.choice([\"A\", \"T\", \"C\", \"G\"], 300)), \"GG\")) == 136"
   ]
  },
  {
   "cell_type": "code",
   "execution_count": 85,
   "metadata": {},
   "outputs": [
    {
     "data": {
      "text/plain": [
       "True"
      ]
     },
     "execution_count": 85,
     "metadata": {},
     "output_type": "execute_result"
    }
   ],
   "source": [
    "np.random.seed(49)\n",
    "sorted(fragment_lengths(\"\".join(np.random.choice([\"A\", \"T\", \"C\", \"G\"], 300)), \"\".join(np.random.choice([\"A\", \"T\", \"C\", \"G\"], 3)))) == [12, 45, 57, 80, 125, 137]"
   ]
  },
  {
   "cell_type": "raw",
   "metadata": {},
   "source": [
    "# END TESTS"
   ]
  },
  {
   "cell_type": "raw",
   "metadata": {},
   "source": [
    "# END QUESTION"
   ]
  },
  {
   "cell_type": "markdown",
   "metadata": {},
   "source": [
    "Just run the cell below to generate plots of the distribution of the fragment lengths for each restriction enzyme. It compares the distribution of the fragment lengths for our real human dna and some random DNA with the same GC content. The cell may take up to a minute to run."
   ]
  },
  {
   "cell_type": "code",
   "execution_count": 86,
   "metadata": {},
   "outputs": [
    {
     "data": {
      "text/plain": [
       "Text(0.5, 1.0, 'Distribution of Fragment Lengths')"
      ]
     },
     "execution_count": 86,
     "metadata": {},
     "output_type": "execute_result"
    },
    {
     "data": {
      "image/png": "[encoded data removed]",
      "text/plain": [
       "<Figure size 800x1000 with 1 Axes>"
      ]
     },
     "metadata": {},
     "output_type": "display_data"
    }
   ],
   "source": [
    "#Just run this cell\n",
    "enzyme_list = [(\"MluCI\", \"AATT\"), (\"MfeI\", \"CAATTG\"), (\"PacI\", \"TTAATTAA\"), (\"HaeIII\", \"GGCC\"), (\"EagI-HF®\", \"CGGCCG\"), (\"NotI\", \"GCGGCCGC\"), (\"HpyCH4IV\", \"ACGT\"), (\"ZraI\", \"GACGTC\"), (\"BssSI-v2\", \"CACGAG\")]\n",
    "\n",
    "vplot_df = pd.DataFrame({\"Enzyme\": [], \"Label\": [], \"Fragment Length\": []})\n",
    "\n",
    "for i in range(len(enzyme_list)):\n",
    "    row = i // 3\n",
    "    column = i % 3\n",
    "    enzyme_name, cut_seq = enzyme_list[i]\n",
    "    fragment_lengths_human = fragment_lengths(human_dna[:200000], cut_seq)\n",
    "    fragment_lengths_random = fragment_lengths(random_human[:200000], cut_seq)\n",
    "    fragment_lengths_human_df = pd.DataFrame({\"Enzyme\": f\"{enzyme_name} ({cut_seq})\", \"Label\": \"Human\", \"Fragment Lengths\": fragment_lengths_human})\n",
    "    fragment_lengths_random_df = pd.DataFrame({\"Enzyme\": f\"{enzyme_name} ({cut_seq})\", \"Label\": \"Random\", \"Fragment Lengths\": fragment_lengths_random})\n",
    "    vplot_df = pd.concat([vplot_df, fragment_lengths_human_df, fragment_lengths_random_df])\n",
    "\n",
    "plt.figure(figsize=(8, 10))\n",
    "sns.violinplot(data=vplot_df, x=\"Fragment Lengths\", y = \"Enzyme\", hue=\"Label\", split=True, inner=\"quart\", density_norm=\"area\", cut = 0)\n",
    "plt.title('Distribution of Fragment Lengths')"
   ]
  },
  {
   "cell_type": "raw",
   "metadata": {},
   "source": [
    "# BEGIN QUESTION\n",
    "name: q12"
   ]
  },
  {
   "cell_type": "markdown",
   "metadata": {},
   "source": [
    "<!-- BEGIN QUESTION -->\n",
    "\n",
    "<font color = #d14d0f>**QUESTION 12**:</font> What kinds of different fragment length distributions do you observe in the histograms above? Do any plots show a significantly different distribution from the human versus random DNA? If so, what is a possible biological explanation for those discrepancies?"
   ]
  },
  {
   "cell_type": "markdown",
   "metadata": {},
   "source": [
    "**ANSWER:** DOUBLE-CLICK TO TYPE YOUR ANSWER HERE."
   ]
  },
  {
   "cell_type": "raw",
   "metadata": {},
   "source": [
    "# BEGIN SOLUTION"
   ]
  },
  {
   "cell_type": "markdown",
   "metadata": {},
   "source": [
    "<mark>SOLUTION: </mark> \n",
    "- There are some poisson-like distributions, some bimodal distributions and some linear.\n",
    "- There are a few plots (e.g Eagl-HF, Zral) where the human DNA fragments show a bimodal distribution, but the random DNA is unimodal. \n",
    "- This suggests that the real human DNA has cut sequences for those enzymes clustered in specific areas, leading to many short fragments and many longer fragments, but fewer middle-length fragments."
   ]
  },
  {
   "cell_type": "raw",
   "metadata": {},
   "source": [
    "# END SOLUTION"
   ]
  },
  {
   "cell_type": "raw",
   "metadata": {},
   "source": [
    "# END QUESTION"
   ]
  },
  {
   "cell_type": "markdown",
   "metadata": {},
   "source": [
    "***\n",
    "## 3. Extra Credit Mini-Projects"
   ]
  },
  {
   "cell_type": "markdown",
   "metadata": {},
   "source": [
    "Most assignments in this course will include optional extra credit questions. These questions are designed as starting points for students to explore more free-form mini projects. Therefore, there is no skeleton code and minimal guidance for these questions. Students are welcome to go beyond the scope of the question or adapt the question as necessary to answer their own scientific questions of interest. You are welcome to create as many coding cells as you would like for these mini-projects. In order to get extra credit, students should make a reasonable attempt (as judged by the grader) on at least one question and write a brief report.\n",
    "\n",
    "Write a summary on your methodology and your findings, highlighting key results and any interesting observations. The length of the report does not matter, as long as it answers all of the following questions:\n",
    "- What was your scientific goal with this project?\n",
    "- What methods did you use and why?\n",
    "- What were the key results you found for each method you implemented?\n",
    "- Were there any limitations in your methods?\n",
    "- What additional observations or comments can you make on your findings? What is the greater biological relevance or implication?\n",
    "- Are there any additional questions you would want to explore?"
   ]
  },
  {
   "cell_type": "raw",
   "metadata": {},
   "source": [
    "# BEGIN QUESTION\n",
    "name: extra_credit"
   ]
  },
  {
   "cell_type": "markdown",
   "metadata": {},
   "source": [
    "<!-- BEGIN QUESTION -->\n",
    "\n",
    "**Cas9 Targeting**\n",
    "\n",
    "CRISPR-Cas9, a revolutionary technology for editing genes, operates in a highly targeted manner. During the Cas9 targeting process, the guide RNA and Cas9 protein complex moves along the DNA strand searching for a binding sequence.\n",
    "\n",
    "As the CRISPR-Cas9 complex moves along the DNA, it looks for the presence of a Protospacer Adjacent Motif (PAM) sequence. This PAM sequence is crucial because it signals the correct location for gene editing. The Cas9 enzyme from Streptococcus pyogenes, for example, recognizes the PAM sequence 'NGG' (where 'N' can be any nucleotide followed by two guanines).\n",
    "\n",
    "Once the PAM sequence is identified, the Cas9 protein induces a localized unwinding of the DNA helix. This allows the gRNA to bind or anneal to its complementary DNA sequence adjacent to the PAM. The binding is through standard base-pairing rules (A pairs with T, C pairs with G).\n",
    "\n",
    "After the gRNA successfully pairs with the target DNA sequence next to the PAM, the Cas9 protein activates its nuclease domains. These domains then cleave the DNA, typically cutting both strands, leading to a double-strand break at a precise location in the genome, allowing for gene editing to occur.\n",
    "\n",
    "You could explore either of these questions using `human_chr21`,`yeast_chr7` and/or `e_coli_genome`. You can also try downloading, importing and reading any other genome from NCBI.\n",
    "\n",
    "<font color = #d14d0f>**EC Mini-Project A:**</font> What is the statistically expected minimum length of a gRNA target sequence needed in order to bind to only one site in the genome for each species, considering their GC content?\n",
    "\n",
    "<font color = #d14d0f>**EC Mini-Project B:**</font> Considering the necessity of the PAM sequence and assuming gRNA has a minimum length of 17 and a maximum length of 100 nt (any custom sequence) to bind effectively, what % of DNA (human chr 21, yeast chr 7 and E. coli) is capable of being edited by the Cas9 enzyme from *Streptococcus pyogenes*? \n",
    "\n",
    "<font color = #d14d0f>**EC Mini-Project C:**</font> While Cas9 based CRISPR is currently the most popular tool for modifying genomes, other technologies existed before CRISPR, like TALENs and Zinc finger nucleases. Research one of these alternative methods for genome engineering and write a short paragraph comparing and contrasting that method with CRISPR. What are the advantages of each method? What are the disadvantages? This question is intended as an open ended exploration. You may want to investigate gene therapy dimensions and AAV delivery systems, or explore immunogenicity, describe genome target specificity, or describe ease of reagent validation. Please limit your answer to 500 words discussing one or a few contrasts. After exploring the strengths and weaknesses of these different technologies with the members of your group, what is your favorite method? Why?"
   ]
  },
  {
   "cell_type": "code",
   "execution_count": 87,
   "metadata": {},
   "outputs": [],
   "source": [
    "#YOUR CODE HERE. ADD ADDITIONAL CODE CELLS AS NEEDED."
   ]
  },
  {
   "cell_type": "markdown",
   "metadata": {},
   "source": [
    "**EXTRA CREDIT REPORT: [insert project choice here]** <br>\n",
    "\n",
    "*DOUBLE-CLICK TO EDIT THIS CELL AND TYPE YOUR REPORT*"
   ]
  },
  {
   "cell_type": "markdown",
   "metadata": {},
   "source": [
    "<!-- END QUESTION -->"
   ]
  },
  {
   "cell_type": "raw",
   "metadata": {},
   "source": [
    "# END QUESTION"
   ]
  },
  {
   "cell_type": "markdown",
   "metadata": {},
   "source": [
    "---\n",
    "### Congratulations! You have finished LAB 7!\n",
    "---"
   ]
  }
 ],
 "metadata": {
  "kernelspec": {
   "display_name": "Python 3",
   "language": "python",
   "name": "python3"
  },
  "language_info": {
   "codemirror_mode": {
    "name": "ipython",
    "version": 3
   },
   "file_extension": ".py",
   "mimetype": "text/x-python",
   "name": "python",
   "nbconvert_exporter": "python",
   "pygments_lexer": "ipython3",
   "version": "3.11.5"
  },
  "orig_nbformat": 4
 },
 "nbformat": 4,
 "nbformat_minor": 2
}
